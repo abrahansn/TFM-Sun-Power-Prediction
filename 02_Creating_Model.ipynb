{
  "nbformat": 4,
  "nbformat_minor": 0,
  "metadata": {
    "accelerator": "GPU",
    "colab": {
      "name": "02_Creating_Model.ipynb",
      "provenance": [],
      "toc_visible": true
    },
    "kernelspec": {
      "name": "python3",
      "display_name": "Python 3"
    },
    "language_info": {
      "codemirror_mode": {
        "name": "ipython",
        "version": 3
      },
      "file_extension": ".py",
      "mimetype": "text/x-python",
      "name": "python",
      "nbconvert_exporter": "python",
      "pygments_lexer": "ipython3",
      "version": "3.7.3"
    }
  },
  "cells": [
    {
      "cell_type": "markdown",
      "metadata": {
        "colab_type": "text",
        "id": "envNcloDvObG"
      },
      "source": [
        "# Creación del modelo de regresión"
      ]
    },
    {
      "cell_type": "markdown",
      "metadata": {
        "colab_type": "text",
        "id": "wj1nocfwvObK"
      },
      "source": [
        "## Obtención y visualización de datos"
      ]
    },
    {
      "cell_type": "markdown",
      "metadata": {
        "colab_type": "text",
        "id": "1DbT5T0ivObL"
      },
      "source": [
        "#### Comenzaremos creando modelos de regresión lineal multivariable. Para ello, veremos que features son más influyentes para nuestra predicción, y posteriormente veremos si es o no necesario tratar previamente los datos para mejorar la predicción."
      ]
    },
    {
      "cell_type": "markdown",
      "metadata": {
        "colab_type": "text",
        "id": "Wwpc5LWivObM"
      },
      "source": [
        "##### Importamos las librerías necesarias"
      ]
    },
    {
      "cell_type": "code",
      "metadata": {
        "colab_type": "code",
        "id": "w5vLl9ixvObN",
        "colab": {}
      },
      "source": [
        "import pandas as pd\n",
        "import numpy as np"
      ],
      "execution_count": 0,
      "outputs": []
    },
    {
      "cell_type": "markdown",
      "metadata": {
        "colab_type": "text",
        "id": "TCzdZnlxvObQ"
      },
      "source": [
        "##### Importamos los datos post-procesados. Con ellos entrenaremos y testearemos nuestro modelo."
      ]
    },
    {
      "cell_type": "code",
      "metadata": {
        "colab_type": "code",
        "id": "bkxOQSaIvObR",
        "colab": {}
      },
      "source": [
        "train_dataset = pd.read_csv('train_dataset.csv',sep=';')\n",
        "test_dataset = pd.read_csv('test_dataset.csv',sep=';')"
      ],
      "execution_count": 0,
      "outputs": []
    },
    {
      "cell_type": "code",
      "metadata": {
        "colab_type": "code",
        "id": "RCWnfoAgvObT",
        "outputId": "145e3d88-da42-427a-d3e0-ad55852d7afc",
        "colab": {
          "base_uri": "https://localhost:8080/",
          "height": 34
        }
      },
      "source": [
        "train_dataset.shape"
      ],
      "execution_count": 4,
      "outputs": [
        {
          "output_type": "execute_result",
          "data": {
            "text/plain": [
              "(634941, 31)"
            ]
          },
          "metadata": {
            "tags": []
          },
          "execution_count": 4
        }
      ]
    },
    {
      "cell_type": "code",
      "metadata": {
        "colab_type": "code",
        "id": "A6zOaONyvObW",
        "outputId": "53c6889a-ccb1-4937-c844-449d084db3b2",
        "colab": {
          "base_uri": "https://localhost:8080/",
          "height": 34
        }
      },
      "source": [
        "test_dataset.shape"
      ],
      "execution_count": 5,
      "outputs": [
        {
          "output_type": "execute_result",
          "data": {
            "text/plain": [
              "(158736, 31)"
            ]
          },
          "metadata": {
            "tags": []
          },
          "execution_count": 5
        }
      ]
    },
    {
      "cell_type": "markdown",
      "metadata": {
        "colab_type": "text",
        "id": "PxolFpg8vObY"
      },
      "source": [
        "##### Analizamos la matríz del coeficiente de correlación de Pearson, entre las variables de entrada y las variables de salida. Donde podremos comprobar que los valores que las características que más inciden en el resultado final son: \"Global_Radiation\", \"Diffuse_Radiation\" y \"Ultraviolet\"."
      ]
    },
    {
      "cell_type": "code",
      "metadata": {
        "colab_type": "code",
        "id": "I3Z70xzIvObZ",
        "outputId": "4a107147-c38f-42a5-e84e-9cd4472b6c4d",
        "scrolled": false,
        "colab": {
          "base_uri": "https://localhost:8080/",
          "height": 334
        }
      },
      "source": [
        "train_dataset[['Ambient_Temperature', 'Global_Radiation', 'Diffuse_Radiation',\n",
        "              'Ultraviolet', 'Wind_Velocity', 'Wind_direction','A_Optimal_VDC', \n",
        "              'A_Optimal_CDC', 'A_Optimal_PDC']].corr(method='pearson')"
      ],
      "execution_count": 6,
      "outputs": [
        {
          "output_type": "execute_result",
          "data": {
            "text/html": [
              "<div>\n",
              "<style scoped>\n",
              "    .dataframe tbody tr th:only-of-type {\n",
              "        vertical-align: middle;\n",
              "    }\n",
              "\n",
              "    .dataframe tbody tr th {\n",
              "        vertical-align: top;\n",
              "    }\n",
              "\n",
              "    .dataframe thead th {\n",
              "        text-align: right;\n",
              "    }\n",
              "</style>\n",
              "<table border=\"1\" class=\"dataframe\">\n",
              "  <thead>\n",
              "    <tr style=\"text-align: right;\">\n",
              "      <th></th>\n",
              "      <th>Ambient_Temperature</th>\n",
              "      <th>Global_Radiation</th>\n",
              "      <th>Diffuse_Radiation</th>\n",
              "      <th>Ultraviolet</th>\n",
              "      <th>Wind_Velocity</th>\n",
              "      <th>Wind_direction</th>\n",
              "      <th>A_Optimal_VDC</th>\n",
              "      <th>A_Optimal_CDC</th>\n",
              "      <th>A_Optimal_PDC</th>\n",
              "    </tr>\n",
              "  </thead>\n",
              "  <tbody>\n",
              "    <tr>\n",
              "      <th>Ambient_Temperature</th>\n",
              "      <td>1.000000</td>\n",
              "      <td>0.429854</td>\n",
              "      <td>0.068290</td>\n",
              "      <td>0.431713</td>\n",
              "      <td>0.136022</td>\n",
              "      <td>-0.031117</td>\n",
              "      <td>-0.166174</td>\n",
              "      <td>0.168704</td>\n",
              "      <td>0.144597</td>\n",
              "    </tr>\n",
              "    <tr>\n",
              "      <th>Global_Radiation</th>\n",
              "      <td>0.429854</td>\n",
              "      <td>1.000000</td>\n",
              "      <td>0.341474</td>\n",
              "      <td>0.987963</td>\n",
              "      <td>0.325380</td>\n",
              "      <td>-0.106952</td>\n",
              "      <td>0.163424</td>\n",
              "      <td>0.821643</td>\n",
              "      <td>0.814852</td>\n",
              "    </tr>\n",
              "    <tr>\n",
              "      <th>Diffuse_Radiation</th>\n",
              "      <td>0.068290</td>\n",
              "      <td>0.341474</td>\n",
              "      <td>1.000000</td>\n",
              "      <td>0.365796</td>\n",
              "      <td>0.218479</td>\n",
              "      <td>-0.052161</td>\n",
              "      <td>0.230912</td>\n",
              "      <td>0.286148</td>\n",
              "      <td>0.292225</td>\n",
              "    </tr>\n",
              "    <tr>\n",
              "      <th>Ultraviolet</th>\n",
              "      <td>0.431713</td>\n",
              "      <td>0.987963</td>\n",
              "      <td>0.365796</td>\n",
              "      <td>1.000000</td>\n",
              "      <td>0.341061</td>\n",
              "      <td>-0.092889</td>\n",
              "      <td>0.152905</td>\n",
              "      <td>0.802804</td>\n",
              "      <td>0.794839</td>\n",
              "    </tr>\n",
              "    <tr>\n",
              "      <th>Wind_Velocity</th>\n",
              "      <td>0.136022</td>\n",
              "      <td>0.325380</td>\n",
              "      <td>0.218479</td>\n",
              "      <td>0.341061</td>\n",
              "      <td>1.000000</td>\n",
              "      <td>0.156139</td>\n",
              "      <td>0.156417</td>\n",
              "      <td>0.275937</td>\n",
              "      <td>0.283009</td>\n",
              "    </tr>\n",
              "    <tr>\n",
              "      <th>Wind_direction</th>\n",
              "      <td>-0.031117</td>\n",
              "      <td>-0.106952</td>\n",
              "      <td>-0.052161</td>\n",
              "      <td>-0.092889</td>\n",
              "      <td>0.156139</td>\n",
              "      <td>1.000000</td>\n",
              "      <td>-0.029088</td>\n",
              "      <td>-0.120653</td>\n",
              "      <td>-0.121869</td>\n",
              "    </tr>\n",
              "    <tr>\n",
              "      <th>A_Optimal_VDC</th>\n",
              "      <td>-0.166174</td>\n",
              "      <td>0.163424</td>\n",
              "      <td>0.230912</td>\n",
              "      <td>0.152905</td>\n",
              "      <td>0.156417</td>\n",
              "      <td>-0.029088</td>\n",
              "      <td>1.000000</td>\n",
              "      <td>0.214218</td>\n",
              "      <td>0.255866</td>\n",
              "    </tr>\n",
              "    <tr>\n",
              "      <th>A_Optimal_CDC</th>\n",
              "      <td>0.168704</td>\n",
              "      <td>0.821643</td>\n",
              "      <td>0.286148</td>\n",
              "      <td>0.802804</td>\n",
              "      <td>0.275937</td>\n",
              "      <td>-0.120653</td>\n",
              "      <td>0.214218</td>\n",
              "      <td>1.000000</td>\n",
              "      <td>0.997673</td>\n",
              "    </tr>\n",
              "    <tr>\n",
              "      <th>A_Optimal_PDC</th>\n",
              "      <td>0.144597</td>\n",
              "      <td>0.814852</td>\n",
              "      <td>0.292225</td>\n",
              "      <td>0.794839</td>\n",
              "      <td>0.283009</td>\n",
              "      <td>-0.121869</td>\n",
              "      <td>0.255866</td>\n",
              "      <td>0.997673</td>\n",
              "      <td>1.000000</td>\n",
              "    </tr>\n",
              "  </tbody>\n",
              "</table>\n",
              "</div>"
            ],
            "text/plain": [
              "                     Ambient_Temperature  ...  A_Optimal_PDC\n",
              "Ambient_Temperature             1.000000  ...       0.144597\n",
              "Global_Radiation                0.429854  ...       0.814852\n",
              "Diffuse_Radiation               0.068290  ...       0.292225\n",
              "Ultraviolet                     0.431713  ...       0.794839\n",
              "Wind_Velocity                   0.136022  ...       0.283009\n",
              "Wind_direction                 -0.031117  ...      -0.121869\n",
              "A_Optimal_VDC                  -0.166174  ...       0.255866\n",
              "A_Optimal_CDC                   0.168704  ...       0.997673\n",
              "A_Optimal_PDC                   0.144597  ...       1.000000\n",
              "\n",
              "[9 rows x 9 columns]"
            ]
          },
          "metadata": {
            "tags": []
          },
          "execution_count": 6
        }
      ]
    },
    {
      "cell_type": "markdown",
      "metadata": {
        "colab_type": "text",
        "id": "JAipQxTsvObd"
      },
      "source": [
        "##### Guardamos los campos que vamos a utilizar para la predicción.\n",
        "\n",
        "Seleccionamos solo las variables que vamos autilizar para la predicción y testeo de los modelos. \n",
        "\n",
        "Inicialmente, trabajaremos con la predicción de los parámetros de tensión, corriente y potencia de la placa modelo A. Al final lo extenderemos a la placa modelo B, cuando hayaramos determinado el mejor modelo para cada variable. Haremos lo mismo para el archivo de los datos usados para el test final, aunque no los usemos todavía."
      ]
    },
    {
      "cell_type": "code",
      "metadata": {
        "colab_type": "code",
        "id": "NVPsO_02vObd",
        "colab": {}
      },
      "source": [
        "# Variables que serán usadas para el entrenamiento de los modelos, evitamos introducir la fecha para no tener\n",
        "# estacionalidad en los mismos.\n",
        "\n",
        "input_features = ['Global_Radiation', 'Diffuse_Radiation', \n",
        "                  'Ultraviolet']"
      ],
      "execution_count": 0,
      "outputs": []
    },
    {
      "cell_type": "code",
      "metadata": {
        "colab_type": "code",
        "id": "PVP6qSjAvObf",
        "outputId": "bf15c8d1-df87-4f01-8e69-6d21fcca72fd",
        "colab": {
          "base_uri": "https://localhost:8080/",
          "height": 228
        }
      },
      "source": [
        "# Datos de entranamiento\n",
        "train_dataset = train_dataset[['Datetime', 'Global_Radiation', 'Diffuse_Radiation', \n",
        "                              'Ultraviolet', 'A_Optimal_VDC', 'A_Optimal_CDC', \n",
        "                              'A_Optimal_PDC']]\n",
        "\n",
        "# Datos de la última semana de 2017\n",
        "test_dataset = test_dataset[['Datetime', 'Global_Radiation', 'Diffuse_Radiation', \n",
        "                              'Ultraviolet', 'A_Optimal_VDC', 'A_Optimal_CDC', \n",
        "                              'A_Optimal_PDC']]\n",
        "\n",
        "# Damos formato de datetime a la fecha y no de string.\n",
        "\n",
        "pd.to_datetime(train_dataset['Datetime'], format=\"%Y-%m-%d %H:%M:%S\")\n",
        "pd.to_datetime(test_dataset['Datetime'], format=\"%Y-%m-%d %H:%M:%S\")"
      ],
      "execution_count": 8,
      "outputs": [
        {
          "output_type": "execute_result",
          "data": {
            "text/plain": [
              "0        2017-07-16 14:19:00+00:00\n",
              "1        2017-06-07 16:33:00+00:00\n",
              "2        2017-03-29 12:40:00+00:00\n",
              "3        2014-08-16 15:02:00+00:00\n",
              "4        2016-01-16 10:42:00+00:00\n",
              "                    ...           \n",
              "158731   2015-02-04 10:25:00+00:00\n",
              "158732   2014-06-01 08:22:00+00:00\n",
              "158733   2014-09-02 15:09:00+00:00\n",
              "158734   2015-10-29 13:56:00+00:00\n",
              "158735   2016-08-16 09:05:00+00:00\n",
              "Name: Datetime, Length: 158736, dtype: datetime64[ns, UTC]"
            ]
          },
          "metadata": {
            "tags": []
          },
          "execution_count": 8
        }
      ]
    },
    {
      "cell_type": "markdown",
      "metadata": {
        "colab_type": "text",
        "id": "NTh1Icz8vObh"
      },
      "source": [
        "##### Graficamos las variables linealmente para conocer su relación de forma visual."
      ]
    },
    {
      "cell_type": "code",
      "metadata": {
        "colab_type": "code",
        "id": "5DKAZaqSvObi",
        "outputId": "fba3285c-6fdd-4e84-be44-ac3e544e6e72",
        "colab": {
          "base_uri": "https://localhost:8080/",
          "height": 1000
        }
      },
      "source": [
        "import matplotlib.pyplot as plt\n",
        "%matplotlib inline\n",
        "\n",
        "# Recorremos todos los features de entreda y los graficamos con los features de salida, uno por uno.\n",
        "for nam_col in ['Global_Radiation', 'Diffuse_Radiation', 'Ultraviolet']:\n",
        "    for nam_col2 in ['A_Optimal_VDC', 'A_Optimal_CDC', 'A_Optimal_PDC']:\n",
        "            plt.scatter(train_dataset[nam_col], train_dataset[nam_col2])\n",
        "            plt.title(nam_col+'/'+nam_col2)\n",
        "            plt.xlabel(nam_col)\n",
        "            plt.ylabel(nam_col2)\n",
        "            plt.show()"
      ],
      "execution_count": 9,
      "outputs": [
        {
          "output_type": "display_data",
          "data": {
            "image/png": "[encoded data removed]",
            "text/plain": [
              "<Figure size 432x288 with 1 Axes>"
            ]
          },
          "metadata": {
            "tags": []
          }
        },
        {
          "output_type": "display_data",
          "data": {
            "image/png": "[encoded data removed]",
            "text/plain": [
              "<Figure size 432x288 with 1 Axes>"
            ]
          },
          "metadata": {
            "tags": []
          }
        },
        {
          "output_type": "display_data",
          "data": {
            "image/png": "[encoded data removed]",
            "text/plain": [
              "<Figure size 432x288 with 1 Axes>"
            ]
          },
          "metadata": {
            "tags": []
          }
        },
        {
          "output_type": "display_data",
          "data": {
            "image/png": "[encoded data removed]",
            "text/plain": [
              "<Figure size 432x288 with 1 Axes>"
            ]
          },
          "metadata": {
            "tags": []
          }
        },
        {
          "output_type": "display_data",
          "data": {
            "image/png": "[encoded data removed]",
            "text/plain": [
              "<Figure size 432x288 with 1 Axes>"
            ]
          },
          "metadata": {
            "tags": []
          }
        },
        {
          "output_type": "display_data",
          "data": {
            "image/png": "[encoded data removed]",
            "text/plain": [
              "<Figure size 432x288 with 1 Axes>"
            ]
          },
          "metadata": {
            "tags": []
          }
        },
        {
          "output_type": "display_data",
          "data": {
            "image/png": "[encoded data removed]",
            "text/plain": [
              "<Figure size 432x288 with 1 Axes>"
            ]
          },
          "metadata": {
            "tags": []
          }
        },
        {
          "output_type": "display_data",
          "data": {
            "image/png": "[encoded data removed]",
            "text/plain": [
              "<Figure size 432x288 with 1 Axes>"
            ]
          },
          "metadata": {
            "tags": []
          }
        },
        {
          "output_type": "display_data",
          "data": {
            "image/png": "[encoded data removed]",
            "text/plain": [
              "<Figure size 432x288 with 1 Axes>"
            ]
          },
          "metadata": {
            "tags": []
          }
        }
      ]
    },
    {
      "cell_type": "markdown",
      "metadata": {
        "colab_type": "text",
        "id": "XqNShQ8dvObk"
      },
      "source": [
        "## Creación de modelo de regresión lineal"
      ]
    },
    {
      "cell_type": "markdown",
      "metadata": {
        "colab_type": "text",
        "id": "QXRn-D-evObk"
      },
      "source": [
        "### 1º- Modelo con datos en bruto."
      ]
    },
    {
      "cell_type": "markdown",
      "metadata": {
        "colab_type": "text",
        "id": "_bkI_-QgvObl"
      },
      "source": [
        "Creamos un modelo de regresión lineal para cada una de las variables de salida. Luego testearemos el modelo final. No aplicaremos fase de validación por ser una regresión simple."
      ]
    },
    {
      "cell_type": "markdown",
      "metadata": {
        "colab_type": "text",
        "id": "Gq877-GGvObl"
      },
      "source": [
        "##### Importamos el modelo de regresión de SKlearn."
      ]
    },
    {
      "cell_type": "code",
      "metadata": {
        "colab_type": "code",
        "id": "NbUlMlbZvObm",
        "colab": {}
      },
      "source": [
        "from sklearn.linear_model import LinearRegression\n",
        "from sklearn.metrics import mean_absolute_error, r2_score"
      ],
      "execution_count": 0,
      "outputs": []
    },
    {
      "cell_type": "markdown",
      "metadata": {
        "colab_type": "text",
        "id": "lg763-eMvObo"
      },
      "source": [
        "### Modelo para el parámetro de tensión en corriente continua (VDC)."
      ]
    },
    {
      "cell_type": "code",
      "metadata": {
        "colab_type": "code",
        "id": "GeseYMKyvObo",
        "outputId": "0e914ff5-9914-4df7-9c72-b1a28dc57a9d",
        "colab": {
          "base_uri": "https://localhost:8080/",
          "height": 638
        }
      },
      "source": [
        "# Creación del modelo\n",
        "reg_VDC = LinearRegression()\n",
        "\n",
        "# Creamos el dataframe de resultados\n",
        "\n",
        "result_VDC = test_dataset [['Datetime']]\n",
        "\n",
        "# Entrenamiento del modelo. Se redondea la predicción a float de dos decimales\n",
        "reg_VDC.fit(train_dataset[input_features], train_dataset[['A_Optimal_VDC']])\n",
        "result_VDC['Predict_VDC'] = round(pd.DataFrame(reg_VDC.predict(test_dataset[input_features])), 2)\n",
        "\n",
        "# Se introduce el resultado al data frame de resultados. Se añaden otras posibles métricas interesantes que nos\n",
        "# aporten más información.\n",
        "\n",
        "result_VDC['Real_VDC'] = test_dataset['A_Optimal_VDC']\n",
        "result_VDC['Residual_VDC'] = round(result_VDC['Predict_VDC']-result_VDC['Real_VDC'], 2)\n",
        "result_VDC['Resid_VDC_%'] = np.abs(result_VDC['Residual_VDC']/result_VDC['Real_VDC'])\n",
        "\n",
        "result_VDC.head()"
      ],
      "execution_count": 11,
      "outputs": [
        {
          "output_type": "stream",
          "text": [
            "/usr/local/lib/python3.6/dist-packages/ipykernel_launcher.py:9: SettingWithCopyWarning: \n",
            "A value is trying to be set on a copy of a slice from a DataFrame.\n",
            "Try using .loc[row_indexer,col_indexer] = value instead\n",
            "\n",
            "See the caveats in the documentation: http://pandas.pydata.org/pandas-docs/stable/user_guide/indexing.html#returning-a-view-versus-a-copy\n",
            "  if __name__ == '__main__':\n",
            "/usr/local/lib/python3.6/dist-packages/ipykernel_launcher.py:14: SettingWithCopyWarning: \n",
            "A value is trying to be set on a copy of a slice from a DataFrame.\n",
            "Try using .loc[row_indexer,col_indexer] = value instead\n",
            "\n",
            "See the caveats in the documentation: http://pandas.pydata.org/pandas-docs/stable/user_guide/indexing.html#returning-a-view-versus-a-copy\n",
            "  \n",
            "/usr/local/lib/python3.6/dist-packages/ipykernel_launcher.py:15: SettingWithCopyWarning: \n",
            "A value is trying to be set on a copy of a slice from a DataFrame.\n",
            "Try using .loc[row_indexer,col_indexer] = value instead\n",
            "\n",
            "See the caveats in the documentation: http://pandas.pydata.org/pandas-docs/stable/user_guide/indexing.html#returning-a-view-versus-a-copy\n",
            "  from ipykernel import kernelapp as app\n",
            "/usr/local/lib/python3.6/dist-packages/ipykernel_launcher.py:16: SettingWithCopyWarning: \n",
            "A value is trying to be set on a copy of a slice from a DataFrame.\n",
            "Try using .loc[row_indexer,col_indexer] = value instead\n",
            "\n",
            "See the caveats in the documentation: http://pandas.pydata.org/pandas-docs/stable/user_guide/indexing.html#returning-a-view-versus-a-copy\n",
            "  app.launch_new_instance()\n"
          ],
          "name": "stderr"
        },
        {
          "output_type": "execute_result",
          "data": {
            "text/html": [
              "<div>\n",
              "<style scoped>\n",
              "    .dataframe tbody tr th:only-of-type {\n",
              "        vertical-align: middle;\n",
              "    }\n",
              "\n",
              "    .dataframe tbody tr th {\n",
              "        vertical-align: top;\n",
              "    }\n",
              "\n",
              "    .dataframe thead th {\n",
              "        text-align: right;\n",
              "    }\n",
              "</style>\n",
              "<table border=\"1\" class=\"dataframe\">\n",
              "  <thead>\n",
              "    <tr style=\"text-align: right;\">\n",
              "      <th></th>\n",
              "      <th>Datetime</th>\n",
              "      <th>Predict_VDC</th>\n",
              "      <th>Real_VDC</th>\n",
              "      <th>Residual_VDC</th>\n",
              "      <th>Resid_VDC_%</th>\n",
              "    </tr>\n",
              "  </thead>\n",
              "  <tbody>\n",
              "    <tr>\n",
              "      <th>0</th>\n",
              "      <td>2017-07-16 14:19:00+00:00</td>\n",
              "      <td>28.41</td>\n",
              "      <td>24.40</td>\n",
              "      <td>4.01</td>\n",
              "      <td>0.164344</td>\n",
              "    </tr>\n",
              "    <tr>\n",
              "      <th>1</th>\n",
              "      <td>2017-06-07 16:33:00+00:00</td>\n",
              "      <td>27.63</td>\n",
              "      <td>27.95</td>\n",
              "      <td>-0.32</td>\n",
              "      <td>0.011449</td>\n",
              "    </tr>\n",
              "    <tr>\n",
              "      <th>2</th>\n",
              "      <td>2017-03-29 12:40:00+00:00</td>\n",
              "      <td>28.49</td>\n",
              "      <td>27.75</td>\n",
              "      <td>0.74</td>\n",
              "      <td>0.026667</td>\n",
              "    </tr>\n",
              "    <tr>\n",
              "      <th>3</th>\n",
              "      <td>2014-08-16 15:02:00+00:00</td>\n",
              "      <td>27.87</td>\n",
              "      <td>26.55</td>\n",
              "      <td>1.32</td>\n",
              "      <td>0.049718</td>\n",
              "    </tr>\n",
              "    <tr>\n",
              "      <th>4</th>\n",
              "      <td>2016-01-16 10:42:00+00:00</td>\n",
              "      <td>27.85</td>\n",
              "      <td>29.95</td>\n",
              "      <td>-2.10</td>\n",
              "      <td>0.070117</td>\n",
              "    </tr>\n",
              "  </tbody>\n",
              "</table>\n",
              "</div>"
            ],
            "text/plain": [
              "                    Datetime  Predict_VDC  Real_VDC  Residual_VDC  Resid_VDC_%\n",
              "0  2017-07-16 14:19:00+00:00        28.41     24.40          4.01     0.164344\n",
              "1  2017-06-07 16:33:00+00:00        27.63     27.95         -0.32     0.011449\n",
              "2  2017-03-29 12:40:00+00:00        28.49     27.75          0.74     0.026667\n",
              "3  2014-08-16 15:02:00+00:00        27.87     26.55          1.32     0.049718\n",
              "4  2016-01-16 10:42:00+00:00        27.85     29.95         -2.10     0.070117"
            ]
          },
          "metadata": {
            "tags": []
          },
          "execution_count": 11
        }
      ]
    },
    {
      "cell_type": "markdown",
      "metadata": {
        "colab_type": "text",
        "id": "aKICiOF1vObt"
      },
      "source": [
        "##### Métricas del modelo: MAE y R2"
      ]
    },
    {
      "cell_type": "markdown",
      "metadata": {
        "id": "orU0eyjDjvn7",
        "colab_type": "text"
      },
      "source": [
        "Debido a su robustez, el MAE ha sido la métrica seleccionada, ya que no se vé afectada por los posibles outlier que haya en el dataset de entranamiento."
      ]
    },
    {
      "cell_type": "code",
      "metadata": {
        "colab_type": "code",
        "id": "dyBQJenLvObt",
        "outputId": "fbfee376-78d3-4671-9350-cce33d683b51",
        "colab": {
          "base_uri": "https://localhost:8080/",
          "height": 52
        }
      },
      "source": [
        "print('MAE: ', np.mean(np.abs(result_VDC['Residual_VDC'])))\n",
        "print('R^2: ', r2_score(result_VDC['Predict_VDC'],test_dataset['A_Optimal_VDC']))"
      ],
      "execution_count": 12,
      "outputs": [
        {
          "output_type": "stream",
          "text": [
            "MAE:  1.218412017437714\n",
            "R^2:  -12.398478250136947\n"
          ],
          "name": "stdout"
        }
      ]
    },
    {
      "cell_type": "markdown",
      "metadata": {
        "colab_type": "text",
        "id": "nU588LNQ2c2p"
      },
      "source": [
        "##### Graficamos el resultado"
      ]
    },
    {
      "cell_type": "markdown",
      "metadata": {
        "id": "GujWjqybjvn-",
        "colab_type": "text"
      },
      "source": [
        "Gŕafica naran valor real, gráfica azul valor predicho."
      ]
    },
    {
      "cell_type": "code",
      "metadata": {
        "colab_type": "code",
        "id": "sv5ey1Nh2WEF",
        "outputId": "2630f315-1cee-47d3-c429-a48baacb5e4e",
        "colab": {
          "base_uri": "https://localhost:8080/",
          "height": 432
        }
      },
      "source": [
        "pd.to_datetime(result_VDC['Datetime'], format=\"%Y-%m-%d %H:%M:%S\")\n",
        "\n",
        "result_VDC = result_VDC.sort_values('Datetime')\n",
        "\n",
        "plt.plot(result_VDC['Datetime'].head(12), result_VDC['Predict_VDC'].head(12))\n",
        "plt.plot(result_VDC['Datetime'].head(12), result_VDC['Real_VDC'].head(12))\n",
        "\n",
        "plt.xticks(rotation='vertical')"
      ],
      "execution_count": 13,
      "outputs": [
        {
          "output_type": "execute_result",
          "data": {
            "text/plain": [
              "([0, 1, 2, 3, 4, 5, 6, 7, 8, 9, 10, 11],\n",
              " <a list of 12 Text xticklabel objects>)"
            ]
          },
          "metadata": {
            "tags": []
          },
          "execution_count": 13
        },
        {
          "output_type": "display_data",
          "data": {
            "image/png": "[encoded data removed]",
            "text/plain": [
              "<Figure size 432x288 with 1 Axes>"
            ]
          },
          "metadata": {
            "tags": []
          }
        }
      ]
    },
    {
      "cell_type": "markdown",
      "metadata": {
        "colab_type": "text",
        "id": "f_f2x_2nvOby"
      },
      "source": [
        "### Modelo para el parámetro de corriente en corriente continua (CDC)."
      ]
    },
    {
      "cell_type": "code",
      "metadata": {
        "colab_type": "code",
        "id": "hCrIWNvovOby",
        "outputId": "cb93dc67-6935-407c-e68c-6d4c3543577b",
        "colab": {
          "base_uri": "https://localhost:8080/",
          "height": 638
        }
      },
      "source": [
        "# Creación de modelo\n",
        "reg_CDC = LinearRegression()\n",
        "\n",
        "# Creamos el dataframe de resultados\n",
        "\n",
        "result_CDC = test_dataset [['Datetime']]\n",
        "\n",
        "# Entrenamiento de modelo\n",
        "reg_CDC.fit(train_dataset[input_features], train_dataset[['A_Optimal_CDC']])\n",
        "result_CDC['Predict_CDC'] = round(pd.DataFrame(reg_CDC.predict(test_dataset[input_features])), 2)\n",
        "\n",
        "# Adición de resultados al dataframe de resultados.\n",
        "\n",
        "result_CDC['Real_CDC'] = test_dataset['A_Optimal_CDC']\n",
        "result_CDC['Residual_CDC'] = round(result_CDC['Predict_CDC']-result_CDC['Real_CDC'], 2)\n",
        "result_CDC['Resid_CDC_%'] = np.abs(result_CDC['Residual_CDC']/result_CDC['Real_CDC'])\n",
        "\n",
        "result_CDC.head()"
      ],
      "execution_count": 14,
      "outputs": [
        {
          "output_type": "stream",
          "text": [
            "/usr/local/lib/python3.6/dist-packages/ipykernel_launcher.py:9: SettingWithCopyWarning: \n",
            "A value is trying to be set on a copy of a slice from a DataFrame.\n",
            "Try using .loc[row_indexer,col_indexer] = value instead\n",
            "\n",
            "See the caveats in the documentation: http://pandas.pydata.org/pandas-docs/stable/user_guide/indexing.html#returning-a-view-versus-a-copy\n",
            "  if __name__ == '__main__':\n",
            "/usr/local/lib/python3.6/dist-packages/ipykernel_launcher.py:13: SettingWithCopyWarning: \n",
            "A value is trying to be set on a copy of a slice from a DataFrame.\n",
            "Try using .loc[row_indexer,col_indexer] = value instead\n",
            "\n",
            "See the caveats in the documentation: http://pandas.pydata.org/pandas-docs/stable/user_guide/indexing.html#returning-a-view-versus-a-copy\n",
            "  del sys.path[0]\n",
            "/usr/local/lib/python3.6/dist-packages/ipykernel_launcher.py:14: SettingWithCopyWarning: \n",
            "A value is trying to be set on a copy of a slice from a DataFrame.\n",
            "Try using .loc[row_indexer,col_indexer] = value instead\n",
            "\n",
            "See the caveats in the documentation: http://pandas.pydata.org/pandas-docs/stable/user_guide/indexing.html#returning-a-view-versus-a-copy\n",
            "  \n",
            "/usr/local/lib/python3.6/dist-packages/ipykernel_launcher.py:15: SettingWithCopyWarning: \n",
            "A value is trying to be set on a copy of a slice from a DataFrame.\n",
            "Try using .loc[row_indexer,col_indexer] = value instead\n",
            "\n",
            "See the caveats in the documentation: http://pandas.pydata.org/pandas-docs/stable/user_guide/indexing.html#returning-a-view-versus-a-copy\n",
            "  from ipykernel import kernelapp as app\n"
          ],
          "name": "stderr"
        },
        {
          "output_type": "execute_result",
          "data": {
            "text/html": [
              "<div>\n",
              "<style scoped>\n",
              "    .dataframe tbody tr th:only-of-type {\n",
              "        vertical-align: middle;\n",
              "    }\n",
              "\n",
              "    .dataframe tbody tr th {\n",
              "        vertical-align: top;\n",
              "    }\n",
              "\n",
              "    .dataframe thead th {\n",
              "        text-align: right;\n",
              "    }\n",
              "</style>\n",
              "<table border=\"1\" class=\"dataframe\">\n",
              "  <thead>\n",
              "    <tr style=\"text-align: right;\">\n",
              "      <th></th>\n",
              "      <th>Datetime</th>\n",
              "      <th>Predict_CDC</th>\n",
              "      <th>Real_CDC</th>\n",
              "      <th>Residual_CDC</th>\n",
              "      <th>Resid_CDC_%</th>\n",
              "    </tr>\n",
              "  </thead>\n",
              "  <tbody>\n",
              "    <tr>\n",
              "      <th>0</th>\n",
              "      <td>2017-07-16 14:19:00+00:00</td>\n",
              "      <td>5.89</td>\n",
              "      <td>6.3900</td>\n",
              "      <td>-0.50</td>\n",
              "      <td>0.078247</td>\n",
              "    </tr>\n",
              "    <tr>\n",
              "      <th>1</th>\n",
              "      <td>2017-06-07 16:33:00+00:00</td>\n",
              "      <td>3.22</td>\n",
              "      <td>3.2050</td>\n",
              "      <td>0.02</td>\n",
              "      <td>0.006240</td>\n",
              "    </tr>\n",
              "    <tr>\n",
              "      <th>2</th>\n",
              "      <td>2017-03-29 12:40:00+00:00</td>\n",
              "      <td>6.64</td>\n",
              "      <td>8.1500</td>\n",
              "      <td>-1.51</td>\n",
              "      <td>0.185276</td>\n",
              "    </tr>\n",
              "    <tr>\n",
              "      <th>3</th>\n",
              "      <td>2014-08-16 15:02:00+00:00</td>\n",
              "      <td>5.90</td>\n",
              "      <td>5.7925</td>\n",
              "      <td>0.11</td>\n",
              "      <td>0.018990</td>\n",
              "    </tr>\n",
              "    <tr>\n",
              "      <th>4</th>\n",
              "      <td>2016-01-16 10:42:00+00:00</td>\n",
              "      <td>4.09</td>\n",
              "      <td>6.4525</td>\n",
              "      <td>-2.36</td>\n",
              "      <td>0.365750</td>\n",
              "    </tr>\n",
              "  </tbody>\n",
              "</table>\n",
              "</div>"
            ],
            "text/plain": [
              "                    Datetime  Predict_CDC  Real_CDC  Residual_CDC  Resid_CDC_%\n",
              "0  2017-07-16 14:19:00+00:00         5.89    6.3900         -0.50     0.078247\n",
              "1  2017-06-07 16:33:00+00:00         3.22    3.2050          0.02     0.006240\n",
              "2  2017-03-29 12:40:00+00:00         6.64    8.1500         -1.51     0.185276\n",
              "3  2014-08-16 15:02:00+00:00         5.90    5.7925          0.11     0.018990\n",
              "4  2016-01-16 10:42:00+00:00         4.09    6.4525         -2.36     0.365750"
            ]
          },
          "metadata": {
            "tags": []
          },
          "execution_count": 14
        }
      ]
    },
    {
      "cell_type": "markdown",
      "metadata": {
        "colab_type": "text",
        "id": "y6Ybw0XivOb2"
      },
      "source": [
        "##### Métricas del modelo: MAE, MAPE y R2"
      ]
    },
    {
      "cell_type": "code",
      "metadata": {
        "colab_type": "code",
        "id": "ZC-GkIkpvOb3",
        "outputId": "6ed85fa0-00cf-4e8b-a15d-b7733604fb32",
        "colab": {
          "base_uri": "https://localhost:8080/",
          "height": 52
        }
      },
      "source": [
        "print('MAE: ', np.mean(np.abs(result_CDC['Residual_CDC'])))\n",
        "print('R^2: ', r2_score(result_CDC['Predict_CDC'],test_dataset['A_Optimal_CDC']))"
      ],
      "execution_count": 15,
      "outputs": [
        {
          "output_type": "stream",
          "text": [
            "MAE:  1.0616588549540986\n",
            "R^2:  0.5301388725613105\n"
          ],
          "name": "stdout"
        }
      ]
    },
    {
      "cell_type": "markdown",
      "metadata": {
        "colab_type": "text",
        "id": "YV7g0DS73bgw"
      },
      "source": [
        "#### Graficamos el resultado"
      ]
    },
    {
      "cell_type": "code",
      "metadata": {
        "colab_type": "code",
        "id": "bN8J5rXQ3fds",
        "outputId": "f4b66e7e-1dab-483c-a614-7add1fff267b",
        "colab": {
          "base_uri": "https://localhost:8080/",
          "height": 432
        }
      },
      "source": [
        "pd.to_datetime(result_CDC['Datetime'], format=\"%Y-%m-%d %H:%M:%S\")\n",
        "\n",
        "result_CDC = result_CDC.sort_values('Datetime')\n",
        "\n",
        "plt.plot(result_CDC['Datetime'].head(12), result_CDC['Predict_CDC'].head(12))\n",
        "plt.plot(result_CDC['Datetime'].head(12), result_CDC['Real_CDC'].head(12))\n",
        "\n",
        "plt.xticks(rotation='vertical')"
      ],
      "execution_count": 16,
      "outputs": [
        {
          "output_type": "execute_result",
          "data": {
            "text/plain": [
              "([0, 1, 2, 3, 4, 5, 6, 7, 8, 9, 10, 11],\n",
              " <a list of 12 Text xticklabel objects>)"
            ]
          },
          "metadata": {
            "tags": []
          },
          "execution_count": 16
        },
        {
          "output_type": "display_data",
          "data": {
            "image/png": "[encoded data removed]",
            "text/plain": [
              "<Figure size 432x288 with 1 Axes>"
            ]
          },
          "metadata": {
            "tags": []
          }
        }
      ]
    },
    {
      "cell_type": "markdown",
      "metadata": {
        "colab_type": "text",
        "id": "Gq2O6Ry5vOb4"
      },
      "source": [
        "### Modelo para el parámetro de potencia en corriente continua (PDC)."
      ]
    },
    {
      "cell_type": "code",
      "metadata": {
        "colab_type": "code",
        "id": "_0Lwf-stvOb5",
        "outputId": "97b3da98-d3eb-46d6-a29b-2ef0eb1b5cce",
        "colab": {
          "base_uri": "https://localhost:8080/",
          "height": 638
        }
      },
      "source": [
        "# Creación del modelo\n",
        "reg_PDC = LinearRegression()\n",
        "\n",
        "# Creamos el dataframe de resultados\n",
        "\n",
        "result_PDC = test_dataset [['Datetime']]\n",
        "\n",
        "# Entrenamiento del modelo\n",
        "reg_PDC.fit(train_dataset[input_features], train_dataset[['A_Optimal_PDC']])\n",
        "result_PDC['Predict_PDC'] = round(pd.DataFrame(reg_PDC.predict(test_dataset[input_features])), 2)\n",
        "\n",
        "# Adición de resultado al dataframe de resultados\n",
        "result_PDC['Real_PDC'] = test_dataset['A_Optimal_PDC']\n",
        "result_PDC['Residual_PDC'] = round(result_PDC['Predict_PDC']-result_PDC['Real_PDC'], 2)\n",
        "result_PDC['Resid_PDC_%'] = np.abs(result_PDC['Residual_PDC']/result_PDC['Real_PDC'])\n",
        "\n",
        "result_PDC.head()"
      ],
      "execution_count": 17,
      "outputs": [
        {
          "output_type": "stream",
          "text": [
            "/usr/local/lib/python3.6/dist-packages/ipykernel_launcher.py:9: SettingWithCopyWarning: \n",
            "A value is trying to be set on a copy of a slice from a DataFrame.\n",
            "Try using .loc[row_indexer,col_indexer] = value instead\n",
            "\n",
            "See the caveats in the documentation: http://pandas.pydata.org/pandas-docs/stable/user_guide/indexing.html#returning-a-view-versus-a-copy\n",
            "  if __name__ == '__main__':\n",
            "/usr/local/lib/python3.6/dist-packages/ipykernel_launcher.py:12: SettingWithCopyWarning: \n",
            "A value is trying to be set on a copy of a slice from a DataFrame.\n",
            "Try using .loc[row_indexer,col_indexer] = value instead\n",
            "\n",
            "See the caveats in the documentation: http://pandas.pydata.org/pandas-docs/stable/user_guide/indexing.html#returning-a-view-versus-a-copy\n",
            "  if sys.path[0] == '':\n",
            "/usr/local/lib/python3.6/dist-packages/ipykernel_launcher.py:13: SettingWithCopyWarning: \n",
            "A value is trying to be set on a copy of a slice from a DataFrame.\n",
            "Try using .loc[row_indexer,col_indexer] = value instead\n",
            "\n",
            "See the caveats in the documentation: http://pandas.pydata.org/pandas-docs/stable/user_guide/indexing.html#returning-a-view-versus-a-copy\n",
            "  del sys.path[0]\n",
            "/usr/local/lib/python3.6/dist-packages/ipykernel_launcher.py:14: SettingWithCopyWarning: \n",
            "A value is trying to be set on a copy of a slice from a DataFrame.\n",
            "Try using .loc[row_indexer,col_indexer] = value instead\n",
            "\n",
            "See the caveats in the documentation: http://pandas.pydata.org/pandas-docs/stable/user_guide/indexing.html#returning-a-view-versus-a-copy\n",
            "  \n"
          ],
          "name": "stderr"
        },
        {
          "output_type": "execute_result",
          "data": {
            "text/html": [
              "<div>\n",
              "<style scoped>\n",
              "    .dataframe tbody tr th:only-of-type {\n",
              "        vertical-align: middle;\n",
              "    }\n",
              "\n",
              "    .dataframe tbody tr th {\n",
              "        vertical-align: top;\n",
              "    }\n",
              "\n",
              "    .dataframe thead th {\n",
              "        text-align: right;\n",
              "    }\n",
              "</style>\n",
              "<table border=\"1\" class=\"dataframe\">\n",
              "  <thead>\n",
              "    <tr style=\"text-align: right;\">\n",
              "      <th></th>\n",
              "      <th>Datetime</th>\n",
              "      <th>Predict_PDC</th>\n",
              "      <th>Real_PDC</th>\n",
              "      <th>Residual_PDC</th>\n",
              "      <th>Resid_PDC_%</th>\n",
              "    </tr>\n",
              "  </thead>\n",
              "  <tbody>\n",
              "    <tr>\n",
              "      <th>0</th>\n",
              "      <td>2017-07-16 14:19:00+00:00</td>\n",
              "      <td>165.13</td>\n",
              "      <td>155.916000</td>\n",
              "      <td>9.21</td>\n",
              "      <td>0.059070</td>\n",
              "    </tr>\n",
              "    <tr>\n",
              "      <th>1</th>\n",
              "      <td>2017-06-07 16:33:00+00:00</td>\n",
              "      <td>90.81</td>\n",
              "      <td>89.579750</td>\n",
              "      <td>1.23</td>\n",
              "      <td>0.013731</td>\n",
              "    </tr>\n",
              "    <tr>\n",
              "      <th>2</th>\n",
              "      <td>2017-03-29 12:40:00+00:00</td>\n",
              "      <td>185.76</td>\n",
              "      <td>226.162500</td>\n",
              "      <td>-40.40</td>\n",
              "      <td>0.178633</td>\n",
              "    </tr>\n",
              "    <tr>\n",
              "      <th>3</th>\n",
              "      <td>2014-08-16 15:02:00+00:00</td>\n",
              "      <td>164.13</td>\n",
              "      <td>153.790875</td>\n",
              "      <td>10.34</td>\n",
              "      <td>0.067234</td>\n",
              "    </tr>\n",
              "    <tr>\n",
              "      <th>4</th>\n",
              "      <td>2016-01-16 10:42:00+00:00</td>\n",
              "      <td>115.58</td>\n",
              "      <td>193.252375</td>\n",
              "      <td>-77.67</td>\n",
              "      <td>0.401910</td>\n",
              "    </tr>\n",
              "  </tbody>\n",
              "</table>\n",
              "</div>"
            ],
            "text/plain": [
              "                    Datetime  Predict_PDC  ...  Residual_PDC  Resid_PDC_%\n",
              "0  2017-07-16 14:19:00+00:00       165.13  ...          9.21     0.059070\n",
              "1  2017-06-07 16:33:00+00:00        90.81  ...          1.23     0.013731\n",
              "2  2017-03-29 12:40:00+00:00       185.76  ...        -40.40     0.178633\n",
              "3  2014-08-16 15:02:00+00:00       164.13  ...         10.34     0.067234\n",
              "4  2016-01-16 10:42:00+00:00       115.58  ...        -77.67     0.401910\n",
              "\n",
              "[5 rows x 5 columns]"
            ]
          },
          "metadata": {
            "tags": []
          },
          "execution_count": 17
        }
      ]
    },
    {
      "cell_type": "markdown",
      "metadata": {
        "colab_type": "text",
        "id": "Zj5eFOYsvOb8"
      },
      "source": [
        "##### Métricas del modelo: MAE y R2"
      ]
    },
    {
      "cell_type": "code",
      "metadata": {
        "colab_type": "code",
        "id": "XVkxdVJmvOb9",
        "outputId": "ecffe81c-1090-4ce8-8f69-277b5076d9ff",
        "colab": {
          "base_uri": "https://localhost:8080/",
          "height": 52
        }
      },
      "source": [
        "print('MAE: ', np.mean(np.abs(result_PDC['Residual_PDC'])))\n",
        "print('R^2: ', r2_score(result_PDC['Predict_PDC'],test_dataset['A_Optimal_PDC']))"
      ],
      "execution_count": 18,
      "outputs": [
        {
          "output_type": "stream",
          "text": [
            "MAE:  30.148130291805423\n",
            "R^2:  0.5088388117989846\n"
          ],
          "name": "stdout"
        }
      ]
    },
    {
      "cell_type": "markdown",
      "metadata": {
        "colab_type": "text",
        "id": "ab6EGnYa8O5K"
      },
      "source": [
        "#### Graficamos el resultado"
      ]
    },
    {
      "cell_type": "code",
      "metadata": {
        "colab_type": "code",
        "id": "6hgEZ9YX8RhJ",
        "outputId": "76eeb5d7-ad17-4c84-a30f-c1cb45d78742",
        "colab": {
          "base_uri": "https://localhost:8080/",
          "height": 432
        }
      },
      "source": [
        "pd.to_datetime(result_PDC['Datetime'], format=\"%Y-%m-%d %H:%M:%S\")\n",
        "\n",
        "result_PDC = result_PDC.sort_values('Datetime')\n",
        "\n",
        "plt.plot(result_PDC['Datetime'].head(12), result_PDC['Predict_PDC'].head(12))\n",
        "plt.plot(result_PDC['Datetime'].head(12), result_PDC['Real_PDC'].head(12))\n",
        "\n",
        "plt.xticks(rotation='vertical')"
      ],
      "execution_count": 19,
      "outputs": [
        {
          "output_type": "execute_result",
          "data": {
            "text/plain": [
              "([0, 1, 2, 3, 4, 5, 6, 7, 8, 9, 10, 11],\n",
              " <a list of 12 Text xticklabel objects>)"
            ]
          },
          "metadata": {
            "tags": []
          },
          "execution_count": 19
        },
        {
          "output_type": "display_data",
          "data": {
            "image/png": "[encoded data removed]",
            "text/plain": [
              "<Figure size 432x288 with 1 Axes>"
            ]
          },
          "metadata": {
            "tags": []
          }
        }
      ]
    },
    {
      "cell_type": "markdown",
      "metadata": {
        "colab_type": "text",
        "id": "VDXisrDFvOcA"
      },
      "source": [
        "### 2º- Datos normalizados"
      ]
    },
    {
      "cell_type": "markdown",
      "metadata": {
        "colab_type": "text",
        "id": "NoS4Ox-VvOcC"
      },
      "source": [
        "Debido a que las métricas nos dan valores muy malos, vamos a normalizar los datos de entrada para intentar mejorar los resultados."
      ]
    },
    {
      "cell_type": "code",
      "metadata": {
        "colab_type": "code",
        "id": "sJNK0ptFvOcD",
        "colab": {}
      },
      "source": [
        "from sklearn.preprocessing import MinMaxScaler"
      ],
      "execution_count": 0,
      "outputs": []
    },
    {
      "cell_type": "markdown",
      "metadata": {
        "colab_type": "text",
        "id": "QiJ0cPXbvOcG"
      },
      "source": [
        "##### Normalizamos los valores de entrada de los dataset de train y test."
      ]
    },
    {
      "cell_type": "code",
      "metadata": {
        "colab_type": "code",
        "id": "1J9YS3BGvOcH",
        "colab": {}
      },
      "source": [
        "scaler_train = MinMaxScaler()\n",
        "train_sc = scaler_train.fit_transform(train_dataset[input_features])\n",
        "train_sc = pd.DataFrame(train_sc, columns=['Global_Radiation', 'Diffuse_Radiation','Ultraviolet'])\n",
        "\n",
        "scaler_test = MinMaxScaler()\n",
        "test_sc = scaler_test.fit_transform(test_dataset[input_features])\n",
        "test_sc = pd.DataFrame(test_sc, columns=['Global_Radiation', 'Diffuse_Radiation', 'Ultraviolet'])"
      ],
      "execution_count": 0,
      "outputs": []
    },
    {
      "cell_type": "markdown",
      "metadata": {
        "colab_type": "text",
        "id": "1JGZv6c3vOcI"
      },
      "source": [
        "### Modelo para el parámetro de tensión en corriente continua (VDC)."
      ]
    },
    {
      "cell_type": "code",
      "metadata": {
        "colab_type": "code",
        "id": "14RvAgyLvOcJ",
        "outputId": "b343d99f-3a4f-4c46-f5d1-06e705e3ed49",
        "scrolled": true,
        "colab": {
          "base_uri": "https://localhost:8080/",
          "height": 638
        }
      },
      "source": [
        "# Creación de modelo\n",
        "reg_VDC = LinearRegression()\n",
        "\n",
        "# Creamos el dataframe de resultados\n",
        "\n",
        "result_VDC = test_dataset [['Datetime']]\n",
        "\n",
        "# Entrenamiento del modelo\n",
        "reg_VDC.fit(train_sc, train_dataset[['A_Optimal_VDC']])\n",
        "result_VDC['Predict_VDC'] = round(pd.DataFrame(reg_VDC.predict(test_sc[input_features])), 2)\n",
        "\n",
        "# Adición de resultado al dataframe de resultados\n",
        "result_VDC['Real_VDC'] = test_dataset['A_Optimal_VDC']\n",
        "result_VDC['Residual_VDC'] = round(result_VDC['Predict_VDC']-result_VDC['Real_VDC'], 2)\n",
        "result_VDC['Resid_VDC_%'] = np.abs(result_VDC['Residual_VDC']/result_VDC['Real_VDC'])\n",
        "\n",
        "result_VDC.head()"
      ],
      "execution_count": 22,
      "outputs": [
        {
          "output_type": "stream",
          "text": [
            "/usr/local/lib/python3.6/dist-packages/ipykernel_launcher.py:9: SettingWithCopyWarning: \n",
            "A value is trying to be set on a copy of a slice from a DataFrame.\n",
            "Try using .loc[row_indexer,col_indexer] = value instead\n",
            "\n",
            "See the caveats in the documentation: http://pandas.pydata.org/pandas-docs/stable/user_guide/indexing.html#returning-a-view-versus-a-copy\n",
            "  if __name__ == '__main__':\n",
            "/usr/local/lib/python3.6/dist-packages/ipykernel_launcher.py:12: SettingWithCopyWarning: \n",
            "A value is trying to be set on a copy of a slice from a DataFrame.\n",
            "Try using .loc[row_indexer,col_indexer] = value instead\n",
            "\n",
            "See the caveats in the documentation: http://pandas.pydata.org/pandas-docs/stable/user_guide/indexing.html#returning-a-view-versus-a-copy\n",
            "  if sys.path[0] == '':\n",
            "/usr/local/lib/python3.6/dist-packages/ipykernel_launcher.py:13: SettingWithCopyWarning: \n",
            "A value is trying to be set on a copy of a slice from a DataFrame.\n",
            "Try using .loc[row_indexer,col_indexer] = value instead\n",
            "\n",
            "See the caveats in the documentation: http://pandas.pydata.org/pandas-docs/stable/user_guide/indexing.html#returning-a-view-versus-a-copy\n",
            "  del sys.path[0]\n",
            "/usr/local/lib/python3.6/dist-packages/ipykernel_launcher.py:14: SettingWithCopyWarning: \n",
            "A value is trying to be set on a copy of a slice from a DataFrame.\n",
            "Try using .loc[row_indexer,col_indexer] = value instead\n",
            "\n",
            "See the caveats in the documentation: http://pandas.pydata.org/pandas-docs/stable/user_guide/indexing.html#returning-a-view-versus-a-copy\n",
            "  \n"
          ],
          "name": "stderr"
        },
        {
          "output_type": "execute_result",
          "data": {
            "text/html": [
              "<div>\n",
              "<style scoped>\n",
              "    .dataframe tbody tr th:only-of-type {\n",
              "        vertical-align: middle;\n",
              "    }\n",
              "\n",
              "    .dataframe tbody tr th {\n",
              "        vertical-align: top;\n",
              "    }\n",
              "\n",
              "    .dataframe thead th {\n",
              "        text-align: right;\n",
              "    }\n",
              "</style>\n",
              "<table border=\"1\" class=\"dataframe\">\n",
              "  <thead>\n",
              "    <tr style=\"text-align: right;\">\n",
              "      <th></th>\n",
              "      <th>Datetime</th>\n",
              "      <th>Predict_VDC</th>\n",
              "      <th>Real_VDC</th>\n",
              "      <th>Residual_VDC</th>\n",
              "      <th>Resid_VDC_%</th>\n",
              "    </tr>\n",
              "  </thead>\n",
              "  <tbody>\n",
              "    <tr>\n",
              "      <th>0</th>\n",
              "      <td>2017-07-16 14:19:00+00:00</td>\n",
              "      <td>28.56</td>\n",
              "      <td>24.40</td>\n",
              "      <td>4.16</td>\n",
              "      <td>0.170492</td>\n",
              "    </tr>\n",
              "    <tr>\n",
              "      <th>1</th>\n",
              "      <td>2017-06-07 16:33:00+00:00</td>\n",
              "      <td>27.70</td>\n",
              "      <td>27.95</td>\n",
              "      <td>-0.25</td>\n",
              "      <td>0.008945</td>\n",
              "    </tr>\n",
              "    <tr>\n",
              "      <th>2</th>\n",
              "      <td>2017-03-29 12:40:00+00:00</td>\n",
              "      <td>28.65</td>\n",
              "      <td>27.75</td>\n",
              "      <td>0.90</td>\n",
              "      <td>0.032432</td>\n",
              "    </tr>\n",
              "    <tr>\n",
              "      <th>3</th>\n",
              "      <td>2014-08-16 15:02:00+00:00</td>\n",
              "      <td>28.00</td>\n",
              "      <td>26.55</td>\n",
              "      <td>1.45</td>\n",
              "      <td>0.054614</td>\n",
              "    </tr>\n",
              "    <tr>\n",
              "      <th>4</th>\n",
              "      <td>2016-01-16 10:42:00+00:00</td>\n",
              "      <td>27.93</td>\n",
              "      <td>29.95</td>\n",
              "      <td>-2.02</td>\n",
              "      <td>0.067446</td>\n",
              "    </tr>\n",
              "  </tbody>\n",
              "</table>\n",
              "</div>"
            ],
            "text/plain": [
              "                    Datetime  Predict_VDC  Real_VDC  Residual_VDC  Resid_VDC_%\n",
              "0  2017-07-16 14:19:00+00:00        28.56     24.40          4.16     0.170492\n",
              "1  2017-06-07 16:33:00+00:00        27.70     27.95         -0.25     0.008945\n",
              "2  2017-03-29 12:40:00+00:00        28.65     27.75          0.90     0.032432\n",
              "3  2014-08-16 15:02:00+00:00        28.00     26.55          1.45     0.054614\n",
              "4  2016-01-16 10:42:00+00:00        27.93     29.95         -2.02     0.067446"
            ]
          },
          "metadata": {
            "tags": []
          },
          "execution_count": 22
        }
      ]
    },
    {
      "cell_type": "markdown",
      "metadata": {
        "colab_type": "text",
        "id": "0C0Z-f5XvOcM"
      },
      "source": [
        "##### Métricas del modelo: MAE, MAPE y R2"
      ]
    },
    {
      "cell_type": "code",
      "metadata": {
        "colab_type": "code",
        "id": "HG6rpMhxvOcN",
        "outputId": "36de41e4-b06a-4f9e-a3b6-c7b3977afb81",
        "colab": {
          "base_uri": "https://localhost:8080/",
          "height": 52
        }
      },
      "source": [
        "print('MAE: ', np.mean(np.abs(result_VDC['Residual_VDC'])))\n",
        "print('R^2: ', r2_score(result_VDC['Predict_VDC'],test_dataset['A_Optimal_VDC']))"
      ],
      "execution_count": 23,
      "outputs": [
        {
          "output_type": "stream",
          "text": [
            "MAE:  1.2248388519302176\n",
            "R^2:  -10.345483835657383\n"
          ],
          "name": "stdout"
        }
      ]
    },
    {
      "cell_type": "markdown",
      "metadata": {
        "colab_type": "text",
        "id": "XK9qZKrX6yEx"
      },
      "source": [
        "#### Graficamos el resultado"
      ]
    },
    {
      "cell_type": "code",
      "metadata": {
        "colab_type": "code",
        "id": "QnYlwgDH60xd",
        "outputId": "b51d62e1-4842-4639-8e68-db2352c77478",
        "colab": {
          "base_uri": "https://localhost:8080/",
          "height": 432
        }
      },
      "source": [
        "pd.to_datetime(result_VDC['Datetime'], format=\"%Y-%m-%d %H:%M:%S\")\n",
        "\n",
        "result_VDC = result_VDC.sort_values('Datetime')\n",
        "\n",
        "plt.plot(result_VDC['Datetime'].head(20), result_VDC['Predict_VDC'].head(20))\n",
        "plt.plot(result_VDC['Datetime'].head(20), result_VDC['Real_VDC'].head(20))\n",
        "\n",
        "plt.xticks(rotation='vertical')"
      ],
      "execution_count": 24,
      "outputs": [
        {
          "output_type": "execute_result",
          "data": {
            "text/plain": [
              "([0, 1, 2, 3, 4, 5, 6, 7, 8, 9, 10, 11, 12, 13, 14, 15, 16, 17, 18, 19],\n",
              " <a list of 20 Text xticklabel objects>)"
            ]
          },
          "metadata": {
            "tags": []
          },
          "execution_count": 24
        },
        {
          "output_type": "display_data",
          "data": {
            "image/png": "[encoded data removed]",
            "text/plain": [
              "<Figure size 432x288 with 1 Axes>"
            ]
          },
          "metadata": {
            "tags": []
          }
        }
      ]
    },
    {
      "cell_type": "markdown",
      "metadata": {
        "colab_type": "text",
        "id": "fAEqH1KyvOcQ"
      },
      "source": [
        "### Modelo para el parámetro de corriente en corriente continua (CDC)."
      ]
    },
    {
      "cell_type": "code",
      "metadata": {
        "colab_type": "code",
        "id": "iZVgr3RMvOcQ",
        "outputId": "71c107cf-7296-4cb3-bff1-9442b0cd484e",
        "scrolled": false,
        "colab": {
          "base_uri": "https://localhost:8080/",
          "height": 638
        }
      },
      "source": [
        "# Creación del modelo\n",
        "reg_CDC = LinearRegression()\n",
        "\n",
        "# Creamos el dataframe de resultados\n",
        "\n",
        "result_CDC = test_dataset [['Datetime']]\n",
        "\n",
        "# Entrenamiento del modelo\n",
        "reg_CDC.fit(train_sc, train_dataset[['A_Optimal_CDC']])\n",
        "result_CDC['Predict_CDC'] = round(pd.DataFrame(reg_CDC.predict(test_sc[input_features])), 2)\n",
        "\n",
        "# Adición del resultado al dataframe de resultados\n",
        "result_CDC['Real_CDC'] = test_dataset['A_Optimal_CDC']\n",
        "result_CDC['Residual_CDC'] = round(result_CDC['Predict_CDC']-result_CDC['Real_CDC'], 2)\n",
        "result_CDC['Resid_CDC_%'] = np.abs(result_CDC['Residual_CDC']/result_CDC['Real_CDC'])\n",
        "\n",
        "result_CDC.head()"
      ],
      "execution_count": 25,
      "outputs": [
        {
          "output_type": "stream",
          "text": [
            "/usr/local/lib/python3.6/dist-packages/ipykernel_launcher.py:9: SettingWithCopyWarning: \n",
            "A value is trying to be set on a copy of a slice from a DataFrame.\n",
            "Try using .loc[row_indexer,col_indexer] = value instead\n",
            "\n",
            "See the caveats in the documentation: http://pandas.pydata.org/pandas-docs/stable/user_guide/indexing.html#returning-a-view-versus-a-copy\n",
            "  if __name__ == '__main__':\n",
            "/usr/local/lib/python3.6/dist-packages/ipykernel_launcher.py:12: SettingWithCopyWarning: \n",
            "A value is trying to be set on a copy of a slice from a DataFrame.\n",
            "Try using .loc[row_indexer,col_indexer] = value instead\n",
            "\n",
            "See the caveats in the documentation: http://pandas.pydata.org/pandas-docs/stable/user_guide/indexing.html#returning-a-view-versus-a-copy\n",
            "  if sys.path[0] == '':\n",
            "/usr/local/lib/python3.6/dist-packages/ipykernel_launcher.py:13: SettingWithCopyWarning: \n",
            "A value is trying to be set on a copy of a slice from a DataFrame.\n",
            "Try using .loc[row_indexer,col_indexer] = value instead\n",
            "\n",
            "See the caveats in the documentation: http://pandas.pydata.org/pandas-docs/stable/user_guide/indexing.html#returning-a-view-versus-a-copy\n",
            "  del sys.path[0]\n",
            "/usr/local/lib/python3.6/dist-packages/ipykernel_launcher.py:14: SettingWithCopyWarning: \n",
            "A value is trying to be set on a copy of a slice from a DataFrame.\n",
            "Try using .loc[row_indexer,col_indexer] = value instead\n",
            "\n",
            "See the caveats in the documentation: http://pandas.pydata.org/pandas-docs/stable/user_guide/indexing.html#returning-a-view-versus-a-copy\n",
            "  \n"
          ],
          "name": "stderr"
        },
        {
          "output_type": "execute_result",
          "data": {
            "text/html": [
              "<div>\n",
              "<style scoped>\n",
              "    .dataframe tbody tr th:only-of-type {\n",
              "        vertical-align: middle;\n",
              "    }\n",
              "\n",
              "    .dataframe tbody tr th {\n",
              "        vertical-align: top;\n",
              "    }\n",
              "\n",
              "    .dataframe thead th {\n",
              "        text-align: right;\n",
              "    }\n",
              "</style>\n",
              "<table border=\"1\" class=\"dataframe\">\n",
              "  <thead>\n",
              "    <tr style=\"text-align: right;\">\n",
              "      <th></th>\n",
              "      <th>Datetime</th>\n",
              "      <th>Predict_CDC</th>\n",
              "      <th>Real_CDC</th>\n",
              "      <th>Residual_CDC</th>\n",
              "      <th>Resid_CDC_%</th>\n",
              "    </tr>\n",
              "  </thead>\n",
              "  <tbody>\n",
              "    <tr>\n",
              "      <th>0</th>\n",
              "      <td>2017-07-16 14:19:00+00:00</td>\n",
              "      <td>6.20</td>\n",
              "      <td>6.3900</td>\n",
              "      <td>-0.19</td>\n",
              "      <td>0.029734</td>\n",
              "    </tr>\n",
              "    <tr>\n",
              "      <th>1</th>\n",
              "      <td>2017-06-07 16:33:00+00:00</td>\n",
              "      <td>3.37</td>\n",
              "      <td>3.2050</td>\n",
              "      <td>0.17</td>\n",
              "      <td>0.053042</td>\n",
              "    </tr>\n",
              "    <tr>\n",
              "      <th>2</th>\n",
              "      <td>2017-03-29 12:40:00+00:00</td>\n",
              "      <td>6.99</td>\n",
              "      <td>8.1500</td>\n",
              "      <td>-1.16</td>\n",
              "      <td>0.142331</td>\n",
              "    </tr>\n",
              "    <tr>\n",
              "      <th>3</th>\n",
              "      <td>2014-08-16 15:02:00+00:00</td>\n",
              "      <td>6.21</td>\n",
              "      <td>5.7925</td>\n",
              "      <td>0.42</td>\n",
              "      <td>0.072508</td>\n",
              "    </tr>\n",
              "    <tr>\n",
              "      <th>4</th>\n",
              "      <td>2016-01-16 10:42:00+00:00</td>\n",
              "      <td>4.29</td>\n",
              "      <td>6.4525</td>\n",
              "      <td>-2.16</td>\n",
              "      <td>0.334754</td>\n",
              "    </tr>\n",
              "  </tbody>\n",
              "</table>\n",
              "</div>"
            ],
            "text/plain": [
              "                    Datetime  Predict_CDC  Real_CDC  Residual_CDC  Resid_CDC_%\n",
              "0  2017-07-16 14:19:00+00:00         6.20    6.3900         -0.19     0.029734\n",
              "1  2017-06-07 16:33:00+00:00         3.37    3.2050          0.17     0.053042\n",
              "2  2017-03-29 12:40:00+00:00         6.99    8.1500         -1.16     0.142331\n",
              "3  2014-08-16 15:02:00+00:00         6.21    5.7925          0.42     0.072508\n",
              "4  2016-01-16 10:42:00+00:00         4.29    6.4525         -2.16     0.334754"
            ]
          },
          "metadata": {
            "tags": []
          },
          "execution_count": 25
        }
      ]
    },
    {
      "cell_type": "markdown",
      "metadata": {
        "colab_type": "text",
        "id": "TojKUxd1vOcS"
      },
      "source": [
        "##### Métricas del modelo: MAE, MAPE y R2"
      ]
    },
    {
      "cell_type": "code",
      "metadata": {
        "colab_type": "code",
        "id": "_vHJvZKZvOcT",
        "outputId": "cd199803-a692-4fee-ea80-f074686e3d9a",
        "colab": {
          "base_uri": "https://localhost:8080/",
          "height": 52
        }
      },
      "source": [
        "print('MAE: ', np.mean(np.abs(result_CDC['Residual_CDC'])))\n",
        "print('R^2: ', r2_score(result_CDC['Predict_CDC'],test_dataset['A_Optimal_CDC']))"
      ],
      "execution_count": 26,
      "outputs": [
        {
          "output_type": "stream",
          "text": [
            "MAE:  1.083544879548409\n",
            "R^2:  0.5704554994408606\n"
          ],
          "name": "stdout"
        }
      ]
    },
    {
      "cell_type": "markdown",
      "metadata": {
        "colab_type": "text",
        "id": "qMpelTi0-Rl5"
      },
      "source": [
        "#### Graficamos el resultado"
      ]
    },
    {
      "cell_type": "code",
      "metadata": {
        "colab_type": "code",
        "id": "bFYhsDdx-Tyx",
        "outputId": "97745618-9b72-480c-c1f4-d45fd559198d",
        "colab": {
          "base_uri": "https://localhost:8080/",
          "height": 432
        }
      },
      "source": [
        "pd.to_datetime(result_CDC['Datetime'], format=\"%Y-%m-%d %H:%M:%S\")\n",
        "\n",
        "result_CDC = result_CDC.sort_values('Datetime')\n",
        "\n",
        "plt.plot(result_CDC['Datetime'].head(20), result_CDC['Predict_CDC'].head(20))\n",
        "plt.plot(result_CDC['Datetime'].head(20), result_CDC['Real_CDC'].head(20))\n",
        "\n",
        "plt.xticks(rotation='vertical')"
      ],
      "execution_count": 27,
      "outputs": [
        {
          "output_type": "execute_result",
          "data": {
            "text/plain": [
              "([0, 1, 2, 3, 4, 5, 6, 7, 8, 9, 10, 11, 12, 13, 14, 15, 16, 17, 18, 19],\n",
              " <a list of 20 Text xticklabel objects>)"
            ]
          },
          "metadata": {
            "tags": []
          },
          "execution_count": 27
        },
        {
          "output_type": "display_data",
          "data": {
            "image/png": "[encoded data removed]",
            "text/plain": [
              "<Figure size 432x288 with 1 Axes>"
            ]
          },
          "metadata": {
            "tags": []
          }
        }
      ]
    },
    {
      "cell_type": "markdown",
      "metadata": {
        "colab_type": "text",
        "id": "0BLbNPngvOcU"
      },
      "source": [
        "### Modelo para el parámetro de potencia en corriente continua (PDC)."
      ]
    },
    {
      "cell_type": "code",
      "metadata": {
        "colab_type": "code",
        "id": "hJYh4yJEvOcV",
        "outputId": "12901a04-a1ab-44bc-aa87-4cf011f7e490",
        "colab": {
          "base_uri": "https://localhost:8080/",
          "height": 638
        }
      },
      "source": [
        "# Creación del modelo\n",
        "reg_PDC = LinearRegression()\n",
        "\n",
        "# Creamos el dataframe de resultados\n",
        "\n",
        "result_PDC = test_dataset [['Datetime']]\n",
        "\n",
        "# Entrenamiento del modelo al dataframe de resultados\n",
        "reg_PDC.fit(train_sc, train_dataset[['A_Optimal_PDC']])\n",
        "result_PDC['Predict_PDC'] = round(pd.DataFrame(reg_PDC.predict(test_sc[input_features])), 2)\n",
        "\n",
        "# Adición de resultado\n",
        "result_PDC['Real_PDC'] = test_dataset['A_Optimal_PDC']\n",
        "result_PDC['Residual_PDC'] = round(result_PDC['Predict_PDC']-result_PDC['Real_PDC'], 2)\n",
        "result_PDC['Resid_PDC_%'] = np.abs(result_PDC['Residual_PDC']/result_PDC['Real_PDC'])\n",
        "\n",
        "result_PDC.head()"
      ],
      "execution_count": 28,
      "outputs": [
        {
          "output_type": "stream",
          "text": [
            "/usr/local/lib/python3.6/dist-packages/ipykernel_launcher.py:9: SettingWithCopyWarning: \n",
            "A value is trying to be set on a copy of a slice from a DataFrame.\n",
            "Try using .loc[row_indexer,col_indexer] = value instead\n",
            "\n",
            "See the caveats in the documentation: http://pandas.pydata.org/pandas-docs/stable/user_guide/indexing.html#returning-a-view-versus-a-copy\n",
            "  if __name__ == '__main__':\n",
            "/usr/local/lib/python3.6/dist-packages/ipykernel_launcher.py:12: SettingWithCopyWarning: \n",
            "A value is trying to be set on a copy of a slice from a DataFrame.\n",
            "Try using .loc[row_indexer,col_indexer] = value instead\n",
            "\n",
            "See the caveats in the documentation: http://pandas.pydata.org/pandas-docs/stable/user_guide/indexing.html#returning-a-view-versus-a-copy\n",
            "  if sys.path[0] == '':\n",
            "/usr/local/lib/python3.6/dist-packages/ipykernel_launcher.py:13: SettingWithCopyWarning: \n",
            "A value is trying to be set on a copy of a slice from a DataFrame.\n",
            "Try using .loc[row_indexer,col_indexer] = value instead\n",
            "\n",
            "See the caveats in the documentation: http://pandas.pydata.org/pandas-docs/stable/user_guide/indexing.html#returning-a-view-versus-a-copy\n",
            "  del sys.path[0]\n",
            "/usr/local/lib/python3.6/dist-packages/ipykernel_launcher.py:14: SettingWithCopyWarning: \n",
            "A value is trying to be set on a copy of a slice from a DataFrame.\n",
            "Try using .loc[row_indexer,col_indexer] = value instead\n",
            "\n",
            "See the caveats in the documentation: http://pandas.pydata.org/pandas-docs/stable/user_guide/indexing.html#returning-a-view-versus-a-copy\n",
            "  \n"
          ],
          "name": "stderr"
        },
        {
          "output_type": "execute_result",
          "data": {
            "text/html": [
              "<div>\n",
              "<style scoped>\n",
              "    .dataframe tbody tr th:only-of-type {\n",
              "        vertical-align: middle;\n",
              "    }\n",
              "\n",
              "    .dataframe tbody tr th {\n",
              "        vertical-align: top;\n",
              "    }\n",
              "\n",
              "    .dataframe thead th {\n",
              "        text-align: right;\n",
              "    }\n",
              "</style>\n",
              "<table border=\"1\" class=\"dataframe\">\n",
              "  <thead>\n",
              "    <tr style=\"text-align: right;\">\n",
              "      <th></th>\n",
              "      <th>Datetime</th>\n",
              "      <th>Predict_PDC</th>\n",
              "      <th>Real_PDC</th>\n",
              "      <th>Residual_PDC</th>\n",
              "      <th>Resid_PDC_%</th>\n",
              "    </tr>\n",
              "  </thead>\n",
              "  <tbody>\n",
              "    <tr>\n",
              "      <th>0</th>\n",
              "      <td>2017-07-16 14:19:00+00:00</td>\n",
              "      <td>174.05</td>\n",
              "      <td>155.916000</td>\n",
              "      <td>18.13</td>\n",
              "      <td>0.116281</td>\n",
              "    </tr>\n",
              "    <tr>\n",
              "      <th>1</th>\n",
              "      <td>2017-06-07 16:33:00+00:00</td>\n",
              "      <td>95.15</td>\n",
              "      <td>89.579750</td>\n",
              "      <td>5.57</td>\n",
              "      <td>0.062179</td>\n",
              "    </tr>\n",
              "    <tr>\n",
              "      <th>2</th>\n",
              "      <td>2017-03-29 12:40:00+00:00</td>\n",
              "      <td>195.94</td>\n",
              "      <td>226.162500</td>\n",
              "      <td>-30.22</td>\n",
              "      <td>0.133621</td>\n",
              "    </tr>\n",
              "    <tr>\n",
              "      <th>3</th>\n",
              "      <td>2014-08-16 15:02:00+00:00</td>\n",
              "      <td>173.09</td>\n",
              "      <td>153.790875</td>\n",
              "      <td>19.30</td>\n",
              "      <td>0.125495</td>\n",
              "    </tr>\n",
              "    <tr>\n",
              "      <th>4</th>\n",
              "      <td>2016-01-16 10:42:00+00:00</td>\n",
              "      <td>121.18</td>\n",
              "      <td>193.252375</td>\n",
              "      <td>-72.07</td>\n",
              "      <td>0.372932</td>\n",
              "    </tr>\n",
              "  </tbody>\n",
              "</table>\n",
              "</div>"
            ],
            "text/plain": [
              "                    Datetime  Predict_PDC  ...  Residual_PDC  Resid_PDC_%\n",
              "0  2017-07-16 14:19:00+00:00       174.05  ...         18.13     0.116281\n",
              "1  2017-06-07 16:33:00+00:00        95.15  ...          5.57     0.062179\n",
              "2  2017-03-29 12:40:00+00:00       195.94  ...        -30.22     0.133621\n",
              "3  2014-08-16 15:02:00+00:00       173.09  ...         19.30     0.125495\n",
              "4  2016-01-16 10:42:00+00:00       121.18  ...        -72.07     0.372932\n",
              "\n",
              "[5 rows x 5 columns]"
            ]
          },
          "metadata": {
            "tags": []
          },
          "execution_count": 28
        }
      ]
    },
    {
      "cell_type": "markdown",
      "metadata": {
        "colab_type": "text",
        "id": "qFjoDYq6vOcX"
      },
      "source": [
        "##### Métricas del modelo: MAE, MAPE y R2"
      ]
    },
    {
      "cell_type": "code",
      "metadata": {
        "colab_type": "code",
        "id": "ElHPepxbvOcX",
        "outputId": "c0b7f93d-59eb-479c-de4a-3ba28c5a9990",
        "colab": {
          "base_uri": "https://localhost:8080/",
          "height": 52
        }
      },
      "source": [
        "print('MAE: ', np.mean(np.abs(result_PDC['Residual_PDC'])))\n",
        "print('R^2: ', r2_score(result_PDC['Predict_PDC'],test_dataset['A_Optimal_PDC']))"
      ],
      "execution_count": 29,
      "outputs": [
        {
          "output_type": "stream",
          "text": [
            "MAE:  30.976906624835145\n",
            "R^2:  0.5524523821358515\n"
          ],
          "name": "stdout"
        }
      ]
    },
    {
      "cell_type": "markdown",
      "metadata": {
        "colab_type": "text",
        "id": "90HuzW73_BN7"
      },
      "source": [
        "#### Graficamos el resultado"
      ]
    },
    {
      "cell_type": "code",
      "metadata": {
        "colab_type": "code",
        "id": "-ZDPzaXt_Djv",
        "outputId": "83078e15-8a2a-4a47-e4aa-4f60916237ed",
        "colab": {
          "base_uri": "https://localhost:8080/",
          "height": 432
        }
      },
      "source": [
        "pd.to_datetime(result_PDC['Datetime'], format=\"%Y-%m-%d %H:%M:%S\")\n",
        "\n",
        "result_PDC = result_PDC.sort_values('Datetime')\n",
        "\n",
        "plt.plot(result_PDC['Datetime'].head(20), result_PDC['Predict_PDC'].head(20))\n",
        "plt.plot(result_PDC['Datetime'].head(20), result_PDC['Real_PDC'].head(20))\n",
        "\n",
        "plt.xticks(rotation='vertical')"
      ],
      "execution_count": 30,
      "outputs": [
        {
          "output_type": "execute_result",
          "data": {
            "text/plain": [
              "([0, 1, 2, 3, 4, 5, 6, 7, 8, 9, 10, 11, 12, 13, 14, 15, 16, 17, 18, 19],\n",
              " <a list of 20 Text xticklabel objects>)"
            ]
          },
          "metadata": {
            "tags": []
          },
          "execution_count": 30
        },
        {
          "output_type": "display_data",
          "data": {
            "image/png": "[encoded data removed]",
            "text/plain": [
              "<Figure size 432x288 with 1 Axes>"
            ]
          },
          "metadata": {
            "tags": []
          }
        }
      ]
    },
    {
      "cell_type": "markdown",
      "metadata": {
        "colab_type": "text",
        "id": "zfXreJQwvOcZ"
      },
      "source": [
        "### Conclusiónes sobre el modelo de regresión lineal\n",
        "\n",
        "Como se puede observar, los datos mejoran considerablemente cuando se aplica normalización de los parámetros de entrada, sobretodo para las variables CDC y PDC.\n",
        "\n",
        "La variable VDC, no posee ninguna relación lineal con el resto de valores de entrada, algo que se puede ver en la matriz de coeficientes de correlación de Pearson. Por lo tanto, dicha variable no se puede predecir mediante un modelo de regresión lineal. Probaremos si somos capaces de predecirla mediante otro modelo."
      ]
    },
    {
      "cell_type": "markdown",
      "metadata": {
        "colab_type": "text",
        "id": "DwJ0jEV8vOcZ"
      },
      "source": [
        "## Creación de modelo Arbol de decisión."
      ]
    },
    {
      "cell_type": "markdown",
      "metadata": {
        "colab_type": "text",
        "id": "arWVxJs-vOca"
      },
      "source": [
        "### Importamos las librerías necesarias para la creación del modelo"
      ]
    },
    {
      "cell_type": "code",
      "metadata": {
        "colab_type": "code",
        "id": "I9-PpDz2vOcb",
        "colab": {}
      },
      "source": [
        "from sklearn.tree import DecisionTreeRegressor"
      ],
      "execution_count": 0,
      "outputs": []
    },
    {
      "cell_type": "markdown",
      "metadata": {
        "colab_type": "text",
        "id": "Y_mwtp2bvOce"
      },
      "source": [
        "#### Recuperamos los datos para evitar que hayan sido modificados en el proceso"
      ]
    },
    {
      "cell_type": "code",
      "metadata": {
        "colab_type": "code",
        "id": "bifKGqoBvOcf",
        "outputId": "d5b02569-f7d7-4c45-98bd-be98fcaae5de",
        "colab": {
          "base_uri": "https://localhost:8080/",
          "height": 228
        }
      },
      "source": [
        "train_dataset = pd.read_csv('train_dataset.csv',sep=';')\n",
        "test_dataset = pd.read_csv('test_dataset.csv',sep=';')\n",
        "\n",
        "# Datos de entrenamiento\n",
        "train_dataset = train_dataset[['Datetime', 'Global_Radiation', 'Diffuse_Radiation', \n",
        "                              'Ultraviolet', 'A_Optimal_VDC', 'A_Optimal_CDC', \n",
        "                              'A_Optimal_PDC']]\n",
        "\n",
        "# Datos test\n",
        "test_dataset = test_dataset[['Datetime', 'Global_Radiation', 'Diffuse_Radiation', \n",
        "                              'Ultraviolet', 'A_Optimal_VDC', 'A_Optimal_CDC', \n",
        "                              'A_Optimal_PDC']]\n",
        "\n",
        "pd.to_datetime(train_dataset['Datetime'], format=\"%Y-%m-%d %H:%M:%S\")\n",
        "pd.to_datetime(test_dataset['Datetime'], format=\"%Y-%m-%d %H:%M:%S\")"
      ],
      "execution_count": 32,
      "outputs": [
        {
          "output_type": "execute_result",
          "data": {
            "text/plain": [
              "0        2017-07-16 14:19:00+00:00\n",
              "1        2017-06-07 16:33:00+00:00\n",
              "2        2017-03-29 12:40:00+00:00\n",
              "3        2014-08-16 15:02:00+00:00\n",
              "4        2016-01-16 10:42:00+00:00\n",
              "                    ...           \n",
              "158731   2015-02-04 10:25:00+00:00\n",
              "158732   2014-06-01 08:22:00+00:00\n",
              "158733   2014-09-02 15:09:00+00:00\n",
              "158734   2015-10-29 13:56:00+00:00\n",
              "158735   2016-08-16 09:05:00+00:00\n",
              "Name: Datetime, Length: 158736, dtype: datetime64[ns, UTC]"
            ]
          },
          "metadata": {
            "tags": []
          },
          "execution_count": 32
        }
      ]
    },
    {
      "cell_type": "markdown",
      "metadata": {
        "colab_type": "text",
        "id": "Ol3vDlNwvOcg"
      },
      "source": [
        "### Normalización de los datos\n",
        "\n",
        "Debido a los resultados obtenidos en las pruebas anteriores, se procederá a trabajar directamente con los datos normalizados, ya que los resultados mejoran considerablemente."
      ]
    },
    {
      "cell_type": "code",
      "metadata": {
        "colab_type": "code",
        "id": "-h1kS819vOch",
        "colab": {}
      },
      "source": [
        "scaler_train = MinMaxScaler()\n",
        "train_sc = scaler_train.fit_transform(train_dataset[input_features])\n",
        "train_sc = pd.DataFrame(train_sc, columns=['Global_Radiation', 'Diffuse_Radiation','Ultraviolet'])\n",
        "\n",
        "scaler_test = MinMaxScaler()\n",
        "test_sc = scaler_test.fit_transform(test_dataset[input_features])\n",
        "test_sc = pd.DataFrame(test_sc, columns=['Global_Radiation', 'Diffuse_Radiation', 'Ultraviolet'])"
      ],
      "execution_count": 0,
      "outputs": []
    },
    {
      "cell_type": "markdown",
      "metadata": {
        "colab_type": "text",
        "id": "DT_NVHpEvOci"
      },
      "source": [
        "### 1º- Creación de modelo de profundidad 3\n",
        "\n",
        "Inicialmente, probaremos con el modelo de 3 capas para ver si los resultados mejoran frente al modelo de regresión lineal. Luego, intentaremos regularizar el modelo, buscando cuales son los parámetros más óptimos para el mismo."
      ]
    },
    {
      "cell_type": "markdown",
      "metadata": {
        "colab_type": "text",
        "id": "agty5TUIvOcj"
      },
      "source": [
        "### Modelo para el parámetro de tensión en corriente continua (VDC)."
      ]
    },
    {
      "cell_type": "code",
      "metadata": {
        "colab_type": "code",
        "id": "NnpxVGi9vOck",
        "outputId": "a72daf81-a575-41af-d727-430cf384911d",
        "scrolled": true,
        "colab": {
          "base_uri": "https://localhost:8080/",
          "height": 638
        }
      },
      "source": [
        "# Creación del modelo\n",
        "regd_VDC = DecisionTreeRegressor(max_depth=3)\n",
        "\n",
        "# Creamos el dataframe de resultados\n",
        "\n",
        "resultD_VDC = test_dataset [['Datetime']]\n",
        "\n",
        "# Entrenamiento del modelo\n",
        "regd_VDC.fit(train_sc, train_dataset[['A_Optimal_VDC']])\n",
        "resultD_VDC['Predict_VDC'] = round(pd.DataFrame(regd_VDC.predict(test_sc[input_features])), 2)\n",
        "\n",
        "# Adición del resultado al dataframe de resultados\n",
        "resultD_VDC['Real_VDC'] = test_dataset['A_Optimal_VDC']\n",
        "resultD_VDC['Residual_VDC'] = round(resultD_VDC['Predict_VDC']-resultD_VDC['Real_VDC'], 2)\n",
        "resultD_VDC['Resid_VDC_%'] = np.abs(resultD_VDC['Residual_VDC']/resultD_VDC['Real_VDC'])\n",
        "\n",
        "resultD_VDC.head()"
      ],
      "execution_count": 34,
      "outputs": [
        {
          "output_type": "stream",
          "text": [
            "/usr/local/lib/python3.6/dist-packages/ipykernel_launcher.py:9: SettingWithCopyWarning: \n",
            "A value is trying to be set on a copy of a slice from a DataFrame.\n",
            "Try using .loc[row_indexer,col_indexer] = value instead\n",
            "\n",
            "See the caveats in the documentation: http://pandas.pydata.org/pandas-docs/stable/user_guide/indexing.html#returning-a-view-versus-a-copy\n",
            "  if __name__ == '__main__':\n",
            "/usr/local/lib/python3.6/dist-packages/ipykernel_launcher.py:12: SettingWithCopyWarning: \n",
            "A value is trying to be set on a copy of a slice from a DataFrame.\n",
            "Try using .loc[row_indexer,col_indexer] = value instead\n",
            "\n",
            "See the caveats in the documentation: http://pandas.pydata.org/pandas-docs/stable/user_guide/indexing.html#returning-a-view-versus-a-copy\n",
            "  if sys.path[0] == '':\n",
            "/usr/local/lib/python3.6/dist-packages/ipykernel_launcher.py:13: SettingWithCopyWarning: \n",
            "A value is trying to be set on a copy of a slice from a DataFrame.\n",
            "Try using .loc[row_indexer,col_indexer] = value instead\n",
            "\n",
            "See the caveats in the documentation: http://pandas.pydata.org/pandas-docs/stable/user_guide/indexing.html#returning-a-view-versus-a-copy\n",
            "  del sys.path[0]\n",
            "/usr/local/lib/python3.6/dist-packages/ipykernel_launcher.py:14: SettingWithCopyWarning: \n",
            "A value is trying to be set on a copy of a slice from a DataFrame.\n",
            "Try using .loc[row_indexer,col_indexer] = value instead\n",
            "\n",
            "See the caveats in the documentation: http://pandas.pydata.org/pandas-docs/stable/user_guide/indexing.html#returning-a-view-versus-a-copy\n",
            "  \n"
          ],
          "name": "stderr"
        },
        {
          "output_type": "execute_result",
          "data": {
            "text/html": [
              "<div>\n",
              "<style scoped>\n",
              "    .dataframe tbody tr th:only-of-type {\n",
              "        vertical-align: middle;\n",
              "    }\n",
              "\n",
              "    .dataframe tbody tr th {\n",
              "        vertical-align: top;\n",
              "    }\n",
              "\n",
              "    .dataframe thead th {\n",
              "        text-align: right;\n",
              "    }\n",
              "</style>\n",
              "<table border=\"1\" class=\"dataframe\">\n",
              "  <thead>\n",
              "    <tr style=\"text-align: right;\">\n",
              "      <th></th>\n",
              "      <th>Datetime</th>\n",
              "      <th>Predict_VDC</th>\n",
              "      <th>Real_VDC</th>\n",
              "      <th>Residual_VDC</th>\n",
              "      <th>Resid_VDC_%</th>\n",
              "    </tr>\n",
              "  </thead>\n",
              "  <tbody>\n",
              "    <tr>\n",
              "      <th>0</th>\n",
              "      <td>2017-07-16 14:19:00+00:00</td>\n",
              "      <td>28.01</td>\n",
              "      <td>24.40</td>\n",
              "      <td>3.61</td>\n",
              "      <td>0.147951</td>\n",
              "    </tr>\n",
              "    <tr>\n",
              "      <th>1</th>\n",
              "      <td>2017-06-07 16:33:00+00:00</td>\n",
              "      <td>28.04</td>\n",
              "      <td>27.95</td>\n",
              "      <td>0.09</td>\n",
              "      <td>0.003220</td>\n",
              "    </tr>\n",
              "    <tr>\n",
              "      <th>2</th>\n",
              "      <td>2017-03-29 12:40:00+00:00</td>\n",
              "      <td>28.01</td>\n",
              "      <td>27.75</td>\n",
              "      <td>0.26</td>\n",
              "      <td>0.009369</td>\n",
              "    </tr>\n",
              "    <tr>\n",
              "      <th>3</th>\n",
              "      <td>2014-08-16 15:02:00+00:00</td>\n",
              "      <td>28.04</td>\n",
              "      <td>26.55</td>\n",
              "      <td>1.49</td>\n",
              "      <td>0.056121</td>\n",
              "    </tr>\n",
              "    <tr>\n",
              "      <th>4</th>\n",
              "      <td>2016-01-16 10:42:00+00:00</td>\n",
              "      <td>28.04</td>\n",
              "      <td>29.95</td>\n",
              "      <td>-1.91</td>\n",
              "      <td>0.063773</td>\n",
              "    </tr>\n",
              "  </tbody>\n",
              "</table>\n",
              "</div>"
            ],
            "text/plain": [
              "                    Datetime  Predict_VDC  Real_VDC  Residual_VDC  Resid_VDC_%\n",
              "0  2017-07-16 14:19:00+00:00        28.01     24.40          3.61     0.147951\n",
              "1  2017-06-07 16:33:00+00:00        28.04     27.95          0.09     0.003220\n",
              "2  2017-03-29 12:40:00+00:00        28.01     27.75          0.26     0.009369\n",
              "3  2014-08-16 15:02:00+00:00        28.04     26.55          1.49     0.056121\n",
              "4  2016-01-16 10:42:00+00:00        28.04     29.95         -1.91     0.063773"
            ]
          },
          "metadata": {
            "tags": []
          },
          "execution_count": 34
        }
      ]
    },
    {
      "cell_type": "markdown",
      "metadata": {
        "colab_type": "text",
        "id": "Ep28-HODvOcm"
      },
      "source": [
        "##### Métricas del modelo: MAE,  R2 y Correlación"
      ]
    },
    {
      "cell_type": "code",
      "metadata": {
        "colab_type": "code",
        "id": "fF-s6Iy9vOcn",
        "outputId": "f5047369-1445-48e8-8184-d2ab565ac8a5",
        "colab": {
          "base_uri": "https://localhost:8080/",
          "height": 70
        }
      },
      "source": [
        "print('MAE: ', np.mean(np.abs(resultD_VDC['Residual_VDC'])))\n",
        "print('R^2: ', r2_score(resultD_VDC['Predict_VDC'],test_dataset['A_Optimal_VDC']))\n",
        "print('Correlation: ', np.corrcoef(resultD_VDC['Predict_VDC'],test_dataset['A_Optimal_VDC'])[0][1])"
      ],
      "execution_count": 35,
      "outputs": [
        {
          "output_type": "stream",
          "text": [
            "MAE:  1.1607814862412555\n",
            "R^2:  -4.361582781992827\n",
            "Correlation:  0.3962412719474636\n"
          ],
          "name": "stdout"
        }
      ]
    },
    {
      "cell_type": "markdown",
      "metadata": {
        "colab_type": "text",
        "id": "Ec1tJgeKAz74"
      },
      "source": [
        "#### Graficamos el resultado"
      ]
    },
    {
      "cell_type": "code",
      "metadata": {
        "colab_type": "code",
        "id": "nztSSoEVA2E9",
        "outputId": "91a14b7d-e1bd-46a7-9c37-030bff5cfff2",
        "colab": {
          "base_uri": "https://localhost:8080/",
          "height": 432
        }
      },
      "source": [
        "pd.to_datetime(resultD_VDC['Datetime'], format=\"%Y-%m-%d %H:%M:%S\")\n",
        "\n",
        "resultD_VDC = resultD_VDC.sort_values('Datetime')\n",
        "\n",
        "plt.plot(resultD_VDC['Datetime'].head(20), resultD_VDC['Predict_VDC'].head(20))\n",
        "plt.plot(resultD_VDC['Datetime'].head(20), resultD_VDC['Real_VDC'].head(20))\n",
        "\n",
        "plt.xticks(rotation='vertical')"
      ],
      "execution_count": 36,
      "outputs": [
        {
          "output_type": "execute_result",
          "data": {
            "text/plain": [
              "([0, 1, 2, 3, 4, 5, 6, 7, 8, 9, 10, 11, 12, 13, 14, 15, 16, 17, 18, 19],\n",
              " <a list of 20 Text xticklabel objects>)"
            ]
          },
          "metadata": {
            "tags": []
          },
          "execution_count": 36
        },
        {
          "output_type": "display_data",
          "data": {
            "image/png": "[encoded data removed]",
            "text/plain": [
              "<Figure size 432x288 with 1 Axes>"
            ]
          },
          "metadata": {
            "tags": []
          }
        }
      ]
    },
    {
      "cell_type": "markdown",
      "metadata": {
        "colab_type": "text",
        "id": "CXT8kBjqvOcr"
      },
      "source": [
        "### Modelo para el parámetro de corriente en corriente continua (CDC)."
      ]
    },
    {
      "cell_type": "code",
      "metadata": {
        "colab_type": "code",
        "id": "S7DHeeQ-vOcs",
        "outputId": "175050f2-a337-4747-f5c0-6041450591fa",
        "scrolled": true,
        "colab": {
          "base_uri": "https://localhost:8080/",
          "height": 638
        }
      },
      "source": [
        "# Creación del modelo\n",
        "regd_CDC = DecisionTreeRegressor(max_depth=3)\n",
        "\n",
        "# Creamos el dataframe de resultados\n",
        "\n",
        "resultD_CDC = test_dataset [['Datetime']]\n",
        "\n",
        "# Entrenamiento del modelo\n",
        "regd_CDC.fit(train_sc, train_dataset[['A_Optimal_CDC']])\n",
        "resultD_CDC['Predict_CDC'] = round(pd.DataFrame(regd_CDC.predict(test_sc[input_features])), 2)\n",
        "\n",
        "# Adición de resultado al dataframe de resultados y otras medidas que aporten información\n",
        "resultD_CDC['Real_CDC'] = test_dataset['A_Optimal_CDC']\n",
        "resultD_CDC['Residual_CDC'] = round(resultD_CDC['Predict_CDC']-resultD_CDC['Real_CDC'], 2)\n",
        "resultD_CDC['Resid_CDC_%'] = np.abs(resultD_CDC['Residual_CDC']/resultD_CDC['Real_CDC'])\n",
        "\n",
        "resultD_CDC.head()"
      ],
      "execution_count": 37,
      "outputs": [
        {
          "output_type": "stream",
          "text": [
            "/usr/local/lib/python3.6/dist-packages/ipykernel_launcher.py:9: SettingWithCopyWarning: \n",
            "A value is trying to be set on a copy of a slice from a DataFrame.\n",
            "Try using .loc[row_indexer,col_indexer] = value instead\n",
            "\n",
            "See the caveats in the documentation: http://pandas.pydata.org/pandas-docs/stable/user_guide/indexing.html#returning-a-view-versus-a-copy\n",
            "  if __name__ == '__main__':\n",
            "/usr/local/lib/python3.6/dist-packages/ipykernel_launcher.py:12: SettingWithCopyWarning: \n",
            "A value is trying to be set on a copy of a slice from a DataFrame.\n",
            "Try using .loc[row_indexer,col_indexer] = value instead\n",
            "\n",
            "See the caveats in the documentation: http://pandas.pydata.org/pandas-docs/stable/user_guide/indexing.html#returning-a-view-versus-a-copy\n",
            "  if sys.path[0] == '':\n",
            "/usr/local/lib/python3.6/dist-packages/ipykernel_launcher.py:13: SettingWithCopyWarning: \n",
            "A value is trying to be set on a copy of a slice from a DataFrame.\n",
            "Try using .loc[row_indexer,col_indexer] = value instead\n",
            "\n",
            "See the caveats in the documentation: http://pandas.pydata.org/pandas-docs/stable/user_guide/indexing.html#returning-a-view-versus-a-copy\n",
            "  del sys.path[0]\n",
            "/usr/local/lib/python3.6/dist-packages/ipykernel_launcher.py:14: SettingWithCopyWarning: \n",
            "A value is trying to be set on a copy of a slice from a DataFrame.\n",
            "Try using .loc[row_indexer,col_indexer] = value instead\n",
            "\n",
            "See the caveats in the documentation: http://pandas.pydata.org/pandas-docs/stable/user_guide/indexing.html#returning-a-view-versus-a-copy\n",
            "  \n"
          ],
          "name": "stderr"
        },
        {
          "output_type": "execute_result",
          "data": {
            "text/html": [
              "<div>\n",
              "<style scoped>\n",
              "    .dataframe tbody tr th:only-of-type {\n",
              "        vertical-align: middle;\n",
              "    }\n",
              "\n",
              "    .dataframe tbody tr th {\n",
              "        vertical-align: top;\n",
              "    }\n",
              "\n",
              "    .dataframe thead th {\n",
              "        text-align: right;\n",
              "    }\n",
              "</style>\n",
              "<table border=\"1\" class=\"dataframe\">\n",
              "  <thead>\n",
              "    <tr style=\"text-align: right;\">\n",
              "      <th></th>\n",
              "      <th>Datetime</th>\n",
              "      <th>Predict_CDC</th>\n",
              "      <th>Real_CDC</th>\n",
              "      <th>Residual_CDC</th>\n",
              "      <th>Resid_CDC_%</th>\n",
              "    </tr>\n",
              "  </thead>\n",
              "  <tbody>\n",
              "    <tr>\n",
              "      <th>0</th>\n",
              "      <td>2017-07-16 14:19:00+00:00</td>\n",
              "      <td>6.38</td>\n",
              "      <td>6.3900</td>\n",
              "      <td>-0.01</td>\n",
              "      <td>0.001565</td>\n",
              "    </tr>\n",
              "    <tr>\n",
              "      <th>1</th>\n",
              "      <td>2017-06-07 16:33:00+00:00</td>\n",
              "      <td>3.16</td>\n",
              "      <td>3.2050</td>\n",
              "      <td>-0.04</td>\n",
              "      <td>0.012480</td>\n",
              "    </tr>\n",
              "    <tr>\n",
              "      <th>2</th>\n",
              "      <td>2017-03-29 12:40:00+00:00</td>\n",
              "      <td>6.38</td>\n",
              "      <td>8.1500</td>\n",
              "      <td>-1.77</td>\n",
              "      <td>0.217178</td>\n",
              "    </tr>\n",
              "    <tr>\n",
              "      <th>3</th>\n",
              "      <td>2014-08-16 15:02:00+00:00</td>\n",
              "      <td>6.38</td>\n",
              "      <td>5.7925</td>\n",
              "      <td>0.59</td>\n",
              "      <td>0.101856</td>\n",
              "    </tr>\n",
              "    <tr>\n",
              "      <th>4</th>\n",
              "      <td>2016-01-16 10:42:00+00:00</td>\n",
              "      <td>4.98</td>\n",
              "      <td>6.4525</td>\n",
              "      <td>-1.47</td>\n",
              "      <td>0.227819</td>\n",
              "    </tr>\n",
              "  </tbody>\n",
              "</table>\n",
              "</div>"
            ],
            "text/plain": [
              "                    Datetime  Predict_CDC  Real_CDC  Residual_CDC  Resid_CDC_%\n",
              "0  2017-07-16 14:19:00+00:00         6.38    6.3900         -0.01     0.001565\n",
              "1  2017-06-07 16:33:00+00:00         3.16    3.2050         -0.04     0.012480\n",
              "2  2017-03-29 12:40:00+00:00         6.38    8.1500         -1.77     0.217178\n",
              "3  2014-08-16 15:02:00+00:00         6.38    5.7925          0.59     0.101856\n",
              "4  2016-01-16 10:42:00+00:00         4.98    6.4525         -1.47     0.227819"
            ]
          },
          "metadata": {
            "tags": []
          },
          "execution_count": 37
        }
      ]
    },
    {
      "cell_type": "markdown",
      "metadata": {
        "colab_type": "text",
        "id": "fs5oHuUcvOcw"
      },
      "source": [
        "##### Métricas del modelo: MAE,  R2 y Correlación"
      ]
    },
    {
      "cell_type": "code",
      "metadata": {
        "colab_type": "code",
        "id": "8KdGYiywvOcx",
        "outputId": "ba65696f-6eeb-4f97-8ddb-29c07d0fdc67",
        "colab": {
          "base_uri": "https://localhost:8080/",
          "height": 70
        }
      },
      "source": [
        "print('MAE: ', np.mean(np.abs(resultD_CDC['Residual_CDC'])))\n",
        "print('R^2: ', r2_score(resultD_CDC['Predict_CDC'],test_dataset['A_Optimal_CDC']))\n",
        "print('Correlation: ', np.corrcoef(resultD_CDC['Predict_CDC'],test_dataset['A_Optimal_CDC'])[0][1])"
      ],
      "execution_count": 38,
      "outputs": [
        {
          "output_type": "stream",
          "text": [
            "MAE:  1.069874886604119\n",
            "R^2:  0.5507612062464335\n",
            "Correlation:  0.8285378871895372\n"
          ],
          "name": "stdout"
        }
      ]
    },
    {
      "cell_type": "markdown",
      "metadata": {
        "colab_type": "text",
        "id": "k1SFxgcOBwv3"
      },
      "source": [
        "#### Graficamos el resultado"
      ]
    },
    {
      "cell_type": "code",
      "metadata": {
        "colab_type": "code",
        "id": "K_srkcFxByt8",
        "outputId": "eb649780-db3e-4d7b-ee22-8a3d8e1b24dd",
        "colab": {
          "base_uri": "https://localhost:8080/",
          "height": 432
        }
      },
      "source": [
        "pd.to_datetime(resultD_CDC['Datetime'], format=\"%Y-%m-%d %H:%M:%S\")\n",
        "\n",
        "resultD_CDC = resultD_CDC.sort_values('Datetime')\n",
        "\n",
        "plt.plot(resultD_CDC['Datetime'].head(20), resultD_CDC['Predict_CDC'].head(20))\n",
        "plt.plot(resultD_CDC['Datetime'].head(20), resultD_CDC['Real_CDC'].head(20))\n",
        "\n",
        "plt.xticks(rotation='vertical')"
      ],
      "execution_count": 39,
      "outputs": [
        {
          "output_type": "execute_result",
          "data": {
            "text/plain": [
              "([0, 1, 2, 3, 4, 5, 6, 7, 8, 9, 10, 11, 12, 13, 14, 15, 16, 17, 18, 19],\n",
              " <a list of 20 Text xticklabel objects>)"
            ]
          },
          "metadata": {
            "tags": []
          },
          "execution_count": 39
        },
        {
          "output_type": "display_data",
          "data": {
            "image/png": "[encoded data removed]",
            "text/plain": [
              "<Figure size 432x288 with 1 Axes>"
            ]
          },
          "metadata": {
            "tags": []
          }
        }
      ]
    },
    {
      "cell_type": "markdown",
      "metadata": {
        "colab_type": "text",
        "id": "-HnXP3divOcy"
      },
      "source": [
        "### Modelo para el parámetro de potencia en corriente continua (PDC)."
      ]
    },
    {
      "cell_type": "code",
      "metadata": {
        "colab_type": "code",
        "id": "MnIJmK5hvOcy",
        "outputId": "e8056a41-c9f3-4730-d8f8-46930fba2d76",
        "scrolled": false,
        "colab": {
          "base_uri": "https://localhost:8080/",
          "height": 638
        }
      },
      "source": [
        "# Creeamos el modelo\n",
        "regd_PDC = DecisionTreeRegressor(max_depth=3)\n",
        "\n",
        "# Creamos el dataframe de resultados\n",
        "\n",
        "resultD_PDC = test_dataset [['Datetime']]\n",
        "\n",
        "# Entrenamos el modelo\n",
        "regd_PDC.fit(train_sc, train_dataset[['A_Optimal_PDC']])\n",
        "resultD_PDC['Predict_PDC'] = round(pd.DataFrame(regd_PDC.predict(test_sc[input_features])), 2)\n",
        "\n",
        "# Adición del resultado al dataframe de resultados\n",
        "resultD_PDC['Real_PDC'] = test_dataset['A_Optimal_PDC']\n",
        "resultD_PDC['Residual_PDC'] = round(resultD_PDC['Predict_PDC']-resultD_PDC['Real_PDC'], 2)\n",
        "resultD_PDC['Resid_PDC_%'] = np.abs(resultD_PDC['Residual_PDC']/resultD_PDC['Real_PDC'])\n",
        "\n",
        "resultD_PDC.head()"
      ],
      "execution_count": 40,
      "outputs": [
        {
          "output_type": "stream",
          "text": [
            "/usr/local/lib/python3.6/dist-packages/ipykernel_launcher.py:9: SettingWithCopyWarning: \n",
            "A value is trying to be set on a copy of a slice from a DataFrame.\n",
            "Try using .loc[row_indexer,col_indexer] = value instead\n",
            "\n",
            "See the caveats in the documentation: http://pandas.pydata.org/pandas-docs/stable/user_guide/indexing.html#returning-a-view-versus-a-copy\n",
            "  if __name__ == '__main__':\n",
            "/usr/local/lib/python3.6/dist-packages/ipykernel_launcher.py:12: SettingWithCopyWarning: \n",
            "A value is trying to be set on a copy of a slice from a DataFrame.\n",
            "Try using .loc[row_indexer,col_indexer] = value instead\n",
            "\n",
            "See the caveats in the documentation: http://pandas.pydata.org/pandas-docs/stable/user_guide/indexing.html#returning-a-view-versus-a-copy\n",
            "  if sys.path[0] == '':\n",
            "/usr/local/lib/python3.6/dist-packages/ipykernel_launcher.py:13: SettingWithCopyWarning: \n",
            "A value is trying to be set on a copy of a slice from a DataFrame.\n",
            "Try using .loc[row_indexer,col_indexer] = value instead\n",
            "\n",
            "See the caveats in the documentation: http://pandas.pydata.org/pandas-docs/stable/user_guide/indexing.html#returning-a-view-versus-a-copy\n",
            "  del sys.path[0]\n",
            "/usr/local/lib/python3.6/dist-packages/ipykernel_launcher.py:14: SettingWithCopyWarning: \n",
            "A value is trying to be set on a copy of a slice from a DataFrame.\n",
            "Try using .loc[row_indexer,col_indexer] = value instead\n",
            "\n",
            "See the caveats in the documentation: http://pandas.pydata.org/pandas-docs/stable/user_guide/indexing.html#returning-a-view-versus-a-copy\n",
            "  \n"
          ],
          "name": "stderr"
        },
        {
          "output_type": "execute_result",
          "data": {
            "text/html": [
              "<div>\n",
              "<style scoped>\n",
              "    .dataframe tbody tr th:only-of-type {\n",
              "        vertical-align: middle;\n",
              "    }\n",
              "\n",
              "    .dataframe tbody tr th {\n",
              "        vertical-align: top;\n",
              "    }\n",
              "\n",
              "    .dataframe thead th {\n",
              "        text-align: right;\n",
              "    }\n",
              "</style>\n",
              "<table border=\"1\" class=\"dataframe\">\n",
              "  <thead>\n",
              "    <tr style=\"text-align: right;\">\n",
              "      <th></th>\n",
              "      <th>Datetime</th>\n",
              "      <th>Predict_PDC</th>\n",
              "      <th>Real_PDC</th>\n",
              "      <th>Residual_PDC</th>\n",
              "      <th>Resid_PDC_%</th>\n",
              "    </tr>\n",
              "  </thead>\n",
              "  <tbody>\n",
              "    <tr>\n",
              "      <th>0</th>\n",
              "      <td>2017-07-16 14:19:00+00:00</td>\n",
              "      <td>176.76</td>\n",
              "      <td>155.916000</td>\n",
              "      <td>20.84</td>\n",
              "      <td>0.133662</td>\n",
              "    </tr>\n",
              "    <tr>\n",
              "      <th>1</th>\n",
              "      <td>2017-06-07 16:33:00+00:00</td>\n",
              "      <td>111.21</td>\n",
              "      <td>89.579750</td>\n",
              "      <td>21.63</td>\n",
              "      <td>0.241461</td>\n",
              "    </tr>\n",
              "    <tr>\n",
              "      <th>2</th>\n",
              "      <td>2017-03-29 12:40:00+00:00</td>\n",
              "      <td>176.76</td>\n",
              "      <td>226.162500</td>\n",
              "      <td>-49.40</td>\n",
              "      <td>0.218427</td>\n",
              "    </tr>\n",
              "    <tr>\n",
              "      <th>3</th>\n",
              "      <td>2014-08-16 15:02:00+00:00</td>\n",
              "      <td>176.76</td>\n",
              "      <td>153.790875</td>\n",
              "      <td>22.97</td>\n",
              "      <td>0.149359</td>\n",
              "    </tr>\n",
              "    <tr>\n",
              "      <th>4</th>\n",
              "      <td>2016-01-16 10:42:00+00:00</td>\n",
              "      <td>140.16</td>\n",
              "      <td>193.252375</td>\n",
              "      <td>-53.09</td>\n",
              "      <td>0.274718</td>\n",
              "    </tr>\n",
              "  </tbody>\n",
              "</table>\n",
              "</div>"
            ],
            "text/plain": [
              "                    Datetime  Predict_PDC  ...  Residual_PDC  Resid_PDC_%\n",
              "0  2017-07-16 14:19:00+00:00       176.76  ...         20.84     0.133662\n",
              "1  2017-06-07 16:33:00+00:00       111.21  ...         21.63     0.241461\n",
              "2  2017-03-29 12:40:00+00:00       176.76  ...        -49.40     0.218427\n",
              "3  2014-08-16 15:02:00+00:00       176.76  ...         22.97     0.149359\n",
              "4  2016-01-16 10:42:00+00:00       140.16  ...        -53.09     0.274718\n",
              "\n",
              "[5 rows x 5 columns]"
            ]
          },
          "metadata": {
            "tags": []
          },
          "execution_count": 40
        }
      ]
    },
    {
      "cell_type": "markdown",
      "metadata": {
        "colab_type": "text",
        "id": "PaNTGiWgvOc1"
      },
      "source": [
        "##### Métricas del modelo: MAE, R2 y Correlación"
      ]
    },
    {
      "cell_type": "code",
      "metadata": {
        "colab_type": "code",
        "id": "AuRCZG8OvOc1",
        "outputId": "36e37638-7c70-4c47-9c0e-4a9b330eb22c",
        "scrolled": true,
        "colab": {
          "base_uri": "https://localhost:8080/",
          "height": 70
        }
      },
      "source": [
        "print('MAE: ', np.mean(np.abs(resultD_PDC['Residual_PDC'])))\n",
        "print('R^2: ', r2_score(resultD_PDC['Predict_PDC'],test_dataset['A_Optimal_PDC']))\n",
        "print('Correlation: ', np.corrcoef(resultD_PDC['Predict_PDC'],test_dataset['A_Optimal_PDC'])[0][1])"
      ],
      "execution_count": 41,
      "outputs": [
        {
          "output_type": "stream",
          "text": [
            "MAE:  29.941477043645413\n",
            "R^2:  0.536844816623202\n",
            "Correlation:  0.8243693797607139\n"
          ],
          "name": "stdout"
        }
      ]
    },
    {
      "cell_type": "markdown",
      "metadata": {
        "colab_type": "text",
        "id": "zN6WpVR7CkoN"
      },
      "source": [
        "#### Graficamos el resultado"
      ]
    },
    {
      "cell_type": "code",
      "metadata": {
        "colab_type": "code",
        "id": "fhxbaAovCm3l",
        "outputId": "332c3d47-6066-40be-e7ea-305c27872ac7",
        "colab": {
          "base_uri": "https://localhost:8080/",
          "height": 432
        }
      },
      "source": [
        "pd.to_datetime(resultD_PDC['Datetime'], format=\"%Y-%m-%d %H:%M:%S\")\n",
        "\n",
        "resultD_PDC = resultD_PDC.sort_values('Datetime')\n",
        "\n",
        "plt.plot(resultD_PDC['Datetime'].head(20), resultD_PDC['Predict_PDC'].head(20))\n",
        "plt.plot(resultD_PDC['Datetime'].head(20), resultD_PDC['Real_PDC'].head(20))\n",
        "\n",
        "plt.xticks(rotation='vertical')"
      ],
      "execution_count": 42,
      "outputs": [
        {
          "output_type": "execute_result",
          "data": {
            "text/plain": [
              "([0, 1, 2, 3, 4, 5, 6, 7, 8, 9, 10, 11, 12, 13, 14, 15, 16, 17, 18, 19],\n",
              " <a list of 20 Text xticklabel objects>)"
            ]
          },
          "metadata": {
            "tags": []
          },
          "execution_count": 42
        },
        {
          "output_type": "display_data",
          "data": {
            "image/png": "[encoded data removed]",
            "text/plain": [
              "<Figure size 432x288 with 1 Axes>"
            ]
          },
          "metadata": {
            "tags": []
          }
        }
      ]
    },
    {
      "cell_type": "markdown",
      "metadata": {
        "colab_type": "text",
        "id": "juruLoNTvOc6"
      },
      "source": [
        "### 2º- Optimización de hiperparámetros.\n",
        "\n",
        "Tras probar el modelo básico de 3 capas, buscamos mejorar el modelo optimizando los hiperparametros."
      ]
    },
    {
      "cell_type": "markdown",
      "metadata": {
        "colab_type": "text",
        "id": "iG9r9qKOvOc7"
      },
      "source": [
        "##### Importamos librerías"
      ]
    },
    {
      "cell_type": "code",
      "metadata": {
        "colab_type": "code",
        "id": "9CGEM3cAvOc7",
        "colab": {}
      },
      "source": [
        "from sklearn.model_selection import GridSearchCV"
      ],
      "execution_count": 0,
      "outputs": []
    },
    {
      "cell_type": "markdown",
      "metadata": {
        "colab_type": "text",
        "id": "T0_3pZg-vOdA"
      },
      "source": [
        "### Modelo para el parámetro de tensión en corriente continua (VDC)."
      ]
    },
    {
      "cell_type": "code",
      "metadata": {
        "colab_type": "code",
        "id": "mVMVwu_KvOdB",
        "outputId": "772c680a-8be4-4cb8-b512-44af85aaf098",
        "colab": {
          "base_uri": "https://localhost:8080/",
          "height": 334
        }
      },
      "source": [
        "# Creación del modelo\n",
        "regDG_VDC = GridSearchCV(DecisionTreeRegressor(),\n",
        "                        param_grid = {\"max_depth\": np.arange(9, 13),\n",
        "                                      \"min_samples_split\": [100, 110, 120, 130],\n",
        "                                      \"min_samples_leaf\": [80, 90, 100, 110]\n",
        "                        },cv = 5,\n",
        "                        scoring = \"neg_mean_absolute_error\")\n",
        "\n",
        "# Entrenamiento del modelo\n",
        "regDG_VDC.fit(train_sc, train_dataset[['A_Optimal_VDC']])\n"
      ],
      "execution_count": 44,
      "outputs": [
        {
          "output_type": "execute_result",
          "data": {
            "text/plain": [
              "GridSearchCV(cv=5, error_score=nan,\n",
              "             estimator=DecisionTreeRegressor(ccp_alpha=0.0, criterion='mse',\n",
              "                                             max_depth=None, max_features=None,\n",
              "                                             max_leaf_nodes=None,\n",
              "                                             min_impurity_decrease=0.0,\n",
              "                                             min_impurity_split=None,\n",
              "                                             min_samples_leaf=1,\n",
              "                                             min_samples_split=2,\n",
              "                                             min_weight_fraction_leaf=0.0,\n",
              "                                             presort='deprecated',\n",
              "                                             random_state=None,\n",
              "                                             splitter='best'),\n",
              "             iid='deprecated', n_jobs=None,\n",
              "             param_grid={'max_depth': array([ 9, 10, 11, 12]),\n",
              "                         'min_samples_leaf': [80, 90, 100, 110],\n",
              "                         'min_samples_split': [100, 110, 120, 130]},\n",
              "             pre_dispatch='2*n_jobs', refit=True, return_train_score=False,\n",
              "             scoring='neg_mean_absolute_error', verbose=0)"
            ]
          },
          "metadata": {
            "tags": []
          },
          "execution_count": 44
        }
      ]
    },
    {
      "cell_type": "code",
      "metadata": {
        "colab_type": "code",
        "id": "Csf88rpvvOdD",
        "outputId": "68faedf2-b676-4722-9d0d-c79eee9d4411",
        "colab": {
          "base_uri": "https://localhost:8080/",
          "height": 34
        }
      },
      "source": [
        "regDG_VDC.best_params_"
      ],
      "execution_count": 45,
      "outputs": [
        {
          "output_type": "execute_result",
          "data": {
            "text/plain": [
              "{'max_depth': 12, 'min_samples_leaf': 80, 'min_samples_split': 110}"
            ]
          },
          "metadata": {
            "tags": []
          },
          "execution_count": 45
        }
      ]
    },
    {
      "cell_type": "code",
      "metadata": {
        "colab_type": "code",
        "id": "rHcS3CVpvOdF",
        "outputId": "4cb902d7-3f6e-43a7-9fc7-894416355b67",
        "colab": {
          "base_uri": "https://localhost:8080/",
          "height": 34
        }
      },
      "source": [
        "regDG_VDC.best_score_"
      ],
      "execution_count": 46,
      "outputs": [
        {
          "output_type": "execute_result",
          "data": {
            "text/plain": [
              "-1.0990617693995424"
            ]
          },
          "metadata": {
            "tags": []
          },
          "execution_count": 46
        }
      ]
    },
    {
      "cell_type": "code",
      "metadata": {
        "colab_type": "code",
        "id": "cwb6N7oLvOdH",
        "outputId": "debe5bec-0e05-44fa-9716-6ac2c70e6873",
        "colab": {
          "base_uri": "https://localhost:8080/",
          "height": 638
        }
      },
      "source": [
        "# Creamos el dataframe de resultados\n",
        "resultDG_VDC = test_dataset [['Datetime']]\n",
        "\n",
        "resultDG_VDC['Predict_VDC'] = pd.DataFrame(regDG_VDC.best_estimator_.predict(test_sc[input_features]))\n",
        "\n",
        "resultDG_VDC['Real_VDC'] = test_dataset['A_Optimal_VDC']\n",
        "resultDG_VDC['Residual_VDC'] = round(resultDG_VDC['Predict_VDC']-resultDG_VDC['Real_VDC'],2)\n",
        "resultDG_VDC['Resid_VDC_%'] = np.abs(resultDG_VDC['Residual_VDC']/resultDG_VDC['Real_VDC'])\n",
        "\n",
        "resultDG_VDC.head()"
      ],
      "execution_count": 47,
      "outputs": [
        {
          "output_type": "stream",
          "text": [
            "/usr/local/lib/python3.6/dist-packages/ipykernel_launcher.py:3: SettingWithCopyWarning: \n",
            "A value is trying to be set on a copy of a slice from a DataFrame.\n",
            "Try using .loc[row_indexer,col_indexer] = value instead\n",
            "\n",
            "See the caveats in the documentation: http://pandas.pydata.org/pandas-docs/stable/user_guide/indexing.html#returning-a-view-versus-a-copy\n",
            "  This is separate from the ipykernel package so we can avoid doing imports until\n",
            "/usr/local/lib/python3.6/dist-packages/ipykernel_launcher.py:5: SettingWithCopyWarning: \n",
            "A value is trying to be set on a copy of a slice from a DataFrame.\n",
            "Try using .loc[row_indexer,col_indexer] = value instead\n",
            "\n",
            "See the caveats in the documentation: http://pandas.pydata.org/pandas-docs/stable/user_guide/indexing.html#returning-a-view-versus-a-copy\n",
            "  \"\"\"\n",
            "/usr/local/lib/python3.6/dist-packages/ipykernel_launcher.py:6: SettingWithCopyWarning: \n",
            "A value is trying to be set on a copy of a slice from a DataFrame.\n",
            "Try using .loc[row_indexer,col_indexer] = value instead\n",
            "\n",
            "See the caveats in the documentation: http://pandas.pydata.org/pandas-docs/stable/user_guide/indexing.html#returning-a-view-versus-a-copy\n",
            "  \n",
            "/usr/local/lib/python3.6/dist-packages/ipykernel_launcher.py:7: SettingWithCopyWarning: \n",
            "A value is trying to be set on a copy of a slice from a DataFrame.\n",
            "Try using .loc[row_indexer,col_indexer] = value instead\n",
            "\n",
            "See the caveats in the documentation: http://pandas.pydata.org/pandas-docs/stable/user_guide/indexing.html#returning-a-view-versus-a-copy\n",
            "  import sys\n"
          ],
          "name": "stderr"
        },
        {
          "output_type": "execute_result",
          "data": {
            "text/html": [
              "<div>\n",
              "<style scoped>\n",
              "    .dataframe tbody tr th:only-of-type {\n",
              "        vertical-align: middle;\n",
              "    }\n",
              "\n",
              "    .dataframe tbody tr th {\n",
              "        vertical-align: top;\n",
              "    }\n",
              "\n",
              "    .dataframe thead th {\n",
              "        text-align: right;\n",
              "    }\n",
              "</style>\n",
              "<table border=\"1\" class=\"dataframe\">\n",
              "  <thead>\n",
              "    <tr style=\"text-align: right;\">\n",
              "      <th></th>\n",
              "      <th>Datetime</th>\n",
              "      <th>Predict_VDC</th>\n",
              "      <th>Real_VDC</th>\n",
              "      <th>Residual_VDC</th>\n",
              "      <th>Resid_VDC_%</th>\n",
              "    </tr>\n",
              "  </thead>\n",
              "  <tbody>\n",
              "    <tr>\n",
              "      <th>0</th>\n",
              "      <td>2017-07-16 14:19:00+00:00</td>\n",
              "      <td>27.745463</td>\n",
              "      <td>24.40</td>\n",
              "      <td>3.35</td>\n",
              "      <td>0.137295</td>\n",
              "    </tr>\n",
              "    <tr>\n",
              "      <th>1</th>\n",
              "      <td>2017-06-07 16:33:00+00:00</td>\n",
              "      <td>28.764231</td>\n",
              "      <td>27.95</td>\n",
              "      <td>0.81</td>\n",
              "      <td>0.028980</td>\n",
              "    </tr>\n",
              "    <tr>\n",
              "      <th>2</th>\n",
              "      <td>2017-03-29 12:40:00+00:00</td>\n",
              "      <td>28.122978</td>\n",
              "      <td>27.75</td>\n",
              "      <td>0.37</td>\n",
              "      <td>0.013333</td>\n",
              "    </tr>\n",
              "    <tr>\n",
              "      <th>3</th>\n",
              "      <td>2014-08-16 15:02:00+00:00</td>\n",
              "      <td>27.360904</td>\n",
              "      <td>26.55</td>\n",
              "      <td>0.81</td>\n",
              "      <td>0.030508</td>\n",
              "    </tr>\n",
              "    <tr>\n",
              "      <th>4</th>\n",
              "      <td>2016-01-16 10:42:00+00:00</td>\n",
              "      <td>28.343684</td>\n",
              "      <td>29.95</td>\n",
              "      <td>-1.61</td>\n",
              "      <td>0.053756</td>\n",
              "    </tr>\n",
              "  </tbody>\n",
              "</table>\n",
              "</div>"
            ],
            "text/plain": [
              "                    Datetime  Predict_VDC  Real_VDC  Residual_VDC  Resid_VDC_%\n",
              "0  2017-07-16 14:19:00+00:00    27.745463     24.40          3.35     0.137295\n",
              "1  2017-06-07 16:33:00+00:00    28.764231     27.95          0.81     0.028980\n",
              "2  2017-03-29 12:40:00+00:00    28.122978     27.75          0.37     0.013333\n",
              "3  2014-08-16 15:02:00+00:00    27.360904     26.55          0.81     0.030508\n",
              "4  2016-01-16 10:42:00+00:00    28.343684     29.95         -1.61     0.053756"
            ]
          },
          "metadata": {
            "tags": []
          },
          "execution_count": 47
        }
      ]
    },
    {
      "cell_type": "markdown",
      "metadata": {
        "colab_type": "text",
        "id": "P1JqsDrnHjtr"
      },
      "source": [
        "##### Métricas del modelo: MAE, MAPE, R2 y Correlación"
      ]
    },
    {
      "cell_type": "code",
      "metadata": {
        "colab_type": "code",
        "id": "pSVjsTo4Ho5K",
        "outputId": "50efb02a-dd3a-4a7f-8ea5-3ea8d9ce0a2f",
        "colab": {
          "base_uri": "https://localhost:8080/",
          "height": 70
        }
      },
      "source": [
        "print('error absoluto medio: ', mean_absolute_error(resultDG_VDC['Predict_VDC'],resultDG_VDC['Real_VDC']))\n",
        "print('parametro R2: ', r2_score(resultDG_VDC['Predict_VDC'],test_dataset['A_Optimal_VDC']))\n",
        "print('Correlation: ', np.corrcoef(resultDG_VDC['Predict_VDC'],test_dataset['A_Optimal_VDC'])[0][1])"
      ],
      "execution_count": 48,
      "outputs": [
        {
          "output_type": "stream",
          "text": [
            "error absoluto medio:  1.0990706831673915\n",
            "parametro R2:  -2.4363304313504144\n",
            "Correlation:  0.4478778945369845\n"
          ],
          "name": "stdout"
        }
      ]
    },
    {
      "cell_type": "markdown",
      "metadata": {
        "colab_type": "text",
        "id": "PzptV57PHysN"
      },
      "source": [
        "#### Graficamos el modelo"
      ]
    },
    {
      "cell_type": "code",
      "metadata": {
        "colab_type": "code",
        "id": "eqd5XWWcH05V",
        "outputId": "8b14069b-03d0-45e2-88fb-9fb3070fc387",
        "colab": {
          "base_uri": "https://localhost:8080/",
          "height": 432
        }
      },
      "source": [
        "pd.to_datetime(resultDG_VDC['Datetime'], format=\"%Y-%m-%d %H:%M:%S\")\n",
        "\n",
        "resultDG_VDC = resultDG_VDC.sort_values('Datetime')\n",
        "\n",
        "plt.plot(resultDG_VDC['Datetime'].head(20), resultDG_VDC['Predict_VDC'].head(20))\n",
        "plt.plot(resultDG_VDC['Datetime'].head(20), resultDG_VDC['Real_VDC'].head(20))\n",
        "\n",
        "plt.xticks(rotation='vertical')"
      ],
      "execution_count": 49,
      "outputs": [
        {
          "output_type": "execute_result",
          "data": {
            "text/plain": [
              "([0, 1, 2, 3, 4, 5, 6, 7, 8, 9, 10, 11, 12, 13, 14, 15, 16, 17, 18, 19],\n",
              " <a list of 20 Text xticklabel objects>)"
            ]
          },
          "metadata": {
            "tags": []
          },
          "execution_count": 49
        },
        {
          "output_type": "display_data",
          "data": {
            "image/png": "[encoded data removed]",
            "text/plain": [
              "<Figure size 432x288 with 1 Axes>"
            ]
          },
          "metadata": {
            "tags": []
          }
        }
      ]
    },
    {
      "cell_type": "markdown",
      "metadata": {
        "colab_type": "text",
        "id": "rGxHk9OKvOdM"
      },
      "source": [
        "### Modelo para el parámetro de corriente en corriente continua (CDC)."
      ]
    },
    {
      "cell_type": "code",
      "metadata": {
        "colab_type": "code",
        "id": "zYHGe6Z-vOdN",
        "outputId": "5f436a43-94fc-44a7-ea15-ca7d4680b0e4",
        "colab": {
          "base_uri": "https://localhost:8080/",
          "height": 334
        }
      },
      "source": [
        "# Creación del modelo por GridSeachCV\n",
        "\n",
        "regDG_CDC = GridSearchCV(DecisionTreeRegressor(),\n",
        "                        param_grid = {\"max_depth\": np.arange(9, 13),\n",
        "                                      \"min_samples_split\": [60,70,80,90],\n",
        "                                      \"min_samples_leaf\": [30,40,50,60]\n",
        "                        },cv = 5,\n",
        "                        scoring = \"neg_mean_absolute_error\")\n",
        "\n",
        "# Entrenamiento del modelo\n",
        "regDG_CDC.fit(train_sc, train_dataset[['A_Optimal_CDC']])"
      ],
      "execution_count": 50,
      "outputs": [
        {
          "output_type": "execute_result",
          "data": {
            "text/plain": [
              "GridSearchCV(cv=5, error_score=nan,\n",
              "             estimator=DecisionTreeRegressor(ccp_alpha=0.0, criterion='mse',\n",
              "                                             max_depth=None, max_features=None,\n",
              "                                             max_leaf_nodes=None,\n",
              "                                             min_impurity_decrease=0.0,\n",
              "                                             min_impurity_split=None,\n",
              "                                             min_samples_leaf=1,\n",
              "                                             min_samples_split=2,\n",
              "                                             min_weight_fraction_leaf=0.0,\n",
              "                                             presort='deprecated',\n",
              "                                             random_state=None,\n",
              "                                             splitter='best'),\n",
              "             iid='deprecated', n_jobs=None,\n",
              "             param_grid={'max_depth': array([ 9, 10, 11, 12]),\n",
              "                         'min_samples_leaf': [30, 40, 50, 60],\n",
              "                         'min_samples_split': [60, 70, 80, 90]},\n",
              "             pre_dispatch='2*n_jobs', refit=True, return_train_score=False,\n",
              "             scoring='neg_mean_absolute_error', verbose=0)"
            ]
          },
          "metadata": {
            "tags": []
          },
          "execution_count": 50
        }
      ]
    },
    {
      "cell_type": "code",
      "metadata": {
        "colab_type": "code",
        "id": "qzky6K1tvOdT",
        "outputId": "c11063be-975f-4d45-e4ab-0a3047c31ceb",
        "colab": {
          "base_uri": "https://localhost:8080/",
          "height": 34
        }
      },
      "source": [
        "regDG_CDC.best_params_"
      ],
      "execution_count": 51,
      "outputs": [
        {
          "output_type": "execute_result",
          "data": {
            "text/plain": [
              "{'max_depth': 12, 'min_samples_leaf': 30, 'min_samples_split': 70}"
            ]
          },
          "metadata": {
            "tags": []
          },
          "execution_count": 51
        }
      ]
    },
    {
      "cell_type": "code",
      "metadata": {
        "colab_type": "code",
        "id": "RwKhBrRvvOdU",
        "outputId": "aeb2ec03-8866-4f99-9071-355e7ba0a36f",
        "colab": {
          "base_uri": "https://localhost:8080/",
          "height": 34
        }
      },
      "source": [
        "regDG_CDC.best_score_"
      ],
      "execution_count": 52,
      "outputs": [
        {
          "output_type": "execute_result",
          "data": {
            "text/plain": [
              "-0.9431940155022647"
            ]
          },
          "metadata": {
            "tags": []
          },
          "execution_count": 52
        }
      ]
    },
    {
      "cell_type": "code",
      "metadata": {
        "colab_type": "code",
        "id": "t8ve5p5hvOdW",
        "outputId": "e20e93cd-5fae-440d-bff3-c67042d54b9e",
        "colab": {
          "base_uri": "https://localhost:8080/",
          "height": 638
        }
      },
      "source": [
        "# Creamos el dataframe de resultados\n",
        "resultDG_CDC = test_dataset [['Datetime']]\n",
        "\n",
        "resultDG_CDC['Predict_CDC'] = pd.DataFrame(regDG_CDC.best_estimator_.predict(test_sc[input_features]))\n",
        "\n",
        "resultDG_CDC['Real_CDC'] = test_dataset['A_Optimal_CDC']\n",
        "resultDG_CDC['Residual_CDC'] = round(resultDG_CDC['Predict_CDC']-resultDG_CDC['Real_CDC'],2)\n",
        "resultDG_CDC['Resid_CDC_%'] = np.abs(resultDG_CDC['Residual_CDC']/resultDG_CDC['Real_CDC'])\n",
        "\n",
        "resultDG_CDC.head()"
      ],
      "execution_count": 53,
      "outputs": [
        {
          "output_type": "stream",
          "text": [
            "/usr/local/lib/python3.6/dist-packages/ipykernel_launcher.py:3: SettingWithCopyWarning: \n",
            "A value is trying to be set on a copy of a slice from a DataFrame.\n",
            "Try using .loc[row_indexer,col_indexer] = value instead\n",
            "\n",
            "See the caveats in the documentation: http://pandas.pydata.org/pandas-docs/stable/user_guide/indexing.html#returning-a-view-versus-a-copy\n",
            "  This is separate from the ipykernel package so we can avoid doing imports until\n",
            "/usr/local/lib/python3.6/dist-packages/ipykernel_launcher.py:5: SettingWithCopyWarning: \n",
            "A value is trying to be set on a copy of a slice from a DataFrame.\n",
            "Try using .loc[row_indexer,col_indexer] = value instead\n",
            "\n",
            "See the caveats in the documentation: http://pandas.pydata.org/pandas-docs/stable/user_guide/indexing.html#returning-a-view-versus-a-copy\n",
            "  \"\"\"\n",
            "/usr/local/lib/python3.6/dist-packages/ipykernel_launcher.py:6: SettingWithCopyWarning: \n",
            "A value is trying to be set on a copy of a slice from a DataFrame.\n",
            "Try using .loc[row_indexer,col_indexer] = value instead\n",
            "\n",
            "See the caveats in the documentation: http://pandas.pydata.org/pandas-docs/stable/user_guide/indexing.html#returning-a-view-versus-a-copy\n",
            "  \n",
            "/usr/local/lib/python3.6/dist-packages/ipykernel_launcher.py:7: SettingWithCopyWarning: \n",
            "A value is trying to be set on a copy of a slice from a DataFrame.\n",
            "Try using .loc[row_indexer,col_indexer] = value instead\n",
            "\n",
            "See the caveats in the documentation: http://pandas.pydata.org/pandas-docs/stable/user_guide/indexing.html#returning-a-view-versus-a-copy\n",
            "  import sys\n"
          ],
          "name": "stderr"
        },
        {
          "output_type": "execute_result",
          "data": {
            "text/html": [
              "<div>\n",
              "<style scoped>\n",
              "    .dataframe tbody tr th:only-of-type {\n",
              "        vertical-align: middle;\n",
              "    }\n",
              "\n",
              "    .dataframe tbody tr th {\n",
              "        vertical-align: top;\n",
              "    }\n",
              "\n",
              "    .dataframe thead th {\n",
              "        text-align: right;\n",
              "    }\n",
              "</style>\n",
              "<table border=\"1\" class=\"dataframe\">\n",
              "  <thead>\n",
              "    <tr style=\"text-align: right;\">\n",
              "      <th></th>\n",
              "      <th>Datetime</th>\n",
              "      <th>Predict_CDC</th>\n",
              "      <th>Real_CDC</th>\n",
              "      <th>Residual_CDC</th>\n",
              "      <th>Resid_CDC_%</th>\n",
              "    </tr>\n",
              "  </thead>\n",
              "  <tbody>\n",
              "    <tr>\n",
              "      <th>0</th>\n",
              "      <td>2017-07-16 14:19:00+00:00</td>\n",
              "      <td>6.922785</td>\n",
              "      <td>6.3900</td>\n",
              "      <td>0.53</td>\n",
              "      <td>0.082942</td>\n",
              "    </tr>\n",
              "    <tr>\n",
              "      <th>1</th>\n",
              "      <td>2017-06-07 16:33:00+00:00</td>\n",
              "      <td>3.066190</td>\n",
              "      <td>3.2050</td>\n",
              "      <td>-0.14</td>\n",
              "      <td>0.043682</td>\n",
              "    </tr>\n",
              "    <tr>\n",
              "      <th>2</th>\n",
              "      <td>2017-03-29 12:40:00+00:00</td>\n",
              "      <td>6.488747</td>\n",
              "      <td>8.1500</td>\n",
              "      <td>-1.66</td>\n",
              "      <td>0.203681</td>\n",
              "    </tr>\n",
              "    <tr>\n",
              "      <th>3</th>\n",
              "      <td>2014-08-16 15:02:00+00:00</td>\n",
              "      <td>6.876816</td>\n",
              "      <td>5.7925</td>\n",
              "      <td>1.08</td>\n",
              "      <td>0.186448</td>\n",
              "    </tr>\n",
              "    <tr>\n",
              "      <th>4</th>\n",
              "      <td>2016-01-16 10:42:00+00:00</td>\n",
              "      <td>4.276429</td>\n",
              "      <td>6.4525</td>\n",
              "      <td>-2.18</td>\n",
              "      <td>0.337854</td>\n",
              "    </tr>\n",
              "  </tbody>\n",
              "</table>\n",
              "</div>"
            ],
            "text/plain": [
              "                    Datetime  Predict_CDC  Real_CDC  Residual_CDC  Resid_CDC_%\n",
              "0  2017-07-16 14:19:00+00:00     6.922785    6.3900          0.53     0.082942\n",
              "1  2017-06-07 16:33:00+00:00     3.066190    3.2050         -0.14     0.043682\n",
              "2  2017-03-29 12:40:00+00:00     6.488747    8.1500         -1.66     0.203681\n",
              "3  2014-08-16 15:02:00+00:00     6.876816    5.7925          1.08     0.186448\n",
              "4  2016-01-16 10:42:00+00:00     4.276429    6.4525         -2.18     0.337854"
            ]
          },
          "metadata": {
            "tags": []
          },
          "execution_count": 53
        }
      ]
    },
    {
      "cell_type": "markdown",
      "metadata": {
        "colab_type": "text",
        "id": "jwwpmT4PIbX7"
      },
      "source": [
        "##### Métricas del modelo: MAE, MAPE, R2 y Correlación"
      ]
    },
    {
      "cell_type": "code",
      "metadata": {
        "colab_type": "code",
        "id": "H0retAEKIfCS",
        "outputId": "0fea9c34-1b0a-4675-b128-8d8caeb55d2d",
        "colab": {
          "base_uri": "https://localhost:8080/",
          "height": 70
        }
      },
      "source": [
        "print('error absoluto medio: ', mean_absolute_error(resultDG_CDC['Predict_CDC'],resultDG_CDC['Real_CDC']))\n",
        "print('parametro R2: ', r2_score(resultDG_CDC['Predict_CDC'],test_dataset['A_Optimal_CDC']))\n",
        "print('Correlation: ', np.corrcoef(resultDG_CDC['Predict_CDC'],test_dataset['A_Optimal_CDC'])[0][1])"
      ],
      "execution_count": 54,
      "outputs": [
        {
          "output_type": "stream",
          "text": [
            "error absoluto medio:  0.9818751068818212\n",
            "parametro R2:  0.6357101892787432\n",
            "Correlation:  0.8449362265368587\n"
          ],
          "name": "stdout"
        }
      ]
    },
    {
      "cell_type": "markdown",
      "metadata": {
        "colab_type": "text",
        "id": "oBDIMRCBI6rN"
      },
      "source": [
        "#### Graficamos el modelo"
      ]
    },
    {
      "cell_type": "code",
      "metadata": {
        "colab_type": "code",
        "id": "7klUti0KI8zS",
        "outputId": "849caf94-c361-4be8-b186-571fa25ead7a",
        "colab": {
          "base_uri": "https://localhost:8080/",
          "height": 432
        }
      },
      "source": [
        "pd.to_datetime(resultDG_CDC['Datetime'], format=\"%Y-%m-%d %H:%M:%S\")\n",
        "\n",
        "resultDG_CDC = resultDG_CDC.sort_values('Datetime')\n",
        "\n",
        "plt.plot(resultDG_CDC['Datetime'].head(20), resultDG_CDC['Predict_CDC'].head(20))\n",
        "plt.plot(resultDG_CDC['Datetime'].head(20), resultDG_CDC['Real_CDC'].head(20))\n",
        "\n",
        "plt.xticks(rotation='vertical')"
      ],
      "execution_count": 55,
      "outputs": [
        {
          "output_type": "execute_result",
          "data": {
            "text/plain": [
              "([0, 1, 2, 3, 4, 5, 6, 7, 8, 9, 10, 11, 12, 13, 14, 15, 16, 17, 18, 19],\n",
              " <a list of 20 Text xticklabel objects>)"
            ]
          },
          "metadata": {
            "tags": []
          },
          "execution_count": 55
        },
        {
          "output_type": "display_data",
          "data": {
            "image/png": "[encoded data removed]",
            "text/plain": [
              "<Figure size 432x288 with 1 Axes>"
            ]
          },
          "metadata": {
            "tags": []
          }
        }
      ]
    },
    {
      "cell_type": "markdown",
      "metadata": {
        "colab_type": "text",
        "id": "-bDG8JSZvOdY"
      },
      "source": [
        "### Modelo para el parámetro de potencia en corriente continua (PDC)."
      ]
    },
    {
      "cell_type": "code",
      "metadata": {
        "colab_type": "code",
        "id": "NF23CGzuvOdY",
        "outputId": "45175db2-c7b5-46fa-a1a4-b6e17564421e",
        "colab": {
          "base_uri": "https://localhost:8080/",
          "height": 334
        }
      },
      "source": [
        "# Creación del modelo por GridSeachCV\n",
        "\n",
        "regDG_PDC = GridSearchCV(DecisionTreeRegressor(),\n",
        "                        param_grid = {\"max_depth\": np.arange(9, 13),\n",
        "                                      \"min_samples_split\": [60,70,80,90],\n",
        "                                      \"min_samples_leaf\": [30,40,50,60]\n",
        "                        },cv = 5,\n",
        "                        scoring = \"neg_mean_absolute_error\")\n",
        "\n",
        "# Entrenamiento del modelo\n",
        "regDG_PDC.fit(train_sc, train_dataset[['A_Optimal_PDC']])"
      ],
      "execution_count": 56,
      "outputs": [
        {
          "output_type": "execute_result",
          "data": {
            "text/plain": [
              "GridSearchCV(cv=5, error_score=nan,\n",
              "             estimator=DecisionTreeRegressor(ccp_alpha=0.0, criterion='mse',\n",
              "                                             max_depth=None, max_features=None,\n",
              "                                             max_leaf_nodes=None,\n",
              "                                             min_impurity_decrease=0.0,\n",
              "                                             min_impurity_split=None,\n",
              "                                             min_samples_leaf=1,\n",
              "                                             min_samples_split=2,\n",
              "                                             min_weight_fraction_leaf=0.0,\n",
              "                                             presort='deprecated',\n",
              "                                             random_state=None,\n",
              "                                             splitter='best'),\n",
              "             iid='deprecated', n_jobs=None,\n",
              "             param_grid={'max_depth': array([ 9, 10, 11, 12]),\n",
              "                         'min_samples_leaf': [30, 40, 50, 60],\n",
              "                         'min_samples_split': [60, 70, 80, 90]},\n",
              "             pre_dispatch='2*n_jobs', refit=True, return_train_score=False,\n",
              "             scoring='neg_mean_absolute_error', verbose=0)"
            ]
          },
          "metadata": {
            "tags": []
          },
          "execution_count": 56
        }
      ]
    },
    {
      "cell_type": "code",
      "metadata": {
        "colab_type": "code",
        "id": "U8lyR1EWvOda",
        "outputId": "09ae3deb-4da4-478f-dae5-040bbbb1d3dc",
        "colab": {
          "base_uri": "https://localhost:8080/",
          "height": 34
        }
      },
      "source": [
        "regDG_PDC.best_params_"
      ],
      "execution_count": 57,
      "outputs": [
        {
          "output_type": "execute_result",
          "data": {
            "text/plain": [
              "{'max_depth': 12, 'min_samples_leaf': 30, 'min_samples_split': 60}"
            ]
          },
          "metadata": {
            "tags": []
          },
          "execution_count": 57
        }
      ]
    },
    {
      "cell_type": "code",
      "metadata": {
        "colab_type": "code",
        "id": "shqYTpl9vOdb",
        "outputId": "21ddc0ed-c870-4588-ba5d-2d7f36365b32",
        "colab": {
          "base_uri": "https://localhost:8080/",
          "height": 34
        }
      },
      "source": [
        "regDG_PDC.best_score_"
      ],
      "execution_count": 58,
      "outputs": [
        {
          "output_type": "execute_result",
          "data": {
            "text/plain": [
              "-26.225930596802705"
            ]
          },
          "metadata": {
            "tags": []
          },
          "execution_count": 58
        }
      ]
    },
    {
      "cell_type": "code",
      "metadata": {
        "colab_type": "code",
        "id": "e0jH4O56vOdc",
        "outputId": "4a973530-86f5-48bc-da2b-b374227f7639",
        "colab": {
          "base_uri": "https://localhost:8080/",
          "height": 638
        }
      },
      "source": [
        "# Creamos el dataframe de resultados\n",
        "resultDG_PDC = test_dataset [['Datetime']]\n",
        "\n",
        "resultDG_PDC['Predict_PDC'] = pd.DataFrame(regDG_PDC.best_estimator_.predict(test_sc[input_features]))\n",
        "\n",
        "resultDG_PDC['Real_PDC'] = test_dataset['A_Optimal_PDC']\n",
        "resultDG_PDC['Residual_PDC'] = round(resultDG_PDC['Predict_PDC']-resultDG_PDC['Real_PDC'],2)\n",
        "resultDG_PDC['Resid_PDC_%'] = np.abs(resultDG_PDC['Residual_PDC']/resultDG_PDC['Real_PDC'])\n",
        "\n",
        "resultDG_PDC.head()"
      ],
      "execution_count": 59,
      "outputs": [
        {
          "output_type": "stream",
          "text": [
            "/usr/local/lib/python3.6/dist-packages/ipykernel_launcher.py:3: SettingWithCopyWarning: \n",
            "A value is trying to be set on a copy of a slice from a DataFrame.\n",
            "Try using .loc[row_indexer,col_indexer] = value instead\n",
            "\n",
            "See the caveats in the documentation: http://pandas.pydata.org/pandas-docs/stable/user_guide/indexing.html#returning-a-view-versus-a-copy\n",
            "  This is separate from the ipykernel package so we can avoid doing imports until\n",
            "/usr/local/lib/python3.6/dist-packages/ipykernel_launcher.py:5: SettingWithCopyWarning: \n",
            "A value is trying to be set on a copy of a slice from a DataFrame.\n",
            "Try using .loc[row_indexer,col_indexer] = value instead\n",
            "\n",
            "See the caveats in the documentation: http://pandas.pydata.org/pandas-docs/stable/user_guide/indexing.html#returning-a-view-versus-a-copy\n",
            "  \"\"\"\n",
            "/usr/local/lib/python3.6/dist-packages/ipykernel_launcher.py:6: SettingWithCopyWarning: \n",
            "A value is trying to be set on a copy of a slice from a DataFrame.\n",
            "Try using .loc[row_indexer,col_indexer] = value instead\n",
            "\n",
            "See the caveats in the documentation: http://pandas.pydata.org/pandas-docs/stable/user_guide/indexing.html#returning-a-view-versus-a-copy\n",
            "  \n",
            "/usr/local/lib/python3.6/dist-packages/ipykernel_launcher.py:7: SettingWithCopyWarning: \n",
            "A value is trying to be set on a copy of a slice from a DataFrame.\n",
            "Try using .loc[row_indexer,col_indexer] = value instead\n",
            "\n",
            "See the caveats in the documentation: http://pandas.pydata.org/pandas-docs/stable/user_guide/indexing.html#returning-a-view-versus-a-copy\n",
            "  import sys\n"
          ],
          "name": "stderr"
        },
        {
          "output_type": "execute_result",
          "data": {
            "text/html": [
              "<div>\n",
              "<style scoped>\n",
              "    .dataframe tbody tr th:only-of-type {\n",
              "        vertical-align: middle;\n",
              "    }\n",
              "\n",
              "    .dataframe tbody tr th {\n",
              "        vertical-align: top;\n",
              "    }\n",
              "\n",
              "    .dataframe thead th {\n",
              "        text-align: right;\n",
              "    }\n",
              "</style>\n",
              "<table border=\"1\" class=\"dataframe\">\n",
              "  <thead>\n",
              "    <tr style=\"text-align: right;\">\n",
              "      <th></th>\n",
              "      <th>Datetime</th>\n",
              "      <th>Predict_PDC</th>\n",
              "      <th>Real_PDC</th>\n",
              "      <th>Residual_PDC</th>\n",
              "      <th>Resid_PDC_%</th>\n",
              "    </tr>\n",
              "  </thead>\n",
              "  <tbody>\n",
              "    <tr>\n",
              "      <th>0</th>\n",
              "      <td>2017-07-16 14:19:00+00:00</td>\n",
              "      <td>180.091523</td>\n",
              "      <td>155.916000</td>\n",
              "      <td>24.18</td>\n",
              "      <td>0.155084</td>\n",
              "    </tr>\n",
              "    <tr>\n",
              "      <th>1</th>\n",
              "      <td>2017-06-07 16:33:00+00:00</td>\n",
              "      <td>67.827219</td>\n",
              "      <td>89.579750</td>\n",
              "      <td>-21.75</td>\n",
              "      <td>0.242800</td>\n",
              "    </tr>\n",
              "    <tr>\n",
              "      <th>2</th>\n",
              "      <td>2017-03-29 12:40:00+00:00</td>\n",
              "      <td>176.787372</td>\n",
              "      <td>226.162500</td>\n",
              "      <td>-49.38</td>\n",
              "      <td>0.218339</td>\n",
              "    </tr>\n",
              "    <tr>\n",
              "      <th>3</th>\n",
              "      <td>2014-08-16 15:02:00+00:00</td>\n",
              "      <td>198.656665</td>\n",
              "      <td>153.790875</td>\n",
              "      <td>44.87</td>\n",
              "      <td>0.291760</td>\n",
              "    </tr>\n",
              "    <tr>\n",
              "      <th>4</th>\n",
              "      <td>2016-01-16 10:42:00+00:00</td>\n",
              "      <td>122.362061</td>\n",
              "      <td>193.252375</td>\n",
              "      <td>-70.89</td>\n",
              "      <td>0.366826</td>\n",
              "    </tr>\n",
              "  </tbody>\n",
              "</table>\n",
              "</div>"
            ],
            "text/plain": [
              "                    Datetime  Predict_PDC  ...  Residual_PDC  Resid_PDC_%\n",
              "0  2017-07-16 14:19:00+00:00   180.091523  ...         24.18     0.155084\n",
              "1  2017-06-07 16:33:00+00:00    67.827219  ...        -21.75     0.242800\n",
              "2  2017-03-29 12:40:00+00:00   176.787372  ...        -49.38     0.218339\n",
              "3  2014-08-16 15:02:00+00:00   198.656665  ...         44.87     0.291760\n",
              "4  2016-01-16 10:42:00+00:00   122.362061  ...        -70.89     0.366826\n",
              "\n",
              "[5 rows x 5 columns]"
            ]
          },
          "metadata": {
            "tags": []
          },
          "execution_count": 59
        }
      ]
    },
    {
      "cell_type": "markdown",
      "metadata": {
        "colab_type": "text",
        "id": "C1tSLg5FNmxg"
      },
      "source": [
        "##### Métricas del modelo: MAE, MAPE, R2 y Correlación"
      ]
    },
    {
      "cell_type": "code",
      "metadata": {
        "colab_type": "code",
        "id": "0QeSbaOLNn6t",
        "outputId": "24882e94-06af-4b15-b6d3-2b64aa762181",
        "colab": {
          "base_uri": "https://localhost:8080/",
          "height": 70
        }
      },
      "source": [
        "print('error absoluto medio: ', mean_absolute_error(resultDG_PDC['Predict_PDC'],resultDG_PDC['Real_PDC']))\n",
        "print('parametro R2: ', r2_score(resultDG_PDC['Predict_PDC'],test_dataset['A_Optimal_PDC']))\n",
        "print('Correlation: ', np.corrcoef(resultDG_PDC['Predict_PDC'],test_dataset['A_Optimal_PDC'])[0][1])"
      ],
      "execution_count": 60,
      "outputs": [
        {
          "output_type": "stream",
          "text": [
            "error absoluto medio:  27.35871747801742\n",
            "parametro R2:  0.6280648340252443\n",
            "Correlation:  0.8427917450338039\n"
          ],
          "name": "stdout"
        }
      ]
    },
    {
      "cell_type": "markdown",
      "metadata": {
        "colab_type": "text",
        "id": "eBMcRH4lN8B_"
      },
      "source": [
        "#### Graficamos el modelo"
      ]
    },
    {
      "cell_type": "code",
      "metadata": {
        "colab_type": "code",
        "id": "hZoLLNjRN-F2",
        "outputId": "f46be749-5cec-4036-e737-7aea8ba686b9",
        "colab": {
          "base_uri": "https://localhost:8080/",
          "height": 432
        }
      },
      "source": [
        "pd.to_datetime(resultDG_CDC['Datetime'], format=\"%Y-%m-%d %H:%M:%S\")\n",
        "\n",
        "resultDG_CDC = resultDG_CDC.sort_values('Datetime')\n",
        "\n",
        "plt.plot(resultDG_CDC['Datetime'].head(20), resultDG_CDC['Predict_CDC'].head(20))\n",
        "plt.plot(resultDG_CDC['Datetime'].head(20), resultDG_CDC['Real_CDC'].head(20))\n",
        "\n",
        "plt.xticks(rotation='vertical')"
      ],
      "execution_count": 61,
      "outputs": [
        {
          "output_type": "execute_result",
          "data": {
            "text/plain": [
              "([0, 1, 2, 3, 4, 5, 6, 7, 8, 9, 10, 11, 12, 13, 14, 15, 16, 17, 18, 19],\n",
              " <a list of 20 Text xticklabel objects>)"
            ]
          },
          "metadata": {
            "tags": []
          },
          "execution_count": 61
        },
        {
          "output_type": "display_data",
          "data": {
            "image/png": "[encoded data removed]",
            "text/plain": [
              "<Figure size 432x288 with 1 Axes>"
            ]
          },
          "metadata": {
            "tags": []
          }
        }
      ]
    },
    {
      "cell_type": "markdown",
      "metadata": {
        "colab_type": "text",
        "id": "rs8YnuBmvOdd"
      },
      "source": [
        "### Guardando los modelos"
      ]
    },
    {
      "cell_type": "markdown",
      "metadata": {
        "colab_type": "text",
        "id": "YfjDwpT9vOde"
      },
      "source": [
        "Atendiendo a las métricas de la verificación, hemos escogido para cada parámetro a predecir el modelo que menor error mostraba."
      ]
    },
    {
      "cell_type": "code",
      "metadata": {
        "colab_type": "code",
        "id": "0sgF6uHjvOdf",
        "colab": {}
      },
      "source": [
        "import pickle\n",
        "\n",
        "pickle.dump(regDG_VDC.best_estimator_,open(\"regDG_VDC.pickle\",\"wb\"))\n",
        "pickle.dump(regDG_CDC.best_estimator_,open(\"regDG_CDC.pickle\",\"wb\"))\n",
        "pickle.dump(regDG_PDC.best_estimator_,open(\"regDG_PDC.pickle\",\"wb\"))"
      ],
      "execution_count": 0,
      "outputs": []
    }
  ]
}