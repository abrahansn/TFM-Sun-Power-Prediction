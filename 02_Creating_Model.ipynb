{
 "cells": [
  {
   "cell_type": "markdown",
   "metadata": {},
   "source": [
    "# Creating model regression"
   ]
  },
  {
   "cell_type": "markdown",
   "metadata": {},
   "source": [
    "## Obtención y visualización de datos"
   ]
  },
  {
   "cell_type": "markdown",
   "metadata": {},
   "source": [
    "#### Comenzaremos creando modelos de regresión lineal multivariable. Para ello, veremos que features son más influyentes para nuestra predicción, y posteriormente veremos si es o no necesario tratar previamente los datos para mejorar la predicción."
   ]
  },
  {
   "cell_type": "markdown",
   "metadata": {},
   "source": [
    "##### Importamos las librerías necesarias"
   ]
  },
  {
   "cell_type": "code",
   "execution_count": 11,
   "metadata": {},
   "outputs": [],
   "source": [
    "import pandas as pd\n",
    "import numpy as np"
   ]
  },
  {
   "cell_type": "markdown",
   "metadata": {},
   "source": [
    "##### Importamos los datos post-procesados. Con ellos entrenaremos y testearemos nuestro modelo."
   ]
  },
  {
   "cell_type": "code",
   "execution_count": 12,
   "metadata": {},
   "outputs": [],
   "source": [
    "train_dataset = pd.read_csv('train_dataset.csv',sep=';')\n",
    "test_dataset = pd.read_csv('test_dataset_17.csv',sep=';')"
   ]
  },
  {
   "cell_type": "markdown",
   "metadata": {},
   "source": [
    "##### Analizamos la matríz del coeficiente de correlación de Pearson, entre las variables de entrada y las variables de salida. Donde podremos comprobar que los valores que las características que más inciden en el resultado final son: \"Global_Radiation\", \"Diffuse_Radiation\" y \"Ultraviolet\"."
   ]
  },
  {
   "cell_type": "code",
   "execution_count": 13,
   "metadata": {
    "scrolled": false
   },
   "outputs": [
    {
     "data": {
      "text/html": [
       "<div>\n",
       "<style scoped>\n",
       "    .dataframe tbody tr th:only-of-type {\n",
       "        vertical-align: middle;\n",
       "    }\n",
       "\n",
       "    .dataframe tbody tr th {\n",
       "        vertical-align: top;\n",
       "    }\n",
       "\n",
       "    .dataframe thead th {\n",
       "        text-align: right;\n",
       "    }\n",
       "</style>\n",
       "<table border=\"1\" class=\"dataframe\">\n",
       "  <thead>\n",
       "    <tr style=\"text-align: right;\">\n",
       "      <th></th>\n",
       "      <th>Ambient_Temperature</th>\n",
       "      <th>Global_Radiation</th>\n",
       "      <th>Diffuse_Radiation</th>\n",
       "      <th>Ultraviolet</th>\n",
       "      <th>Wind_Velocity</th>\n",
       "      <th>Wind_direction</th>\n",
       "      <th>A_Optimal_VDC</th>\n",
       "      <th>A_Optimal_CDC</th>\n",
       "      <th>A_Optimal_PDC</th>\n",
       "    </tr>\n",
       "  </thead>\n",
       "  <tbody>\n",
       "    <tr>\n",
       "      <th>Ambient_Temperature</th>\n",
       "      <td>1.000000</td>\n",
       "      <td>0.435706</td>\n",
       "      <td>0.092518</td>\n",
       "      <td>0.437258</td>\n",
       "      <td>0.149270</td>\n",
       "      <td>-0.037590</td>\n",
       "      <td>-0.084023</td>\n",
       "      <td>0.189224</td>\n",
       "      <td>0.166931</td>\n",
       "    </tr>\n",
       "    <tr>\n",
       "      <th>Global_Radiation</th>\n",
       "      <td>0.435706</td>\n",
       "      <td>1.000000</td>\n",
       "      <td>0.378795</td>\n",
       "      <td>0.988810</td>\n",
       "      <td>0.352393</td>\n",
       "      <td>-0.104508</td>\n",
       "      <td>0.264275</td>\n",
       "      <td>0.833667</td>\n",
       "      <td>0.827551</td>\n",
       "    </tr>\n",
       "    <tr>\n",
       "      <th>Diffuse_Radiation</th>\n",
       "      <td>0.092518</td>\n",
       "      <td>0.378795</td>\n",
       "      <td>1.000000</td>\n",
       "      <td>0.400834</td>\n",
       "      <td>0.244072</td>\n",
       "      <td>-0.055271</td>\n",
       "      <td>0.286975</td>\n",
       "      <td>0.327219</td>\n",
       "      <td>0.333555</td>\n",
       "    </tr>\n",
       "    <tr>\n",
       "      <th>Ultraviolet</th>\n",
       "      <td>0.437258</td>\n",
       "      <td>0.988810</td>\n",
       "      <td>0.400834</td>\n",
       "      <td>1.000000</td>\n",
       "      <td>0.366322</td>\n",
       "      <td>-0.091197</td>\n",
       "      <td>0.252618</td>\n",
       "      <td>0.816207</td>\n",
       "      <td>0.808993</td>\n",
       "    </tr>\n",
       "    <tr>\n",
       "      <th>Wind_Velocity</th>\n",
       "      <td>0.149270</td>\n",
       "      <td>0.352393</td>\n",
       "      <td>0.244072</td>\n",
       "      <td>0.366322</td>\n",
       "      <td>1.000000</td>\n",
       "      <td>0.143714</td>\n",
       "      <td>0.219786</td>\n",
       "      <td>0.308331</td>\n",
       "      <td>0.315772</td>\n",
       "    </tr>\n",
       "    <tr>\n",
       "      <th>Wind_direction</th>\n",
       "      <td>-0.037590</td>\n",
       "      <td>-0.104508</td>\n",
       "      <td>-0.055271</td>\n",
       "      <td>-0.091197</td>\n",
       "      <td>0.143714</td>\n",
       "      <td>1.000000</td>\n",
       "      <td>-0.028437</td>\n",
       "      <td>-0.116317</td>\n",
       "      <td>-0.117228</td>\n",
       "    </tr>\n",
       "    <tr>\n",
       "      <th>A_Optimal_VDC</th>\n",
       "      <td>-0.084023</td>\n",
       "      <td>0.264275</td>\n",
       "      <td>0.286975</td>\n",
       "      <td>0.252618</td>\n",
       "      <td>0.219786</td>\n",
       "      <td>-0.028437</td>\n",
       "      <td>1.000000</td>\n",
       "      <td>0.311546</td>\n",
       "      <td>0.347299</td>\n",
       "    </tr>\n",
       "    <tr>\n",
       "      <th>A_Optimal_CDC</th>\n",
       "      <td>0.189224</td>\n",
       "      <td>0.833667</td>\n",
       "      <td>0.327219</td>\n",
       "      <td>0.816207</td>\n",
       "      <td>0.308331</td>\n",
       "      <td>-0.116317</td>\n",
       "      <td>0.311546</td>\n",
       "      <td>1.000000</td>\n",
       "      <td>0.997817</td>\n",
       "    </tr>\n",
       "    <tr>\n",
       "      <th>A_Optimal_PDC</th>\n",
       "      <td>0.166931</td>\n",
       "      <td>0.827551</td>\n",
       "      <td>0.333555</td>\n",
       "      <td>0.808993</td>\n",
       "      <td>0.315772</td>\n",
       "      <td>-0.117228</td>\n",
       "      <td>0.347299</td>\n",
       "      <td>0.997817</td>\n",
       "      <td>1.000000</td>\n",
       "    </tr>\n",
       "  </tbody>\n",
       "</table>\n",
       "</div>"
      ],
      "text/plain": [
       "                     Ambient_Temperature  Global_Radiation  Diffuse_Radiation  \\\n",
       "Ambient_Temperature             1.000000          0.435706           0.092518   \n",
       "Global_Radiation                0.435706          1.000000           0.378795   \n",
       "Diffuse_Radiation               0.092518          0.378795           1.000000   \n",
       "Ultraviolet                     0.437258          0.988810           0.400834   \n",
       "Wind_Velocity                   0.149270          0.352393           0.244072   \n",
       "Wind_direction                 -0.037590         -0.104508          -0.055271   \n",
       "A_Optimal_VDC                  -0.084023          0.264275           0.286975   \n",
       "A_Optimal_CDC                   0.189224          0.833667           0.327219   \n",
       "A_Optimal_PDC                   0.166931          0.827551           0.333555   \n",
       "\n",
       "                     Ultraviolet  Wind_Velocity  Wind_direction  \\\n",
       "Ambient_Temperature     0.437258       0.149270       -0.037590   \n",
       "Global_Radiation        0.988810       0.352393       -0.104508   \n",
       "Diffuse_Radiation       0.400834       0.244072       -0.055271   \n",
       "Ultraviolet             1.000000       0.366322       -0.091197   \n",
       "Wind_Velocity           0.366322       1.000000        0.143714   \n",
       "Wind_direction         -0.091197       0.143714        1.000000   \n",
       "A_Optimal_VDC           0.252618       0.219786       -0.028437   \n",
       "A_Optimal_CDC           0.816207       0.308331       -0.116317   \n",
       "A_Optimal_PDC           0.808993       0.315772       -0.117228   \n",
       "\n",
       "                     A_Optimal_VDC  A_Optimal_CDC  A_Optimal_PDC  \n",
       "Ambient_Temperature      -0.084023       0.189224       0.166931  \n",
       "Global_Radiation          0.264275       0.833667       0.827551  \n",
       "Diffuse_Radiation         0.286975       0.327219       0.333555  \n",
       "Ultraviolet               0.252618       0.816207       0.808993  \n",
       "Wind_Velocity             0.219786       0.308331       0.315772  \n",
       "Wind_direction           -0.028437      -0.116317      -0.117228  \n",
       "A_Optimal_VDC             1.000000       0.311546       0.347299  \n",
       "A_Optimal_CDC             0.311546       1.000000       0.997817  \n",
       "A_Optimal_PDC             0.347299       0.997817       1.000000  "
      ]
     },
     "execution_count": 13,
     "metadata": {},
     "output_type": "execute_result"
    }
   ],
   "source": [
    "train_dataset[['Ambient_Temperature', 'Global_Radiation', 'Diffuse_Radiation',\n",
    "              'Ultraviolet', 'Wind_Velocity', 'Wind_direction','A_Optimal_VDC', \n",
    "              'A_Optimal_CDC', 'A_Optimal_PDC']].corr(method='pearson')"
   ]
  },
  {
   "cell_type": "markdown",
   "metadata": {},
   "source": [
    "##### Guardamos los campos que vamos a utilizar para la predicción.\n",
    "\n",
    "Seleccionamos solo las variables que vamos autilizar para la predicción y testeo de los modelos. \n",
    "\n",
    "Inicialmente, trabajaremos con la predicción de los parámetros de tensión, corriente y potencia de la placa modelo A. Al final lo extenderemos a la placa modelo B, cuando hayaramos determinado el mejor modelo para cada variable. Haremos lo mismo para el archivo de los datos usados para el test final, aunque no los usemos todavía."
   ]
  },
  {
   "cell_type": "code",
   "execution_count": 14,
   "metadata": {},
   "outputs": [],
   "source": [
    "input_features = ['Global_Radiation', 'Diffuse_Radiation', \n",
    "                  'Ultraviolet']\n",
    "\n",
    "output_features = ['A_Optimal_VDC', 'A_Optimal_CDC', 'A_Optimal_PDC']"
   ]
  },
  {
   "cell_type": "code",
   "execution_count": 111,
   "metadata": {},
   "outputs": [],
   "source": [
    "# Datos de los años desde 2014 hasta 2017\n",
    "X_train_dataset = train_dataset[input_features]\n",
    "\n",
    "y_train_dataset = train_dataset[output_features]\n",
    "\n",
    "# Datos de la última semana de 2017\n",
    "X_test_dataset = test_dataset[input_features]\n",
    "\n",
    "y_test_dataset = test_dataset[output_features]"
   ]
  },
  {
   "cell_type": "markdown",
   "metadata": {},
   "source": [
    "##### Graficamos las variables linealmente para conocer su relación de forma visual."
   ]
  },
  {
   "cell_type": "code",
   "execution_count": 112,
   "metadata": {},
   "outputs": [
    {
     "data": {
      "image/png": "[encoded data removed]",
      "text/plain": [
       "<Figure size 432x288 with 1 Axes>"
      ]
     },
     "metadata": {
      "needs_background": "light"
     },
     "output_type": "display_data"
    },
    {
     "data": {
      "image/png": "[encoded data removed]",
      "text/plain": [
       "<Figure size 432x288 with 1 Axes>"
      ]
     },
     "metadata": {
      "needs_background": "light"
     },
     "output_type": "display_data"
    },
    {
     "data": {
      "image/png": "[encoded data removed]",
      "text/plain": [
       "<Figure size 432x288 with 1 Axes>"
      ]
     },
     "metadata": {
      "needs_background": "light"
     },
     "output_type": "display_data"
    },
    {
     "data": {
      "image/png": "[encoded data removed]",
      "text/plain": [
       "<Figure size 432x288 with 1 Axes>"
      ]
     },
     "metadata": {
      "needs_background": "light"
     },
     "output_type": "display_data"
    },
    {
     "data": {
      "image/png": "[encoded data removed]",
      "text/plain": [
       "<Figure size 432x288 with 1 Axes>"
      ]
     },
     "metadata": {
      "needs_background": "light"
     },
     "output_type": "display_data"
    },
    {
     "data": {
      "image/png": "[encoded data removed]",
      "text/plain": [
       "<Figure size 432x288 with 1 Axes>"
      ]
     },
     "metadata": {
      "needs_background": "light"
     },
     "output_type": "display_data"
    },
    {
     "data": {
      "image/png": "[encoded data removed]",
      "text/plain": [
       "<Figure size 432x288 with 1 Axes>"
      ]
     },
     "metadata": {
      "needs_background": "light"
     },
     "output_type": "display_data"
    },
    {
     "data": {
      "image/png": "[encoded data removed]",
      "text/plain": [
       "<Figure size 432x288 with 1 Axes>"
      ]
     },
     "metadata": {
      "needs_background": "light"
     },
     "output_type": "display_data"
    },
    {
     "data": {
      "image/png": "[encoded data removed]",
      "text/plain": [
       "<Figure size 432x288 with 1 Axes>"
      ]
     },
     "metadata": {
      "needs_background": "light"
     },
     "output_type": "display_data"
    }
   ],
   "source": [
    "import matplotlib.pyplot as plt\n",
    "%matplotlib inline\n",
    "\n",
    "# Recorremos todos los features de entreda y los graficamos con los features de salida, uno por uno.\n",
    "for nam_col in X_train_dataset.columns:\n",
    "    for nam_col2 in y_train_dataset.columns:\n",
    "            plt.scatter(X_train_dataset[nam_col], y_train_dataset[nam_col2])\n",
    "            plt.title(nam_col+'/'+nam_col2)\n",
    "            plt.xlabel(nam_col)\n",
    "            plt.ylabel(nam_col2)\n",
    "            plt.show()"
   ]
  },
  {
   "cell_type": "markdown",
   "metadata": {},
   "source": [
    "## Creación de modelo de regresión lineal"
   ]
  },
  {
   "cell_type": "markdown",
   "metadata": {},
   "source": [
    "### 1º- Modelo con datos en bruto."
   ]
  },
  {
   "cell_type": "markdown",
   "metadata": {},
   "source": [
    "Creamos un modelo de regresión lineal para cada una de las variables de salida. Luego testearemos el modelo final. No aplicaremos fase de validación por ser una regresión simple."
   ]
  },
  {
   "cell_type": "markdown",
   "metadata": {},
   "source": [
    "##### Importamos el modelo de regresión de SKlearn."
   ]
  },
  {
   "cell_type": "code",
   "execution_count": 25,
   "metadata": {},
   "outputs": [],
   "source": [
    "from sklearn.linear_model import LinearRegression\n",
    "from sklearn.metrics import mean_absolute_error, r2_score"
   ]
  },
  {
   "cell_type": "markdown",
   "metadata": {},
   "source": [
    "### Modelo para el parámetro de tensión en corriente continua (VDC)."
   ]
  },
  {
   "cell_type": "code",
   "execution_count": 128,
   "metadata": {},
   "outputs": [
    {
     "data": {
      "text/html": [
       "<div>\n",
       "<style scoped>\n",
       "    .dataframe tbody tr th:only-of-type {\n",
       "        vertical-align: middle;\n",
       "    }\n",
       "\n",
       "    .dataframe tbody tr th {\n",
       "        vertical-align: top;\n",
       "    }\n",
       "\n",
       "    .dataframe thead th {\n",
       "        text-align: right;\n",
       "    }\n",
       "</style>\n",
       "<table border=\"1\" class=\"dataframe\">\n",
       "  <thead>\n",
       "    <tr style=\"text-align: right;\">\n",
       "      <th></th>\n",
       "      <th>Predict_VDC</th>\n",
       "      <th>Real_VDC</th>\n",
       "      <th>Residual_VDC</th>\n",
       "      <th>Resid_VDC_%</th>\n",
       "    </tr>\n",
       "  </thead>\n",
       "  <tbody>\n",
       "    <tr>\n",
       "      <th>0</th>\n",
       "      <td>26.378758</td>\n",
       "      <td>19.650</td>\n",
       "      <td>6.728758</td>\n",
       "      <td>34.243043</td>\n",
       "    </tr>\n",
       "    <tr>\n",
       "      <th>1</th>\n",
       "      <td>26.381694</td>\n",
       "      <td>27.625</td>\n",
       "      <td>-1.243306</td>\n",
       "      <td>4.500654</td>\n",
       "    </tr>\n",
       "    <tr>\n",
       "      <th>2</th>\n",
       "      <td>27.216426</td>\n",
       "      <td>29.900</td>\n",
       "      <td>-2.683574</td>\n",
       "      <td>8.975165</td>\n",
       "    </tr>\n",
       "    <tr>\n",
       "      <th>3</th>\n",
       "      <td>27.288532</td>\n",
       "      <td>29.250</td>\n",
       "      <td>-1.961468</td>\n",
       "      <td>6.705874</td>\n",
       "    </tr>\n",
       "    <tr>\n",
       "      <th>4</th>\n",
       "      <td>27.308776</td>\n",
       "      <td>29.800</td>\n",
       "      <td>-2.491224</td>\n",
       "      <td>8.359813</td>\n",
       "    </tr>\n",
       "  </tbody>\n",
       "</table>\n",
       "</div>"
      ],
      "text/plain": [
       "   Predict_VDC  Real_VDC  Residual_VDC  Resid_VDC_%\n",
       "0    26.378758    19.650      6.728758    34.243043\n",
       "1    26.381694    27.625     -1.243306     4.500654\n",
       "2    27.216426    29.900     -2.683574     8.975165\n",
       "3    27.288532    29.250     -1.961468     6.705874\n",
       "4    27.308776    29.800     -2.491224     8.359813"
      ]
     },
     "execution_count": 128,
     "metadata": {},
     "output_type": "execute_result"
    }
   ],
   "source": [
    "# Creating model\n",
    "reg_VDC = LinearRegression()\n",
    "\n",
    "#Training model\n",
    "reg_VDC.fit(X_train_dataset, y_train_dataset[['A_Optimal_VDC']])\n",
    "result_VDC = pd.DataFrame(reg_VDC.predict(X_test_dataset)).rename(columns = {0:'Predict_VDC'})\n",
    "\n",
    "# Adding result in the same dataframe and difference between both\n",
    "result_VDC['Real_VDC'] = y_test_dataset['A_Optimal_VDC']\n",
    "result_VDC['Residual_VDC'] = result_VDC['Predict_VDC']-result_VDC['Real_VDC']\n",
    "result_VDC['Resid_VDC_%'] = np.abs(result_VDC['Residual_VDC']/result_VDC['Real_VDC']*100)\n",
    "\n",
    "result_VDC.head()"
   ]
  },
  {
   "cell_type": "markdown",
   "metadata": {},
   "source": [
    "##### Métricas del modelo: MAE, MAPE y R2"
   ]
  },
  {
   "cell_type": "code",
   "execution_count": 115,
   "metadata": {},
   "outputs": [
    {
     "name": "stdout",
     "output_type": "stream",
     "text": [
      "MAE:  1.7535237391137646\n",
      "MAPE:  26.11130337976907\n",
      "R^2:  -8.535369303049062\n"
     ]
    }
   ],
   "source": [
    "print('MAE: ', np.mean(np.abs(result_VDC['Residual_VDC'])))\n",
    "print('MAPE: ', np.mean(result_VDC['Resid_VDC_%']))\n",
    "print('R^2: ', r2_score(result_VDC['Predict_VDC'],y_test_dataset['A_Optimal_VDC']))"
   ]
  },
  {
   "cell_type": "markdown",
   "metadata": {},
   "source": [
    "### Modelo para el parámetro de corriente en corriente continua (CDC)."
   ]
  },
  {
   "cell_type": "code",
   "execution_count": 131,
   "metadata": {},
   "outputs": [
    {
     "data": {
      "text/html": [
       "<div>\n",
       "<style scoped>\n",
       "    .dataframe tbody tr th:only-of-type {\n",
       "        vertical-align: middle;\n",
       "    }\n",
       "\n",
       "    .dataframe tbody tr th {\n",
       "        vertical-align: top;\n",
       "    }\n",
       "\n",
       "    .dataframe thead th {\n",
       "        text-align: right;\n",
       "    }\n",
       "</style>\n",
       "<table border=\"1\" class=\"dataframe\">\n",
       "  <thead>\n",
       "    <tr style=\"text-align: right;\">\n",
       "      <th></th>\n",
       "      <th>Predict_CDC</th>\n",
       "      <th>Real_CDC</th>\n",
       "      <th>Residual_CDC</th>\n",
       "      <th>Resid_CDC_%</th>\n",
       "    </tr>\n",
       "  </thead>\n",
       "  <tbody>\n",
       "    <tr>\n",
       "      <th>0</th>\n",
       "      <td>0.596451</td>\n",
       "      <td>0.3975</td>\n",
       "      <td>0.198951</td>\n",
       "      <td>50.050462</td>\n",
       "    </tr>\n",
       "    <tr>\n",
       "      <th>1</th>\n",
       "      <td>0.612633</td>\n",
       "      <td>0.5075</td>\n",
       "      <td>0.105133</td>\n",
       "      <td>20.715833</td>\n",
       "    </tr>\n",
       "    <tr>\n",
       "      <th>2</th>\n",
       "      <td>2.214201</td>\n",
       "      <td>3.9650</td>\n",
       "      <td>-1.750799</td>\n",
       "      <td>44.156345</td>\n",
       "    </tr>\n",
       "    <tr>\n",
       "      <th>3</th>\n",
       "      <td>2.326889</td>\n",
       "      <td>4.1300</td>\n",
       "      <td>-1.803111</td>\n",
       "      <td>43.658872</td>\n",
       "    </tr>\n",
       "    <tr>\n",
       "      <th>4</th>\n",
       "      <td>2.363566</td>\n",
       "      <td>4.0500</td>\n",
       "      <td>-1.686434</td>\n",
       "      <td>41.640351</td>\n",
       "    </tr>\n",
       "  </tbody>\n",
       "</table>\n",
       "</div>"
      ],
      "text/plain": [
       "   Predict_CDC  Real_CDC  Residual_CDC  Resid_CDC_%\n",
       "0     0.596451    0.3975      0.198951    50.050462\n",
       "1     0.612633    0.5075      0.105133    20.715833\n",
       "2     2.214201    3.9650     -1.750799    44.156345\n",
       "3     2.326889    4.1300     -1.803111    43.658872\n",
       "4     2.363566    4.0500     -1.686434    41.640351"
      ]
     },
     "execution_count": 131,
     "metadata": {},
     "output_type": "execute_result"
    }
   ],
   "source": [
    "# Creating model\n",
    "reg_CDC = LinearRegression()\n",
    "\n",
    "#Training model\n",
    "reg_CDC.fit(X_train_dataset, y_train_dataset[['A_Optimal_CDC']])\n",
    "result_CDC = pd.DataFrame(reg_CDC.predict(X_test_dataset)).rename(columns = {0:'Predict_CDC'})\n",
    "\n",
    "# Adding result in the same dataframe and difference between both\n",
    "result_CDC['Real_CDC'] = y_test_dataset['A_Optimal_CDC']\n",
    "result_CDC['Residual_CDC'] = result_CDC['Predict_CDC']-result_CDC['Real_CDC']\n",
    "result_CDC['Resid_CDC_%'] = np.abs(result_CDC['Residual_CDC']/result_CDC['Real_CDC']*100)\n",
    "\n",
    "result_CDC.head()"
   ]
  },
  {
   "cell_type": "markdown",
   "metadata": {},
   "source": [
    "##### Métricas del modelo: MAE, MAPE y R2"
   ]
  },
  {
   "cell_type": "code",
   "execution_count": 117,
   "metadata": {},
   "outputs": [
    {
     "name": "stdout",
     "output_type": "stream",
     "text": [
      "MAE:  0.9049927117714806\n",
      "MAPE:  1.0185317610874642\n",
      "R^2:  -0.23930247313484432\n"
     ]
    }
   ],
   "source": [
    "print('MAE: ', np.mean(np.abs(result_CDC['Residual_CDC'])))\n",
    "print('MAPE: ', np.mean(result_CDC['Resid_CDC_%']))\n",
    "print('R^2: ', r2_score(result_CDC['Predict_CDC'],y_test_dataset['A_Optimal_CDC']))"
   ]
  },
  {
   "cell_type": "markdown",
   "metadata": {},
   "source": [
    "### Modelo para el parámetro de potencia en corriente continua (PDC)."
   ]
  },
  {
   "cell_type": "code",
   "execution_count": 133,
   "metadata": {},
   "outputs": [
    {
     "data": {
      "text/html": [
       "<div>\n",
       "<style scoped>\n",
       "    .dataframe tbody tr th:only-of-type {\n",
       "        vertical-align: middle;\n",
       "    }\n",
       "\n",
       "    .dataframe tbody tr th {\n",
       "        vertical-align: top;\n",
       "    }\n",
       "\n",
       "    .dataframe thead th {\n",
       "        text-align: right;\n",
       "    }\n",
       "</style>\n",
       "<table border=\"1\" class=\"dataframe\">\n",
       "  <thead>\n",
       "    <tr style=\"text-align: right;\">\n",
       "      <th></th>\n",
       "      <th>Predict_PDC</th>\n",
       "      <th>Real_PDC</th>\n",
       "      <th>Residual_PDC</th>\n",
       "      <th>Resid_PDC_%</th>\n",
       "    </tr>\n",
       "  </thead>\n",
       "  <tbody>\n",
       "    <tr>\n",
       "      <th>0</th>\n",
       "      <td>17.318676</td>\n",
       "      <td>7.810875</td>\n",
       "      <td>9.507801</td>\n",
       "      <td>121.725166</td>\n",
       "    </tr>\n",
       "    <tr>\n",
       "      <th>1</th>\n",
       "      <td>17.759358</td>\n",
       "      <td>9.947000</td>\n",
       "      <td>7.812358</td>\n",
       "      <td>78.539844</td>\n",
       "    </tr>\n",
       "    <tr>\n",
       "      <th>2</th>\n",
       "      <td>63.212482</td>\n",
       "      <td>118.553500</td>\n",
       "      <td>-55.341018</td>\n",
       "      <td>46.680206</td>\n",
       "    </tr>\n",
       "    <tr>\n",
       "      <th>3</th>\n",
       "      <td>66.449445</td>\n",
       "      <td>120.802500</td>\n",
       "      <td>-54.353055</td>\n",
       "      <td>44.993320</td>\n",
       "    </tr>\n",
       "    <tr>\n",
       "      <th>4</th>\n",
       "      <td>67.485013</td>\n",
       "      <td>120.690000</td>\n",
       "      <td>-53.204987</td>\n",
       "      <td>44.084006</td>\n",
       "    </tr>\n",
       "  </tbody>\n",
       "</table>\n",
       "</div>"
      ],
      "text/plain": [
       "   Predict_PDC    Real_PDC  Residual_PDC  Resid_PDC_%\n",
       "0    17.318676    7.810875      9.507801   121.725166\n",
       "1    17.759358    9.947000      7.812358    78.539844\n",
       "2    63.212482  118.553500    -55.341018    46.680206\n",
       "3    66.449445  120.802500    -54.353055    44.993320\n",
       "4    67.485013  120.690000    -53.204987    44.084006"
      ]
     },
     "execution_count": 133,
     "metadata": {},
     "output_type": "execute_result"
    }
   ],
   "source": [
    "# Creating model\n",
    "reg_PDC = LinearRegression()\n",
    "\n",
    "#Training model\n",
    "reg_PDC.fit(X_train_dataset, y_train_dataset[['A_Optimal_PDC']])\n",
    "result_PDC = pd.DataFrame(reg_PDC.predict(X_test_dataset)).rename(columns = {0:'Predict_PDC'})\n",
    "\n",
    "# Adding result in the same dataframe and difference between both\n",
    "result_PDC['Real_PDC'] = y_test_dataset['A_Optimal_PDC']\n",
    "result_PDC['Residual_PDC'] = result_PDC['Predict_PDC']-result_PDC['Real_PDC']\n",
    "result_PDC['Resid_PDC_%'] = np.abs(result_PDC['Residual_PDC']/result_PDC['Real_PDC']*100)\n",
    "\n",
    "result_PDC.head()"
   ]
  },
  {
   "cell_type": "markdown",
   "metadata": {},
   "source": [
    "##### Métricas del modelo: MAE, MAPE y R2"
   ]
  },
  {
   "cell_type": "code",
   "execution_count": 119,
   "metadata": {},
   "outputs": [
    {
     "name": "stdout",
     "output_type": "stream",
     "text": [
      "MAE:  26.857066545097886\n",
      "MAPE:  50.68798478104361\n",
      "R^2:  -0.34135536277777456\n"
     ]
    }
   ],
   "source": [
    "print('MAE: ', np.mean(np.abs(result_PDC['Residual_PDC'])))\n",
    "print('MAPE: ', np.mean(result_PDC['Resid_PDC_%']))\n",
    "print('R^2: ', r2_score(result_PDC['Predict_PDC'],y_test_dataset['A_Optimal_PDC']))"
   ]
  },
  {
   "cell_type": "markdown",
   "metadata": {},
   "source": [
    "### 2º- Datos normalizados"
   ]
  },
  {
   "cell_type": "markdown",
   "metadata": {},
   "source": [
    "Debido a que las métricas nos dan valores muy malos, vamos a normalizar los datos de entrada para intentar mejorar los resultados."
   ]
  },
  {
   "cell_type": "code",
   "execution_count": 19,
   "metadata": {},
   "outputs": [],
   "source": [
    "from sklearn.preprocessing import MinMaxScaler"
   ]
  },
  {
   "cell_type": "markdown",
   "metadata": {},
   "source": [
    "##### Normalizamos los valores de entrada de los dataset de train y test."
   ]
  },
  {
   "cell_type": "code",
   "execution_count": 20,
   "metadata": {},
   "outputs": [],
   "source": [
    "scaler_train = MinMaxScaler()\n",
    "X_train_sc = scaler_train.fit_transform(X_train_dataset)\n",
    "X_train_sc = pd.DataFrame(X_train_sc, columns=['Global_Radiation', 'Diffuse_Radiation','Ultraviolet'])\n",
    "\n",
    "scaler_test = MinMaxScaler()\n",
    "X_test_sc = scaler_test.fit_transform(X_test_dataset)\n",
    "X_test_sc = pd.DataFrame(X_test_sc, columns=['Global_Radiation', 'Diffuse_Radiation', 'Ultraviolet'])"
   ]
  },
  {
   "cell_type": "markdown",
   "metadata": {},
   "source": [
    "### Modelo para el parámetro de tensión en corriente continua (VDC)."
   ]
  },
  {
   "cell_type": "code",
   "execution_count": 151,
   "metadata": {
    "scrolled": true
   },
   "outputs": [
    {
     "data": {
      "text/html": [
       "<div>\n",
       "<style scoped>\n",
       "    .dataframe tbody tr th:only-of-type {\n",
       "        vertical-align: middle;\n",
       "    }\n",
       "\n",
       "    .dataframe tbody tr th {\n",
       "        vertical-align: top;\n",
       "    }\n",
       "\n",
       "    .dataframe thead th {\n",
       "        text-align: right;\n",
       "    }\n",
       "</style>\n",
       "<table border=\"1\" class=\"dataframe\">\n",
       "  <thead>\n",
       "    <tr style=\"text-align: right;\">\n",
       "      <th></th>\n",
       "      <th>Predict_VDC</th>\n",
       "      <th>Real_VDC</th>\n",
       "      <th>Residual_VDC</th>\n",
       "      <th>Resid_VDC_%</th>\n",
       "    </tr>\n",
       "  </thead>\n",
       "  <tbody>\n",
       "    <tr>\n",
       "      <th>0</th>\n",
       "      <td>26.444353</td>\n",
       "      <td>19.650</td>\n",
       "      <td>6.794353</td>\n",
       "      <td>34.576861</td>\n",
       "    </tr>\n",
       "    <tr>\n",
       "      <th>1</th>\n",
       "      <td>26.441088</td>\n",
       "      <td>27.625</td>\n",
       "      <td>-1.183912</td>\n",
       "      <td>4.285656</td>\n",
       "    </tr>\n",
       "    <tr>\n",
       "      <th>2</th>\n",
       "      <td>27.621811</td>\n",
       "      <td>29.900</td>\n",
       "      <td>-2.278189</td>\n",
       "      <td>7.619362</td>\n",
       "    </tr>\n",
       "    <tr>\n",
       "      <th>3</th>\n",
       "      <td>27.739872</td>\n",
       "      <td>29.250</td>\n",
       "      <td>-1.510128</td>\n",
       "      <td>5.162831</td>\n",
       "    </tr>\n",
       "    <tr>\n",
       "      <th>4</th>\n",
       "      <td>27.767171</td>\n",
       "      <td>29.800</td>\n",
       "      <td>-2.032829</td>\n",
       "      <td>6.821573</td>\n",
       "    </tr>\n",
       "  </tbody>\n",
       "</table>\n",
       "</div>"
      ],
      "text/plain": [
       "   Predict_VDC  Real_VDC  Residual_VDC  Resid_VDC_%\n",
       "0    26.444353    19.650      6.794353    34.576861\n",
       "1    26.441088    27.625     -1.183912     4.285656\n",
       "2    27.621811    29.900     -2.278189     7.619362\n",
       "3    27.739872    29.250     -1.510128     5.162831\n",
       "4    27.767171    29.800     -2.032829     6.821573"
      ]
     },
     "execution_count": 151,
     "metadata": {},
     "output_type": "execute_result"
    }
   ],
   "source": [
    "# Creating model\n",
    "reg_VDC = LinearRegression()\n",
    "\n",
    "#Training model\n",
    "reg_VDC.fit(X_train_sc, y_train_dataset[['A_Optimal_VDC']])\n",
    "result_VDC = pd.DataFrame(reg_VDC.predict(X_test_sc)).rename(columns = {0:'Predict_VDC'})\n",
    "\n",
    "# Adding result in the same dataframe and difference between both\n",
    "resultN_VDC['Real_VDC'] = y_test_dataset['A_Optimal_VDC']\n",
    "resultN_VDC['Residual_VDC'] = resultN_VDC['Predict_VDC']-resultN_VDC['Real_VDC']\n",
    "resultN_VDC['Resid_VDC_%'] = np.abs(resultN_VDC['Residual_VDC']/resultN_VDC['Real_VDC']*100)\n",
    "\n",
    "resultN_VDC.head()"
   ]
  },
  {
   "cell_type": "markdown",
   "metadata": {},
   "source": [
    "##### Métricas del modelo: MAE, MAPE y R2"
   ]
  },
  {
   "cell_type": "code",
   "execution_count": 125,
   "metadata": {},
   "outputs": [
    {
     "name": "stdout",
     "output_type": "stream",
     "text": [
      "MAE:  1.5642952127539422\n",
      "MAPE:  26.436151234216986\n",
      "R^2:  -2.4105190822354787\n"
     ]
    }
   ],
   "source": [
    "print('MAE: ', np.mean(np.abs(resultN_VDC['Residual_VDC'])))\n",
    "print('MAPE: ', np.mean(resultN_VDC['Resid_VDC_%']))\n",
    "print('R^2: ', r2_score(resultN_VDC['Predict_VDC'],y_test_dataset['A_Optimal_VDC']))"
   ]
  },
  {
   "cell_type": "markdown",
   "metadata": {},
   "source": [
    "### Modelo para el parámetro de corriente en corriente continua (CDC)."
   ]
  },
  {
   "cell_type": "code",
   "execution_count": 138,
   "metadata": {
    "scrolled": false
   },
   "outputs": [
    {
     "data": {
      "text/html": [
       "<div>\n",
       "<style scoped>\n",
       "    .dataframe tbody tr th:only-of-type {\n",
       "        vertical-align: middle;\n",
       "    }\n",
       "\n",
       "    .dataframe tbody tr th {\n",
       "        vertical-align: top;\n",
       "    }\n",
       "\n",
       "    .dataframe thead th {\n",
       "        text-align: right;\n",
       "    }\n",
       "</style>\n",
       "<table border=\"1\" class=\"dataframe\">\n",
       "  <thead>\n",
       "    <tr style=\"text-align: right;\">\n",
       "      <th></th>\n",
       "      <th>Predict_CDC</th>\n",
       "      <th>Real_CDC</th>\n",
       "      <th>Residual_CDC</th>\n",
       "      <th>Resid_CDC_%</th>\n",
       "    </tr>\n",
       "  </thead>\n",
       "  <tbody>\n",
       "    <tr>\n",
       "      <th>0</th>\n",
       "      <td>0.655120</td>\n",
       "      <td>0.3975</td>\n",
       "      <td>0.257620</td>\n",
       "      <td>64.810071</td>\n",
       "    </tr>\n",
       "    <tr>\n",
       "      <th>1</th>\n",
       "      <td>0.679351</td>\n",
       "      <td>0.5075</td>\n",
       "      <td>0.171851</td>\n",
       "      <td>33.862257</td>\n",
       "    </tr>\n",
       "    <tr>\n",
       "      <th>2</th>\n",
       "      <td>3.377540</td>\n",
       "      <td>3.9650</td>\n",
       "      <td>-0.587460</td>\n",
       "      <td>14.816136</td>\n",
       "    </tr>\n",
       "    <tr>\n",
       "      <th>3</th>\n",
       "      <td>3.573021</td>\n",
       "      <td>4.1300</td>\n",
       "      <td>-0.556979</td>\n",
       "      <td>13.486173</td>\n",
       "    </tr>\n",
       "    <tr>\n",
       "      <th>4</th>\n",
       "      <td>3.632921</td>\n",
       "      <td>4.0500</td>\n",
       "      <td>-0.417079</td>\n",
       "      <td>10.298243</td>\n",
       "    </tr>\n",
       "  </tbody>\n",
       "</table>\n",
       "</div>"
      ],
      "text/plain": [
       "   Predict_CDC  Real_CDC  Residual_CDC  Resid_CDC_%\n",
       "0     0.655120    0.3975      0.257620    64.810071\n",
       "1     0.679351    0.5075      0.171851    33.862257\n",
       "2     3.377540    3.9650     -0.587460    14.816136\n",
       "3     3.573021    4.1300     -0.556979    13.486173\n",
       "4     3.632921    4.0500     -0.417079    10.298243"
      ]
     },
     "execution_count": 138,
     "metadata": {},
     "output_type": "execute_result"
    }
   ],
   "source": [
    "# Creating model\n",
    "reg_CDC = LinearRegression()\n",
    "\n",
    "#Training model\n",
    "reg_CDC.fit(X_train_sc, y_train_dataset[['A_Optimal_CDC']])\n",
    "resultN_CDC = pd.DataFrame(reg_CDC.predict(X_test_sc)).rename(columns = {0:'Predict_CDC'})\n",
    "\n",
    "# Adding result in the same dataframe and difference between both\n",
    "resultN_CDC['Real_CDC'] = y_test_dataset['A_Optimal_CDC']\n",
    "resultN_CDC['Residual_CDC'] = resultN_CDC['Predict_CDC']-resultN_CDC['Real_CDC']\n",
    "resultN_CDC['Resid_CDC_%'] = np.abs(resultN_CDC['Residual_CDC']/resultN_CDC['Real_CDC']*100)\n",
    "\n",
    "resultN_CDC.head()"
   ]
  },
  {
   "cell_type": "markdown",
   "metadata": {},
   "source": [
    "##### Métricas del modelo: MAE, MAPE y R2"
   ]
  },
  {
   "cell_type": "code",
   "execution_count": 139,
   "metadata": {},
   "outputs": [
    {
     "name": "stdout",
     "output_type": "stream",
     "text": [
      "MAE:  0.838473421922051\n",
      "MAPE:  128.93638629633503\n",
      "R^2:  0.6448075446978627\n"
     ]
    }
   ],
   "source": [
    "print('MAE: ', np.mean(np.abs(resultN_CDC['Residual_CDC'])))\n",
    "print('MAPE: ', np.mean(resultN_CDC['Resid_CDC_%']))\n",
    "print('R^2: ', r2_score(resultN_CDC['Predict_CDC'],y_test_dataset['A_Optimal_CDC']))"
   ]
  },
  {
   "cell_type": "markdown",
   "metadata": {},
   "source": [
    "### Modelo para el parámetro de potencia en corriente continua (PDC)."
   ]
  },
  {
   "cell_type": "code",
   "execution_count": 140,
   "metadata": {},
   "outputs": [
    {
     "data": {
      "text/html": [
       "<div>\n",
       "<style scoped>\n",
       "    .dataframe tbody tr th:only-of-type {\n",
       "        vertical-align: middle;\n",
       "    }\n",
       "\n",
       "    .dataframe tbody tr th {\n",
       "        vertical-align: top;\n",
       "    }\n",
       "\n",
       "    .dataframe thead th {\n",
       "        text-align: right;\n",
       "    }\n",
       "</style>\n",
       "<table border=\"1\" class=\"dataframe\">\n",
       "  <thead>\n",
       "    <tr style=\"text-align: right;\">\n",
       "      <th></th>\n",
       "      <th>Predict_PDC</th>\n",
       "      <th>Real_PDC</th>\n",
       "      <th>Residual_PDC</th>\n",
       "      <th>Resid_PDC_%</th>\n",
       "    </tr>\n",
       "  </thead>\n",
       "  <tbody>\n",
       "    <tr>\n",
       "      <th>0</th>\n",
       "      <td>18.962320</td>\n",
       "      <td>7.810875</td>\n",
       "      <td>11.151445</td>\n",
       "      <td>142.768197</td>\n",
       "    </tr>\n",
       "    <tr>\n",
       "      <th>1</th>\n",
       "      <td>19.591055</td>\n",
       "      <td>9.947000</td>\n",
       "      <td>9.644055</td>\n",
       "      <td>96.954411</td>\n",
       "    </tr>\n",
       "    <tr>\n",
       "      <th>2</th>\n",
       "      <td>95.052479</td>\n",
       "      <td>118.553500</td>\n",
       "      <td>-23.501021</td>\n",
       "      <td>19.823135</td>\n",
       "    </tr>\n",
       "    <tr>\n",
       "      <th>3</th>\n",
       "      <td>100.619632</td>\n",
       "      <td>120.802500</td>\n",
       "      <td>-20.182868</td>\n",
       "      <td>16.707327</td>\n",
       "    </tr>\n",
       "    <tr>\n",
       "      <th>4</th>\n",
       "      <td>102.277498</td>\n",
       "      <td>120.690000</td>\n",
       "      <td>-18.412502</td>\n",
       "      <td>15.256030</td>\n",
       "    </tr>\n",
       "  </tbody>\n",
       "</table>\n",
       "</div>"
      ],
      "text/plain": [
       "   Predict_PDC    Real_PDC  Residual_PDC  Resid_PDC_%\n",
       "0    18.962320    7.810875     11.151445   142.768197\n",
       "1    19.591055    9.947000      9.644055    96.954411\n",
       "2    95.052479  118.553500    -23.501021    19.823135\n",
       "3   100.619632  120.802500    -20.182868    16.707327\n",
       "4   102.277498  120.690000    -18.412502    15.256030"
      ]
     },
     "execution_count": 140,
     "metadata": {},
     "output_type": "execute_result"
    }
   ],
   "source": [
    "# Creating model\n",
    "reg_PDC = LinearRegression()\n",
    "\n",
    "#Training model\n",
    "reg_PDC.fit(X_train_sc, y_train_dataset[['A_Optimal_PDC']])\n",
    "resultN_PDC = pd.DataFrame(reg_PDC.predict(X_test_sc)).rename(columns = {0:'Predict_PDC'})\n",
    "\n",
    "# Adding result in the same dataframe and difference between both\n",
    "resultN_PDC['Real_PDC'] = y_test_dataset['A_Optimal_PDC']\n",
    "resultN_PDC['Residual_PDC'] = resultN_PDC['Predict_PDC']-resultN_PDC['Real_PDC']\n",
    "resultN_PDC['Resid_PDC_%'] = np.abs(resultN_PDC['Residual_PDC']/resultN_PDC['Real_PDC']*100)\n",
    "\n",
    "resultN_PDC.head()"
   ]
  },
  {
   "cell_type": "markdown",
   "metadata": {},
   "source": [
    "##### Métricas del modelo: MAE, MAPE y R2"
   ]
  },
  {
   "cell_type": "code",
   "execution_count": 141,
   "metadata": {},
   "outputs": [
    {
     "name": "stdout",
     "output_type": "stream",
     "text": [
      "MAE:  24.328457350540855\n",
      "MAPE:  139.41387139599414\n",
      "R^2:  0.6221774360088022\n"
     ]
    }
   ],
   "source": [
    "print('MAE: ', np.mean(np.abs(resultN_PDC['Residual_PDC'])))\n",
    "print('MAPE: ', np.mean(resultN_PDC['Resid_PDC_%']))\n",
    "print('R^2: ', r2_score(resultN_PDC['Predict_PDC'],y_test_dataset['A_Optimal_PDC']))"
   ]
  },
  {
   "cell_type": "markdown",
   "metadata": {},
   "source": [
    "### Conclusiónes sobre el modelo de regresión lineal\n",
    "\n",
    "Como se puede observar, los datos mejoran considerablemente cuando se aplica normalización de los parámetros de entrada, sobretodo para las variables CDC y PDC.\n",
    "\n",
    "La variable VDC, no posee ninguna relación lineal con el resto de valores de entrada, algo que se puede ver en la matriz de coeficientes de correlación de Pearson. Por lo tanto, dicha variable no se puede predecir mediante un modelo de regresión lineal. Probaremos si somos capaces de predecirla mediante otro modelo."
   ]
  },
  {
   "cell_type": "markdown",
   "metadata": {},
   "source": [
    "## Creación de modelo Arbol de decisión."
   ]
  },
  {
   "cell_type": "markdown",
   "metadata": {},
   "source": [
    "### Importamos las librerías necesarias para la creación del modelo"
   ]
  },
  {
   "cell_type": "code",
   "execution_count": 16,
   "metadata": {},
   "outputs": [],
   "source": [
    "from sklearn.tree import DecisionTreeRegressor"
   ]
  },
  {
   "cell_type": "markdown",
   "metadata": {},
   "source": [
    "#### Recuperamos los datos para evitar que hayan sido modificados en el proceso"
   ]
  },
  {
   "cell_type": "code",
   "execution_count": 17,
   "metadata": {},
   "outputs": [],
   "source": [
    "# Datos de los años desde 2014 hasta 2017\n",
    "X_train_dataset = train_dataset[input_features]\n",
    "\n",
    "y_train_dataset = train_dataset[output_features]\n",
    "\n",
    "# Datos de la última semana de 2017\n",
    "X_test_dataset = test_dataset[input_features]\n",
    "\n",
    "y_test_dataset = test_dataset[output_features]"
   ]
  },
  {
   "cell_type": "markdown",
   "metadata": {},
   "source": [
    "### Normalización de los datos\n",
    "\n",
    "Debido a los resultados obtenidos en las pruebas anteriores, se procederá a trabajar directamente con los datos normalizados, ya que los resultados mejoran considerablemente."
   ]
  },
  {
   "cell_type": "code",
   "execution_count": 21,
   "metadata": {},
   "outputs": [],
   "source": [
    "scaler_train = MinMaxScaler()\n",
    "X_train_sc = scaler_train.fit_transform(X_train_dataset)\n",
    "X_train_sc = pd.DataFrame(X_train_sc, columns=['Global_Radiation', 'Diffuse_Radiation','Ultraviolet'])\n",
    "\n",
    "scaler_test = MinMaxScaler()\n",
    "X_test_sc = scaler_test.fit_transform(X_test_dataset)\n",
    "X_test_sc = pd.DataFrame(X_test_sc, columns=['Global_Radiation', 'Diffuse_Radiation', 'Ultraviolet'])"
   ]
  },
  {
   "cell_type": "markdown",
   "metadata": {},
   "source": [
    "### 1º- Creación de modelo de profundidad 3\n",
    "\n",
    "Inicialmente, probaremos con el modelo de 3 capas para ver si los resultados mejoran frente al modelo de regresión lineal. Luego, intentaremos regularizar el modelo, buscando cuales son los parámetros más óptimos para el mismo."
   ]
  },
  {
   "cell_type": "markdown",
   "metadata": {},
   "source": [
    "### Modelo para el parámetro de tensión en corriente continua (VDC)."
   ]
  },
  {
   "cell_type": "code",
   "execution_count": 22,
   "metadata": {
    "scrolled": true
   },
   "outputs": [
    {
     "data": {
      "text/html": [
       "<div>\n",
       "<style scoped>\n",
       "    .dataframe tbody tr th:only-of-type {\n",
       "        vertical-align: middle;\n",
       "    }\n",
       "\n",
       "    .dataframe tbody tr th {\n",
       "        vertical-align: top;\n",
       "    }\n",
       "\n",
       "    .dataframe thead th {\n",
       "        text-align: right;\n",
       "    }\n",
       "</style>\n",
       "<table border=\"1\" class=\"dataframe\">\n",
       "  <thead>\n",
       "    <tr style=\"text-align: right;\">\n",
       "      <th></th>\n",
       "      <th>Predict_VDC</th>\n",
       "      <th>Real_VDC</th>\n",
       "      <th>Residual_VDC</th>\n",
       "      <th>Resid_VDC_%</th>\n",
       "    </tr>\n",
       "  </thead>\n",
       "  <tbody>\n",
       "    <tr>\n",
       "      <th>0</th>\n",
       "      <td>24.821733</td>\n",
       "      <td>19.650</td>\n",
       "      <td>5.171733</td>\n",
       "      <td>26.319252</td>\n",
       "    </tr>\n",
       "    <tr>\n",
       "      <th>1</th>\n",
       "      <td>24.821733</td>\n",
       "      <td>27.625</td>\n",
       "      <td>-2.803267</td>\n",
       "      <td>10.147573</td>\n",
       "    </tr>\n",
       "    <tr>\n",
       "      <th>2</th>\n",
       "      <td>28.334643</td>\n",
       "      <td>29.900</td>\n",
       "      <td>-1.565357</td>\n",
       "      <td>5.235308</td>\n",
       "    </tr>\n",
       "    <tr>\n",
       "      <th>3</th>\n",
       "      <td>28.334643</td>\n",
       "      <td>29.250</td>\n",
       "      <td>-0.915357</td>\n",
       "      <td>3.129426</td>\n",
       "    </tr>\n",
       "    <tr>\n",
       "      <th>4</th>\n",
       "      <td>28.334643</td>\n",
       "      <td>29.800</td>\n",
       "      <td>-1.465357</td>\n",
       "      <td>4.917306</td>\n",
       "    </tr>\n",
       "  </tbody>\n",
       "</table>\n",
       "</div>"
      ],
      "text/plain": [
       "   Predict_VDC  Real_VDC  Residual_VDC  Resid_VDC_%\n",
       "0    24.821733    19.650      5.171733    26.319252\n",
       "1    24.821733    27.625     -2.803267    10.147573\n",
       "2    28.334643    29.900     -1.565357     5.235308\n",
       "3    28.334643    29.250     -0.915357     3.129426\n",
       "4    28.334643    29.800     -1.465357     4.917306"
      ]
     },
     "execution_count": 22,
     "metadata": {},
     "output_type": "execute_result"
    }
   ],
   "source": [
    "# Creating model\n",
    "regd_VDC = DecisionTreeRegressor(max_depth=3)\n",
    "\n",
    "#Training model\n",
    "regd_VDC.fit(X_train_sc, y_train_dataset[['A_Optimal_VDC']])\n",
    "resultD_VDC = pd.DataFrame(regd_VDC.predict(X_test_sc)).rename(columns = {0:'Predict_VDC'})\n",
    "\n",
    "# Adding result in the same dataframe and difference between both\n",
    "resultD_VDC['Real_VDC'] = y_test_dataset['A_Optimal_VDC']\n",
    "resultD_VDC['Residual_VDC'] = resultD_VDC['Predict_VDC']-resultD_VDC['Real_VDC']\n",
    "resultD_VDC['Resid_VDC_%'] = np.abs(resultD_VDC['Residual_VDC']/resultD_VDC['Real_VDC']*100)\n",
    "\n",
    "resultD_VDC.head()"
   ]
  },
  {
   "cell_type": "markdown",
   "metadata": {},
   "source": [
    "##### Métricas del modelo: MAE, MAPE, R2 y Correlación"
   ]
  },
  {
   "cell_type": "code",
   "execution_count": 24,
   "metadata": {},
   "outputs": [
    {
     "name": "stdout",
     "output_type": "stream",
     "text": [
      "MAE:  1.393118120482622\n",
      "MAPE:  5.077882696639895\n"
     ]
    },
    {
     "ename": "NameError",
     "evalue": "name 'r2_score' is not defined",
     "output_type": "error",
     "traceback": [
      "\u001b[0;31m---------------------------------------------------------------------------\u001b[0m",
      "\u001b[0;31mNameError\u001b[0m                                 Traceback (most recent call last)",
      "\u001b[0;32m<ipython-input-24-0f990c707836>\u001b[0m in \u001b[0;36m<module>\u001b[0;34m\u001b[0m\n\u001b[1;32m      1\u001b[0m \u001b[0mprint\u001b[0m\u001b[0;34m(\u001b[0m\u001b[0;34m'MAE: '\u001b[0m\u001b[0;34m,\u001b[0m \u001b[0mnp\u001b[0m\u001b[0;34m.\u001b[0m\u001b[0mmean\u001b[0m\u001b[0;34m(\u001b[0m\u001b[0mnp\u001b[0m\u001b[0;34m.\u001b[0m\u001b[0mabs\u001b[0m\u001b[0;34m(\u001b[0m\u001b[0mresultD_VDC\u001b[0m\u001b[0;34m[\u001b[0m\u001b[0;34m'Residual_VDC'\u001b[0m\u001b[0;34m]\u001b[0m\u001b[0;34m)\u001b[0m\u001b[0;34m)\u001b[0m\u001b[0;34m)\u001b[0m\u001b[0;34m\u001b[0m\u001b[0;34m\u001b[0m\u001b[0m\n\u001b[1;32m      2\u001b[0m \u001b[0mprint\u001b[0m\u001b[0;34m(\u001b[0m\u001b[0;34m'MAPE: '\u001b[0m\u001b[0;34m,\u001b[0m \u001b[0mnp\u001b[0m\u001b[0;34m.\u001b[0m\u001b[0mmean\u001b[0m\u001b[0;34m(\u001b[0m\u001b[0mresultD_VDC\u001b[0m\u001b[0;34m[\u001b[0m\u001b[0;34m'Resid_VDC_%'\u001b[0m\u001b[0;34m]\u001b[0m\u001b[0;34m)\u001b[0m\u001b[0;34m)\u001b[0m\u001b[0;34m\u001b[0m\u001b[0;34m\u001b[0m\u001b[0m\n\u001b[0;32m----> 3\u001b[0;31m \u001b[0mprint\u001b[0m\u001b[0;34m(\u001b[0m\u001b[0;34m'R^2: '\u001b[0m\u001b[0;34m,\u001b[0m \u001b[0mr2_score\u001b[0m\u001b[0;34m(\u001b[0m\u001b[0mresultD_VDC\u001b[0m\u001b[0;34m[\u001b[0m\u001b[0;34m'Predict_VDC'\u001b[0m\u001b[0;34m]\u001b[0m\u001b[0;34m,\u001b[0m\u001b[0my_test_dataset\u001b[0m\u001b[0;34m[\u001b[0m\u001b[0;34m'A_Optimal_VDC'\u001b[0m\u001b[0;34m]\u001b[0m\u001b[0;34m)\u001b[0m\u001b[0;34m)\u001b[0m\u001b[0;34m\u001b[0m\u001b[0;34m\u001b[0m\u001b[0m\n\u001b[0m\u001b[1;32m      4\u001b[0m \u001b[0mprint\u001b[0m\u001b[0;34m(\u001b[0m\u001b[0;34m'Correlation: '\u001b[0m\u001b[0;34m,\u001b[0m \u001b[0mnp\u001b[0m\u001b[0;34m.\u001b[0m\u001b[0mcorrcoef\u001b[0m\u001b[0;34m(\u001b[0m\u001b[0mresultD_VDC\u001b[0m\u001b[0;34m[\u001b[0m\u001b[0;34m'Predict_VDC'\u001b[0m\u001b[0;34m]\u001b[0m\u001b[0;34m,\u001b[0m\u001b[0my_test_dataset\u001b[0m\u001b[0;34m[\u001b[0m\u001b[0;34m'A_Optimal_VDC'\u001b[0m\u001b[0;34m]\u001b[0m\u001b[0;34m)\u001b[0m\u001b[0;34m[\u001b[0m\u001b[0;36m0\u001b[0m\u001b[0;34m]\u001b[0m\u001b[0;34m[\u001b[0m\u001b[0;36m1\u001b[0m\u001b[0;34m]\u001b[0m\u001b[0;34m)\u001b[0m\u001b[0;34m\u001b[0m\u001b[0;34m\u001b[0m\u001b[0m\n",
      "\u001b[0;31mNameError\u001b[0m: name 'r2_score' is not defined"
     ]
    }
   ],
   "source": [
    "print('MAE: ', np.mean(np.abs(resultD_VDC['Residual_VDC'])))\n",
    "print('MAPE: ', np.mean(resultD_VDC['Resid_VDC_%']))\n",
    "print('R^2: ', r2_score(resultD_VDC['Predict_VDC'],y_test_dataset['A_Optimal_VDC']))\n",
    "print('Correlation: ', np.corrcoef(resultD_VDC['Predict_VDC'],y_test_dataset['A_Optimal_VDC'])[0][1])"
   ]
  },
  {
   "cell_type": "markdown",
   "metadata": {},
   "source": [
    "### Modelo para el parámetro de corriente en corriente continua (CDC)."
   ]
  },
  {
   "cell_type": "code",
   "execution_count": 160,
   "metadata": {
    "scrolled": true
   },
   "outputs": [
    {
     "data": {
      "text/html": [
       "<div>\n",
       "<style scoped>\n",
       "    .dataframe tbody tr th:only-of-type {\n",
       "        vertical-align: middle;\n",
       "    }\n",
       "\n",
       "    .dataframe tbody tr th {\n",
       "        vertical-align: top;\n",
       "    }\n",
       "\n",
       "    .dataframe thead th {\n",
       "        text-align: right;\n",
       "    }\n",
       "</style>\n",
       "<table border=\"1\" class=\"dataframe\">\n",
       "  <thead>\n",
       "    <tr style=\"text-align: right;\">\n",
       "      <th></th>\n",
       "      <th>Predict_CDC</th>\n",
       "      <th>Real_CDC</th>\n",
       "      <th>Residual_CDC</th>\n",
       "      <th>Resid_CDC_%</th>\n",
       "    </tr>\n",
       "  </thead>\n",
       "  <tbody>\n",
       "    <tr>\n",
       "      <th>0</th>\n",
       "      <td>0.423392</td>\n",
       "      <td>0.3975</td>\n",
       "      <td>0.025892</td>\n",
       "      <td>6.513613</td>\n",
       "    </tr>\n",
       "    <tr>\n",
       "      <th>1</th>\n",
       "      <td>0.423392</td>\n",
       "      <td>0.5075</td>\n",
       "      <td>-0.084108</td>\n",
       "      <td>16.573081</td>\n",
       "    </tr>\n",
       "    <tr>\n",
       "      <th>2</th>\n",
       "      <td>3.903186</td>\n",
       "      <td>3.9650</td>\n",
       "      <td>-0.061814</td>\n",
       "      <td>1.558998</td>\n",
       "    </tr>\n",
       "    <tr>\n",
       "      <th>3</th>\n",
       "      <td>3.903186</td>\n",
       "      <td>4.1300</td>\n",
       "      <td>-0.226814</td>\n",
       "      <td>5.491871</td>\n",
       "    </tr>\n",
       "    <tr>\n",
       "      <th>4</th>\n",
       "      <td>3.903186</td>\n",
       "      <td>4.0500</td>\n",
       "      <td>-0.146814</td>\n",
       "      <td>3.625044</td>\n",
       "    </tr>\n",
       "  </tbody>\n",
       "</table>\n",
       "</div>"
      ],
      "text/plain": [
       "   Predict_CDC  Real_CDC  Residual_CDC  Resid_CDC_%\n",
       "0     0.423392    0.3975      0.025892     6.513613\n",
       "1     0.423392    0.5075     -0.084108    16.573081\n",
       "2     3.903186    3.9650     -0.061814     1.558998\n",
       "3     3.903186    4.1300     -0.226814     5.491871\n",
       "4     3.903186    4.0500     -0.146814     3.625044"
      ]
     },
     "execution_count": 160,
     "metadata": {},
     "output_type": "execute_result"
    }
   ],
   "source": [
    "# Creating model\n",
    "regd_CDC = DecisionTreeRegressor(max_depth=3)\n",
    "\n",
    "#Training model\n",
    "regd_CDC.fit(X_train_sc, y_train_dataset[['A_Optimal_CDC']])\n",
    "resultD_CDC = pd.DataFrame(regd_CDC.predict(X_test_sc)).rename(columns = {0:'Predict_CDC'})\n",
    "\n",
    "# Adding result in the same dataframe and difference between both\n",
    "resultD_CDC['Real_CDC'] = y_test_dataset['A_Optimal_CDC']\n",
    "resultD_CDC['Residual_CDC'] = resultD_CDC['Predict_CDC']-resultD_CDC['Real_CDC']\n",
    "resultD_CDC['Resid_CDC_%'] = np.abs(resultD_CDC['Residual_CDC']/resultD_CDC['Real_CDC']*100)\n",
    "\n",
    "resultD_CDC.head()"
   ]
  },
  {
   "cell_type": "markdown",
   "metadata": {},
   "source": [
    "##### Métricas del modelo: MAE, MAPE, R2 y Correlación"
   ]
  },
  {
   "cell_type": "code",
   "execution_count": 161,
   "metadata": {},
   "outputs": [
    {
     "name": "stdout",
     "output_type": "stream",
     "text": [
      "MAE:  1.0086183637096693\n",
      "MAPE:  140.14528229896038\n",
      "R^2:  0.556970988192642\n",
      "Correlation:  0.8489632623612186\n"
     ]
    }
   ],
   "source": [
    "print('MAE: ', np.mean(np.abs(resultD_CDC['Residual_CDC'])))\n",
    "print('MAPE: ', np.mean(resultD_CDC['Resid_CDC_%']))\n",
    "print('R^2: ', r2_score(resultD_CDC['Predict_CDC'],y_test_dataset['A_Optimal_CDC']))\n",
    "print('Correlation: ', np.corrcoef(resultD_CDC['Predict_CDC'],y_test_dataset['A_Optimal_CDC'])[0][1])"
   ]
  },
  {
   "cell_type": "markdown",
   "metadata": {},
   "source": [
    "### Modelo para el parámetro de potencia en corriente continua (PDC)."
   ]
  },
  {
   "cell_type": "code",
   "execution_count": 168,
   "metadata": {
    "scrolled": false
   },
   "outputs": [
    {
     "data": {
      "text/html": [
       "<div>\n",
       "<style scoped>\n",
       "    .dataframe tbody tr th:only-of-type {\n",
       "        vertical-align: middle;\n",
       "    }\n",
       "\n",
       "    .dataframe tbody tr th {\n",
       "        vertical-align: top;\n",
       "    }\n",
       "\n",
       "    .dataframe thead th {\n",
       "        text-align: right;\n",
       "    }\n",
       "</style>\n",
       "<table border=\"1\" class=\"dataframe\">\n",
       "  <thead>\n",
       "    <tr style=\"text-align: right;\">\n",
       "      <th></th>\n",
       "      <th>Predict_PDC</th>\n",
       "      <th>Real_PDC</th>\n",
       "      <th>Residual_PDC</th>\n",
       "      <th>Resid_PDC_%</th>\n",
       "    </tr>\n",
       "  </thead>\n",
       "  <tbody>\n",
       "    <tr>\n",
       "      <th>0</th>\n",
       "      <td>12.656081</td>\n",
       "      <td>7.810875</td>\n",
       "      <td>4.845206</td>\n",
       "      <td>62.031543</td>\n",
       "    </tr>\n",
       "    <tr>\n",
       "      <th>1</th>\n",
       "      <td>12.656081</td>\n",
       "      <td>9.947000</td>\n",
       "      <td>2.709081</td>\n",
       "      <td>27.235160</td>\n",
       "    </tr>\n",
       "    <tr>\n",
       "      <th>2</th>\n",
       "      <td>110.070378</td>\n",
       "      <td>118.553500</td>\n",
       "      <td>-8.483122</td>\n",
       "      <td>7.155522</td>\n",
       "    </tr>\n",
       "    <tr>\n",
       "      <th>3</th>\n",
       "      <td>110.070378</td>\n",
       "      <td>120.802500</td>\n",
       "      <td>-10.732122</td>\n",
       "      <td>8.884023</td>\n",
       "    </tr>\n",
       "    <tr>\n",
       "      <th>4</th>\n",
       "      <td>110.070378</td>\n",
       "      <td>120.690000</td>\n",
       "      <td>-10.619622</td>\n",
       "      <td>8.799090</td>\n",
       "    </tr>\n",
       "  </tbody>\n",
       "</table>\n",
       "</div>"
      ],
      "text/plain": [
       "   Predict_PDC    Real_PDC  Residual_PDC  Resid_PDC_%\n",
       "0    12.656081    7.810875      4.845206    62.031543\n",
       "1    12.656081    9.947000      2.709081    27.235160\n",
       "2   110.070378  118.553500     -8.483122     7.155522\n",
       "3   110.070378  120.802500    -10.732122     8.884023\n",
       "4   110.070378  120.690000    -10.619622     8.799090"
      ]
     },
     "execution_count": 168,
     "metadata": {},
     "output_type": "execute_result"
    }
   ],
   "source": [
    "# Creating model\n",
    "regd_PDC = DecisionTreeRegressor(max_depth=3)\n",
    "\n",
    "#Training model\n",
    "regd_PDC.fit(X_train_sc, y_train_dataset[['A_Optimal_PDC']])\n",
    "resultD_PDC = pd.DataFrame(regd_PDC.predict(X_test_sc)).rename(columns = {0:'Predict_PDC'})\n",
    "\n",
    "# Adding result in the same dataframe and difference between both\n",
    "resultD_PDC['Real_PDC'] = y_test_dataset['A_Optimal_PDC']\n",
    "resultD_PDC['Residual_PDC'] = resultD_PDC['Predict_PDC']-resultD_PDC['Real_PDC']\n",
    "resultD_PDC['Resid_PDC_%'] = np.abs(resultD_PDC['Residual_PDC']/resultD_PDC['Real_PDC']*100)\n",
    "\n",
    "resultD_PDC.head()"
   ]
  },
  {
   "cell_type": "markdown",
   "metadata": {},
   "source": [
    "##### Métricas del modelo: MAE, MAPE, R2 y Correlación"
   ]
  },
  {
   "cell_type": "code",
   "execution_count": 169,
   "metadata": {
    "scrolled": true
   },
   "outputs": [
    {
     "name": "stdout",
     "output_type": "stream",
     "text": [
      "MAE:  27.294648967486623\n",
      "MAPE:  131.6648805211968\n",
      "R^2:  0.5881220508549543\n",
      "Correlation:  0.8495244517063844\n"
     ]
    }
   ],
   "source": [
    "print('MAE: ', np.mean(np.abs(resultD_PDC['Residual_PDC'])))\n",
    "print('MAPE: ', np.mean(resultD_PDC['Resid_PDC_%']))\n",
    "print('R^2: ', r2_score(resultD_PDC['Predict_PDC'],y_test_dataset['A_Optimal_PDC']))\n",
    "print('Correlation: ', np.corrcoef(resultD_PDC['Predict_PDC'],y_test_dataset['A_Optimal_PDC'])[0][1])"
   ]
  },
  {
   "cell_type": "markdown",
   "metadata": {},
   "source": [
    "### 2º- Optimización de hiperparámetros.\n",
    "\n",
    "Tras probar el modelo básico de 3 capas, buscamos mejorar el modelo optimizando los hiperparametros."
   ]
  },
  {
   "cell_type": "markdown",
   "metadata": {},
   "source": [
    "##### Importamos librerías"
   ]
  },
  {
   "cell_type": "code",
   "execution_count": 38,
   "metadata": {},
   "outputs": [],
   "source": [
    "from sklearn.model_selection import GridSearchCV"
   ]
  },
  {
   "cell_type": "markdown",
   "metadata": {},
   "source": [
    "### Modelo para el parámetro de tensión en corriente continua (VDC)."
   ]
  },
  {
   "cell_type": "code",
   "execution_count": 80,
   "metadata": {},
   "outputs": [
    {
     "data": {
      "text/plain": [
       "GridSearchCV(cv=5, error_score='raise-deprecating',\n",
       "       estimator=DecisionTreeRegressor(criterion='mse', max_depth=None, max_features=None,\n",
       "           max_leaf_nodes=None, min_impurity_decrease=0.0,\n",
       "           min_impurity_split=None, min_samples_leaf=1,\n",
       "           min_samples_split=2, min_weight_fraction_leaf=0.0,\n",
       "           presort=False, random_state=None, splitter='best'),\n",
       "       fit_params=None, iid='warn', n_jobs=None,\n",
       "       param_grid={'max_depth': array([ 1,  2,  3,  4,  5,  6,  7,  8,  9, 10, 11, 12, 13, 14, 15, 16, 17,\n",
       "       18, 19, 20, 21, 22, 23, 24, 25, 26, 27, 28, 29]), 'min_samples_split': array([25, 26, 27, 28, 29, 30, 31, 32, 33, 34]), 'min_samples_leaf': array([25, 26, 27, 28, 29, 30, 31, 32, 33, 34])},\n",
       "       pre_dispatch='2*n_jobs', refit=True, return_train_score='warn',\n",
       "       scoring='neg_mean_absolute_error', verbose=0)"
      ]
     },
     "execution_count": 80,
     "metadata": {},
     "output_type": "execute_result"
    }
   ],
   "source": [
    "# Creating model by GridSeachCV\n",
    "\n",
    "regDG_VDC = GridSearchCV(DecisionTreeRegressor(),\n",
    "                        param_grid = {\"max_depth\": np.arange(1, 30),\n",
    "                                      \"min_samples_split\": np.arange(25, 35),\n",
    "                                      \"min_samples_leaf\": np.arange(25, 35)\n",
    "                        },cv = 5,\n",
    "                        scoring = \"neg_mean_absolute_error\")\n",
    "\n",
    "#Training model\n",
    "regDG_VDC.fit(X_train_sc, y_train_dataset[['A_Optimal_VDC']])"
   ]
  },
  {
   "cell_type": "code",
   "execution_count": null,
   "metadata": {},
   "outputs": [],
   "source": [
    "regDG_VDC.best_params_"
   ]
  },
  {
   "cell_type": "code",
   "execution_count": null,
   "metadata": {},
   "outputs": [],
   "source": [
    "regDG_VDC.best_score_"
   ]
  },
  {
   "cell_type": "code",
   "execution_count": null,
   "metadata": {},
   "outputs": [],
   "source": [
    "resultDG_VDC = pd.DataFrame(regDG_VDC.best_estimator_.predict(X_test_sc)).rename(columns = {0:'Predict_VDC'})\n",
    "\n",
    "resultDG_VDC['Real_VDC'] = y_test_dataset['A_Optimal_VDC']\n",
    "resultDG_VDC['Residual_VDC'] = resultDG_VDC['Predict_VDC']-resultDG_VDC['Real_VDC']\n",
    "resultDG_VDC['Resid_VDC_%'] = np.abs(resultDG_VDC['Residual_VDC']/resultDG_VDC['Real_VDC']*100)\n",
    "\n",
    "print(resultDG_VDC.head())\n",
    "print('error absoluto medio: ', mean_absolute_error(resultDG_VDC['Predict_VDC'],resultDG_VDC['Real_VDC']))\n",
    "print('parametro R2: ', r2_score(resultDG_VDC['Predict_VDC'],y_test_dataset['A_Optimal_VDC']))\n",
    "print('Correlation: ', np.corrcoef(resultDG_VDC['Predict_VDC'],y_test_dataset['A_Optimal_VDC'])[0][1])"
   ]
  },
  {
   "cell_type": "markdown",
   "metadata": {},
   "source": [
    "### Modelo para el parámetro de corriente en corriente continua (CDC)."
   ]
  },
  {
   "cell_type": "code",
   "execution_count": 85,
   "metadata": {},
   "outputs": [
    {
     "data": {
      "text/plain": [
       "GridSearchCV(cv=5, error_score='raise-deprecating',\n",
       "       estimator=DecisionTreeRegressor(criterion='mse', max_depth=None, max_features=None,\n",
       "           max_leaf_nodes=None, min_impurity_decrease=0.0,\n",
       "           min_impurity_split=None, min_samples_leaf=1,\n",
       "           min_samples_split=2, min_weight_fraction_leaf=0.0,\n",
       "           presort=False, random_state=None, splitter='best'),\n",
       "       fit_params=None, iid='warn', n_jobs=None,\n",
       "       param_grid={'max_depth': array([2, 3, 4, 5, 6, 7]), 'min_samples_split': [10, 30, 50, 100], 'min_samples_leaf': [10, 30, 50, 100]},\n",
       "       pre_dispatch='2*n_jobs', refit=True, return_train_score='warn',\n",
       "       scoring='neg_mean_absolute_error', verbose=0)"
      ]
     },
     "execution_count": 85,
     "metadata": {},
     "output_type": "execute_result"
    }
   ],
   "source": [
    "# Creating model by GridSeachCV\n",
    "\n",
    "regDG_CDC = GridSearchCV(DecisionTreeRegressor(),\n",
    "                        param_grid = {\"max_depth\": np.arange(2,8),\n",
    "                                      \"min_samples_split\": [10,30,50,100],\n",
    "                                      \"min_samples_leaf\": [10,30,50,100]\n",
    "                        },cv = 5,\n",
    "                        scoring = \"neg_mean_absolute_error\")\n",
    "\n",
    "#Training model\n",
    "regDG_CDC.fit(X_train_sc, y_train_dataset[['A_Optimal_CDC']])"
   ]
  },
  {
   "cell_type": "code",
   "execution_count": 86,
   "metadata": {},
   "outputs": [
    {
     "data": {
      "text/plain": [
       "{'max_depth': 7, 'min_samples_leaf': 10, 'min_samples_split': 30}"
      ]
     },
     "execution_count": 86,
     "metadata": {},
     "output_type": "execute_result"
    }
   ],
   "source": [
    "regDG_CDC.best_params_"
   ]
  },
  {
   "cell_type": "code",
   "execution_count": 87,
   "metadata": {},
   "outputs": [
    {
     "data": {
      "text/plain": [
       "-1.0183205224030112"
      ]
     },
     "execution_count": 87,
     "metadata": {},
     "output_type": "execute_result"
    }
   ],
   "source": [
    "regDG_CDC.best_score_"
   ]
  },
  {
   "cell_type": "code",
   "execution_count": 88,
   "metadata": {},
   "outputs": [
    {
     "name": "stdout",
     "output_type": "stream",
     "text": [
      "   Predict_CDC  Real_CDC  Residual_CDC  Resid_CDC_%\n",
      "0     0.375587    0.3975     -0.021913     5.512583\n",
      "1     0.375587    0.5075     -0.131913    25.992614\n",
      "2     4.034013    3.9650      0.069013     1.740567\n",
      "3     4.034013    4.1300     -0.095987     2.324129\n",
      "4     4.034013    4.0500     -0.015987     0.394729\n",
      "0    0.3975\n",
      "1    0.5075\n",
      "2    3.9650\n",
      "3    4.1300\n",
      "4    4.0500\n",
      "Name: A_Optimal_CDC, dtype: float64\n",
      "error absoluto medio:  1.312513051105873\n",
      "parametro R2:  0.17948645039976052\n",
      "Correlation:  0.7427026595518234\n"
     ]
    }
   ],
   "source": [
    "resultDG_CDC = pd.DataFrame(regDG_CDC.best_estimator_.predict(X_test_sc)).rename(columns = {0:'Predict_CDC'})\n",
    "\n",
    "resultDG_CDC['Real_CDC'] = y_test_dataset['A_Optimal_CDC']\n",
    "resultDG_CDC['Residual_CDC'] = resultDG_CDC['Predict_CDC']-resultDG_CDC['Real_CDC']\n",
    "resultDG_CDC['Resid_CDC_%'] = np.abs(resultDG_CDC['Residual_CDC']/resultDG_CDC['Real_CDC']*100)\n",
    "\n",
    "print(resultDG_CDC.head())\n",
    "print(y_test_dataset['A_Optimal_CDC'].head())\n",
    "print('error absoluto medio: ', mean_absolute_error(resultDG_CDC['Predict_CDC'],y_test_dataset['A_Optimal_CDC']))\n",
    "print('parametro R2: ', r2_score(resultDG_CDC['Predict_CDC'],y_test_dataset['A_Optimal_CDC']))\n",
    "print('Correlation: ', np.corrcoef(resultDG_CDC['Predict_CDC'],y_test_dataset['A_Optimal_CDC'])[0][1])"
   ]
  },
  {
   "cell_type": "markdown",
   "metadata": {},
   "source": [
    "### Modelo para el parámetro de potencia en corriente continua (PDC)."
   ]
  },
  {
   "cell_type": "code",
   "execution_count": 89,
   "metadata": {},
   "outputs": [
    {
     "data": {
      "text/plain": [
       "GridSearchCV(cv=5, error_score='raise-deprecating',\n",
       "       estimator=DecisionTreeRegressor(criterion='mse', max_depth=None, max_features=None,\n",
       "           max_leaf_nodes=None, min_impurity_decrease=0.0,\n",
       "           min_impurity_split=None, min_samples_leaf=1,\n",
       "           min_samples_split=2, min_weight_fraction_leaf=0.0,\n",
       "           presort=False, random_state=None, splitter='best'),\n",
       "       fit_params=None, iid='warn', n_jobs=None,\n",
       "       param_grid={'max_depth': array([2, 3, 4, 5, 6, 7]), 'min_samples_split': [10, 30, 50, 100], 'min_samples_leaf': [10, 30, 50, 100]},\n",
       "       pre_dispatch='2*n_jobs', refit=True, return_train_score='warn',\n",
       "       scoring='neg_mean_absolute_error', verbose=0)"
      ]
     },
     "execution_count": 89,
     "metadata": {},
     "output_type": "execute_result"
    }
   ],
   "source": [
    "# Creating model by GridSeachCV\n",
    "\n",
    "regDG_PDC = GridSearchCV(DecisionTreeRegressor(),\n",
    "                        param_grid = {\"max_depth\": np.arange(2,8),\n",
    "                                      \"min_samples_split\": [10,30,50,100],\n",
    "                                      \"min_samples_leaf\": [10,30,50,100]\n",
    "                        },cv = 5,\n",
    "                        scoring = \"neg_mean_absolute_error\")\n",
    "\n",
    "#Training model\n",
    "regDG_PDC.fit(X_train_sc, y_train_dataset[['A_Optimal_PDC']])"
   ]
  },
  {
   "cell_type": "code",
   "execution_count": 90,
   "metadata": {},
   "outputs": [
    {
     "data": {
      "text/plain": [
       "{'max_depth': 7, 'min_samples_leaf': 50, 'min_samples_split': 30}"
      ]
     },
     "execution_count": 90,
     "metadata": {},
     "output_type": "execute_result"
    }
   ],
   "source": [
    "regDG_PDC.best_params_"
   ]
  },
  {
   "cell_type": "code",
   "execution_count": 91,
   "metadata": {},
   "outputs": [
    {
     "data": {
      "text/plain": [
       "-28.362774182284863"
      ]
     },
     "execution_count": 91,
     "metadata": {},
     "output_type": "execute_result"
    }
   ],
   "source": [
    "regDG_PDC.best_score_"
   ]
  },
  {
   "cell_type": "code",
   "execution_count": 92,
   "metadata": {},
   "outputs": [
    {
     "name": "stdout",
     "output_type": "stream",
     "text": [
      "   Predict_PDC    Real_PDC  Residual_PDC  Resid_PDC_%\n",
      "0     0.375587    7.810875     -7.435288    95.191480\n",
      "1     0.375587    9.947000     -9.571413    96.224113\n",
      "2     4.034013  118.553500   -114.519487    96.597305\n",
      "3     4.034013  120.802500   -116.768487    96.660654\n",
      "4     4.034013  120.690000   -116.655987    96.657541\n",
      "0      7.810875\n",
      "1      9.947000\n",
      "2    118.553500\n",
      "3    120.802500\n",
      "4    120.690000\n",
      "Name: A_Optimal_PDC, dtype: float64\n",
      "error absoluto medio:  61.68454921678374\n",
      "parametro R2:  -2045.8060194546633\n",
      "Correlation:  0.7480581541055648\n"
     ]
    }
   ],
   "source": [
    "resultDG_PDC = pd.DataFrame(regDG_CDC.best_estimator_.predict(X_test_sc)).rename(columns = {0:'Predict_PDC'})\n",
    "\n",
    "resultDG_PDC['Real_PDC'] = y_test_dataset['A_Optimal_PDC']\n",
    "resultDG_PDC['Residual_PDC'] = resultDG_PDC['Predict_PDC']-resultDG_PDC['Real_PDC']\n",
    "resultDG_PDC['Resid_PDC_%'] = np.abs(resultDG_PDC['Residual_PDC']/resultDG_PDC['Real_PDC']*100)\n",
    "\n",
    "print(resultDG_PDC.head())\n",
    "print(y_test_dataset['A_Optimal_PDC'].head())\n",
    "print('error absoluto medio: ', mean_absolute_error(resultDG_PDC['Predict_PDC'],y_test_dataset['A_Optimal_PDC']))\n",
    "print('parametro R2: ', r2_score(resultDG_PDC['Predict_PDC'],y_test_dataset['A_Optimal_PDC']))\n",
    "print('Correlation: ', np.corrcoef(resultDG_PDC['Predict_PDC'],y_test_dataset['A_Optimal_PDC'])[0][1])"
   ]
  },
  {
   "cell_type": "code",
   "execution_count": null,
   "metadata": {},
   "outputs": [],
   "source": []
  },
  {
   "cell_type": "code",
   "execution_count": null,
   "metadata": {},
   "outputs": [],
   "source": []
  }
 ],
 "metadata": {
  "kernelspec": {
   "display_name": "Python 3",
   "language": "python",
   "name": "python3"
  },
  "language_info": {
   "codemirror_mode": {
    "name": "ipython",
    "version": 3
   },
   "file_extension": ".py",
   "mimetype": "text/x-python",
   "name": "python",
   "nbconvert_exporter": "python",
   "pygments_lexer": "ipython3",
   "version": "3.7.1"
  }
 },
 "nbformat": 4,
 "nbformat_minor": 2
}
