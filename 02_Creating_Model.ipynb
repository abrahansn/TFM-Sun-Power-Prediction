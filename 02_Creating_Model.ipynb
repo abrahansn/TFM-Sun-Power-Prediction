{
 "cells": [
  {
   "cell_type": "markdown",
   "metadata": {},
   "source": [
    "# Creación del modelo de regresión"
   ]
  },
  {
   "cell_type": "markdown",
   "metadata": {},
   "source": [
    "## Obtención y visualización de datos"
   ]
  },
  {
   "cell_type": "markdown",
   "metadata": {},
   "source": [
    "#### Comenzaremos creando modelos de regresión lineal multivariable. Para ello, veremos que features son más influyentes para nuestra predicción, y posteriormente veremos si es o no necesario tratar previamente los datos para mejorar la predicción."
   ]
  },
  {
   "cell_type": "markdown",
   "metadata": {},
   "source": [
    "##### Importamos las librerías necesarias"
   ]
  },
  {
   "cell_type": "code",
   "execution_count": 5,
   "metadata": {},
   "outputs": [],
   "source": [
    "import pandas as pd\n",
    "import numpy as np"
   ]
  },
  {
   "cell_type": "markdown",
   "metadata": {},
   "source": [
    "##### Importamos los datos post-procesados. Con ellos entrenaremos y testearemos nuestro modelo."
   ]
  },
  {
   "cell_type": "code",
   "execution_count": 6,
   "metadata": {},
   "outputs": [],
   "source": [
    "train_dataset = pd.read_csv('train_dataset.csv',sep=';')\n",
    "test_dataset = pd.read_csv('test_dataset.csv',sep=';')"
   ]
  },
  {
   "cell_type": "code",
   "execution_count": 7,
   "metadata": {},
   "outputs": [
    {
     "data": {
      "text/plain": [
       "(663778, 30)"
      ]
     },
     "execution_count": 7,
     "metadata": {},
     "output_type": "execute_result"
    }
   ],
   "source": [
    "train_dataset.shape"
   ]
  },
  {
   "cell_type": "code",
   "execution_count": 8,
   "metadata": {},
   "outputs": [
    {
     "data": {
      "text/plain": [
       "(165945, 30)"
      ]
     },
     "execution_count": 8,
     "metadata": {},
     "output_type": "execute_result"
    }
   ],
   "source": [
    "test_dataset.shape"
   ]
  },
  {
   "cell_type": "markdown",
   "metadata": {},
   "source": [
    "##### Analizamos la matríz del coeficiente de correlación de Pearson, entre las variables de entrada y las variables de salida. Donde podremos comprobar que los valores que las características que más inciden en el resultado final son: \"Global_Radiation\", \"Diffuse_Radiation\" y \"Ultraviolet\"."
   ]
  },
  {
   "cell_type": "code",
   "execution_count": 9,
   "metadata": {
    "scrolled": false
   },
   "outputs": [
    {
     "data": {
      "text/html": [
       "<div>\n",
       "<style scoped>\n",
       "    .dataframe tbody tr th:only-of-type {\n",
       "        vertical-align: middle;\n",
       "    }\n",
       "\n",
       "    .dataframe tbody tr th {\n",
       "        vertical-align: top;\n",
       "    }\n",
       "\n",
       "    .dataframe thead th {\n",
       "        text-align: right;\n",
       "    }\n",
       "</style>\n",
       "<table border=\"1\" class=\"dataframe\">\n",
       "  <thead>\n",
       "    <tr style=\"text-align: right;\">\n",
       "      <th></th>\n",
       "      <th>Ambient_Temperature</th>\n",
       "      <th>Global_Radiation</th>\n",
       "      <th>Diffuse_Radiation</th>\n",
       "      <th>Ultraviolet</th>\n",
       "      <th>Wind_Velocity</th>\n",
       "      <th>Wind_direction</th>\n",
       "      <th>A_Optimal_VDC</th>\n",
       "      <th>A_Optimal_CDC</th>\n",
       "      <th>A_Optimal_PDC</th>\n",
       "    </tr>\n",
       "  </thead>\n",
       "  <tbody>\n",
       "    <tr>\n",
       "      <th>Ambient_Temperature</th>\n",
       "      <td>1.000000</td>\n",
       "      <td>0.438036</td>\n",
       "      <td>0.092379</td>\n",
       "      <td>0.439581</td>\n",
       "      <td>0.150383</td>\n",
       "      <td>-0.039342</td>\n",
       "      <td>-0.086958</td>\n",
       "      <td>0.190720</td>\n",
       "      <td>0.168301</td>\n",
       "    </tr>\n",
       "    <tr>\n",
       "      <th>Global_Radiation</th>\n",
       "      <td>0.438036</td>\n",
       "      <td>1.000000</td>\n",
       "      <td>0.376633</td>\n",
       "      <td>0.988733</td>\n",
       "      <td>0.350882</td>\n",
       "      <td>-0.104673</td>\n",
       "      <td>0.257886</td>\n",
       "      <td>0.832850</td>\n",
       "      <td>0.826587</td>\n",
       "    </tr>\n",
       "    <tr>\n",
       "      <th>Diffuse_Radiation</th>\n",
       "      <td>0.092379</td>\n",
       "      <td>0.376633</td>\n",
       "      <td>1.000000</td>\n",
       "      <td>0.398669</td>\n",
       "      <td>0.242534</td>\n",
       "      <td>-0.055022</td>\n",
       "      <td>0.285163</td>\n",
       "      <td>0.324237</td>\n",
       "      <td>0.330568</td>\n",
       "    </tr>\n",
       "    <tr>\n",
       "      <th>Ultraviolet</th>\n",
       "      <td>0.439581</td>\n",
       "      <td>0.988733</td>\n",
       "      <td>0.398669</td>\n",
       "      <td>1.000000</td>\n",
       "      <td>0.364823</td>\n",
       "      <td>-0.091365</td>\n",
       "      <td>0.246188</td>\n",
       "      <td>0.815094</td>\n",
       "      <td>0.807720</td>\n",
       "    </tr>\n",
       "    <tr>\n",
       "      <th>Wind_Velocity</th>\n",
       "      <td>0.150383</td>\n",
       "      <td>0.350882</td>\n",
       "      <td>0.242534</td>\n",
       "      <td>0.364823</td>\n",
       "      <td>1.000000</td>\n",
       "      <td>0.145538</td>\n",
       "      <td>0.217409</td>\n",
       "      <td>0.306138</td>\n",
       "      <td>0.313540</td>\n",
       "    </tr>\n",
       "    <tr>\n",
       "      <th>Wind_direction</th>\n",
       "      <td>-0.039342</td>\n",
       "      <td>-0.104673</td>\n",
       "      <td>-0.055022</td>\n",
       "      <td>-0.091365</td>\n",
       "      <td>0.145538</td>\n",
       "      <td>1.000000</td>\n",
       "      <td>-0.026328</td>\n",
       "      <td>-0.116333</td>\n",
       "      <td>-0.117131</td>\n",
       "    </tr>\n",
       "    <tr>\n",
       "      <th>A_Optimal_VDC</th>\n",
       "      <td>-0.086958</td>\n",
       "      <td>0.257886</td>\n",
       "      <td>0.285163</td>\n",
       "      <td>0.246188</td>\n",
       "      <td>0.217409</td>\n",
       "      <td>-0.026328</td>\n",
       "      <td>1.000000</td>\n",
       "      <td>0.305666</td>\n",
       "      <td>0.341710</td>\n",
       "    </tr>\n",
       "    <tr>\n",
       "      <th>A_Optimal_CDC</th>\n",
       "      <td>0.190720</td>\n",
       "      <td>0.832850</td>\n",
       "      <td>0.324237</td>\n",
       "      <td>0.815094</td>\n",
       "      <td>0.306138</td>\n",
       "      <td>-0.116333</td>\n",
       "      <td>0.305666</td>\n",
       "      <td>1.000000</td>\n",
       "      <td>0.997811</td>\n",
       "    </tr>\n",
       "    <tr>\n",
       "      <th>A_Optimal_PDC</th>\n",
       "      <td>0.168301</td>\n",
       "      <td>0.826587</td>\n",
       "      <td>0.330568</td>\n",
       "      <td>0.807720</td>\n",
       "      <td>0.313540</td>\n",
       "      <td>-0.117131</td>\n",
       "      <td>0.341710</td>\n",
       "      <td>0.997811</td>\n",
       "      <td>1.000000</td>\n",
       "    </tr>\n",
       "  </tbody>\n",
       "</table>\n",
       "</div>"
      ],
      "text/plain": [
       "                     Ambient_Temperature  Global_Radiation  Diffuse_Radiation  \\\n",
       "Ambient_Temperature             1.000000          0.438036           0.092379   \n",
       "Global_Radiation                0.438036          1.000000           0.376633   \n",
       "Diffuse_Radiation               0.092379          0.376633           1.000000   \n",
       "Ultraviolet                     0.439581          0.988733           0.398669   \n",
       "Wind_Velocity                   0.150383          0.350882           0.242534   \n",
       "Wind_direction                 -0.039342         -0.104673          -0.055022   \n",
       "A_Optimal_VDC                  -0.086958          0.257886           0.285163   \n",
       "A_Optimal_CDC                   0.190720          0.832850           0.324237   \n",
       "A_Optimal_PDC                   0.168301          0.826587           0.330568   \n",
       "\n",
       "                     Ultraviolet  Wind_Velocity  Wind_direction  \\\n",
       "Ambient_Temperature     0.439581       0.150383       -0.039342   \n",
       "Global_Radiation        0.988733       0.350882       -0.104673   \n",
       "Diffuse_Radiation       0.398669       0.242534       -0.055022   \n",
       "Ultraviolet             1.000000       0.364823       -0.091365   \n",
       "Wind_Velocity           0.364823       1.000000        0.145538   \n",
       "Wind_direction         -0.091365       0.145538        1.000000   \n",
       "A_Optimal_VDC           0.246188       0.217409       -0.026328   \n",
       "A_Optimal_CDC           0.815094       0.306138       -0.116333   \n",
       "A_Optimal_PDC           0.807720       0.313540       -0.117131   \n",
       "\n",
       "                     A_Optimal_VDC  A_Optimal_CDC  A_Optimal_PDC  \n",
       "Ambient_Temperature      -0.086958       0.190720       0.168301  \n",
       "Global_Radiation          0.257886       0.832850       0.826587  \n",
       "Diffuse_Radiation         0.285163       0.324237       0.330568  \n",
       "Ultraviolet               0.246188       0.815094       0.807720  \n",
       "Wind_Velocity             0.217409       0.306138       0.313540  \n",
       "Wind_direction           -0.026328      -0.116333      -0.117131  \n",
       "A_Optimal_VDC             1.000000       0.305666       0.341710  \n",
       "A_Optimal_CDC             0.305666       1.000000       0.997811  \n",
       "A_Optimal_PDC             0.341710       0.997811       1.000000  "
      ]
     },
     "execution_count": 9,
     "metadata": {},
     "output_type": "execute_result"
    }
   ],
   "source": [
    "train_dataset[['Ambient_Temperature', 'Global_Radiation', 'Diffuse_Radiation',\n",
    "              'Ultraviolet', 'Wind_Velocity', 'Wind_direction','A_Optimal_VDC', \n",
    "              'A_Optimal_CDC', 'A_Optimal_PDC']].corr(method='pearson')"
   ]
  },
  {
   "cell_type": "markdown",
   "metadata": {},
   "source": [
    "##### Guardamos los campos que vamos a utilizar para la predicción.\n",
    "\n",
    "Seleccionamos solo las variables que vamos autilizar para la predicción y testeo de los modelos. \n",
    "\n",
    "Inicialmente, trabajaremos con la predicción de los parámetros de tensión, corriente y potencia de la placa modelo A. Al final lo extenderemos a la placa modelo B, cuando hayaramos determinado el mejor modelo para cada variable. Haremos lo mismo para el archivo de los datos usados para el test final, aunque no los usemos todavía."
   ]
  },
  {
   "cell_type": "code",
   "execution_count": 10,
   "metadata": {},
   "outputs": [],
   "source": [
    "input_features = ['Global_Radiation', 'Diffuse_Radiation', \n",
    "                  'Ultraviolet']\n",
    "\n",
    "output_features = ['A_Optimal_VDC', 'A_Optimal_CDC', 'A_Optimal_PDC']"
   ]
  },
  {
   "cell_type": "code",
   "execution_count": 11,
   "metadata": {},
   "outputs": [],
   "source": [
    "# Datos de los años desde 2014 hasta 2017\n",
    "X_train_dataset = train_dataset[input_features]\n",
    "\n",
    "y_train_dataset = train_dataset[output_features]\n",
    "\n",
    "# Datos de la última semana de 2017\n",
    "X_test_dataset = test_dataset[input_features]\n",
    "\n",
    "y_test_dataset = test_dataset[output_features]"
   ]
  },
  {
   "cell_type": "markdown",
   "metadata": {},
   "source": [
    "##### Graficamos las variables linealmente para conocer su relación de forma visual."
   ]
  },
  {
   "cell_type": "code",
   "execution_count": 12,
   "metadata": {},
   "outputs": [
    {
     "data": {
      "image/png": "[encoded data removed]",
      "text/plain": [
       "<Figure size 432x288 with 1 Axes>"
      ]
     },
     "metadata": {
      "needs_background": "light"
     },
     "output_type": "display_data"
    },
    {
     "data": {
      "image/png": "[encoded data removed]",
      "text/plain": [
       "<Figure size 432x288 with 1 Axes>"
      ]
     },
     "metadata": {
      "needs_background": "light"
     },
     "output_type": "display_data"
    },
    {
     "data": {
      "image/png": "[encoded data removed]",
      "text/plain": [
       "<Figure size 432x288 with 1 Axes>"
      ]
     },
     "metadata": {
      "needs_background": "light"
     },
     "output_type": "display_data"
    },
    {
     "data": {
      "image/png": "[encoded data removed]",
      "text/plain": [
       "<Figure size 432x288 with 1 Axes>"
      ]
     },
     "metadata": {
      "needs_background": "light"
     },
     "output_type": "display_data"
    },
    {
     "data": {
      "image/png": "[encoded data removed]",
      "text/plain": [
       "<Figure size 432x288 with 1 Axes>"
      ]
     },
     "metadata": {
      "needs_background": "light"
     },
     "output_type": "display_data"
    },
    {
     "data": {
      "image/png": "[encoded data removed]",
      "text/plain": [
       "<Figure size 432x288 with 1 Axes>"
      ]
     },
     "metadata": {
      "needs_background": "light"
     },
     "output_type": "display_data"
    },
    {
     "data": {
      "image/png": "[encoded data removed]",
      "text/plain": [
       "<Figure size 432x288 with 1 Axes>"
      ]
     },
     "metadata": {
      "needs_background": "light"
     },
     "output_type": "display_data"
    },
    {
     "data": {
      "image/png": "[encoded data removed]",
      "text/plain": [
       "<Figure size 432x288 with 1 Axes>"
      ]
     },
     "metadata": {
      "needs_background": "light"
     },
     "output_type": "display_data"
    },
    {
     "data": {
      "image/png": "[encoded data removed]",
      "text/plain": [
       "<Figure size 432x288 with 1 Axes>"
      ]
     },
     "metadata": {
      "needs_background": "light"
     },
     "output_type": "display_data"
    }
   ],
   "source": [
    "import matplotlib.pyplot as plt\n",
    "%matplotlib inline\n",
    "\n",
    "# Recorremos todos los features de entreda y los graficamos con los features de salida, uno por uno.\n",
    "for nam_col in X_train_dataset.columns:\n",
    "    for nam_col2 in y_train_dataset.columns:\n",
    "            plt.scatter(X_train_dataset[nam_col], y_train_dataset[nam_col2])\n",
    "            plt.title(nam_col+'/'+nam_col2)\n",
    "            plt.xlabel(nam_col)\n",
    "            plt.ylabel(nam_col2)\n",
    "            plt.show()"
   ]
  },
  {
   "cell_type": "markdown",
   "metadata": {},
   "source": [
    "## Creación de modelo de regresión lineal"
   ]
  },
  {
   "cell_type": "markdown",
   "metadata": {},
   "source": [
    "### 1º- Modelo con datos en bruto."
   ]
  },
  {
   "cell_type": "markdown",
   "metadata": {},
   "source": [
    "Creamos un modelo de regresión lineal para cada una de las variables de salida. Luego testearemos el modelo final. No aplicaremos fase de validación por ser una regresión simple."
   ]
  },
  {
   "cell_type": "markdown",
   "metadata": {},
   "source": [
    "##### Importamos el modelo de regresión de SKlearn."
   ]
  },
  {
   "cell_type": "code",
   "execution_count": 7,
   "metadata": {},
   "outputs": [],
   "source": [
    "from sklearn.linear_model import LinearRegression\n",
    "from sklearn.metrics import mean_absolute_error, r2_score"
   ]
  },
  {
   "cell_type": "markdown",
   "metadata": {},
   "source": [
    "### Modelo para el parámetro de tensión en corriente continua (VDC)."
   ]
  },
  {
   "cell_type": "code",
   "execution_count": 8,
   "metadata": {},
   "outputs": [
    {
     "data": {
      "text/html": [
       "<div>\n",
       "<style scoped>\n",
       "    .dataframe tbody tr th:only-of-type {\n",
       "        vertical-align: middle;\n",
       "    }\n",
       "\n",
       "    .dataframe tbody tr th {\n",
       "        vertical-align: top;\n",
       "    }\n",
       "\n",
       "    .dataframe thead th {\n",
       "        text-align: right;\n",
       "    }\n",
       "</style>\n",
       "<table border=\"1\" class=\"dataframe\">\n",
       "  <thead>\n",
       "    <tr style=\"text-align: right;\">\n",
       "      <th></th>\n",
       "      <th>Predict_VDC</th>\n",
       "      <th>Real_VDC</th>\n",
       "      <th>Residual_VDC</th>\n",
       "      <th>Resid_VDC_%</th>\n",
       "    </tr>\n",
       "  </thead>\n",
       "  <tbody>\n",
       "    <tr>\n",
       "      <th>0</th>\n",
       "      <td>26.413438</td>\n",
       "      <td>19.65</td>\n",
       "      <td>6.763438</td>\n",
       "      <td>34.419530</td>\n",
       "    </tr>\n",
       "    <tr>\n",
       "      <th>1</th>\n",
       "      <td>26.416253</td>\n",
       "      <td>19.60</td>\n",
       "      <td>6.816253</td>\n",
       "      <td>34.776800</td>\n",
       "    </tr>\n",
       "    <tr>\n",
       "      <th>2</th>\n",
       "      <td>27.241629</td>\n",
       "      <td>29.90</td>\n",
       "      <td>-2.658371</td>\n",
       "      <td>8.890873</td>\n",
       "    </tr>\n",
       "    <tr>\n",
       "      <th>3</th>\n",
       "      <td>27.313094</td>\n",
       "      <td>29.25</td>\n",
       "      <td>-1.936906</td>\n",
       "      <td>6.621900</td>\n",
       "    </tr>\n",
       "    <tr>\n",
       "      <th>4</th>\n",
       "      <td>27.333061</td>\n",
       "      <td>29.80</td>\n",
       "      <td>-2.466939</td>\n",
       "      <td>8.278319</td>\n",
       "    </tr>\n",
       "  </tbody>\n",
       "</table>\n",
       "</div>"
      ],
      "text/plain": [
       "   Predict_VDC  Real_VDC  Residual_VDC  Resid_VDC_%\n",
       "0    26.413438     19.65      6.763438    34.419530\n",
       "1    26.416253     19.60      6.816253    34.776800\n",
       "2    27.241629     29.90     -2.658371     8.890873\n",
       "3    27.313094     29.25     -1.936906     6.621900\n",
       "4    27.333061     29.80     -2.466939     8.278319"
      ]
     },
     "execution_count": 8,
     "metadata": {},
     "output_type": "execute_result"
    }
   ],
   "source": [
    "# Creating model\n",
    "reg_VDC = LinearRegression()\n",
    "\n",
    "#Training model\n",
    "reg_VDC.fit(X_train_dataset, y_train_dataset[['A_Optimal_VDC']])\n",
    "result_VDC = pd.DataFrame(reg_VDC.predict(X_test_dataset)).rename(columns = {0:'Predict_VDC'})\n",
    "\n",
    "# Adding result in the same dataframe and difference between both\n",
    "result_VDC['Real_VDC'] = y_test_dataset['A_Optimal_VDC']\n",
    "result_VDC['Residual_VDC'] = result_VDC['Predict_VDC']-result_VDC['Real_VDC']\n",
    "result_VDC['Resid_VDC_%'] = np.abs(result_VDC['Residual_VDC']/result_VDC['Real_VDC']*100)\n",
    "\n",
    "result_VDC.head()"
   ]
  },
  {
   "cell_type": "markdown",
   "metadata": {},
   "source": [
    "##### Métricas del modelo: MAE, MAPE y R2"
   ]
  },
  {
   "cell_type": "code",
   "execution_count": 9,
   "metadata": {},
   "outputs": [
    {
     "name": "stdout",
     "output_type": "stream",
     "text": [
      "MAE:  1.725895245564308\n",
      "MAPE:  6.219270910697412\n",
      "R^2:  -8.618199453000917\n"
     ]
    }
   ],
   "source": [
    "print('MAE: ', np.mean(np.abs(result_VDC['Residual_VDC'])))\n",
    "print('MAPE: ', np.mean(result_VDC['Resid_VDC_%']))\n",
    "print('R^2: ', r2_score(result_VDC['Predict_VDC'],y_test_dataset['A_Optimal_VDC']))"
   ]
  },
  {
   "cell_type": "markdown",
   "metadata": {},
   "source": [
    "### Modelo para el parámetro de corriente en corriente continua (CDC)."
   ]
  },
  {
   "cell_type": "code",
   "execution_count": 10,
   "metadata": {},
   "outputs": [
    {
     "data": {
      "text/html": [
       "<div>\n",
       "<style scoped>\n",
       "    .dataframe tbody tr th:only-of-type {\n",
       "        vertical-align: middle;\n",
       "    }\n",
       "\n",
       "    .dataframe tbody tr th {\n",
       "        vertical-align: top;\n",
       "    }\n",
       "\n",
       "    .dataframe thead th {\n",
       "        text-align: right;\n",
       "    }\n",
       "</style>\n",
       "<table border=\"1\" class=\"dataframe\">\n",
       "  <thead>\n",
       "    <tr style=\"text-align: right;\">\n",
       "      <th></th>\n",
       "      <th>Predict_CDC</th>\n",
       "      <th>Real_CDC</th>\n",
       "      <th>Residual_CDC</th>\n",
       "      <th>Resid_CDC_%</th>\n",
       "    </tr>\n",
       "  </thead>\n",
       "  <tbody>\n",
       "    <tr>\n",
       "      <th>0</th>\n",
       "      <td>0.604132</td>\n",
       "      <td>0.3975</td>\n",
       "      <td>0.206632</td>\n",
       "      <td>51.982912</td>\n",
       "    </tr>\n",
       "    <tr>\n",
       "      <th>1</th>\n",
       "      <td>0.620277</td>\n",
       "      <td>0.5075</td>\n",
       "      <td>0.112777</td>\n",
       "      <td>22.222149</td>\n",
       "    </tr>\n",
       "    <tr>\n",
       "      <th>2</th>\n",
       "      <td>2.221359</td>\n",
       "      <td>3.9650</td>\n",
       "      <td>-1.743641</td>\n",
       "      <td>43.975820</td>\n",
       "    </tr>\n",
       "    <tr>\n",
       "      <th>3</th>\n",
       "      <td>2.334063</td>\n",
       "      <td>4.1300</td>\n",
       "      <td>-1.795937</td>\n",
       "      <td>43.485165</td>\n",
       "    </tr>\n",
       "    <tr>\n",
       "      <th>4</th>\n",
       "      <td>2.370696</td>\n",
       "      <td>4.0500</td>\n",
       "      <td>-1.679304</td>\n",
       "      <td>41.464300</td>\n",
       "    </tr>\n",
       "  </tbody>\n",
       "</table>\n",
       "</div>"
      ],
      "text/plain": [
       "   Predict_CDC  Real_CDC  Residual_CDC  Resid_CDC_%\n",
       "0     0.604132    0.3975      0.206632    51.982912\n",
       "1     0.620277    0.5075      0.112777    22.222149\n",
       "2     2.221359    3.9650     -1.743641    43.975820\n",
       "3     2.334063    4.1300     -1.795937    43.485165\n",
       "4     2.370696    4.0500     -1.679304    41.464300"
      ]
     },
     "execution_count": 10,
     "metadata": {},
     "output_type": "execute_result"
    }
   ],
   "source": [
    "# Creating model\n",
    "reg_CDC = LinearRegression()\n",
    "\n",
    "#Training model\n",
    "reg_CDC.fit(X_train_dataset, y_train_dataset[['A_Optimal_CDC']])\n",
    "result_CDC = pd.DataFrame(reg_CDC.predict(X_test_dataset)).rename(columns = {0:'Predict_CDC'})\n",
    "\n",
    "# Adding result in the same dataframe and difference between both\n",
    "result_CDC['Real_CDC'] = y_test_dataset['A_Optimal_CDC']\n",
    "result_CDC['Residual_CDC'] = result_CDC['Predict_CDC']-result_CDC['Real_CDC']\n",
    "result_CDC['Resid_CDC_%'] = np.abs(result_CDC['Residual_CDC']/result_CDC['Real_CDC']*100)\n",
    "\n",
    "result_CDC.head()"
   ]
  },
  {
   "cell_type": "markdown",
   "metadata": {},
   "source": [
    "##### Métricas del modelo: MAE, MAPE y R2"
   ]
  },
  {
   "cell_type": "code",
   "execution_count": 11,
   "metadata": {},
   "outputs": [
    {
     "name": "stdout",
     "output_type": "stream",
     "text": [
      "MAE:  0.9095676315409149\n",
      "MAPE:  105.25000916587558\n",
      "R^2:  -0.2539772771372597\n"
     ]
    }
   ],
   "source": [
    "print('MAE: ', np.mean(np.abs(result_CDC['Residual_CDC'])))\n",
    "print('MAPE: ', np.mean(result_CDC['Resid_CDC_%']))\n",
    "print('R^2: ', r2_score(result_CDC['Predict_CDC'],y_test_dataset['A_Optimal_CDC']))"
   ]
  },
  {
   "cell_type": "markdown",
   "metadata": {},
   "source": [
    "### Modelo para el parámetro de potencia en corriente continua (PDC)."
   ]
  },
  {
   "cell_type": "code",
   "execution_count": 12,
   "metadata": {},
   "outputs": [
    {
     "data": {
      "text/html": [
       "<div>\n",
       "<style scoped>\n",
       "    .dataframe tbody tr th:only-of-type {\n",
       "        vertical-align: middle;\n",
       "    }\n",
       "\n",
       "    .dataframe tbody tr th {\n",
       "        vertical-align: top;\n",
       "    }\n",
       "\n",
       "    .dataframe thead th {\n",
       "        text-align: right;\n",
       "    }\n",
       "</style>\n",
       "<table border=\"1\" class=\"dataframe\">\n",
       "  <thead>\n",
       "    <tr style=\"text-align: right;\">\n",
       "      <th></th>\n",
       "      <th>Predict_PDC</th>\n",
       "      <th>Real_PDC</th>\n",
       "      <th>Residual_PDC</th>\n",
       "      <th>Resid_PDC_%</th>\n",
       "    </tr>\n",
       "  </thead>\n",
       "  <tbody>\n",
       "    <tr>\n",
       "      <th>0</th>\n",
       "      <td>17.554189</td>\n",
       "      <td>7.810875</td>\n",
       "      <td>9.743314</td>\n",
       "      <td>124.740366</td>\n",
       "    </tr>\n",
       "    <tr>\n",
       "      <th>1</th>\n",
       "      <td>17.993760</td>\n",
       "      <td>9.947000</td>\n",
       "      <td>8.046760</td>\n",
       "      <td>80.896348</td>\n",
       "    </tr>\n",
       "    <tr>\n",
       "      <th>2</th>\n",
       "      <td>63.428878</td>\n",
       "      <td>118.553500</td>\n",
       "      <td>-55.124622</td>\n",
       "      <td>46.497676</td>\n",
       "    </tr>\n",
       "    <tr>\n",
       "      <th>3</th>\n",
       "      <td>66.666035</td>\n",
       "      <td>120.802500</td>\n",
       "      <td>-54.136465</td>\n",
       "      <td>44.814027</td>\n",
       "    </tr>\n",
       "    <tr>\n",
       "      <th>4</th>\n",
       "      <td>67.700222</td>\n",
       "      <td>120.690000</td>\n",
       "      <td>-52.989778</td>\n",
       "      <td>43.905690</td>\n",
       "    </tr>\n",
       "  </tbody>\n",
       "</table>\n",
       "</div>"
      ],
      "text/plain": [
       "   Predict_PDC    Real_PDC  Residual_PDC  Resid_PDC_%\n",
       "0    17.554189    7.810875      9.743314   124.740366\n",
       "1    17.993760    9.947000      8.046760    80.896348\n",
       "2    63.428878  118.553500    -55.124622    46.497676\n",
       "3    66.666035  120.802500    -54.136465    44.814027\n",
       "4    67.700222  120.690000    -52.989778    43.905690"
      ]
     },
     "execution_count": 12,
     "metadata": {},
     "output_type": "execute_result"
    }
   ],
   "source": [
    "# Creating model\n",
    "reg_PDC = LinearRegression()\n",
    "\n",
    "#Training model\n",
    "reg_PDC.fit(X_train_dataset, y_train_dataset[['A_Optimal_PDC']])\n",
    "result_PDC = pd.DataFrame(reg_PDC.predict(X_test_dataset)).rename(columns = {0:'Predict_PDC'})\n",
    "\n",
    "# Adding result in the same dataframe and difference between both\n",
    "result_PDC['Real_PDC'] = y_test_dataset['A_Optimal_PDC']\n",
    "result_PDC['Residual_PDC'] = result_PDC['Predict_PDC']-result_PDC['Real_PDC']\n",
    "result_PDC['Resid_PDC_%'] = np.abs(result_PDC['Residual_PDC']/result_PDC['Real_PDC']*100)\n",
    "\n",
    "result_PDC.head()"
   ]
  },
  {
   "cell_type": "markdown",
   "metadata": {},
   "source": [
    "##### Métricas del modelo: MAE, MAPE y R2"
   ]
  },
  {
   "cell_type": "code",
   "execution_count": 13,
   "metadata": {},
   "outputs": [
    {
     "name": "stdout",
     "output_type": "stream",
     "text": [
      "MAE:  27.00838782516589\n",
      "MAPE:  116.13489878181225\n",
      "R^2:  -0.35899574909926657\n"
     ]
    }
   ],
   "source": [
    "print('MAE: ', np.mean(np.abs(result_PDC['Residual_PDC'])))\n",
    "print('MAPE: ', np.mean(result_PDC['Resid_PDC_%']))\n",
    "print('R^2: ', r2_score(result_PDC['Predict_PDC'],y_test_dataset['A_Optimal_PDC']))"
   ]
  },
  {
   "cell_type": "markdown",
   "metadata": {},
   "source": [
    "### 2º- Datos normalizados"
   ]
  },
  {
   "cell_type": "markdown",
   "metadata": {},
   "source": [
    "Debido a que las métricas nos dan valores muy malos, vamos a normalizar los datos de entrada para intentar mejorar los resultados."
   ]
  },
  {
   "cell_type": "code",
   "execution_count": 14,
   "metadata": {},
   "outputs": [],
   "source": [
    "from sklearn.preprocessing import MinMaxScaler"
   ]
  },
  {
   "cell_type": "markdown",
   "metadata": {},
   "source": [
    "##### Normalizamos los valores de entrada de los dataset de train y test."
   ]
  },
  {
   "cell_type": "code",
   "execution_count": 15,
   "metadata": {},
   "outputs": [],
   "source": [
    "scaler_train = MinMaxScaler()\n",
    "X_train_sc = scaler_train.fit_transform(X_train_dataset)\n",
    "X_train_sc = pd.DataFrame(X_train_sc, columns=['Global_Radiation', 'Diffuse_Radiation','Ultraviolet'])\n",
    "\n",
    "scaler_test = MinMaxScaler()\n",
    "X_test_sc = scaler_test.fit_transform(X_test_dataset)\n",
    "X_test_sc = pd.DataFrame(X_test_sc, columns=['Global_Radiation', 'Diffuse_Radiation', 'Ultraviolet'])"
   ]
  },
  {
   "cell_type": "markdown",
   "metadata": {},
   "source": [
    "### Modelo para el parámetro de tensión en corriente continua (VDC)."
   ]
  },
  {
   "cell_type": "code",
   "execution_count": 16,
   "metadata": {
    "scrolled": true
   },
   "outputs": [
    {
     "data": {
      "text/html": [
       "<div>\n",
       "<style scoped>\n",
       "    .dataframe tbody tr th:only-of-type {\n",
       "        vertical-align: middle;\n",
       "    }\n",
       "\n",
       "    .dataframe tbody tr th {\n",
       "        vertical-align: top;\n",
       "    }\n",
       "\n",
       "    .dataframe thead th {\n",
       "        text-align: right;\n",
       "    }\n",
       "</style>\n",
       "<table border=\"1\" class=\"dataframe\">\n",
       "  <thead>\n",
       "    <tr style=\"text-align: right;\">\n",
       "      <th></th>\n",
       "      <th>Predict_VDC</th>\n",
       "      <th>Real_VDC</th>\n",
       "      <th>Residual_VDC</th>\n",
       "      <th>Resid_VDC_%</th>\n",
       "    </tr>\n",
       "  </thead>\n",
       "  <tbody>\n",
       "    <tr>\n",
       "      <th>0</th>\n",
       "      <td>26.476432</td>\n",
       "      <td>19.65</td>\n",
       "      <td>6.826432</td>\n",
       "      <td>34.740113</td>\n",
       "    </tr>\n",
       "    <tr>\n",
       "      <th>1</th>\n",
       "      <td>26.472913</td>\n",
       "      <td>19.60</td>\n",
       "      <td>6.872913</td>\n",
       "      <td>35.065882</td>\n",
       "    </tr>\n",
       "    <tr>\n",
       "      <th>2</th>\n",
       "      <td>27.634511</td>\n",
       "      <td>29.90</td>\n",
       "      <td>-2.265489</td>\n",
       "      <td>7.576888</td>\n",
       "    </tr>\n",
       "    <tr>\n",
       "      <th>3</th>\n",
       "      <td>27.751269</td>\n",
       "      <td>29.25</td>\n",
       "      <td>-1.498731</td>\n",
       "      <td>5.123868</td>\n",
       "    </tr>\n",
       "    <tr>\n",
       "      <th>4</th>\n",
       "      <td>27.777992</td>\n",
       "      <td>29.80</td>\n",
       "      <td>-2.022008</td>\n",
       "      <td>6.785263</td>\n",
       "    </tr>\n",
       "  </tbody>\n",
       "</table>\n",
       "</div>"
      ],
      "text/plain": [
       "   Predict_VDC  Real_VDC  Residual_VDC  Resid_VDC_%\n",
       "0    26.476432     19.65      6.826432    34.740113\n",
       "1    26.472913     19.60      6.872913    35.065882\n",
       "2    27.634511     29.90     -2.265489     7.576888\n",
       "3    27.751269     29.25     -1.498731     5.123868\n",
       "4    27.777992     29.80     -2.022008     6.785263"
      ]
     },
     "execution_count": 16,
     "metadata": {},
     "output_type": "execute_result"
    }
   ],
   "source": [
    "# Creating model\n",
    "reg_VDC = LinearRegression()\n",
    "\n",
    "#Training model\n",
    "reg_VDC.fit(X_train_sc, y_train_dataset[['A_Optimal_VDC']])\n",
    "resultN_VDC = pd.DataFrame(reg_VDC.predict(X_test_sc)).rename(columns = {0:'Predict_VDC'})\n",
    "\n",
    "# Adding result in the same dataframe and difference between both\n",
    "resultN_VDC['Real_VDC'] = y_test_dataset['A_Optimal_VDC']\n",
    "resultN_VDC['Residual_VDC'] = resultN_VDC['Predict_VDC']-resultN_VDC['Real_VDC']\n",
    "resultN_VDC['Resid_VDC_%'] = np.abs(resultN_VDC['Residual_VDC']/resultN_VDC['Real_VDC']*100)\n",
    "\n",
    "resultN_VDC.head()"
   ]
  },
  {
   "cell_type": "markdown",
   "metadata": {},
   "source": [
    "##### Métricas del modelo: MAE, MAPE y R2"
   ]
  },
  {
   "cell_type": "code",
   "execution_count": 17,
   "metadata": {},
   "outputs": [
    {
     "name": "stdout",
     "output_type": "stream",
     "text": [
      "MAE:  1.5434211159610085\n",
      "MAPE:  5.605998544059996\n",
      "R^2:  -2.447974303890166\n"
     ]
    }
   ],
   "source": [
    "print('MAE: ', np.mean(np.abs(resultN_VDC['Residual_VDC'])))\n",
    "print('MAPE: ', np.mean(resultN_VDC['Resid_VDC_%']))\n",
    "print('R^2: ', r2_score(resultN_VDC['Predict_VDC'],y_test_dataset['A_Optimal_VDC']))"
   ]
  },
  {
   "cell_type": "markdown",
   "metadata": {},
   "source": [
    "### Modelo para el parámetro de corriente en corriente continua (CDC)."
   ]
  },
  {
   "cell_type": "code",
   "execution_count": 18,
   "metadata": {
    "scrolled": false
   },
   "outputs": [
    {
     "data": {
      "text/html": [
       "<div>\n",
       "<style scoped>\n",
       "    .dataframe tbody tr th:only-of-type {\n",
       "        vertical-align: middle;\n",
       "    }\n",
       "\n",
       "    .dataframe tbody tr th {\n",
       "        vertical-align: top;\n",
       "    }\n",
       "\n",
       "    .dataframe thead th {\n",
       "        text-align: right;\n",
       "    }\n",
       "</style>\n",
       "<table border=\"1\" class=\"dataframe\">\n",
       "  <thead>\n",
       "    <tr style=\"text-align: right;\">\n",
       "      <th></th>\n",
       "      <th>Predict_CDC</th>\n",
       "      <th>Real_CDC</th>\n",
       "      <th>Residual_CDC</th>\n",
       "      <th>Resid_CDC_%</th>\n",
       "    </tr>\n",
       "  </thead>\n",
       "  <tbody>\n",
       "    <tr>\n",
       "      <th>0</th>\n",
       "      <td>0.660221</td>\n",
       "      <td>0.3975</td>\n",
       "      <td>0.262721</td>\n",
       "      <td>66.093287</td>\n",
       "    </tr>\n",
       "    <tr>\n",
       "      <th>1</th>\n",
       "      <td>0.684337</td>\n",
       "      <td>0.5075</td>\n",
       "      <td>0.176837</td>\n",
       "      <td>34.844658</td>\n",
       "    </tr>\n",
       "    <tr>\n",
       "      <th>2</th>\n",
       "      <td>3.379461</td>\n",
       "      <td>3.9650</td>\n",
       "      <td>-0.585539</td>\n",
       "      <td>14.767694</td>\n",
       "    </tr>\n",
       "    <tr>\n",
       "      <th>3</th>\n",
       "      <td>3.574863</td>\n",
       "      <td>4.1300</td>\n",
       "      <td>-0.555137</td>\n",
       "      <td>13.441581</td>\n",
       "    </tr>\n",
       "    <tr>\n",
       "      <th>4</th>\n",
       "      <td>3.634612</td>\n",
       "      <td>4.0500</td>\n",
       "      <td>-0.415388</td>\n",
       "      <td>10.256503</td>\n",
       "    </tr>\n",
       "  </tbody>\n",
       "</table>\n",
       "</div>"
      ],
      "text/plain": [
       "   Predict_CDC  Real_CDC  Residual_CDC  Resid_CDC_%\n",
       "0     0.660221    0.3975      0.262721    66.093287\n",
       "1     0.684337    0.5075      0.176837    34.844658\n",
       "2     3.379461    3.9650     -0.585539    14.767694\n",
       "3     3.574863    4.1300     -0.555137    13.441581\n",
       "4     3.634612    4.0500     -0.415388    10.256503"
      ]
     },
     "execution_count": 18,
     "metadata": {},
     "output_type": "execute_result"
    }
   ],
   "source": [
    "# Creating model\n",
    "reg_CDC = LinearRegression()\n",
    "\n",
    "#Training model\n",
    "reg_CDC.fit(X_train_sc, y_train_dataset[['A_Optimal_CDC']])\n",
    "resultN_CDC = pd.DataFrame(reg_CDC.predict(X_test_sc)).rename(columns = {0:'Predict_CDC'})\n",
    "\n",
    "# Adding result in the same dataframe and difference between both\n",
    "resultN_CDC['Real_CDC'] = y_test_dataset['A_Optimal_CDC']\n",
    "resultN_CDC['Residual_CDC'] = resultN_CDC['Predict_CDC']-resultN_CDC['Real_CDC']\n",
    "resultN_CDC['Resid_CDC_%'] = np.abs(resultN_CDC['Residual_CDC']/resultN_CDC['Real_CDC']*100)\n",
    "\n",
    "resultN_CDC.head()"
   ]
  },
  {
   "cell_type": "markdown",
   "metadata": {},
   "source": [
    "##### Métricas del modelo: MAE, MAPE y R2"
   ]
  },
  {
   "cell_type": "code",
   "execution_count": 19,
   "metadata": {},
   "outputs": [
    {
     "name": "stdout",
     "output_type": "stream",
     "text": [
      "MAE:  0.8409363846182895\n",
      "MAPE:  122.79180600316212\n",
      "R^2:  0.6403865322166233\n"
     ]
    }
   ],
   "source": [
    "print('MAE: ', np.mean(np.abs(resultN_CDC['Residual_CDC'])))\n",
    "print('MAPE: ', np.mean(resultN_CDC['Resid_CDC_%']))\n",
    "print('R^2: ', r2_score(resultN_CDC['Predict_CDC'],y_test_dataset['A_Optimal_CDC']))"
   ]
  },
  {
   "cell_type": "markdown",
   "metadata": {},
   "source": [
    "### Modelo para el parámetro de potencia en corriente continua (PDC)."
   ]
  },
  {
   "cell_type": "code",
   "execution_count": 20,
   "metadata": {},
   "outputs": [
    {
     "data": {
      "text/html": [
       "<div>\n",
       "<style scoped>\n",
       "    .dataframe tbody tr th:only-of-type {\n",
       "        vertical-align: middle;\n",
       "    }\n",
       "\n",
       "    .dataframe tbody tr th {\n",
       "        vertical-align: top;\n",
       "    }\n",
       "\n",
       "    .dataframe thead th {\n",
       "        text-align: right;\n",
       "    }\n",
       "</style>\n",
       "<table border=\"1\" class=\"dataframe\">\n",
       "  <thead>\n",
       "    <tr style=\"text-align: right;\">\n",
       "      <th></th>\n",
       "      <th>Predict_PDC</th>\n",
       "      <th>Real_PDC</th>\n",
       "      <th>Residual_PDC</th>\n",
       "      <th>Resid_PDC_%</th>\n",
       "    </tr>\n",
       "  </thead>\n",
       "  <tbody>\n",
       "    <tr>\n",
       "      <th>0</th>\n",
       "      <td>19.122215</td>\n",
       "      <td>7.810875</td>\n",
       "      <td>11.311340</td>\n",
       "      <td>144.815270</td>\n",
       "    </tr>\n",
       "    <tr>\n",
       "      <th>1</th>\n",
       "      <td>19.747541</td>\n",
       "      <td>9.947000</td>\n",
       "      <td>9.800541</td>\n",
       "      <td>98.527611</td>\n",
       "    </tr>\n",
       "    <tr>\n",
       "      <th>2</th>\n",
       "      <td>95.113030</td>\n",
       "      <td>118.553500</td>\n",
       "      <td>-23.440470</td>\n",
       "      <td>19.772061</td>\n",
       "    </tr>\n",
       "    <tr>\n",
       "      <th>3</th>\n",
       "      <td>100.677372</td>\n",
       "      <td>120.802500</td>\n",
       "      <td>-20.125128</td>\n",
       "      <td>16.659529</td>\n",
       "    </tr>\n",
       "    <tr>\n",
       "      <th>4</th>\n",
       "      <td>102.330665</td>\n",
       "      <td>120.690000</td>\n",
       "      <td>-18.359335</td>\n",
       "      <td>15.211977</td>\n",
       "    </tr>\n",
       "  </tbody>\n",
       "</table>\n",
       "</div>"
      ],
      "text/plain": [
       "   Predict_PDC    Real_PDC  Residual_PDC  Resid_PDC_%\n",
       "0    19.122215    7.810875     11.311340   144.815270\n",
       "1    19.747541    9.947000      9.800541    98.527611\n",
       "2    95.113030  118.553500    -23.440470    19.772061\n",
       "3   100.677372  120.802500    -20.125128    16.659529\n",
       "4   102.330665  120.690000    -18.359335    15.211977"
      ]
     },
     "execution_count": 20,
     "metadata": {},
     "output_type": "execute_result"
    }
   ],
   "source": [
    "# Creating model\n",
    "reg_PDC = LinearRegression()\n",
    "\n",
    "#Training model\n",
    "reg_PDC.fit(X_train_sc, y_train_dataset[['A_Optimal_PDC']])\n",
    "resultN_PDC = pd.DataFrame(reg_PDC.predict(X_test_sc)).rename(columns = {0:'Predict_PDC'})\n",
    "\n",
    "# Adding result in the same dataframe and difference between both\n",
    "resultN_PDC['Real_PDC'] = y_test_dataset['A_Optimal_PDC']\n",
    "resultN_PDC['Residual_PDC'] = resultN_PDC['Predict_PDC']-resultN_PDC['Real_PDC']\n",
    "resultN_PDC['Resid_PDC_%'] = np.abs(resultN_PDC['Residual_PDC']/resultN_PDC['Real_PDC']*100)\n",
    "\n",
    "resultN_PDC.head()"
   ]
  },
  {
   "cell_type": "markdown",
   "metadata": {},
   "source": [
    "##### Métricas del modelo: MAE, MAPE y R2"
   ]
  },
  {
   "cell_type": "code",
   "execution_count": 21,
   "metadata": {},
   "outputs": [
    {
     "name": "stdout",
     "output_type": "stream",
     "text": [
      "MAE:  24.40707564401518\n",
      "MAPE:  131.35331729465165\n",
      "R^2:  0.617066021690856\n"
     ]
    }
   ],
   "source": [
    "print('MAE: ', np.mean(np.abs(resultN_PDC['Residual_PDC'])))\n",
    "print('MAPE: ', np.mean(resultN_PDC['Resid_PDC_%']))\n",
    "print('R^2: ', r2_score(resultN_PDC['Predict_PDC'],y_test_dataset['A_Optimal_PDC']))"
   ]
  },
  {
   "cell_type": "markdown",
   "metadata": {},
   "source": [
    "### Conclusiónes sobre el modelo de regresión lineal\n",
    "\n",
    "Como se puede observar, los datos mejoran considerablemente cuando se aplica normalización de los parámetros de entrada, sobretodo para las variables CDC y PDC.\n",
    "\n",
    "La variable VDC, no posee ninguna relación lineal con el resto de valores de entrada, algo que se puede ver en la matriz de coeficientes de correlación de Pearson. Por lo tanto, dicha variable no se puede predecir mediante un modelo de regresión lineal. Probaremos si somos capaces de predecirla mediante otro modelo."
   ]
  },
  {
   "cell_type": "markdown",
   "metadata": {},
   "source": [
    "## Creación de modelo Arbol de decisión."
   ]
  },
  {
   "cell_type": "markdown",
   "metadata": {},
   "source": [
    "### Importamos las librerías necesarias para la creación del modelo"
   ]
  },
  {
   "cell_type": "code",
   "execution_count": 22,
   "metadata": {},
   "outputs": [],
   "source": [
    "from sklearn.tree import DecisionTreeRegressor"
   ]
  },
  {
   "cell_type": "markdown",
   "metadata": {},
   "source": [
    "#### Recuperamos los datos para evitar que hayan sido modificados en el proceso"
   ]
  },
  {
   "cell_type": "code",
   "execution_count": 23,
   "metadata": {},
   "outputs": [],
   "source": [
    "# Datos de los años desde 2014 hasta 2017\n",
    "X_train_dataset = train_dataset[input_features]\n",
    "\n",
    "y_train_dataset = train_dataset[output_features]\n",
    "\n",
    "# Datos de la última semana de 2017\n",
    "X_test_dataset = test_dataset[input_features]\n",
    "\n",
    "y_test_dataset = test_dataset[output_features]"
   ]
  },
  {
   "cell_type": "markdown",
   "metadata": {},
   "source": [
    "### Normalización de los datos\n",
    "\n",
    "Debido a los resultados obtenidos en las pruebas anteriores, se procederá a trabajar directamente con los datos normalizados, ya que los resultados mejoran considerablemente."
   ]
  },
  {
   "cell_type": "code",
   "execution_count": 24,
   "metadata": {},
   "outputs": [],
   "source": [
    "scaler_train = MinMaxScaler()\n",
    "X_train_sc = scaler_train.fit_transform(X_train_dataset)\n",
    "X_train_sc = pd.DataFrame(X_train_sc, columns=['Global_Radiation', 'Diffuse_Radiation','Ultraviolet'])\n",
    "\n",
    "scaler_test = MinMaxScaler()\n",
    "X_test_sc = scaler_test.fit_transform(X_test_dataset)\n",
    "X_test_sc = pd.DataFrame(X_test_sc, columns=['Global_Radiation', 'Diffuse_Radiation', 'Ultraviolet'])"
   ]
  },
  {
   "cell_type": "markdown",
   "metadata": {},
   "source": [
    "### 1º- Creación de modelo de profundidad 3\n",
    "\n",
    "Inicialmente, probaremos con el modelo de 3 capas para ver si los resultados mejoran frente al modelo de regresión lineal. Luego, intentaremos regularizar el modelo, buscando cuales son los parámetros más óptimos para el mismo."
   ]
  },
  {
   "cell_type": "markdown",
   "metadata": {},
   "source": [
    "### Modelo para el parámetro de tensión en corriente continua (VDC)."
   ]
  },
  {
   "cell_type": "code",
   "execution_count": 25,
   "metadata": {
    "scrolled": true
   },
   "outputs": [
    {
     "data": {
      "text/html": [
       "<div>\n",
       "<style scoped>\n",
       "    .dataframe tbody tr th:only-of-type {\n",
       "        vertical-align: middle;\n",
       "    }\n",
       "\n",
       "    .dataframe tbody tr th {\n",
       "        vertical-align: top;\n",
       "    }\n",
       "\n",
       "    .dataframe thead th {\n",
       "        text-align: right;\n",
       "    }\n",
       "</style>\n",
       "<table border=\"1\" class=\"dataframe\">\n",
       "  <thead>\n",
       "    <tr style=\"text-align: right;\">\n",
       "      <th></th>\n",
       "      <th>Predict_VDC</th>\n",
       "      <th>Real_VDC</th>\n",
       "      <th>Residual_VDC</th>\n",
       "      <th>Resid_VDC_%</th>\n",
       "    </tr>\n",
       "  </thead>\n",
       "  <tbody>\n",
       "    <tr>\n",
       "      <th>0</th>\n",
       "      <td>24.823361</td>\n",
       "      <td>19.65</td>\n",
       "      <td>5.173361</td>\n",
       "      <td>26.327535</td>\n",
       "    </tr>\n",
       "    <tr>\n",
       "      <th>1</th>\n",
       "      <td>24.823361</td>\n",
       "      <td>19.60</td>\n",
       "      <td>5.223361</td>\n",
       "      <td>26.649799</td>\n",
       "    </tr>\n",
       "    <tr>\n",
       "      <th>2</th>\n",
       "      <td>28.338768</td>\n",
       "      <td>29.90</td>\n",
       "      <td>-1.561232</td>\n",
       "      <td>5.221513</td>\n",
       "    </tr>\n",
       "    <tr>\n",
       "      <th>3</th>\n",
       "      <td>28.338768</td>\n",
       "      <td>29.25</td>\n",
       "      <td>-0.911232</td>\n",
       "      <td>3.115325</td>\n",
       "    </tr>\n",
       "    <tr>\n",
       "      <th>4</th>\n",
       "      <td>28.338768</td>\n",
       "      <td>29.80</td>\n",
       "      <td>-1.461232</td>\n",
       "      <td>4.903465</td>\n",
       "    </tr>\n",
       "  </tbody>\n",
       "</table>\n",
       "</div>"
      ],
      "text/plain": [
       "   Predict_VDC  Real_VDC  Residual_VDC  Resid_VDC_%\n",
       "0    24.823361     19.65      5.173361    26.327535\n",
       "1    24.823361     19.60      5.223361    26.649799\n",
       "2    28.338768     29.90     -1.561232     5.221513\n",
       "3    28.338768     29.25     -0.911232     3.115325\n",
       "4    28.338768     29.80     -1.461232     4.903465"
      ]
     },
     "execution_count": 25,
     "metadata": {},
     "output_type": "execute_result"
    }
   ],
   "source": [
    "# Creating model\n",
    "regd_VDC = DecisionTreeRegressor(max_depth=3)\n",
    "\n",
    "#Training model\n",
    "regd_VDC.fit(X_train_sc, y_train_dataset[['A_Optimal_VDC']])\n",
    "resultD_VDC = pd.DataFrame(regd_VDC.predict(X_test_sc)).rename(columns = {0:'Predict_VDC'})\n",
    "\n",
    "# Adding result in the same dataframe and difference between both\n",
    "resultD_VDC['Real_VDC'] = y_test_dataset['A_Optimal_VDC']\n",
    "resultD_VDC['Residual_VDC'] = resultD_VDC['Predict_VDC']-resultD_VDC['Real_VDC']\n",
    "resultD_VDC['Resid_VDC_%'] = np.abs(resultD_VDC['Residual_VDC']/resultD_VDC['Real_VDC']*100)\n",
    "\n",
    "resultD_VDC.head()"
   ]
  },
  {
   "cell_type": "markdown",
   "metadata": {},
   "source": [
    "##### Métricas del modelo: MAE, MAPE, R2 y Correlación"
   ]
  },
  {
   "cell_type": "code",
   "execution_count": 26,
   "metadata": {},
   "outputs": [
    {
     "name": "stdout",
     "output_type": "stream",
     "text": [
      "MAE:  1.3703451670618183\n",
      "MAPE:  4.985394034944251\n",
      "R^2:  -1.427255769317766\n",
      "Correlation:  0.49384587097771127\n"
     ]
    }
   ],
   "source": [
    "print('MAE: ', np.mean(np.abs(resultD_VDC['Residual_VDC'])))\n",
    "print('MAPE: ', np.mean(resultD_VDC['Resid_VDC_%']))\n",
    "print('R^2: ', r2_score(resultD_VDC['Predict_VDC'],y_test_dataset['A_Optimal_VDC']))\n",
    "print('Correlation: ', np.corrcoef(resultD_VDC['Predict_VDC'],y_test_dataset['A_Optimal_VDC'])[0][1])"
   ]
  },
  {
   "cell_type": "markdown",
   "metadata": {},
   "source": [
    "### Modelo para el parámetro de corriente en corriente continua (CDC)."
   ]
  },
  {
   "cell_type": "code",
   "execution_count": 27,
   "metadata": {
    "scrolled": true
   },
   "outputs": [
    {
     "data": {
      "text/html": [
       "<div>\n",
       "<style scoped>\n",
       "    .dataframe tbody tr th:only-of-type {\n",
       "        vertical-align: middle;\n",
       "    }\n",
       "\n",
       "    .dataframe tbody tr th {\n",
       "        vertical-align: top;\n",
       "    }\n",
       "\n",
       "    .dataframe thead th {\n",
       "        text-align: right;\n",
       "    }\n",
       "</style>\n",
       "<table border=\"1\" class=\"dataframe\">\n",
       "  <thead>\n",
       "    <tr style=\"text-align: right;\">\n",
       "      <th></th>\n",
       "      <th>Predict_CDC</th>\n",
       "      <th>Real_CDC</th>\n",
       "      <th>Residual_CDC</th>\n",
       "      <th>Resid_CDC_%</th>\n",
       "    </tr>\n",
       "  </thead>\n",
       "  <tbody>\n",
       "    <tr>\n",
       "      <th>0</th>\n",
       "      <td>0.426056</td>\n",
       "      <td>0.3975</td>\n",
       "      <td>0.028556</td>\n",
       "      <td>7.184022</td>\n",
       "    </tr>\n",
       "    <tr>\n",
       "      <th>1</th>\n",
       "      <td>0.426056</td>\n",
       "      <td>0.5075</td>\n",
       "      <td>-0.081444</td>\n",
       "      <td>16.047983</td>\n",
       "    </tr>\n",
       "    <tr>\n",
       "      <th>2</th>\n",
       "      <td>3.888762</td>\n",
       "      <td>3.9650</td>\n",
       "      <td>-0.076238</td>\n",
       "      <td>1.922779</td>\n",
       "    </tr>\n",
       "    <tr>\n",
       "      <th>3</th>\n",
       "      <td>3.888762</td>\n",
       "      <td>4.1300</td>\n",
       "      <td>-0.241238</td>\n",
       "      <td>5.841118</td>\n",
       "    </tr>\n",
       "    <tr>\n",
       "      <th>4</th>\n",
       "      <td>3.888762</td>\n",
       "      <td>4.0500</td>\n",
       "      <td>-0.161238</td>\n",
       "      <td>3.981190</td>\n",
       "    </tr>\n",
       "  </tbody>\n",
       "</table>\n",
       "</div>"
      ],
      "text/plain": [
       "   Predict_CDC  Real_CDC  Residual_CDC  Resid_CDC_%\n",
       "0     0.426056    0.3975      0.028556     7.184022\n",
       "1     0.426056    0.5075     -0.081444    16.047983\n",
       "2     3.888762    3.9650     -0.076238     1.922779\n",
       "3     3.888762    4.1300     -0.241238     5.841118\n",
       "4     3.888762    4.0500     -0.161238     3.981190"
      ]
     },
     "execution_count": 27,
     "metadata": {},
     "output_type": "execute_result"
    }
   ],
   "source": [
    "# Creating model\n",
    "regd_CDC = DecisionTreeRegressor(max_depth=3)\n",
    "\n",
    "#Training model\n",
    "regd_CDC.fit(X_train_sc, y_train_dataset[['A_Optimal_CDC']])\n",
    "resultD_CDC = pd.DataFrame(regd_CDC.predict(X_test_sc)).rename(columns = {0:'Predict_CDC'})\n",
    "\n",
    "# Adding result in the same dataframe and difference between both\n",
    "resultD_CDC['Real_CDC'] = y_test_dataset['A_Optimal_CDC']\n",
    "resultD_CDC['Residual_CDC'] = resultD_CDC['Predict_CDC']-resultD_CDC['Real_CDC']\n",
    "resultD_CDC['Resid_CDC_%'] = np.abs(resultD_CDC['Residual_CDC']/resultD_CDC['Real_CDC']*100)\n",
    "\n",
    "resultD_CDC.head()"
   ]
  },
  {
   "cell_type": "markdown",
   "metadata": {},
   "source": [
    "##### Métricas del modelo: MAE, MAPE, R2 y Correlación"
   ]
  },
  {
   "cell_type": "code",
   "execution_count": 28,
   "metadata": {},
   "outputs": [
    {
     "name": "stdout",
     "output_type": "stream",
     "text": [
      "MAE:  1.0174797132331062\n",
      "MAPE:  135.8777321721758\n",
      "R^2:  0.5450235991268586\n",
      "Correlation:  0.8502835435014362\n"
     ]
    }
   ],
   "source": [
    "print('MAE: ', np.mean(np.abs(resultD_CDC['Residual_CDC'])))\n",
    "print('MAPE: ', np.mean(resultD_CDC['Resid_CDC_%']))\n",
    "print('R^2: ', r2_score(resultD_CDC['Predict_CDC'],y_test_dataset['A_Optimal_CDC']))\n",
    "print('Correlation: ', np.corrcoef(resultD_CDC['Predict_CDC'],y_test_dataset['A_Optimal_CDC'])[0][1])"
   ]
  },
  {
   "cell_type": "markdown",
   "metadata": {},
   "source": [
    "### Modelo para el parámetro de potencia en corriente continua (PDC)."
   ]
  },
  {
   "cell_type": "code",
   "execution_count": 29,
   "metadata": {
    "scrolled": false
   },
   "outputs": [
    {
     "data": {
      "text/html": [
       "<div>\n",
       "<style scoped>\n",
       "    .dataframe tbody tr th:only-of-type {\n",
       "        vertical-align: middle;\n",
       "    }\n",
       "\n",
       "    .dataframe tbody tr th {\n",
       "        vertical-align: top;\n",
       "    }\n",
       "\n",
       "    .dataframe thead th {\n",
       "        text-align: right;\n",
       "    }\n",
       "</style>\n",
       "<table border=\"1\" class=\"dataframe\">\n",
       "  <thead>\n",
       "    <tr style=\"text-align: right;\">\n",
       "      <th></th>\n",
       "      <th>Predict_PDC</th>\n",
       "      <th>Real_PDC</th>\n",
       "      <th>Residual_PDC</th>\n",
       "      <th>Resid_PDC_%</th>\n",
       "    </tr>\n",
       "  </thead>\n",
       "  <tbody>\n",
       "    <tr>\n",
       "      <th>0</th>\n",
       "      <td>12.729683</td>\n",
       "      <td>7.810875</td>\n",
       "      <td>4.918808</td>\n",
       "      <td>62.973845</td>\n",
       "    </tr>\n",
       "    <tr>\n",
       "      <th>1</th>\n",
       "      <td>12.729683</td>\n",
       "      <td>9.947000</td>\n",
       "      <td>2.782683</td>\n",
       "      <td>27.975101</td>\n",
       "    </tr>\n",
       "    <tr>\n",
       "      <th>2</th>\n",
       "      <td>110.178149</td>\n",
       "      <td>118.553500</td>\n",
       "      <td>-8.375351</td>\n",
       "      <td>7.064617</td>\n",
       "    </tr>\n",
       "    <tr>\n",
       "      <th>3</th>\n",
       "      <td>110.178149</td>\n",
       "      <td>120.802500</td>\n",
       "      <td>-10.624351</td>\n",
       "      <td>8.794811</td>\n",
       "    </tr>\n",
       "    <tr>\n",
       "      <th>4</th>\n",
       "      <td>110.178149</td>\n",
       "      <td>120.690000</td>\n",
       "      <td>-10.511851</td>\n",
       "      <td>8.709795</td>\n",
       "    </tr>\n",
       "  </tbody>\n",
       "</table>\n",
       "</div>"
      ],
      "text/plain": [
       "   Predict_PDC    Real_PDC  Residual_PDC  Resid_PDC_%\n",
       "0    12.729683    7.810875      4.918808    62.973845\n",
       "1    12.729683    9.947000      2.782683    27.975101\n",
       "2   110.178149  118.553500     -8.375351     7.064617\n",
       "3   110.178149  120.802500    -10.624351     8.794811\n",
       "4   110.178149  120.690000    -10.511851     8.709795"
      ]
     },
     "execution_count": 29,
     "metadata": {},
     "output_type": "execute_result"
    }
   ],
   "source": [
    "# Creating model\n",
    "regd_PDC = DecisionTreeRegressor(max_depth=3)\n",
    "\n",
    "#Training model\n",
    "regd_PDC.fit(X_train_sc, y_train_dataset[['A_Optimal_PDC']])\n",
    "resultD_PDC = pd.DataFrame(regd_PDC.predict(X_test_sc)).rename(columns = {0:'Predict_PDC'})\n",
    "\n",
    "# Adding result in the same dataframe and difference between both\n",
    "resultD_PDC['Real_PDC'] = y_test_dataset['A_Optimal_PDC']\n",
    "resultD_PDC['Residual_PDC'] = resultD_PDC['Predict_PDC']-resultD_PDC['Real_PDC']\n",
    "resultD_PDC['Resid_PDC_%'] = np.abs(resultD_PDC['Residual_PDC']/resultD_PDC['Real_PDC']*100)\n",
    "\n",
    "resultD_PDC.head()"
   ]
  },
  {
   "cell_type": "markdown",
   "metadata": {},
   "source": [
    "##### Métricas del modelo: MAE, MAPE, R2 y Correlación"
   ]
  },
  {
   "cell_type": "code",
   "execution_count": 30,
   "metadata": {
    "scrolled": true
   },
   "outputs": [
    {
     "name": "stdout",
     "output_type": "stream",
     "text": [
      "MAE:  27.521908154281494\n",
      "MAPE:  124.74390101711741\n",
      "R^2:  0.5774913862808773\n",
      "Correlation:  0.8499027184757655\n"
     ]
    }
   ],
   "source": [
    "print('MAE: ', np.mean(np.abs(resultD_PDC['Residual_PDC'])))\n",
    "print('MAPE: ', np.mean(resultD_PDC['Resid_PDC_%']))\n",
    "print('R^2: ', r2_score(resultD_PDC['Predict_PDC'],y_test_dataset['A_Optimal_PDC']))\n",
    "print('Correlation: ', np.corrcoef(resultD_PDC['Predict_PDC'],y_test_dataset['A_Optimal_PDC'])[0][1])"
   ]
  },
  {
   "cell_type": "markdown",
   "metadata": {},
   "source": [
    "### 2º- Optimización de hiperparámetros.\n",
    "\n",
    "Tras probar el modelo básico de 3 capas, buscamos mejorar el modelo optimizando los hiperparametros."
   ]
  },
  {
   "cell_type": "markdown",
   "metadata": {},
   "source": [
    "##### Importamos librerías"
   ]
  },
  {
   "cell_type": "code",
   "execution_count": 31,
   "metadata": {},
   "outputs": [],
   "source": [
    "from sklearn.model_selection import GridSearchCV"
   ]
  },
  {
   "cell_type": "markdown",
   "metadata": {},
   "source": [
    "### Modelo para el parámetro de tensión en corriente continua (VDC)."
   ]
  },
  {
   "cell_type": "code",
   "execution_count": 32,
   "metadata": {},
   "outputs": [
    {
     "ename": "KeyboardInterrupt",
     "evalue": "",
     "output_type": "error",
     "traceback": [
      "\u001b[0;31m---------------------------------------------------------------------------\u001b[0m",
      "\u001b[0;31mKeyboardInterrupt\u001b[0m                         Traceback (most recent call last)",
      "\u001b[0;32m<ipython-input-32-249f60ab2c54>\u001b[0m in \u001b[0;36m<module>\u001b[0;34m\u001b[0m\n\u001b[1;32m     10\u001b[0m \u001b[0;34m\u001b[0m\u001b[0m\n\u001b[1;32m     11\u001b[0m \u001b[0;31m#Training model\u001b[0m\u001b[0;34m\u001b[0m\u001b[0;34m\u001b[0m\u001b[0;34m\u001b[0m\u001b[0m\n\u001b[0;32m---> 12\u001b[0;31m \u001b[0mregDG_VDC\u001b[0m\u001b[0;34m.\u001b[0m\u001b[0mfit\u001b[0m\u001b[0;34m(\u001b[0m\u001b[0mX_train_sc\u001b[0m\u001b[0;34m,\u001b[0m \u001b[0my_train_dataset\u001b[0m\u001b[0;34m[\u001b[0m\u001b[0;34m[\u001b[0m\u001b[0;34m'A_Optimal_VDC'\u001b[0m\u001b[0;34m]\u001b[0m\u001b[0;34m]\u001b[0m\u001b[0;34m)\u001b[0m\u001b[0;34m\u001b[0m\u001b[0;34m\u001b[0m\u001b[0m\n\u001b[0m",
      "\u001b[0;32m~/anaconda3/lib/python3.7/site-packages/sklearn/model_selection/_search.py\u001b[0m in \u001b[0;36mfit\u001b[0;34m(self, X, y, groups, **fit_params)\u001b[0m\n\u001b[1;32m    720\u001b[0m                 \u001b[0;32mreturn\u001b[0m \u001b[0mresults_container\u001b[0m\u001b[0;34m[\u001b[0m\u001b[0;36m0\u001b[0m\u001b[0;34m]\u001b[0m\u001b[0;34m\u001b[0m\u001b[0;34m\u001b[0m\u001b[0m\n\u001b[1;32m    721\u001b[0m \u001b[0;34m\u001b[0m\u001b[0m\n\u001b[0;32m--> 722\u001b[0;31m             \u001b[0mself\u001b[0m\u001b[0;34m.\u001b[0m\u001b[0m_run_search\u001b[0m\u001b[0;34m(\u001b[0m\u001b[0mevaluate_candidates\u001b[0m\u001b[0;34m)\u001b[0m\u001b[0;34m\u001b[0m\u001b[0;34m\u001b[0m\u001b[0m\n\u001b[0m\u001b[1;32m    723\u001b[0m \u001b[0;34m\u001b[0m\u001b[0m\n\u001b[1;32m    724\u001b[0m         \u001b[0mresults\u001b[0m \u001b[0;34m=\u001b[0m \u001b[0mresults_container\u001b[0m\u001b[0;34m[\u001b[0m\u001b[0;36m0\u001b[0m\u001b[0;34m]\u001b[0m\u001b[0;34m\u001b[0m\u001b[0;34m\u001b[0m\u001b[0m\n",
      "\u001b[0;32m~/anaconda3/lib/python3.7/site-packages/sklearn/model_selection/_search.py\u001b[0m in \u001b[0;36m_run_search\u001b[0;34m(self, evaluate_candidates)\u001b[0m\n\u001b[1;32m   1189\u001b[0m     \u001b[0;32mdef\u001b[0m \u001b[0m_run_search\u001b[0m\u001b[0;34m(\u001b[0m\u001b[0mself\u001b[0m\u001b[0;34m,\u001b[0m \u001b[0mevaluate_candidates\u001b[0m\u001b[0;34m)\u001b[0m\u001b[0;34m:\u001b[0m\u001b[0;34m\u001b[0m\u001b[0;34m\u001b[0m\u001b[0m\n\u001b[1;32m   1190\u001b[0m         \u001b[0;34m\"\"\"Search all candidates in param_grid\"\"\"\u001b[0m\u001b[0;34m\u001b[0m\u001b[0;34m\u001b[0m\u001b[0m\n\u001b[0;32m-> 1191\u001b[0;31m         \u001b[0mevaluate_candidates\u001b[0m\u001b[0;34m(\u001b[0m\u001b[0mParameterGrid\u001b[0m\u001b[0;34m(\u001b[0m\u001b[0mself\u001b[0m\u001b[0;34m.\u001b[0m\u001b[0mparam_grid\u001b[0m\u001b[0;34m)\u001b[0m\u001b[0;34m)\u001b[0m\u001b[0;34m\u001b[0m\u001b[0;34m\u001b[0m\u001b[0m\n\u001b[0m\u001b[1;32m   1192\u001b[0m \u001b[0;34m\u001b[0m\u001b[0m\n\u001b[1;32m   1193\u001b[0m \u001b[0;34m\u001b[0m\u001b[0m\n",
      "\u001b[0;32m~/anaconda3/lib/python3.7/site-packages/sklearn/model_selection/_search.py\u001b[0m in \u001b[0;36mevaluate_candidates\u001b[0;34m(candidate_params)\u001b[0m\n\u001b[1;32m    709\u001b[0m                                \u001b[0;32mfor\u001b[0m \u001b[0mparameters\u001b[0m\u001b[0;34m,\u001b[0m \u001b[0;34m(\u001b[0m\u001b[0mtrain\u001b[0m\u001b[0;34m,\u001b[0m \u001b[0mtest\u001b[0m\u001b[0;34m)\u001b[0m\u001b[0;34m\u001b[0m\u001b[0;34m\u001b[0m\u001b[0m\n\u001b[1;32m    710\u001b[0m                                in product(candidate_params,\n\u001b[0;32m--> 711\u001b[0;31m                                           cv.split(X, y, groups)))\n\u001b[0m\u001b[1;32m    712\u001b[0m \u001b[0;34m\u001b[0m\u001b[0m\n\u001b[1;32m    713\u001b[0m                 \u001b[0mall_candidate_params\u001b[0m\u001b[0;34m.\u001b[0m\u001b[0mextend\u001b[0m\u001b[0;34m(\u001b[0m\u001b[0mcandidate_params\u001b[0m\u001b[0;34m)\u001b[0m\u001b[0;34m\u001b[0m\u001b[0;34m\u001b[0m\u001b[0m\n",
      "\u001b[0;32m~/anaconda3/lib/python3.7/site-packages/sklearn/externals/joblib/parallel.py\u001b[0m in \u001b[0;36m__call__\u001b[0;34m(self, iterable)\u001b[0m\n\u001b[1;32m    918\u001b[0m                 \u001b[0mself\u001b[0m\u001b[0;34m.\u001b[0m\u001b[0m_iterating\u001b[0m \u001b[0;34m=\u001b[0m \u001b[0mself\u001b[0m\u001b[0;34m.\u001b[0m\u001b[0m_original_iterator\u001b[0m \u001b[0;32mis\u001b[0m \u001b[0;32mnot\u001b[0m \u001b[0;32mNone\u001b[0m\u001b[0;34m\u001b[0m\u001b[0;34m\u001b[0m\u001b[0m\n\u001b[1;32m    919\u001b[0m \u001b[0;34m\u001b[0m\u001b[0m\n\u001b[0;32m--> 920\u001b[0;31m             \u001b[0;32mwhile\u001b[0m \u001b[0mself\u001b[0m\u001b[0;34m.\u001b[0m\u001b[0mdispatch_one_batch\u001b[0m\u001b[0;34m(\u001b[0m\u001b[0miterator\u001b[0m\u001b[0;34m)\u001b[0m\u001b[0;34m:\u001b[0m\u001b[0;34m\u001b[0m\u001b[0;34m\u001b[0m\u001b[0m\n\u001b[0m\u001b[1;32m    921\u001b[0m                 \u001b[0;32mpass\u001b[0m\u001b[0;34m\u001b[0m\u001b[0;34m\u001b[0m\u001b[0m\n\u001b[1;32m    922\u001b[0m \u001b[0;34m\u001b[0m\u001b[0m\n",
      "\u001b[0;32m~/anaconda3/lib/python3.7/site-packages/sklearn/externals/joblib/parallel.py\u001b[0m in \u001b[0;36mdispatch_one_batch\u001b[0;34m(self, iterator)\u001b[0m\n\u001b[1;32m    757\u001b[0m                 \u001b[0;32mreturn\u001b[0m \u001b[0;32mFalse\u001b[0m\u001b[0;34m\u001b[0m\u001b[0;34m\u001b[0m\u001b[0m\n\u001b[1;32m    758\u001b[0m             \u001b[0;32melse\u001b[0m\u001b[0;34m:\u001b[0m\u001b[0;34m\u001b[0m\u001b[0;34m\u001b[0m\u001b[0m\n\u001b[0;32m--> 759\u001b[0;31m                 \u001b[0mself\u001b[0m\u001b[0;34m.\u001b[0m\u001b[0m_dispatch\u001b[0m\u001b[0;34m(\u001b[0m\u001b[0mtasks\u001b[0m\u001b[0;34m)\u001b[0m\u001b[0;34m\u001b[0m\u001b[0;34m\u001b[0m\u001b[0m\n\u001b[0m\u001b[1;32m    760\u001b[0m                 \u001b[0;32mreturn\u001b[0m \u001b[0;32mTrue\u001b[0m\u001b[0;34m\u001b[0m\u001b[0;34m\u001b[0m\u001b[0m\n\u001b[1;32m    761\u001b[0m \u001b[0;34m\u001b[0m\u001b[0m\n",
      "\u001b[0;32m~/anaconda3/lib/python3.7/site-packages/sklearn/externals/joblib/parallel.py\u001b[0m in \u001b[0;36m_dispatch\u001b[0;34m(self, batch)\u001b[0m\n\u001b[1;32m    714\u001b[0m         \u001b[0;32mwith\u001b[0m \u001b[0mself\u001b[0m\u001b[0;34m.\u001b[0m\u001b[0m_lock\u001b[0m\u001b[0;34m:\u001b[0m\u001b[0;34m\u001b[0m\u001b[0;34m\u001b[0m\u001b[0m\n\u001b[1;32m    715\u001b[0m             \u001b[0mjob_idx\u001b[0m \u001b[0;34m=\u001b[0m \u001b[0mlen\u001b[0m\u001b[0;34m(\u001b[0m\u001b[0mself\u001b[0m\u001b[0;34m.\u001b[0m\u001b[0m_jobs\u001b[0m\u001b[0;34m)\u001b[0m\u001b[0;34m\u001b[0m\u001b[0;34m\u001b[0m\u001b[0m\n\u001b[0;32m--> 716\u001b[0;31m             \u001b[0mjob\u001b[0m \u001b[0;34m=\u001b[0m \u001b[0mself\u001b[0m\u001b[0;34m.\u001b[0m\u001b[0m_backend\u001b[0m\u001b[0;34m.\u001b[0m\u001b[0mapply_async\u001b[0m\u001b[0;34m(\u001b[0m\u001b[0mbatch\u001b[0m\u001b[0;34m,\u001b[0m \u001b[0mcallback\u001b[0m\u001b[0;34m=\u001b[0m\u001b[0mcb\u001b[0m\u001b[0;34m)\u001b[0m\u001b[0;34m\u001b[0m\u001b[0;34m\u001b[0m\u001b[0m\n\u001b[0m\u001b[1;32m    717\u001b[0m             \u001b[0;31m# A job can complete so quickly than its callback is\u001b[0m\u001b[0;34m\u001b[0m\u001b[0;34m\u001b[0m\u001b[0;34m\u001b[0m\u001b[0m\n\u001b[1;32m    718\u001b[0m             \u001b[0;31m# called before we get here, causing self._jobs to\u001b[0m\u001b[0;34m\u001b[0m\u001b[0;34m\u001b[0m\u001b[0;34m\u001b[0m\u001b[0m\n",
      "\u001b[0;32m~/anaconda3/lib/python3.7/site-packages/sklearn/externals/joblib/_parallel_backends.py\u001b[0m in \u001b[0;36mapply_async\u001b[0;34m(self, func, callback)\u001b[0m\n\u001b[1;32m    180\u001b[0m     \u001b[0;32mdef\u001b[0m \u001b[0mapply_async\u001b[0m\u001b[0;34m(\u001b[0m\u001b[0mself\u001b[0m\u001b[0;34m,\u001b[0m \u001b[0mfunc\u001b[0m\u001b[0;34m,\u001b[0m \u001b[0mcallback\u001b[0m\u001b[0;34m=\u001b[0m\u001b[0;32mNone\u001b[0m\u001b[0;34m)\u001b[0m\u001b[0;34m:\u001b[0m\u001b[0;34m\u001b[0m\u001b[0;34m\u001b[0m\u001b[0m\n\u001b[1;32m    181\u001b[0m         \u001b[0;34m\"\"\"Schedule a func to be run\"\"\"\u001b[0m\u001b[0;34m\u001b[0m\u001b[0;34m\u001b[0m\u001b[0m\n\u001b[0;32m--> 182\u001b[0;31m         \u001b[0mresult\u001b[0m \u001b[0;34m=\u001b[0m \u001b[0mImmediateResult\u001b[0m\u001b[0;34m(\u001b[0m\u001b[0mfunc\u001b[0m\u001b[0;34m)\u001b[0m\u001b[0;34m\u001b[0m\u001b[0;34m\u001b[0m\u001b[0m\n\u001b[0m\u001b[1;32m    183\u001b[0m         \u001b[0;32mif\u001b[0m \u001b[0mcallback\u001b[0m\u001b[0;34m:\u001b[0m\u001b[0;34m\u001b[0m\u001b[0;34m\u001b[0m\u001b[0m\n\u001b[1;32m    184\u001b[0m             \u001b[0mcallback\u001b[0m\u001b[0;34m(\u001b[0m\u001b[0mresult\u001b[0m\u001b[0;34m)\u001b[0m\u001b[0;34m\u001b[0m\u001b[0;34m\u001b[0m\u001b[0m\n",
      "\u001b[0;32m~/anaconda3/lib/python3.7/site-packages/sklearn/externals/joblib/_parallel_backends.py\u001b[0m in \u001b[0;36m__init__\u001b[0;34m(self, batch)\u001b[0m\n\u001b[1;32m    547\u001b[0m         \u001b[0;31m# Don't delay the application, to avoid keeping the input\u001b[0m\u001b[0;34m\u001b[0m\u001b[0;34m\u001b[0m\u001b[0;34m\u001b[0m\u001b[0m\n\u001b[1;32m    548\u001b[0m         \u001b[0;31m# arguments in memory\u001b[0m\u001b[0;34m\u001b[0m\u001b[0;34m\u001b[0m\u001b[0;34m\u001b[0m\u001b[0m\n\u001b[0;32m--> 549\u001b[0;31m         \u001b[0mself\u001b[0m\u001b[0;34m.\u001b[0m\u001b[0mresults\u001b[0m \u001b[0;34m=\u001b[0m \u001b[0mbatch\u001b[0m\u001b[0;34m(\u001b[0m\u001b[0;34m)\u001b[0m\u001b[0;34m\u001b[0m\u001b[0;34m\u001b[0m\u001b[0m\n\u001b[0m\u001b[1;32m    550\u001b[0m \u001b[0;34m\u001b[0m\u001b[0m\n\u001b[1;32m    551\u001b[0m     \u001b[0;32mdef\u001b[0m \u001b[0mget\u001b[0m\u001b[0;34m(\u001b[0m\u001b[0mself\u001b[0m\u001b[0;34m)\u001b[0m\u001b[0;34m:\u001b[0m\u001b[0;34m\u001b[0m\u001b[0;34m\u001b[0m\u001b[0m\n",
      "\u001b[0;32m~/anaconda3/lib/python3.7/site-packages/sklearn/externals/joblib/parallel.py\u001b[0m in \u001b[0;36m__call__\u001b[0;34m(self)\u001b[0m\n\u001b[1;32m    223\u001b[0m         \u001b[0;32mwith\u001b[0m \u001b[0mparallel_backend\u001b[0m\u001b[0;34m(\u001b[0m\u001b[0mself\u001b[0m\u001b[0;34m.\u001b[0m\u001b[0m_backend\u001b[0m\u001b[0;34m,\u001b[0m \u001b[0mn_jobs\u001b[0m\u001b[0;34m=\u001b[0m\u001b[0mself\u001b[0m\u001b[0;34m.\u001b[0m\u001b[0m_n_jobs\u001b[0m\u001b[0;34m)\u001b[0m\u001b[0;34m:\u001b[0m\u001b[0;34m\u001b[0m\u001b[0;34m\u001b[0m\u001b[0m\n\u001b[1;32m    224\u001b[0m             return [func(*args, **kwargs)\n\u001b[0;32m--> 225\u001b[0;31m                     for func, args, kwargs in self.items]\n\u001b[0m\u001b[1;32m    226\u001b[0m \u001b[0;34m\u001b[0m\u001b[0m\n\u001b[1;32m    227\u001b[0m     \u001b[0;32mdef\u001b[0m \u001b[0m__len__\u001b[0m\u001b[0;34m(\u001b[0m\u001b[0mself\u001b[0m\u001b[0;34m)\u001b[0m\u001b[0;34m:\u001b[0m\u001b[0;34m\u001b[0m\u001b[0;34m\u001b[0m\u001b[0m\n",
      "\u001b[0;32m~/anaconda3/lib/python3.7/site-packages/sklearn/externals/joblib/parallel.py\u001b[0m in \u001b[0;36m<listcomp>\u001b[0;34m(.0)\u001b[0m\n\u001b[1;32m    223\u001b[0m         \u001b[0;32mwith\u001b[0m \u001b[0mparallel_backend\u001b[0m\u001b[0;34m(\u001b[0m\u001b[0mself\u001b[0m\u001b[0;34m.\u001b[0m\u001b[0m_backend\u001b[0m\u001b[0;34m,\u001b[0m \u001b[0mn_jobs\u001b[0m\u001b[0;34m=\u001b[0m\u001b[0mself\u001b[0m\u001b[0;34m.\u001b[0m\u001b[0m_n_jobs\u001b[0m\u001b[0;34m)\u001b[0m\u001b[0;34m:\u001b[0m\u001b[0;34m\u001b[0m\u001b[0;34m\u001b[0m\u001b[0m\n\u001b[1;32m    224\u001b[0m             return [func(*args, **kwargs)\n\u001b[0;32m--> 225\u001b[0;31m                     for func, args, kwargs in self.items]\n\u001b[0m\u001b[1;32m    226\u001b[0m \u001b[0;34m\u001b[0m\u001b[0m\n\u001b[1;32m    227\u001b[0m     \u001b[0;32mdef\u001b[0m \u001b[0m__len__\u001b[0m\u001b[0;34m(\u001b[0m\u001b[0mself\u001b[0m\u001b[0;34m)\u001b[0m\u001b[0;34m:\u001b[0m\u001b[0;34m\u001b[0m\u001b[0;34m\u001b[0m\u001b[0m\n",
      "\u001b[0;32m~/anaconda3/lib/python3.7/site-packages/sklearn/model_selection/_validation.py\u001b[0m in \u001b[0;36m_fit_and_score\u001b[0;34m(estimator, X, y, scorer, train, test, verbose, parameters, fit_params, return_train_score, return_parameters, return_n_test_samples, return_times, return_estimator, error_score)\u001b[0m\n\u001b[1;32m    526\u001b[0m             \u001b[0mestimator\u001b[0m\u001b[0;34m.\u001b[0m\u001b[0mfit\u001b[0m\u001b[0;34m(\u001b[0m\u001b[0mX_train\u001b[0m\u001b[0;34m,\u001b[0m \u001b[0;34m**\u001b[0m\u001b[0mfit_params\u001b[0m\u001b[0;34m)\u001b[0m\u001b[0;34m\u001b[0m\u001b[0;34m\u001b[0m\u001b[0m\n\u001b[1;32m    527\u001b[0m         \u001b[0;32melse\u001b[0m\u001b[0;34m:\u001b[0m\u001b[0;34m\u001b[0m\u001b[0;34m\u001b[0m\u001b[0m\n\u001b[0;32m--> 528\u001b[0;31m             \u001b[0mestimator\u001b[0m\u001b[0;34m.\u001b[0m\u001b[0mfit\u001b[0m\u001b[0;34m(\u001b[0m\u001b[0mX_train\u001b[0m\u001b[0;34m,\u001b[0m \u001b[0my_train\u001b[0m\u001b[0;34m,\u001b[0m \u001b[0;34m**\u001b[0m\u001b[0mfit_params\u001b[0m\u001b[0;34m)\u001b[0m\u001b[0;34m\u001b[0m\u001b[0;34m\u001b[0m\u001b[0m\n\u001b[0m\u001b[1;32m    529\u001b[0m \u001b[0;34m\u001b[0m\u001b[0m\n\u001b[1;32m    530\u001b[0m     \u001b[0;32mexcept\u001b[0m \u001b[0mException\u001b[0m \u001b[0;32mas\u001b[0m \u001b[0me\u001b[0m\u001b[0;34m:\u001b[0m\u001b[0;34m\u001b[0m\u001b[0;34m\u001b[0m\u001b[0m\n",
      "\u001b[0;32m~/anaconda3/lib/python3.7/site-packages/sklearn/tree/tree.py\u001b[0m in \u001b[0;36mfit\u001b[0;34m(self, X, y, sample_weight, check_input, X_idx_sorted)\u001b[0m\n\u001b[1;32m   1140\u001b[0m             \u001b[0msample_weight\u001b[0m\u001b[0;34m=\u001b[0m\u001b[0msample_weight\u001b[0m\u001b[0;34m,\u001b[0m\u001b[0;34m\u001b[0m\u001b[0;34m\u001b[0m\u001b[0m\n\u001b[1;32m   1141\u001b[0m             \u001b[0mcheck_input\u001b[0m\u001b[0;34m=\u001b[0m\u001b[0mcheck_input\u001b[0m\u001b[0;34m,\u001b[0m\u001b[0;34m\u001b[0m\u001b[0;34m\u001b[0m\u001b[0m\n\u001b[0;32m-> 1142\u001b[0;31m             X_idx_sorted=X_idx_sorted)\n\u001b[0m\u001b[1;32m   1143\u001b[0m         \u001b[0;32mreturn\u001b[0m \u001b[0mself\u001b[0m\u001b[0;34m\u001b[0m\u001b[0;34m\u001b[0m\u001b[0m\n\u001b[1;32m   1144\u001b[0m \u001b[0;34m\u001b[0m\u001b[0m\n",
      "\u001b[0;32m~/anaconda3/lib/python3.7/site-packages/sklearn/tree/tree.py\u001b[0m in \u001b[0;36mfit\u001b[0;34m(self, X, y, sample_weight, check_input, X_idx_sorted)\u001b[0m\n\u001b[1;32m    364\u001b[0m                                            min_impurity_split)\n\u001b[1;32m    365\u001b[0m \u001b[0;34m\u001b[0m\u001b[0m\n\u001b[0;32m--> 366\u001b[0;31m         \u001b[0mbuilder\u001b[0m\u001b[0;34m.\u001b[0m\u001b[0mbuild\u001b[0m\u001b[0;34m(\u001b[0m\u001b[0mself\u001b[0m\u001b[0;34m.\u001b[0m\u001b[0mtree_\u001b[0m\u001b[0;34m,\u001b[0m \u001b[0mX\u001b[0m\u001b[0;34m,\u001b[0m \u001b[0my\u001b[0m\u001b[0;34m,\u001b[0m \u001b[0msample_weight\u001b[0m\u001b[0;34m,\u001b[0m \u001b[0mX_idx_sorted\u001b[0m\u001b[0;34m)\u001b[0m\u001b[0;34m\u001b[0m\u001b[0;34m\u001b[0m\u001b[0m\n\u001b[0m\u001b[1;32m    367\u001b[0m \u001b[0;34m\u001b[0m\u001b[0m\n\u001b[1;32m    368\u001b[0m         \u001b[0;32mif\u001b[0m \u001b[0mself\u001b[0m\u001b[0;34m.\u001b[0m\u001b[0mn_outputs_\u001b[0m \u001b[0;34m==\u001b[0m \u001b[0;36m1\u001b[0m\u001b[0;34m:\u001b[0m\u001b[0;34m\u001b[0m\u001b[0;34m\u001b[0m\u001b[0m\n",
      "\u001b[0;31mKeyboardInterrupt\u001b[0m: "
     ]
    }
   ],
   "source": [
    "# Creating model by GridSeachCV\n",
    "\n",
    "regDG_VDC = GridSearchCV(DecisionTreeRegressor(),\n",
    "                        param_grid = {\"max_depth\": np.arange(1, 30),\n",
    "                                      \"min_samples_split\": np.arange(25, 35),\n",
    "                                      \"min_samples_leaf\": np.arange(25, 35)\n",
    "                        },cv = 5,\n",
    "                        scoring = \"neg_mean_absolute_error\")\n",
    "\n",
    "\n",
    "#Training model\n",
    "regDG_VDC.fit(X_train_sc, y_train_dataset[['A_Optimal_VDC']])"
   ]
  },
  {
   "cell_type": "code",
   "execution_count": null,
   "metadata": {},
   "outputs": [],
   "source": [
    "regDG_VDC.best_params_"
   ]
  },
  {
   "cell_type": "code",
   "execution_count": null,
   "metadata": {},
   "outputs": [],
   "source": [
    "regDG_VDC.best_score_"
   ]
  },
  {
   "cell_type": "code",
   "execution_count": null,
   "metadata": {},
   "outputs": [],
   "source": [
    "resultDG_VDC = pd.DataFrame(regDG_VDC.best_estimator_.predict(X_test_sc)).rename(columns = {0:'Predict_VDC'})\n",
    "\n",
    "resultDG_VDC['Real_VDC'] = y_test_dataset['A_Optimal_VDC']\n",
    "resultDG_VDC['Residual_VDC'] = resultDG_VDC['Predict_VDC']-resultDG_VDC['Real_VDC']\n",
    "resultDG_VDC['Resid_VDC_%'] = np.abs(resultDG_VDC['Residual_VDC']/resultDG_VDC['Real_VDC']*100)\n",
    "\n",
    "print(resultDG_VDC.head())\n",
    "print('error absoluto medio: ', mean_absolute_error(resultDG_VDC['Predict_VDC'],resultDG_VDC['Real_VDC']))\n",
    "print('parametro R2: ', r2_score(resultDG_VDC['Predict_VDC'],y_test_dataset['A_Optimal_VDC']))\n",
    "print('Correlation: ', np.corrcoef(resultDG_VDC['Predict_VDC'],y_test_dataset['A_Optimal_VDC'])[0][1])"
   ]
  },
  {
   "cell_type": "markdown",
   "metadata": {},
   "source": [
    "### Modelo para el parámetro de corriente en corriente continua (CDC)."
   ]
  },
  {
   "cell_type": "code",
   "execution_count": null,
   "metadata": {},
   "outputs": [],
   "source": [
    "# Creating model by GridSeachCV\n",
    "\n",
    "regDG_CDC = GridSearchCV(DecisionTreeRegressor(),\n",
    "                        param_grid = {\"max_depth\": np.arange(2,8),\n",
    "                                      \"min_samples_split\": [10,30,50,100],\n",
    "                                      \"min_samples_leaf\": [10,30,50,100]\n",
    "                        },cv = 5,\n",
    "                        scoring = \"neg_mean_absolute_error\")\n",
    "\n",
    "\n",
    "#Training model\n",
    "regDG_CDC.fit(X_train_sc, y_train_dataset[['A_Optimal_CDC']])"
   ]
  },
  {
   "cell_type": "code",
   "execution_count": null,
   "metadata": {},
   "outputs": [],
   "source": [
    "regDG_CDC.best_params_"
   ]
  },
  {
   "cell_type": "code",
   "execution_count": null,
   "metadata": {},
   "outputs": [],
   "source": [
    "regDG_CDC.best_score_"
   ]
  },
  {
   "cell_type": "code",
   "execution_count": null,
   "metadata": {},
   "outputs": [],
   "source": [
    "resultDG_CDC = pd.DataFrame(regDG_CDC.best_estimator_.predict(X_test_sc)).rename(columns = {0:'Predict_CDC'})\n",
    "\n",
    "resultDG_CDC['Real_CDC'] = y_test_dataset['A_Optimal_CDC']\n",
    "resultDG_CDC['Residual_CDC'] = resultDG_CDC['Predict_CDC']-resultDG_CDC['Real_CDC']\n",
    "resultDG_CDC['Resid_CDC_%'] = np.abs(resultDG_CDC['Residual_CDC']/resultDG_CDC['Real_CDC']*100)\n",
    "\n",
    "print(resultDG_CDC.head())\n",
    "print(y_test_dataset['A_Optimal_CDC'].head())\n",
    "print('error absoluto medio: ', mean_absolute_error(resultDG_CDC['Predict_CDC'],y_test_dataset['A_Optimal_CDC']))\n",
    "print('parametro R2: ', r2_score(resultDG_CDC['Predict_CDC'],y_test_dataset['A_Optimal_CDC']))\n",
    "print('Correlation: ', np.corrcoef(resultDG_CDC['Predict_CDC'],y_test_dataset['A_Optimal_CDC'])[0][1])"
   ]
  },
  {
   "cell_type": "markdown",
   "metadata": {},
   "source": [
    "### Modelo para el parámetro de potencia en corriente continua (PDC)."
   ]
  },
  {
   "cell_type": "code",
   "execution_count": null,
   "metadata": {},
   "outputs": [],
   "source": [
    "# Creating model by GridSeachCV\n",
    "\n",
    "regDG_PDC = GridSearchCV(DecisionTreeRegressor(),\n",
    "                        param_grid = {\"max_depth\": np.arange(2,8),\n",
    "                                      \"min_samples_split\": [10,30,50,100],\n",
    "                                      \"min_samples_leaf\": [10,30,50,100]\n",
    "                        },cv = 5,\n",
    "                        scoring = \"neg_mean_absolute_error\")\n",
    "\n",
    "\n",
    "\n",
    "#Training model\n",
    "regDG_PDC.fit(X_train_sc, y_train_dataset[['A_Optimal_PDC']])"
   ]
  },
  {
   "cell_type": "code",
   "execution_count": null,
   "metadata": {},
   "outputs": [],
   "source": [
    "regDG_PDC.best_params_"
   ]
  },
  {
   "cell_type": "code",
   "execution_count": null,
   "metadata": {},
   "outputs": [],
   "source": [
    "regDG_PDC.best_score_"
   ]
  },
  {
   "cell_type": "code",
   "execution_count": null,
   "metadata": {},
   "outputs": [],
   "source": [
    "resultDG_PDC = pd.DataFrame(regDG_CDC.best_estimator_.predict(X_test_sc)).rename(columns = {0:'Predict_PDC'})\n",
    "\n",
    "resultDG_PDC['Real_PDC'] = y_test_dataset['A_Optimal_PDC']\n",
    "resultDG_PDC['Residual_PDC'] = resultDG_PDC['Predict_PDC']-resultDG_PDC['Real_PDC']\n",
    "resultDG_PDC['Resid_PDC_%'] = np.abs(resultDG_PDC['Residual_PDC']/resultDG_PDC['Real_PDC']*100)\n",
    "\n",
    "print(resultDG_PDC.head())\n",
    "print(y_test_dataset['A_Optimal_PDC'].head())\n",
    "print('error absoluto medio: ', mean_absolute_error(resultDG_PDC['Predict_PDC'],y_test_dataset['A_Optimal_PDC']))\n",
    "print('parametro R2: ', r2_score(resultDG_PDC['Predict_PDC'],y_test_dataset['A_Optimal_PDC']))\n",
    "print('Correlation: ', np.corrcoef(resultDG_PDC['Predict_PDC'],y_test_dataset['A_Optimal_PDC'])[0][1])"
   ]
  },
  {
   "cell_type": "markdown",
   "metadata": {},
   "source": [
    "### Guardando los modelos"
   ]
  },
  {
   "cell_type": "markdown",
   "metadata": {},
   "source": [
    "Atendiendo a las métricas de la verificación, hemos escogido para cada parámetro a predecir el modelo que menor error mostraba."
   ]
  },
  {
   "cell_type": "code",
   "execution_count": 53,
   "metadata": {},
   "outputs": [],
   "source": [
    "import pickle\n",
    "\n",
    "pickle.dump(regDG_VDC.best_estimator_,open(\"regDG_VDC.pickle\",\"wb\"))\n",
    "pickle.dump(regDG_CDC.best_estimator_,open(\"regDG_CDC.pickle\",\"wb\"))\n",
    "pickle.dump(regDG_PDC.best_estimator_,open(\"regDG_PDC.pickle\",\"wb\"))"
   ]
  },
  {
   "cell_type": "code",
   "execution_count": null,
   "metadata": {},
   "outputs": [],
   "source": []
  }
 ],
 "metadata": {
  "kernelspec": {
   "display_name": "Python 3",
   "language": "python",
   "name": "python3"
  },
  "language_info": {
   "codemirror_mode": {
    "name": "ipython",
    "version": 3
   },
   "file_extension": ".py",
   "mimetype": "text/x-python",
   "name": "python",
   "nbconvert_exporter": "python",
   "pygments_lexer": "ipython3",
   "version": "3.7.3"
  }
 },
 "nbformat": 4,
 "nbformat_minor": 2
}
