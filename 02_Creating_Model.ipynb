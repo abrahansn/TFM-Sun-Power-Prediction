{
 "cells": [
  {
   "cell_type": "markdown",
   "metadata": {
    "colab_type": "text",
    "id": "envNcloDvObG"
   },
   "source": [
    "# Creación del modelo de regresión"
   ]
  },
  {
   "cell_type": "markdown",
   "metadata": {
    "colab_type": "text",
    "id": "wj1nocfwvObK"
   },
   "source": [
    "## Obtención y visualización de datos"
   ]
  },
  {
   "cell_type": "markdown",
   "metadata": {
    "colab_type": "text",
    "id": "1DbT5T0ivObL"
   },
   "source": [
    "#### Comenzaremos creando modelos de regresión lineal multivariable. Para ello, veremos que features son más influyentes para nuestra predicción, y posteriormente veremos si es o no necesario tratar previamente los datos para mejorar la predicción."
   ]
  },
  {
   "cell_type": "markdown",
   "metadata": {
    "colab_type": "text",
    "id": "Wwpc5LWivObM"
   },
   "source": [
    "##### Importamos las librerías necesarias"
   ]
  },
  {
   "cell_type": "code",
   "execution_count": 2,
   "metadata": {
    "colab": {},
    "colab_type": "code",
    "id": "w5vLl9ixvObN"
   },
   "outputs": [],
   "source": [
    "import pandas as pd\n",
    "import numpy as np"
   ]
  },
  {
   "cell_type": "markdown",
   "metadata": {
    "colab_type": "text",
    "id": "TCzdZnlxvObQ"
   },
   "source": [
    "##### Importamos los datos post-procesados. Con ellos entrenaremos y testearemos nuestro modelo."
   ]
  },
  {
   "cell_type": "code",
   "execution_count": 3,
   "metadata": {
    "colab": {},
    "colab_type": "code",
    "id": "bkxOQSaIvObR"
   },
   "outputs": [],
   "source": [
    "train_dataset = pd.read_csv('train_dataset.csv',sep=';')\n",
    "test_dataset = pd.read_csv('test_dataset.csv',sep=';')"
   ]
  },
  {
   "cell_type": "code",
   "execution_count": 4,
   "metadata": {
    "colab": {
     "base_uri": "https://localhost:8080/",
     "height": 34
    },
    "colab_type": "code",
    "id": "RCWnfoAgvObT",
    "outputId": "3b88281b-2708-4a93-d1d3-9f4797921c52"
   },
   "outputs": [
    {
     "data": {
      "text/plain": [
       "(634941, 31)"
      ]
     },
     "execution_count": 4,
     "metadata": {},
     "output_type": "execute_result"
    }
   ],
   "source": [
    "train_dataset.shape"
   ]
  },
  {
   "cell_type": "code",
   "execution_count": 5,
   "metadata": {
    "colab": {
     "base_uri": "https://localhost:8080/",
     "height": 34
    },
    "colab_type": "code",
    "id": "A6zOaONyvObW",
    "outputId": "74f58a9e-f559-4a55-9cf3-6481a1b6b5c6"
   },
   "outputs": [
    {
     "data": {
      "text/plain": [
       "(158736, 31)"
      ]
     },
     "execution_count": 5,
     "metadata": {},
     "output_type": "execute_result"
    }
   ],
   "source": [
    "test_dataset.shape"
   ]
  },
  {
   "cell_type": "markdown",
   "metadata": {
    "colab_type": "text",
    "id": "PxolFpg8vObY"
   },
   "source": [
    "##### Analizamos la matríz del coeficiente de correlación de Pearson, entre las variables de entrada y las variables de salida. Donde podremos comprobar que los valores que las características que más inciden en el resultado final son: \"Global_Radiation\", \"Diffuse_Radiation\" y \"Ultraviolet\"."
   ]
  },
  {
   "cell_type": "code",
   "execution_count": 6,
   "metadata": {
    "colab": {
     "base_uri": "https://localhost:8080/",
     "height": 334
    },
    "colab_type": "code",
    "id": "I3Z70xzIvObZ",
    "outputId": "0b20dfe6-fdad-4fff-eb6c-1936a17b67a3",
    "scrolled": false
   },
   "outputs": [
    {
     "data": {
      "text/html": [
       "<div>\n",
       "<style scoped>\n",
       "    .dataframe tbody tr th:only-of-type {\n",
       "        vertical-align: middle;\n",
       "    }\n",
       "\n",
       "    .dataframe tbody tr th {\n",
       "        vertical-align: top;\n",
       "    }\n",
       "\n",
       "    .dataframe thead th {\n",
       "        text-align: right;\n",
       "    }\n",
       "</style>\n",
       "<table border=\"1\" class=\"dataframe\">\n",
       "  <thead>\n",
       "    <tr style=\"text-align: right;\">\n",
       "      <th></th>\n",
       "      <th>Ambient_Temperature</th>\n",
       "      <th>Global_Radiation</th>\n",
       "      <th>Diffuse_Radiation</th>\n",
       "      <th>Ultraviolet</th>\n",
       "      <th>Wind_Velocity</th>\n",
       "      <th>Wind_direction</th>\n",
       "      <th>A_Optimal_VDC</th>\n",
       "      <th>A_Optimal_CDC</th>\n",
       "      <th>A_Optimal_PDC</th>\n",
       "    </tr>\n",
       "  </thead>\n",
       "  <tbody>\n",
       "    <tr>\n",
       "      <th>Ambient_Temperature</th>\n",
       "      <td>1.000000</td>\n",
       "      <td>0.429854</td>\n",
       "      <td>0.068290</td>\n",
       "      <td>0.431713</td>\n",
       "      <td>0.136022</td>\n",
       "      <td>-0.031117</td>\n",
       "      <td>-0.166174</td>\n",
       "      <td>0.168704</td>\n",
       "      <td>0.144597</td>\n",
       "    </tr>\n",
       "    <tr>\n",
       "      <th>Global_Radiation</th>\n",
       "      <td>0.429854</td>\n",
       "      <td>1.000000</td>\n",
       "      <td>0.341474</td>\n",
       "      <td>0.987963</td>\n",
       "      <td>0.325380</td>\n",
       "      <td>-0.106952</td>\n",
       "      <td>0.163424</td>\n",
       "      <td>0.821643</td>\n",
       "      <td>0.814852</td>\n",
       "    </tr>\n",
       "    <tr>\n",
       "      <th>Diffuse_Radiation</th>\n",
       "      <td>0.068290</td>\n",
       "      <td>0.341474</td>\n",
       "      <td>1.000000</td>\n",
       "      <td>0.365796</td>\n",
       "      <td>0.218479</td>\n",
       "      <td>-0.052161</td>\n",
       "      <td>0.230912</td>\n",
       "      <td>0.286148</td>\n",
       "      <td>0.292225</td>\n",
       "    </tr>\n",
       "    <tr>\n",
       "      <th>Ultraviolet</th>\n",
       "      <td>0.431713</td>\n",
       "      <td>0.987963</td>\n",
       "      <td>0.365796</td>\n",
       "      <td>1.000000</td>\n",
       "      <td>0.341061</td>\n",
       "      <td>-0.092889</td>\n",
       "      <td>0.152905</td>\n",
       "      <td>0.802804</td>\n",
       "      <td>0.794839</td>\n",
       "    </tr>\n",
       "    <tr>\n",
       "      <th>Wind_Velocity</th>\n",
       "      <td>0.136022</td>\n",
       "      <td>0.325380</td>\n",
       "      <td>0.218479</td>\n",
       "      <td>0.341061</td>\n",
       "      <td>1.000000</td>\n",
       "      <td>0.156139</td>\n",
       "      <td>0.156417</td>\n",
       "      <td>0.275937</td>\n",
       "      <td>0.283009</td>\n",
       "    </tr>\n",
       "    <tr>\n",
       "      <th>Wind_direction</th>\n",
       "      <td>-0.031117</td>\n",
       "      <td>-0.106952</td>\n",
       "      <td>-0.052161</td>\n",
       "      <td>-0.092889</td>\n",
       "      <td>0.156139</td>\n",
       "      <td>1.000000</td>\n",
       "      <td>-0.029088</td>\n",
       "      <td>-0.120653</td>\n",
       "      <td>-0.121869</td>\n",
       "    </tr>\n",
       "    <tr>\n",
       "      <th>A_Optimal_VDC</th>\n",
       "      <td>-0.166174</td>\n",
       "      <td>0.163424</td>\n",
       "      <td>0.230912</td>\n",
       "      <td>0.152905</td>\n",
       "      <td>0.156417</td>\n",
       "      <td>-0.029088</td>\n",
       "      <td>1.000000</td>\n",
       "      <td>0.214218</td>\n",
       "      <td>0.255866</td>\n",
       "    </tr>\n",
       "    <tr>\n",
       "      <th>A_Optimal_CDC</th>\n",
       "      <td>0.168704</td>\n",
       "      <td>0.821643</td>\n",
       "      <td>0.286148</td>\n",
       "      <td>0.802804</td>\n",
       "      <td>0.275937</td>\n",
       "      <td>-0.120653</td>\n",
       "      <td>0.214218</td>\n",
       "      <td>1.000000</td>\n",
       "      <td>0.997673</td>\n",
       "    </tr>\n",
       "    <tr>\n",
       "      <th>A_Optimal_PDC</th>\n",
       "      <td>0.144597</td>\n",
       "      <td>0.814852</td>\n",
       "      <td>0.292225</td>\n",
       "      <td>0.794839</td>\n",
       "      <td>0.283009</td>\n",
       "      <td>-0.121869</td>\n",
       "      <td>0.255866</td>\n",
       "      <td>0.997673</td>\n",
       "      <td>1.000000</td>\n",
       "    </tr>\n",
       "  </tbody>\n",
       "</table>\n",
       "</div>"
      ],
      "text/plain": [
       "                     Ambient_Temperature  Global_Radiation  Diffuse_Radiation  \\\n",
       "Ambient_Temperature             1.000000          0.429854           0.068290   \n",
       "Global_Radiation                0.429854          1.000000           0.341474   \n",
       "Diffuse_Radiation               0.068290          0.341474           1.000000   \n",
       "Ultraviolet                     0.431713          0.987963           0.365796   \n",
       "Wind_Velocity                   0.136022          0.325380           0.218479   \n",
       "Wind_direction                 -0.031117         -0.106952          -0.052161   \n",
       "A_Optimal_VDC                  -0.166174          0.163424           0.230912   \n",
       "A_Optimal_CDC                   0.168704          0.821643           0.286148   \n",
       "A_Optimal_PDC                   0.144597          0.814852           0.292225   \n",
       "\n",
       "                     Ultraviolet  Wind_Velocity  Wind_direction  \\\n",
       "Ambient_Temperature     0.431713       0.136022       -0.031117   \n",
       "Global_Radiation        0.987963       0.325380       -0.106952   \n",
       "Diffuse_Radiation       0.365796       0.218479       -0.052161   \n",
       "Ultraviolet             1.000000       0.341061       -0.092889   \n",
       "Wind_Velocity           0.341061       1.000000        0.156139   \n",
       "Wind_direction         -0.092889       0.156139        1.000000   \n",
       "A_Optimal_VDC           0.152905       0.156417       -0.029088   \n",
       "A_Optimal_CDC           0.802804       0.275937       -0.120653   \n",
       "A_Optimal_PDC           0.794839       0.283009       -0.121869   \n",
       "\n",
       "                     A_Optimal_VDC  A_Optimal_CDC  A_Optimal_PDC  \n",
       "Ambient_Temperature      -0.166174       0.168704       0.144597  \n",
       "Global_Radiation          0.163424       0.821643       0.814852  \n",
       "Diffuse_Radiation         0.230912       0.286148       0.292225  \n",
       "Ultraviolet               0.152905       0.802804       0.794839  \n",
       "Wind_Velocity             0.156417       0.275937       0.283009  \n",
       "Wind_direction           -0.029088      -0.120653      -0.121869  \n",
       "A_Optimal_VDC             1.000000       0.214218       0.255866  \n",
       "A_Optimal_CDC             0.214218       1.000000       0.997673  \n",
       "A_Optimal_PDC             0.255866       0.997673       1.000000  "
      ]
     },
     "execution_count": 6,
     "metadata": {},
     "output_type": "execute_result"
    }
   ],
   "source": [
    "train_dataset[['Ambient_Temperature', 'Global_Radiation', 'Diffuse_Radiation',\n",
    "              'Ultraviolet', 'Wind_Velocity', 'Wind_direction','A_Optimal_VDC', \n",
    "              'A_Optimal_CDC', 'A_Optimal_PDC']].corr(method='pearson')"
   ]
  },
  {
   "cell_type": "markdown",
   "metadata": {
    "colab_type": "text",
    "id": "JAipQxTsvObd"
   },
   "source": [
    "##### Guardamos los campos que vamos a utilizar para la predicción.\n",
    "\n",
    "Seleccionamos solo las variables que vamos autilizar para la predicción y testeo de los modelos. \n",
    "\n",
    "Inicialmente, trabajaremos con la predicción de los parámetros de tensión, corriente y potencia de la placa modelo A. Al final lo extenderemos a la placa modelo B, cuando hayaramos determinado el mejor modelo para cada variable. Haremos lo mismo para el archivo de los datos usados para el test final, aunque no los usemos todavía."
   ]
  },
  {
   "cell_type": "code",
   "execution_count": 7,
   "metadata": {
    "colab": {},
    "colab_type": "code",
    "id": "NVPsO_02vObd"
   },
   "outputs": [],
   "source": [
    "# Variables que serán usadas para el entrenamiento de los modelos, evitamos introducir la fecha para no tener\n",
    "# estacionalidad en los mismos.\n",
    "\n",
    "input_features = ['Global_Radiation', 'Diffuse_Radiation', \n",
    "                  'Ultraviolet']"
   ]
  },
  {
   "cell_type": "code",
   "execution_count": 8,
   "metadata": {
    "colab": {
     "base_uri": "https://localhost:8080/",
     "height": 228
    },
    "colab_type": "code",
    "id": "PVP6qSjAvObf",
    "outputId": "b6d3f595-0b56-47a3-c94b-d17f1bec2853"
   },
   "outputs": [
    {
     "data": {
      "text/plain": [
       "0        2017-07-16 14:19:00+00:00\n",
       "1        2017-06-07 16:33:00+00:00\n",
       "2        2017-03-29 12:40:00+00:00\n",
       "3        2014-08-16 15:02:00+00:00\n",
       "4        2016-01-16 10:42:00+00:00\n",
       "                    ...           \n",
       "158731   2015-02-04 10:25:00+00:00\n",
       "158732   2014-06-01 08:22:00+00:00\n",
       "158733   2014-09-02 15:09:00+00:00\n",
       "158734   2015-10-29 13:56:00+00:00\n",
       "158735   2016-08-16 09:05:00+00:00\n",
       "Name: Datetime, Length: 158736, dtype: datetime64[ns, UTC]"
      ]
     },
     "execution_count": 8,
     "metadata": {},
     "output_type": "execute_result"
    }
   ],
   "source": [
    "# Datos de entranamiento\n",
    "train_dataset = train_dataset[['Datetime', 'Global_Radiation', 'Diffuse_Radiation', \n",
    "                              'Ultraviolet', 'A_Optimal_VDC', 'A_Optimal_CDC', \n",
    "                              'A_Optimal_PDC']]\n",
    "\n",
    "# Datos de la última semana de 2017\n",
    "test_dataset = test_dataset[['Datetime', 'Global_Radiation', 'Diffuse_Radiation', \n",
    "                              'Ultraviolet', 'A_Optimal_VDC', 'A_Optimal_CDC', \n",
    "                              'A_Optimal_PDC']]\n",
    "\n",
    "# Damos formato de datetime a la fecha y no de string.\n",
    "\n",
    "pd.to_datetime(train_dataset['Datetime'], format=\"%Y-%m-%d %H:%M:%S\")\n",
    "pd.to_datetime(test_dataset['Datetime'], format=\"%Y-%m-%d %H:%M:%S\")"
   ]
  },
  {
   "cell_type": "markdown",
   "metadata": {
    "colab_type": "text",
    "id": "NTh1Icz8vObh"
   },
   "source": [
    "##### Graficamos las variables linealmente para conocer su relación de forma visual."
   ]
  },
  {
   "cell_type": "code",
   "execution_count": 9,
   "metadata": {
    "colab": {
     "base_uri": "https://localhost:8080/",
     "height": 1000
    },
    "colab_type": "code",
    "id": "5DKAZaqSvObi",
    "outputId": "d8f38a9c-038a-4246-8fc6-d45c91029e8f"
   },
   "outputs": [
    {
     "data": {
      "image/png": "[encoded data removed]",
      "text/plain": [
       "<Figure size 432x288 with 1 Axes>"
      ]
     },
     "metadata": {
      "needs_background": "light"
     },
     "output_type": "display_data"
    },
    {
     "ename": "KeyboardInterrupt",
     "evalue": "",
     "output_type": "error",
     "traceback": [
      "\u001b[0;31m---------------------------------------------------------------------------\u001b[0m",
      "\u001b[0;31mKeyboardInterrupt\u001b[0m                         Traceback (most recent call last)",
      "\u001b[0;32m<ipython-input-9-571406df9e1c>\u001b[0m in \u001b[0;36m<module>\u001b[0;34m\u001b[0m\n\u001b[1;32m      9\u001b[0m             \u001b[0mplt\u001b[0m\u001b[0;34m.\u001b[0m\u001b[0mxlabel\u001b[0m\u001b[0;34m(\u001b[0m\u001b[0mnam_col\u001b[0m\u001b[0;34m)\u001b[0m\u001b[0;34m\u001b[0m\u001b[0;34m\u001b[0m\u001b[0m\n\u001b[1;32m     10\u001b[0m             \u001b[0mplt\u001b[0m\u001b[0;34m.\u001b[0m\u001b[0mylabel\u001b[0m\u001b[0;34m(\u001b[0m\u001b[0mnam_col2\u001b[0m\u001b[0;34m)\u001b[0m\u001b[0;34m\u001b[0m\u001b[0;34m\u001b[0m\u001b[0m\n\u001b[0;32m---> 11\u001b[0;31m             \u001b[0mplt\u001b[0m\u001b[0;34m.\u001b[0m\u001b[0mshow\u001b[0m\u001b[0;34m(\u001b[0m\u001b[0;34m)\u001b[0m\u001b[0;34m\u001b[0m\u001b[0;34m\u001b[0m\u001b[0m\n\u001b[0m",
      "\u001b[0;32m~/anaconda3/lib/python3.7/site-packages/matplotlib/pyplot.py\u001b[0m in \u001b[0;36mshow\u001b[0;34m(*args, **kw)\u001b[0m\n\u001b[1;32m    252\u001b[0m     \"\"\"\n\u001b[1;32m    253\u001b[0m     \u001b[0;32mglobal\u001b[0m \u001b[0m_show\u001b[0m\u001b[0;34m\u001b[0m\u001b[0;34m\u001b[0m\u001b[0m\n\u001b[0;32m--> 254\u001b[0;31m     \u001b[0;32mreturn\u001b[0m \u001b[0m_show\u001b[0m\u001b[0;34m(\u001b[0m\u001b[0;34m*\u001b[0m\u001b[0margs\u001b[0m\u001b[0;34m,\u001b[0m \u001b[0;34m**\u001b[0m\u001b[0mkw\u001b[0m\u001b[0;34m)\u001b[0m\u001b[0;34m\u001b[0m\u001b[0;34m\u001b[0m\u001b[0m\n\u001b[0m\u001b[1;32m    255\u001b[0m \u001b[0;34m\u001b[0m\u001b[0m\n\u001b[1;32m    256\u001b[0m \u001b[0;34m\u001b[0m\u001b[0m\n",
      "\u001b[0;32m~/anaconda3/lib/python3.7/site-packages/ipykernel/pylab/backend_inline.py\u001b[0m in \u001b[0;36mshow\u001b[0;34m(close, block)\u001b[0m\n\u001b[1;32m     37\u001b[0m             display(\n\u001b[1;32m     38\u001b[0m                 \u001b[0mfigure_manager\u001b[0m\u001b[0;34m.\u001b[0m\u001b[0mcanvas\u001b[0m\u001b[0;34m.\u001b[0m\u001b[0mfigure\u001b[0m\u001b[0;34m,\u001b[0m\u001b[0;34m\u001b[0m\u001b[0;34m\u001b[0m\u001b[0m\n\u001b[0;32m---> 39\u001b[0;31m                 \u001b[0mmetadata\u001b[0m\u001b[0;34m=\u001b[0m\u001b[0m_fetch_figure_metadata\u001b[0m\u001b[0;34m(\u001b[0m\u001b[0mfigure_manager\u001b[0m\u001b[0;34m.\u001b[0m\u001b[0mcanvas\u001b[0m\u001b[0;34m.\u001b[0m\u001b[0mfigure\u001b[0m\u001b[0;34m)\u001b[0m\u001b[0;34m\u001b[0m\u001b[0;34m\u001b[0m\u001b[0m\n\u001b[0m\u001b[1;32m     40\u001b[0m             )\n\u001b[1;32m     41\u001b[0m     \u001b[0;32mfinally\u001b[0m\u001b[0;34m:\u001b[0m\u001b[0;34m\u001b[0m\u001b[0;34m\u001b[0m\u001b[0m\n",
      "\u001b[0;32m~/anaconda3/lib/python3.7/site-packages/IPython/core/display.py\u001b[0m in \u001b[0;36mdisplay\u001b[0;34m(include, exclude, metadata, transient, display_id, *objs, **kwargs)\u001b[0m\n\u001b[1;32m    311\u001b[0m             \u001b[0mpublish_display_data\u001b[0m\u001b[0;34m(\u001b[0m\u001b[0mdata\u001b[0m\u001b[0;34m=\u001b[0m\u001b[0mobj\u001b[0m\u001b[0;34m,\u001b[0m \u001b[0mmetadata\u001b[0m\u001b[0;34m=\u001b[0m\u001b[0mmetadata\u001b[0m\u001b[0;34m,\u001b[0m \u001b[0;34m**\u001b[0m\u001b[0mkwargs\u001b[0m\u001b[0;34m)\u001b[0m\u001b[0;34m\u001b[0m\u001b[0;34m\u001b[0m\u001b[0m\n\u001b[1;32m    312\u001b[0m         \u001b[0;32melse\u001b[0m\u001b[0;34m:\u001b[0m\u001b[0;34m\u001b[0m\u001b[0;34m\u001b[0m\u001b[0m\n\u001b[0;32m--> 313\u001b[0;31m             \u001b[0mformat_dict\u001b[0m\u001b[0;34m,\u001b[0m \u001b[0mmd_dict\u001b[0m \u001b[0;34m=\u001b[0m \u001b[0mformat\u001b[0m\u001b[0;34m(\u001b[0m\u001b[0mobj\u001b[0m\u001b[0;34m,\u001b[0m \u001b[0minclude\u001b[0m\u001b[0;34m=\u001b[0m\u001b[0minclude\u001b[0m\u001b[0;34m,\u001b[0m \u001b[0mexclude\u001b[0m\u001b[0;34m=\u001b[0m\u001b[0mexclude\u001b[0m\u001b[0;34m)\u001b[0m\u001b[0;34m\u001b[0m\u001b[0;34m\u001b[0m\u001b[0m\n\u001b[0m\u001b[1;32m    314\u001b[0m             \u001b[0;32mif\u001b[0m \u001b[0;32mnot\u001b[0m \u001b[0mformat_dict\u001b[0m\u001b[0;34m:\u001b[0m\u001b[0;34m\u001b[0m\u001b[0;34m\u001b[0m\u001b[0m\n\u001b[1;32m    315\u001b[0m                 \u001b[0;31m# nothing to display (e.g. _ipython_display_ took over)\u001b[0m\u001b[0;34m\u001b[0m\u001b[0;34m\u001b[0m\u001b[0;34m\u001b[0m\u001b[0m\n",
      "\u001b[0;32m~/anaconda3/lib/python3.7/site-packages/IPython/core/formatters.py\u001b[0m in \u001b[0;36mformat\u001b[0;34m(self, obj, include, exclude)\u001b[0m\n\u001b[1;32m    178\u001b[0m             \u001b[0mmd\u001b[0m \u001b[0;34m=\u001b[0m \u001b[0;32mNone\u001b[0m\u001b[0;34m\u001b[0m\u001b[0;34m\u001b[0m\u001b[0m\n\u001b[1;32m    179\u001b[0m             \u001b[0;32mtry\u001b[0m\u001b[0;34m:\u001b[0m\u001b[0;34m\u001b[0m\u001b[0;34m\u001b[0m\u001b[0m\n\u001b[0;32m--> 180\u001b[0;31m                 \u001b[0mdata\u001b[0m \u001b[0;34m=\u001b[0m \u001b[0mformatter\u001b[0m\u001b[0;34m(\u001b[0m\u001b[0mobj\u001b[0m\u001b[0;34m)\u001b[0m\u001b[0;34m\u001b[0m\u001b[0;34m\u001b[0m\u001b[0m\n\u001b[0m\u001b[1;32m    181\u001b[0m             \u001b[0;32mexcept\u001b[0m\u001b[0;34m:\u001b[0m\u001b[0;34m\u001b[0m\u001b[0;34m\u001b[0m\u001b[0m\n\u001b[1;32m    182\u001b[0m                 \u001b[0;31m# FIXME: log the exception\u001b[0m\u001b[0;34m\u001b[0m\u001b[0;34m\u001b[0m\u001b[0;34m\u001b[0m\u001b[0m\n",
      "\u001b[0;32m</home/dsc/anaconda3/lib/python3.7/site-packages/decorator.py:decorator-gen-9>\u001b[0m in \u001b[0;36m__call__\u001b[0;34m(self, obj)\u001b[0m\n",
      "\u001b[0;32m~/anaconda3/lib/python3.7/site-packages/IPython/core/formatters.py\u001b[0m in \u001b[0;36mcatch_format_error\u001b[0;34m(method, self, *args, **kwargs)\u001b[0m\n\u001b[1;32m    222\u001b[0m     \u001b[0;34m\"\"\"show traceback on failed format call\"\"\"\u001b[0m\u001b[0;34m\u001b[0m\u001b[0;34m\u001b[0m\u001b[0m\n\u001b[1;32m    223\u001b[0m     \u001b[0;32mtry\u001b[0m\u001b[0;34m:\u001b[0m\u001b[0;34m\u001b[0m\u001b[0;34m\u001b[0m\u001b[0m\n\u001b[0;32m--> 224\u001b[0;31m         \u001b[0mr\u001b[0m \u001b[0;34m=\u001b[0m \u001b[0mmethod\u001b[0m\u001b[0;34m(\u001b[0m\u001b[0mself\u001b[0m\u001b[0;34m,\u001b[0m \u001b[0;34m*\u001b[0m\u001b[0margs\u001b[0m\u001b[0;34m,\u001b[0m \u001b[0;34m**\u001b[0m\u001b[0mkwargs\u001b[0m\u001b[0;34m)\u001b[0m\u001b[0;34m\u001b[0m\u001b[0;34m\u001b[0m\u001b[0m\n\u001b[0m\u001b[1;32m    225\u001b[0m     \u001b[0;32mexcept\u001b[0m \u001b[0mNotImplementedError\u001b[0m\u001b[0;34m:\u001b[0m\u001b[0;34m\u001b[0m\u001b[0;34m\u001b[0m\u001b[0m\n\u001b[1;32m    226\u001b[0m         \u001b[0;31m# don't warn on NotImplementedErrors\u001b[0m\u001b[0;34m\u001b[0m\u001b[0;34m\u001b[0m\u001b[0;34m\u001b[0m\u001b[0m\n",
      "\u001b[0;32m~/anaconda3/lib/python3.7/site-packages/IPython/core/formatters.py\u001b[0m in \u001b[0;36m__call__\u001b[0;34m(self, obj)\u001b[0m\n\u001b[1;32m    339\u001b[0m                 \u001b[0;32mpass\u001b[0m\u001b[0;34m\u001b[0m\u001b[0;34m\u001b[0m\u001b[0m\n\u001b[1;32m    340\u001b[0m             \u001b[0;32melse\u001b[0m\u001b[0;34m:\u001b[0m\u001b[0;34m\u001b[0m\u001b[0;34m\u001b[0m\u001b[0m\n\u001b[0;32m--> 341\u001b[0;31m                 \u001b[0;32mreturn\u001b[0m \u001b[0mprinter\u001b[0m\u001b[0;34m(\u001b[0m\u001b[0mobj\u001b[0m\u001b[0;34m)\u001b[0m\u001b[0;34m\u001b[0m\u001b[0;34m\u001b[0m\u001b[0m\n\u001b[0m\u001b[1;32m    342\u001b[0m             \u001b[0;31m# Finally look for special method names\u001b[0m\u001b[0;34m\u001b[0m\u001b[0;34m\u001b[0m\u001b[0;34m\u001b[0m\u001b[0m\n\u001b[1;32m    343\u001b[0m             \u001b[0mmethod\u001b[0m \u001b[0;34m=\u001b[0m \u001b[0mget_real_method\u001b[0m\u001b[0;34m(\u001b[0m\u001b[0mobj\u001b[0m\u001b[0;34m,\u001b[0m \u001b[0mself\u001b[0m\u001b[0;34m.\u001b[0m\u001b[0mprint_method\u001b[0m\u001b[0;34m)\u001b[0m\u001b[0;34m\u001b[0m\u001b[0;34m\u001b[0m\u001b[0m\n",
      "\u001b[0;32m~/anaconda3/lib/python3.7/site-packages/IPython/core/pylabtools.py\u001b[0m in \u001b[0;36m<lambda>\u001b[0;34m(fig)\u001b[0m\n\u001b[1;32m    242\u001b[0m \u001b[0;34m\u001b[0m\u001b[0m\n\u001b[1;32m    243\u001b[0m     \u001b[0;32mif\u001b[0m \u001b[0;34m'png'\u001b[0m \u001b[0;32min\u001b[0m \u001b[0mformats\u001b[0m\u001b[0;34m:\u001b[0m\u001b[0;34m\u001b[0m\u001b[0;34m\u001b[0m\u001b[0m\n\u001b[0;32m--> 244\u001b[0;31m         \u001b[0mpng_formatter\u001b[0m\u001b[0;34m.\u001b[0m\u001b[0mfor_type\u001b[0m\u001b[0;34m(\u001b[0m\u001b[0mFigure\u001b[0m\u001b[0;34m,\u001b[0m \u001b[0;32mlambda\u001b[0m \u001b[0mfig\u001b[0m\u001b[0;34m:\u001b[0m \u001b[0mprint_figure\u001b[0m\u001b[0;34m(\u001b[0m\u001b[0mfig\u001b[0m\u001b[0;34m,\u001b[0m \u001b[0;34m'png'\u001b[0m\u001b[0;34m,\u001b[0m \u001b[0;34m**\u001b[0m\u001b[0mkwargs\u001b[0m\u001b[0;34m)\u001b[0m\u001b[0;34m)\u001b[0m\u001b[0;34m\u001b[0m\u001b[0;34m\u001b[0m\u001b[0m\n\u001b[0m\u001b[1;32m    245\u001b[0m     \u001b[0;32mif\u001b[0m \u001b[0;34m'retina'\u001b[0m \u001b[0;32min\u001b[0m \u001b[0mformats\u001b[0m \u001b[0;32mor\u001b[0m \u001b[0;34m'png2x'\u001b[0m \u001b[0;32min\u001b[0m \u001b[0mformats\u001b[0m\u001b[0;34m:\u001b[0m\u001b[0;34m\u001b[0m\u001b[0;34m\u001b[0m\u001b[0m\n\u001b[1;32m    246\u001b[0m         \u001b[0mpng_formatter\u001b[0m\u001b[0;34m.\u001b[0m\u001b[0mfor_type\u001b[0m\u001b[0;34m(\u001b[0m\u001b[0mFigure\u001b[0m\u001b[0;34m,\u001b[0m \u001b[0;32mlambda\u001b[0m \u001b[0mfig\u001b[0m\u001b[0;34m:\u001b[0m \u001b[0mretina_figure\u001b[0m\u001b[0;34m(\u001b[0m\u001b[0mfig\u001b[0m\u001b[0;34m,\u001b[0m \u001b[0;34m**\u001b[0m\u001b[0mkwargs\u001b[0m\u001b[0;34m)\u001b[0m\u001b[0;34m)\u001b[0m\u001b[0;34m\u001b[0m\u001b[0;34m\u001b[0m\u001b[0m\n",
      "\u001b[0;32m~/anaconda3/lib/python3.7/site-packages/IPython/core/pylabtools.py\u001b[0m in \u001b[0;36mprint_figure\u001b[0;34m(fig, fmt, bbox_inches, **kwargs)\u001b[0m\n\u001b[1;32m    126\u001b[0m \u001b[0;34m\u001b[0m\u001b[0m\n\u001b[1;32m    127\u001b[0m     \u001b[0mbytes_io\u001b[0m \u001b[0;34m=\u001b[0m \u001b[0mBytesIO\u001b[0m\u001b[0;34m(\u001b[0m\u001b[0;34m)\u001b[0m\u001b[0;34m\u001b[0m\u001b[0;34m\u001b[0m\u001b[0m\n\u001b[0;32m--> 128\u001b[0;31m     \u001b[0mfig\u001b[0m\u001b[0;34m.\u001b[0m\u001b[0mcanvas\u001b[0m\u001b[0;34m.\u001b[0m\u001b[0mprint_figure\u001b[0m\u001b[0;34m(\u001b[0m\u001b[0mbytes_io\u001b[0m\u001b[0;34m,\u001b[0m \u001b[0;34m**\u001b[0m\u001b[0mkw\u001b[0m\u001b[0;34m)\u001b[0m\u001b[0;34m\u001b[0m\u001b[0;34m\u001b[0m\u001b[0m\n\u001b[0m\u001b[1;32m    129\u001b[0m     \u001b[0mdata\u001b[0m \u001b[0;34m=\u001b[0m \u001b[0mbytes_io\u001b[0m\u001b[0;34m.\u001b[0m\u001b[0mgetvalue\u001b[0m\u001b[0;34m(\u001b[0m\u001b[0;34m)\u001b[0m\u001b[0;34m\u001b[0m\u001b[0;34m\u001b[0m\u001b[0m\n\u001b[1;32m    130\u001b[0m     \u001b[0;32mif\u001b[0m \u001b[0mfmt\u001b[0m \u001b[0;34m==\u001b[0m \u001b[0;34m'svg'\u001b[0m\u001b[0;34m:\u001b[0m\u001b[0;34m\u001b[0m\u001b[0;34m\u001b[0m\u001b[0m\n",
      "\u001b[0;32m~/anaconda3/lib/python3.7/site-packages/matplotlib/backend_bases.py\u001b[0m in \u001b[0;36mprint_figure\u001b[0;34m(self, filename, dpi, facecolor, edgecolor, orientation, format, bbox_inches, **kwargs)\u001b[0m\n\u001b[1;32m   2051\u001b[0m                     \u001b[0mbbox_artists\u001b[0m \u001b[0;34m=\u001b[0m \u001b[0mkwargs\u001b[0m\u001b[0;34m.\u001b[0m\u001b[0mpop\u001b[0m\u001b[0;34m(\u001b[0m\u001b[0;34m\"bbox_extra_artists\"\u001b[0m\u001b[0;34m,\u001b[0m \u001b[0;32mNone\u001b[0m\u001b[0;34m)\u001b[0m\u001b[0;34m\u001b[0m\u001b[0;34m\u001b[0m\u001b[0m\n\u001b[1;32m   2052\u001b[0m                     bbox_inches = self.figure.get_tightbbox(renderer,\n\u001b[0;32m-> 2053\u001b[0;31m                             bbox_extra_artists=bbox_artists)\n\u001b[0m\u001b[1;32m   2054\u001b[0m                     \u001b[0mpad\u001b[0m \u001b[0;34m=\u001b[0m \u001b[0mkwargs\u001b[0m\u001b[0;34m.\u001b[0m\u001b[0mpop\u001b[0m\u001b[0;34m(\u001b[0m\u001b[0;34m\"pad_inches\"\u001b[0m\u001b[0;34m,\u001b[0m \u001b[0;32mNone\u001b[0m\u001b[0;34m)\u001b[0m\u001b[0;34m\u001b[0m\u001b[0;34m\u001b[0m\u001b[0m\n\u001b[1;32m   2055\u001b[0m                     \u001b[0;32mif\u001b[0m \u001b[0mpad\u001b[0m \u001b[0;32mis\u001b[0m \u001b[0;32mNone\u001b[0m\u001b[0;34m:\u001b[0m\u001b[0;34m\u001b[0m\u001b[0;34m\u001b[0m\u001b[0m\n",
      "\u001b[0;32m~/anaconda3/lib/python3.7/site-packages/matplotlib/figure.py\u001b[0m in \u001b[0;36mget_tightbbox\u001b[0;34m(self, renderer, bbox_extra_artists)\u001b[0m\n\u001b[1;32m   2268\u001b[0m \u001b[0;34m\u001b[0m\u001b[0m\n\u001b[1;32m   2269\u001b[0m         \u001b[0;32mfor\u001b[0m \u001b[0ma\u001b[0m \u001b[0;32min\u001b[0m \u001b[0martists\u001b[0m\u001b[0;34m:\u001b[0m\u001b[0;34m\u001b[0m\u001b[0;34m\u001b[0m\u001b[0m\n\u001b[0;32m-> 2270\u001b[0;31m             \u001b[0mbbox\u001b[0m \u001b[0;34m=\u001b[0m \u001b[0ma\u001b[0m\u001b[0;34m.\u001b[0m\u001b[0mget_tightbbox\u001b[0m\u001b[0;34m(\u001b[0m\u001b[0mrenderer\u001b[0m\u001b[0;34m)\u001b[0m\u001b[0;34m\u001b[0m\u001b[0;34m\u001b[0m\u001b[0m\n\u001b[0m\u001b[1;32m   2271\u001b[0m             \u001b[0;32mif\u001b[0m \u001b[0mbbox\u001b[0m \u001b[0;32mis\u001b[0m \u001b[0;32mnot\u001b[0m \u001b[0;32mNone\u001b[0m \u001b[0;32mand\u001b[0m \u001b[0;34m(\u001b[0m\u001b[0mbbox\u001b[0m\u001b[0;34m.\u001b[0m\u001b[0mwidth\u001b[0m \u001b[0;34m!=\u001b[0m \u001b[0;36m0\u001b[0m \u001b[0;32mor\u001b[0m \u001b[0mbbox\u001b[0m\u001b[0;34m.\u001b[0m\u001b[0mheight\u001b[0m \u001b[0;34m!=\u001b[0m \u001b[0;36m0\u001b[0m\u001b[0;34m)\u001b[0m\u001b[0;34m:\u001b[0m\u001b[0;34m\u001b[0m\u001b[0;34m\u001b[0m\u001b[0m\n\u001b[1;32m   2272\u001b[0m                 \u001b[0mbb\u001b[0m\u001b[0;34m.\u001b[0m\u001b[0mappend\u001b[0m\u001b[0;34m(\u001b[0m\u001b[0mbbox\u001b[0m\u001b[0;34m)\u001b[0m\u001b[0;34m\u001b[0m\u001b[0;34m\u001b[0m\u001b[0m\n",
      "\u001b[0;32m~/anaconda3/lib/python3.7/site-packages/matplotlib/axes/_base.py\u001b[0m in \u001b[0;36mget_tightbbox\u001b[0;34m(self, renderer, call_axes_locator, bbox_extra_artists)\u001b[0m\n\u001b[1;32m   4394\u001b[0m \u001b[0;34m\u001b[0m\u001b[0m\n\u001b[1;32m   4395\u001b[0m         \u001b[0;32mfor\u001b[0m \u001b[0ma\u001b[0m \u001b[0;32min\u001b[0m \u001b[0mbbox_artists\u001b[0m\u001b[0;34m:\u001b[0m\u001b[0;34m\u001b[0m\u001b[0;34m\u001b[0m\u001b[0m\n\u001b[0;32m-> 4396\u001b[0;31m             \u001b[0mbbox\u001b[0m \u001b[0;34m=\u001b[0m \u001b[0ma\u001b[0m\u001b[0;34m.\u001b[0m\u001b[0mget_tightbbox\u001b[0m\u001b[0;34m(\u001b[0m\u001b[0mrenderer\u001b[0m\u001b[0;34m)\u001b[0m\u001b[0;34m\u001b[0m\u001b[0;34m\u001b[0m\u001b[0m\n\u001b[0m\u001b[1;32m   4397\u001b[0m             if (bbox is not None and\n\u001b[1;32m   4398\u001b[0m                     \u001b[0;34m(\u001b[0m\u001b[0mbbox\u001b[0m\u001b[0;34m.\u001b[0m\u001b[0mwidth\u001b[0m \u001b[0;34m!=\u001b[0m \u001b[0;36m0\u001b[0m \u001b[0;32mor\u001b[0m \u001b[0mbbox\u001b[0m\u001b[0;34m.\u001b[0m\u001b[0mheight\u001b[0m \u001b[0;34m!=\u001b[0m \u001b[0;36m0\u001b[0m\u001b[0;34m)\u001b[0m \u001b[0;32mand\u001b[0m\u001b[0;34m\u001b[0m\u001b[0;34m\u001b[0m\u001b[0m\n",
      "\u001b[0;32m~/anaconda3/lib/python3.7/site-packages/matplotlib/artist.py\u001b[0m in \u001b[0;36mget_tightbbox\u001b[0;34m(self, renderer)\u001b[0m\n\u001b[1;32m    269\u001b[0m         \"\"\"\n\u001b[1;32m    270\u001b[0m \u001b[0;34m\u001b[0m\u001b[0m\n\u001b[0;32m--> 271\u001b[0;31m         \u001b[0mbbox\u001b[0m \u001b[0;34m=\u001b[0m \u001b[0mself\u001b[0m\u001b[0;34m.\u001b[0m\u001b[0mget_window_extent\u001b[0m\u001b[0;34m(\u001b[0m\u001b[0mrenderer\u001b[0m\u001b[0;34m)\u001b[0m\u001b[0;34m\u001b[0m\u001b[0;34m\u001b[0m\u001b[0m\n\u001b[0m\u001b[1;32m    272\u001b[0m         \u001b[0;32mif\u001b[0m \u001b[0mself\u001b[0m\u001b[0;34m.\u001b[0m\u001b[0mget_clip_on\u001b[0m\u001b[0;34m(\u001b[0m\u001b[0;34m)\u001b[0m\u001b[0;34m:\u001b[0m\u001b[0;34m\u001b[0m\u001b[0;34m\u001b[0m\u001b[0m\n\u001b[1;32m    273\u001b[0m             \u001b[0mclip_box\u001b[0m \u001b[0;34m=\u001b[0m \u001b[0mself\u001b[0m\u001b[0;34m.\u001b[0m\u001b[0mget_clip_box\u001b[0m\u001b[0;34m(\u001b[0m\u001b[0;34m)\u001b[0m\u001b[0;34m\u001b[0m\u001b[0;34m\u001b[0m\u001b[0m\n",
      "\u001b[0;32m~/anaconda3/lib/python3.7/site-packages/matplotlib/collections.py\u001b[0m in \u001b[0;36mget_window_extent\u001b[0;34m(self, renderer)\u001b[0m\n\u001b[1;32m    212\u001b[0m         \u001b[0;31m# TODO:check to ensure that this does not fail for\u001b[0m\u001b[0;34m\u001b[0m\u001b[0;34m\u001b[0m\u001b[0;34m\u001b[0m\u001b[0m\n\u001b[1;32m    213\u001b[0m         \u001b[0;31m# cases other than scatter plot legend\u001b[0m\u001b[0;34m\u001b[0m\u001b[0;34m\u001b[0m\u001b[0;34m\u001b[0m\u001b[0m\n\u001b[0;32m--> 214\u001b[0;31m         \u001b[0;32mreturn\u001b[0m \u001b[0mself\u001b[0m\u001b[0;34m.\u001b[0m\u001b[0mget_datalim\u001b[0m\u001b[0;34m(\u001b[0m\u001b[0mtransforms\u001b[0m\u001b[0;34m.\u001b[0m\u001b[0mIdentityTransform\u001b[0m\u001b[0;34m(\u001b[0m\u001b[0;34m)\u001b[0m\u001b[0;34m)\u001b[0m\u001b[0;34m\u001b[0m\u001b[0;34m\u001b[0m\u001b[0m\n\u001b[0m\u001b[1;32m    215\u001b[0m \u001b[0;34m\u001b[0m\u001b[0m\n\u001b[1;32m    216\u001b[0m     \u001b[0;32mdef\u001b[0m \u001b[0m_prepare_points\u001b[0m\u001b[0;34m(\u001b[0m\u001b[0mself\u001b[0m\u001b[0;34m)\u001b[0m\u001b[0;34m:\u001b[0m\u001b[0;34m\u001b[0m\u001b[0;34m\u001b[0m\u001b[0m\n",
      "\u001b[0;32m~/anaconda3/lib/python3.7/site-packages/matplotlib/collections.py\u001b[0m in \u001b[0;36mget_datalim\u001b[0;34m(self, transData)\u001b[0m\n\u001b[1;32m    203\u001b[0m             result = mpath.get_path_collection_extents(\n\u001b[1;32m    204\u001b[0m                 \u001b[0mtransform\u001b[0m\u001b[0;34m.\u001b[0m\u001b[0mfrozen\u001b[0m\u001b[0;34m(\u001b[0m\u001b[0;34m)\u001b[0m\u001b[0;34m,\u001b[0m \u001b[0mpaths\u001b[0m\u001b[0;34m,\u001b[0m \u001b[0mself\u001b[0m\u001b[0;34m.\u001b[0m\u001b[0mget_transforms\u001b[0m\u001b[0;34m(\u001b[0m\u001b[0;34m)\u001b[0m\u001b[0;34m,\u001b[0m\u001b[0;34m\u001b[0m\u001b[0;34m\u001b[0m\u001b[0m\n\u001b[0;32m--> 205\u001b[0;31m                 offsets, transOffset.frozen())\n\u001b[0m\u001b[1;32m    206\u001b[0m             \u001b[0mresult\u001b[0m \u001b[0;34m=\u001b[0m \u001b[0mresult\u001b[0m\u001b[0;34m.\u001b[0m\u001b[0minverse_transformed\u001b[0m\u001b[0;34m(\u001b[0m\u001b[0mtransData\u001b[0m\u001b[0;34m)\u001b[0m\u001b[0;34m\u001b[0m\u001b[0;34m\u001b[0m\u001b[0m\n\u001b[1;32m    207\u001b[0m         \u001b[0;32melse\u001b[0m\u001b[0;34m:\u001b[0m\u001b[0;34m\u001b[0m\u001b[0;34m\u001b[0m\u001b[0m\n",
      "\u001b[0;32m~/anaconda3/lib/python3.7/site-packages/matplotlib/path.py\u001b[0m in \u001b[0;36mget_path_collection_extents\u001b[0;34m(master_transform, paths, transforms, offsets, offset_transform)\u001b[0m\n\u001b[1;32m    988\u001b[0m     return Bbox.from_extents(*_path.get_path_collection_extents(\n\u001b[1;32m    989\u001b[0m         \u001b[0mmaster_transform\u001b[0m\u001b[0;34m,\u001b[0m \u001b[0mpaths\u001b[0m\u001b[0;34m,\u001b[0m \u001b[0mnp\u001b[0m\u001b[0;34m.\u001b[0m\u001b[0matleast_3d\u001b[0m\u001b[0;34m(\u001b[0m\u001b[0mtransforms\u001b[0m\u001b[0;34m)\u001b[0m\u001b[0;34m,\u001b[0m\u001b[0;34m\u001b[0m\u001b[0;34m\u001b[0m\u001b[0m\n\u001b[0;32m--> 990\u001b[0;31m         offsets, offset_transform))\n\u001b[0m\u001b[1;32m    991\u001b[0m \u001b[0;34m\u001b[0m\u001b[0m\n\u001b[1;32m    992\u001b[0m \u001b[0;34m\u001b[0m\u001b[0m\n",
      "\u001b[0;32m~/anaconda3/lib/python3.7/site-packages/matplotlib/path.py\u001b[0m in \u001b[0;36msimplify_threshold\u001b[0;34m(self)\u001b[0m\n\u001b[1;32m    234\u001b[0m         \u001b[0mself\u001b[0m\u001b[0;34m.\u001b[0m\u001b[0m_update_values\u001b[0m\u001b[0;34m(\u001b[0m\u001b[0;34m)\u001b[0m\u001b[0;34m\u001b[0m\u001b[0;34m\u001b[0m\u001b[0m\n\u001b[1;32m    235\u001b[0m \u001b[0;34m\u001b[0m\u001b[0m\n\u001b[0;32m--> 236\u001b[0;31m     \u001b[0;34m@\u001b[0m\u001b[0mproperty\u001b[0m\u001b[0;34m\u001b[0m\u001b[0;34m\u001b[0m\u001b[0m\n\u001b[0m\u001b[1;32m    237\u001b[0m     \u001b[0;32mdef\u001b[0m \u001b[0msimplify_threshold\u001b[0m\u001b[0;34m(\u001b[0m\u001b[0mself\u001b[0m\u001b[0;34m)\u001b[0m\u001b[0;34m:\u001b[0m\u001b[0;34m\u001b[0m\u001b[0;34m\u001b[0m\u001b[0m\n\u001b[1;32m    238\u001b[0m         \"\"\"\n",
      "\u001b[0;31mKeyboardInterrupt\u001b[0m: "
     ]
    }
   ],
   "source": [
    "import matplotlib.pyplot as plt\n",
    "%matplotlib inline\n",
    "\n",
    "# Recorremos todos los features de entreda y los graficamos con los features de salida, uno por uno.\n",
    "for nam_col in ['Global_Radiation', 'Diffuse_Radiation', 'Ultraviolet']:\n",
    "    for nam_col2 in ['A_Optimal_VDC', 'A_Optimal_CDC', 'A_Optimal_PDC']:\n",
    "            plt.scatter(train_dataset[nam_col], train_dataset[nam_col2])\n",
    "            plt.title(nam_col+'/'+nam_col2)\n",
    "            plt.xlabel(nam_col)\n",
    "            plt.ylabel(nam_col2)\n",
    "            plt.show()"
   ]
  },
  {
   "cell_type": "markdown",
   "metadata": {
    "colab_type": "text",
    "id": "XqNShQ8dvObk"
   },
   "source": [
    "## Creación de modelo de regresión lineal"
   ]
  },
  {
   "cell_type": "markdown",
   "metadata": {
    "colab_type": "text",
    "id": "QXRn-D-evObk"
   },
   "source": [
    "### 1º- Modelo con datos en bruto."
   ]
  },
  {
   "cell_type": "markdown",
   "metadata": {
    "colab_type": "text",
    "id": "_bkI_-QgvObl"
   },
   "source": [
    "Creamos un modelo de regresión lineal para cada una de las variables de salida. Luego testearemos el modelo final. No aplicaremos fase de validación por ser una regresión simple."
   ]
  },
  {
   "cell_type": "markdown",
   "metadata": {
    "colab_type": "text",
    "id": "Gq877-GGvObl"
   },
   "source": [
    "##### Importamos el modelo de regresión de SKlearn."
   ]
  },
  {
   "cell_type": "code",
   "execution_count": 10,
   "metadata": {
    "colab": {},
    "colab_type": "code",
    "id": "NbUlMlbZvObm"
   },
   "outputs": [],
   "source": [
    "from sklearn.linear_model import LinearRegression\n",
    "from sklearn.metrics import mean_absolute_error, r2_score"
   ]
  },
  {
   "cell_type": "markdown",
   "metadata": {
    "colab_type": "text",
    "id": "lg763-eMvObo"
   },
   "source": [
    "### Modelo para el parámetro de tensión en corriente continua (VDC)."
   ]
  },
  {
   "cell_type": "code",
   "execution_count": 67,
   "metadata": {
    "colab": {
     "base_uri": "https://localhost:8080/",
     "height": 638
    },
    "colab_type": "code",
    "id": "GeseYMKyvObo",
    "outputId": "49a87a27-f13d-4bb2-82d0-de144e1fd140"
   },
   "outputs": [
    {
     "name": "stderr",
     "output_type": "stream",
     "text": [
      "/usr/local/lib/python3.6/dist-packages/ipykernel_launcher.py:9: SettingWithCopyWarning: \n",
      "A value is trying to be set on a copy of a slice from a DataFrame.\n",
      "Try using .loc[row_indexer,col_indexer] = value instead\n",
      "\n",
      "See the caveats in the documentation: http://pandas.pydata.org/pandas-docs/stable/user_guide/indexing.html#returning-a-view-versus-a-copy\n",
      "  if __name__ == '__main__':\n",
      "/usr/local/lib/python3.6/dist-packages/ipykernel_launcher.py:12: SettingWithCopyWarning: \n",
      "A value is trying to be set on a copy of a slice from a DataFrame.\n",
      "Try using .loc[row_indexer,col_indexer] = value instead\n",
      "\n",
      "See the caveats in the documentation: http://pandas.pydata.org/pandas-docs/stable/user_guide/indexing.html#returning-a-view-versus-a-copy\n",
      "  if sys.path[0] == '':\n",
      "/usr/local/lib/python3.6/dist-packages/ipykernel_launcher.py:13: SettingWithCopyWarning: \n",
      "A value is trying to be set on a copy of a slice from a DataFrame.\n",
      "Try using .loc[row_indexer,col_indexer] = value instead\n",
      "\n",
      "See the caveats in the documentation: http://pandas.pydata.org/pandas-docs/stable/user_guide/indexing.html#returning-a-view-versus-a-copy\n",
      "  del sys.path[0]\n",
      "/usr/local/lib/python3.6/dist-packages/ipykernel_launcher.py:14: SettingWithCopyWarning: \n",
      "A value is trying to be set on a copy of a slice from a DataFrame.\n",
      "Try using .loc[row_indexer,col_indexer] = value instead\n",
      "\n",
      "See the caveats in the documentation: http://pandas.pydata.org/pandas-docs/stable/user_guide/indexing.html#returning-a-view-versus-a-copy\n",
      "  \n"
     ]
    },
    {
     "data": {
      "text/html": [
       "<div>\n",
       "<style scoped>\n",
       "    .dataframe tbody tr th:only-of-type {\n",
       "        vertical-align: middle;\n",
       "    }\n",
       "\n",
       "    .dataframe tbody tr th {\n",
       "        vertical-align: top;\n",
       "    }\n",
       "\n",
       "    .dataframe thead th {\n",
       "        text-align: right;\n",
       "    }\n",
       "</style>\n",
       "<table border=\"1\" class=\"dataframe\">\n",
       "  <thead>\n",
       "    <tr style=\"text-align: right;\">\n",
       "      <th></th>\n",
       "      <th>Datetime</th>\n",
       "      <th>Predict_VDC</th>\n",
       "      <th>Real_VDC</th>\n",
       "      <th>Residual_VDC</th>\n",
       "      <th>Resid_VDC_%</th>\n",
       "    </tr>\n",
       "  </thead>\n",
       "  <tbody>\n",
       "    <tr>\n",
       "      <th>0</th>\n",
       "      <td>2017-07-16 14:19:00+00:00</td>\n",
       "      <td>28.41</td>\n",
       "      <td>24.40</td>\n",
       "      <td>4.01</td>\n",
       "      <td>0.164344</td>\n",
       "    </tr>\n",
       "    <tr>\n",
       "      <th>1</th>\n",
       "      <td>2017-06-07 16:33:00+00:00</td>\n",
       "      <td>27.63</td>\n",
       "      <td>27.95</td>\n",
       "      <td>-0.32</td>\n",
       "      <td>0.011449</td>\n",
       "    </tr>\n",
       "    <tr>\n",
       "      <th>2</th>\n",
       "      <td>2017-03-29 12:40:00+00:00</td>\n",
       "      <td>28.49</td>\n",
       "      <td>27.75</td>\n",
       "      <td>0.74</td>\n",
       "      <td>0.026667</td>\n",
       "    </tr>\n",
       "    <tr>\n",
       "      <th>3</th>\n",
       "      <td>2014-08-16 15:02:00+00:00</td>\n",
       "      <td>27.87</td>\n",
       "      <td>26.55</td>\n",
       "      <td>1.32</td>\n",
       "      <td>0.049718</td>\n",
       "    </tr>\n",
       "    <tr>\n",
       "      <th>4</th>\n",
       "      <td>2016-01-16 10:42:00+00:00</td>\n",
       "      <td>27.85</td>\n",
       "      <td>29.95</td>\n",
       "      <td>-2.10</td>\n",
       "      <td>0.070117</td>\n",
       "    </tr>\n",
       "  </tbody>\n",
       "</table>\n",
       "</div>"
      ],
      "text/plain": [
       "                    Datetime  Predict_VDC  Real_VDC  Residual_VDC  Resid_VDC_%\n",
       "0  2017-07-16 14:19:00+00:00        28.41     24.40          4.01     0.164344\n",
       "1  2017-06-07 16:33:00+00:00        27.63     27.95         -0.32     0.011449\n",
       "2  2017-03-29 12:40:00+00:00        28.49     27.75          0.74     0.026667\n",
       "3  2014-08-16 15:02:00+00:00        27.87     26.55          1.32     0.049718\n",
       "4  2016-01-16 10:42:00+00:00        27.85     29.95         -2.10     0.070117"
      ]
     },
     "execution_count": 67,
     "metadata": {
      "tags": []
     },
     "output_type": "execute_result"
    }
   ],
   "source": [
    "# Creación del modelo\n",
    "reg_VDC = LinearRegression()\n",
    "\n",
    "# Creamos el dataframe de resultados\n",
    "\n",
    "result_VDC = test_dataset [['Datetime']]\n",
    "\n",
    "# Entrenamiento del modelo. Se redondea la predicción a float de dos decimales\n",
    "reg_VDC.fit(train_dataset[input_features], train_dataset[['A_Optimal_VDC']])\n",
    "result_VDC['Predict_VDC'] = round(pd.DataFrame(reg_VDC.predict(test_dataset[input_features])), 2)\n",
    "\n",
    "# Se introduce el resultado al data frame de resultados. Se añaden otras posibles métricas interesantes que nos\n",
    "# aporten más información.\n",
    "\n",
    "result_VDC['Real_VDC'] = test_dataset['A_Optimal_VDC']\n",
    "result_VDC['Residual_VDC'] = round(result_VDC['Predict_VDC']-result_VDC['Real_VDC'], 2)\n",
    "result_VDC['Resid_VDC_%'] = np.abs(result_VDC['Residual_VDC']/result_VDC['Real_VDC'])\n",
    "\n",
    "result_VDC.head()"
   ]
  },
  {
   "cell_type": "markdown",
   "metadata": {
    "colab_type": "text",
    "id": "aKICiOF1vObt"
   },
   "source": [
    "##### Métricas del modelo: MAE y R2"
   ]
  },
  {
   "cell_type": "markdown",
   "metadata": {},
   "source": [
    "Debido a su robustez, el MAE ha sido la métrica seleccionada, ya que no se vé afectada por los posibles outlier que haya en el dataset de entranamiento."
   ]
  },
  {
   "cell_type": "code",
   "execution_count": 68,
   "metadata": {
    "colab": {
     "base_uri": "https://localhost:8080/",
     "height": 70
    },
    "colab_type": "code",
    "id": "dyBQJenLvObt",
    "outputId": "6371a933-b59b-4d93-efe9-dc7c77c5508b"
   },
   "outputs": [
    {
     "name": "stdout",
     "output_type": "stream",
     "text": [
      "MAE:  1.218412017437714\n",
      "MAPE:  0.04665062074039544\n",
      "R^2:  -12.398478250136947\n"
     ]
    }
   ],
   "source": [
    "print('MAE: ', np.mean(np.abs(result_VDC['Residual_VDC'])))\n",
    "print('R^2: ', r2_score(result_VDC['Predict_VDC'],test_dataset['A_Optimal_VDC']))"
   ]
  },
  {
   "cell_type": "markdown",
   "metadata": {
    "colab_type": "text",
    "id": "nU588LNQ2c2p"
   },
   "source": [
    "##### Graficamos el resultado"
   ]
  },
  {
   "cell_type": "markdown",
   "metadata": {},
   "source": [
    "Gŕafica naran valor real, gráfica azul valor predicho."
   ]
  },
  {
   "cell_type": "code",
   "execution_count": 69,
   "metadata": {
    "colab": {
     "base_uri": "https://localhost:8080/",
     "height": 432
    },
    "colab_type": "code",
    "id": "sv5ey1Nh2WEF",
    "outputId": "e30e28a0-a9e4-445c-9bc2-b1779a999a41"
   },
   "outputs": [
    {
     "data": {
      "text/plain": [
       "([0, 1, 2, 3, 4, 5, 6, 7, 8, 9, 10, 11],\n",
       " <a list of 12 Text xticklabel objects>)"
      ]
     },
     "execution_count": 69,
     "metadata": {
      "tags": []
     },
     "output_type": "execute_result"
    },
    {
     "data": {
      "image/png": "[encoded data removed]",
      "text/plain": [
       "<Figure size 432x288 with 1 Axes>"
      ]
     },
     "metadata": {
      "tags": []
     },
     "output_type": "display_data"
    }
   ],
   "source": [
    "pd.to_datetime(result_VDC['Datetime'], format=\"%Y-%m-%d %H:%M:%S\")\n",
    "\n",
    "result_VDC = result_VDC.sort_values('Datetime')\n",
    "\n",
    "plt.plot(result_VDC['Datetime'].head(12), result_VDC['Predict_VDC'].head(12))\n",
    "plt.plot(result_VDC['Datetime'].head(12), result_VDC['Real_VDC'].head(12))\n",
    "\n",
    "plt.xticks(rotation='vertical')"
   ]
  },
  {
   "cell_type": "markdown",
   "metadata": {
    "colab_type": "text",
    "id": "f_f2x_2nvOby"
   },
   "source": [
    "### Modelo para el parámetro de corriente en corriente continua (CDC)."
   ]
  },
  {
   "cell_type": "code",
   "execution_count": 70,
   "metadata": {
    "colab": {
     "base_uri": "https://localhost:8080/",
     "height": 638
    },
    "colab_type": "code",
    "id": "hCrIWNvovOby",
    "outputId": "5c2be8ef-6590-454e-b46b-6489d23c02c0"
   },
   "outputs": [
    {
     "name": "stderr",
     "output_type": "stream",
     "text": [
      "/usr/local/lib/python3.6/dist-packages/ipykernel_launcher.py:9: SettingWithCopyWarning: \n",
      "A value is trying to be set on a copy of a slice from a DataFrame.\n",
      "Try using .loc[row_indexer,col_indexer] = value instead\n",
      "\n",
      "See the caveats in the documentation: http://pandas.pydata.org/pandas-docs/stable/user_guide/indexing.html#returning-a-view-versus-a-copy\n",
      "  if __name__ == '__main__':\n",
      "/usr/local/lib/python3.6/dist-packages/ipykernel_launcher.py:12: SettingWithCopyWarning: \n",
      "A value is trying to be set on a copy of a slice from a DataFrame.\n",
      "Try using .loc[row_indexer,col_indexer] = value instead\n",
      "\n",
      "See the caveats in the documentation: http://pandas.pydata.org/pandas-docs/stable/user_guide/indexing.html#returning-a-view-versus-a-copy\n",
      "  if sys.path[0] == '':\n",
      "/usr/local/lib/python3.6/dist-packages/ipykernel_launcher.py:13: SettingWithCopyWarning: \n",
      "A value is trying to be set on a copy of a slice from a DataFrame.\n",
      "Try using .loc[row_indexer,col_indexer] = value instead\n",
      "\n",
      "See the caveats in the documentation: http://pandas.pydata.org/pandas-docs/stable/user_guide/indexing.html#returning-a-view-versus-a-copy\n",
      "  del sys.path[0]\n",
      "/usr/local/lib/python3.6/dist-packages/ipykernel_launcher.py:14: SettingWithCopyWarning: \n",
      "A value is trying to be set on a copy of a slice from a DataFrame.\n",
      "Try using .loc[row_indexer,col_indexer] = value instead\n",
      "\n",
      "See the caveats in the documentation: http://pandas.pydata.org/pandas-docs/stable/user_guide/indexing.html#returning-a-view-versus-a-copy\n",
      "  \n"
     ]
    },
    {
     "data": {
      "text/html": [
       "<div>\n",
       "<style scoped>\n",
       "    .dataframe tbody tr th:only-of-type {\n",
       "        vertical-align: middle;\n",
       "    }\n",
       "\n",
       "    .dataframe tbody tr th {\n",
       "        vertical-align: top;\n",
       "    }\n",
       "\n",
       "    .dataframe thead th {\n",
       "        text-align: right;\n",
       "    }\n",
       "</style>\n",
       "<table border=\"1\" class=\"dataframe\">\n",
       "  <thead>\n",
       "    <tr style=\"text-align: right;\">\n",
       "      <th></th>\n",
       "      <th>Datetime</th>\n",
       "      <th>Predict_CDC</th>\n",
       "      <th>Real_CDC</th>\n",
       "      <th>Residual_CDC</th>\n",
       "      <th>Resid_CDC_%</th>\n",
       "    </tr>\n",
       "  </thead>\n",
       "  <tbody>\n",
       "    <tr>\n",
       "      <th>0</th>\n",
       "      <td>2017-07-16 14:19:00+00:00</td>\n",
       "      <td>5.89</td>\n",
       "      <td>6.3900</td>\n",
       "      <td>-0.50</td>\n",
       "      <td>0.078247</td>\n",
       "    </tr>\n",
       "    <tr>\n",
       "      <th>1</th>\n",
       "      <td>2017-06-07 16:33:00+00:00</td>\n",
       "      <td>3.22</td>\n",
       "      <td>3.2050</td>\n",
       "      <td>0.02</td>\n",
       "      <td>0.006240</td>\n",
       "    </tr>\n",
       "    <tr>\n",
       "      <th>2</th>\n",
       "      <td>2017-03-29 12:40:00+00:00</td>\n",
       "      <td>6.64</td>\n",
       "      <td>8.1500</td>\n",
       "      <td>-1.51</td>\n",
       "      <td>0.185276</td>\n",
       "    </tr>\n",
       "    <tr>\n",
       "      <th>3</th>\n",
       "      <td>2014-08-16 15:02:00+00:00</td>\n",
       "      <td>5.90</td>\n",
       "      <td>5.7925</td>\n",
       "      <td>0.11</td>\n",
       "      <td>0.018990</td>\n",
       "    </tr>\n",
       "    <tr>\n",
       "      <th>4</th>\n",
       "      <td>2016-01-16 10:42:00+00:00</td>\n",
       "      <td>4.09</td>\n",
       "      <td>6.4525</td>\n",
       "      <td>-2.36</td>\n",
       "      <td>0.365750</td>\n",
       "    </tr>\n",
       "  </tbody>\n",
       "</table>\n",
       "</div>"
      ],
      "text/plain": [
       "                    Datetime  Predict_CDC  Real_CDC  Residual_CDC  Resid_CDC_%\n",
       "0  2017-07-16 14:19:00+00:00         5.89    6.3900         -0.50     0.078247\n",
       "1  2017-06-07 16:33:00+00:00         3.22    3.2050          0.02     0.006240\n",
       "2  2017-03-29 12:40:00+00:00         6.64    8.1500         -1.51     0.185276\n",
       "3  2014-08-16 15:02:00+00:00         5.90    5.7925          0.11     0.018990\n",
       "4  2016-01-16 10:42:00+00:00         4.09    6.4525         -2.36     0.365750"
      ]
     },
     "execution_count": 70,
     "metadata": {
      "tags": []
     },
     "output_type": "execute_result"
    }
   ],
   "source": [
    "# Creación de modelo\n",
    "reg_CDC = LinearRegression()\n",
    "\n",
    "# Creamos el dataframe de resultados\n",
    "\n",
    "result_CDC = test_dataset [['Datetime']]\n",
    "\n",
    "# Entrenamiento de modelo\n",
    "reg_CDC.fit(train_dataset[input_features], train_dataset[['A_Optimal_CDC']])\n",
    "result_CDC['Predict_CDC'] = round(pd.DataFrame(reg_CDC.predict(test_dataset[input_features])), 2)\n",
    "\n",
    "# Adición de resultados al dataframe de resultados.\n",
    "\n",
    "result_CDC['Real_CDC'] = test_dataset['A_Optimal_CDC']\n",
    "result_CDC['Residual_CDC'] = round(result_CDC['Predict_CDC']-result_CDC['Real_CDC'], 2)\n",
    "result_CDC['Resid_CDC_%'] = np.abs(result_CDC['Residual_CDC']/result_CDC['Real_CDC'])\n",
    "\n",
    "result_CDC.head()"
   ]
  },
  {
   "cell_type": "markdown",
   "metadata": {
    "colab_type": "text",
    "id": "y6Ybw0XivOb2"
   },
   "source": [
    "##### Métricas del modelo: MAE, MAPE y R2"
   ]
  },
  {
   "cell_type": "code",
   "execution_count": 71,
   "metadata": {
    "colab": {
     "base_uri": "https://localhost:8080/",
     "height": 70
    },
    "colab_type": "code",
    "id": "ZC-GkIkpvOb3",
    "outputId": "8a3a8d9c-0571-4b2d-8624-317496a5b9de"
   },
   "outputs": [
    {
     "name": "stdout",
     "output_type": "stream",
     "text": [
      "MAE:  1.0616588549540986\n",
      "MAPE:  inf\n",
      "R^2:  0.5301388725613105\n"
     ]
    }
   ],
   "source": [
    "print('MAE: ', np.mean(np.abs(result_CDC['Residual_CDC'])))\n",
    "print('R^2: ', r2_score(result_CDC['Predict_CDC'],test_dataset['A_Optimal_CDC']))"
   ]
  },
  {
   "cell_type": "markdown",
   "metadata": {
    "colab_type": "text",
    "id": "YV7g0DS73bgw"
   },
   "source": [
    "#### Graficamos el resultado"
   ]
  },
  {
   "cell_type": "code",
   "execution_count": 72,
   "metadata": {
    "colab": {
     "base_uri": "https://localhost:8080/",
     "height": 432
    },
    "colab_type": "code",
    "id": "bN8J5rXQ3fds",
    "outputId": "12779d49-5d26-4338-e15e-5a1f446ebf01"
   },
   "outputs": [
    {
     "data": {
      "text/plain": [
       "([0, 1, 2, 3, 4, 5, 6, 7, 8, 9, 10, 11],\n",
       " <a list of 12 Text xticklabel objects>)"
      ]
     },
     "execution_count": 72,
     "metadata": {
      "tags": []
     },
     "output_type": "execute_result"
    },
    {
     "data": {
      "image/png": "[encoded data removed]",
      "text/plain": [
       "<Figure size 432x288 with 1 Axes>"
      ]
     },
     "metadata": {
      "tags": []
     },
     "output_type": "display_data"
    }
   ],
   "source": [
    "pd.to_datetime(result_CDC['Datetime'], format=\"%Y-%m-%d %H:%M:%S\")\n",
    "\n",
    "result_CDC = result_CDC.sort_values('Datetime')\n",
    "\n",
    "plt.plot(result_CDC['Datetime'].head(12), result_CDC['Predict_CDC'].head(12))\n",
    "plt.plot(result_CDC['Datetime'].head(12), result_CDC['Real_CDC'].head(12))\n",
    "\n",
    "plt.xticks(rotation='vertical')"
   ]
  },
  {
   "cell_type": "markdown",
   "metadata": {
    "colab_type": "text",
    "id": "Gq2O6Ry5vOb4"
   },
   "source": [
    "### Modelo para el parámetro de potencia en corriente continua (PDC)."
   ]
  },
  {
   "cell_type": "code",
   "execution_count": 73,
   "metadata": {
    "colab": {
     "base_uri": "https://localhost:8080/",
     "height": 638
    },
    "colab_type": "code",
    "id": "_0Lwf-stvOb5",
    "outputId": "43af56ca-8625-4b5e-fa77-87e44773061f"
   },
   "outputs": [
    {
     "name": "stderr",
     "output_type": "stream",
     "text": [
      "/usr/local/lib/python3.6/dist-packages/ipykernel_launcher.py:9: SettingWithCopyWarning: \n",
      "A value is trying to be set on a copy of a slice from a DataFrame.\n",
      "Try using .loc[row_indexer,col_indexer] = value instead\n",
      "\n",
      "See the caveats in the documentation: http://pandas.pydata.org/pandas-docs/stable/user_guide/indexing.html#returning-a-view-versus-a-copy\n",
      "  if __name__ == '__main__':\n",
      "/usr/local/lib/python3.6/dist-packages/ipykernel_launcher.py:12: SettingWithCopyWarning: \n",
      "A value is trying to be set on a copy of a slice from a DataFrame.\n",
      "Try using .loc[row_indexer,col_indexer] = value instead\n",
      "\n",
      "See the caveats in the documentation: http://pandas.pydata.org/pandas-docs/stable/user_guide/indexing.html#returning-a-view-versus-a-copy\n",
      "  if sys.path[0] == '':\n",
      "/usr/local/lib/python3.6/dist-packages/ipykernel_launcher.py:13: SettingWithCopyWarning: \n",
      "A value is trying to be set on a copy of a slice from a DataFrame.\n",
      "Try using .loc[row_indexer,col_indexer] = value instead\n",
      "\n",
      "See the caveats in the documentation: http://pandas.pydata.org/pandas-docs/stable/user_guide/indexing.html#returning-a-view-versus-a-copy\n",
      "  del sys.path[0]\n",
      "/usr/local/lib/python3.6/dist-packages/ipykernel_launcher.py:14: SettingWithCopyWarning: \n",
      "A value is trying to be set on a copy of a slice from a DataFrame.\n",
      "Try using .loc[row_indexer,col_indexer] = value instead\n",
      "\n",
      "See the caveats in the documentation: http://pandas.pydata.org/pandas-docs/stable/user_guide/indexing.html#returning-a-view-versus-a-copy\n",
      "  \n"
     ]
    },
    {
     "data": {
      "text/html": [
       "<div>\n",
       "<style scoped>\n",
       "    .dataframe tbody tr th:only-of-type {\n",
       "        vertical-align: middle;\n",
       "    }\n",
       "\n",
       "    .dataframe tbody tr th {\n",
       "        vertical-align: top;\n",
       "    }\n",
       "\n",
       "    .dataframe thead th {\n",
       "        text-align: right;\n",
       "    }\n",
       "</style>\n",
       "<table border=\"1\" class=\"dataframe\">\n",
       "  <thead>\n",
       "    <tr style=\"text-align: right;\">\n",
       "      <th></th>\n",
       "      <th>Datetime</th>\n",
       "      <th>Predict_PDC</th>\n",
       "      <th>Real_PDC</th>\n",
       "      <th>Residual_PDC</th>\n",
       "      <th>Resid_PDC_%</th>\n",
       "    </tr>\n",
       "  </thead>\n",
       "  <tbody>\n",
       "    <tr>\n",
       "      <th>0</th>\n",
       "      <td>2017-07-16 14:19:00+00:00</td>\n",
       "      <td>165.13</td>\n",
       "      <td>155.916000</td>\n",
       "      <td>9.21</td>\n",
       "      <td>0.059070</td>\n",
       "    </tr>\n",
       "    <tr>\n",
       "      <th>1</th>\n",
       "      <td>2017-06-07 16:33:00+00:00</td>\n",
       "      <td>90.81</td>\n",
       "      <td>89.579750</td>\n",
       "      <td>1.23</td>\n",
       "      <td>0.013731</td>\n",
       "    </tr>\n",
       "    <tr>\n",
       "      <th>2</th>\n",
       "      <td>2017-03-29 12:40:00+00:00</td>\n",
       "      <td>185.76</td>\n",
       "      <td>226.162500</td>\n",
       "      <td>-40.40</td>\n",
       "      <td>0.178633</td>\n",
       "    </tr>\n",
       "    <tr>\n",
       "      <th>3</th>\n",
       "      <td>2014-08-16 15:02:00+00:00</td>\n",
       "      <td>164.13</td>\n",
       "      <td>153.790875</td>\n",
       "      <td>10.34</td>\n",
       "      <td>0.067234</td>\n",
       "    </tr>\n",
       "    <tr>\n",
       "      <th>4</th>\n",
       "      <td>2016-01-16 10:42:00+00:00</td>\n",
       "      <td>115.58</td>\n",
       "      <td>193.252375</td>\n",
       "      <td>-77.67</td>\n",
       "      <td>0.401910</td>\n",
       "    </tr>\n",
       "  </tbody>\n",
       "</table>\n",
       "</div>"
      ],
      "text/plain": [
       "                    Datetime  Predict_PDC  ...  Residual_PDC  Resid_PDC_%\n",
       "0  2017-07-16 14:19:00+00:00       165.13  ...          9.21     0.059070\n",
       "1  2017-06-07 16:33:00+00:00        90.81  ...          1.23     0.013731\n",
       "2  2017-03-29 12:40:00+00:00       185.76  ...        -40.40     0.178633\n",
       "3  2014-08-16 15:02:00+00:00       164.13  ...         10.34     0.067234\n",
       "4  2016-01-16 10:42:00+00:00       115.58  ...        -77.67     0.401910\n",
       "\n",
       "[5 rows x 5 columns]"
      ]
     },
     "execution_count": 73,
     "metadata": {
      "tags": []
     },
     "output_type": "execute_result"
    }
   ],
   "source": [
    "# Creación del modelo\n",
    "reg_PDC = LinearRegression()\n",
    "\n",
    "# Creamos el dataframe de resultados\n",
    "\n",
    "result_PDC = test_dataset [['Datetime']]\n",
    "\n",
    "# Entrenamiento del modelo\n",
    "reg_PDC.fit(train_dataset[input_features], train_dataset[['A_Optimal_PDC']])\n",
    "result_PDC['Predict_PDC'] = round(pd.DataFrame(reg_PDC.predict(test_dataset[input_features])), 2)\n",
    "\n",
    "# Adición de resultado al dataframe de resultados\n",
    "result_PDC['Real_PDC'] = test_dataset['A_Optimal_PDC']\n",
    "result_PDC['Residual_PDC'] = round(result_PDC['Predict_PDC']-result_PDC['Real_PDC'], 2)\n",
    "result_PDC['Resid_PDC_%'] = np.abs(result_PDC['Residual_PDC']/result_PDC['Real_PDC'])\n",
    "\n",
    "result_PDC.head()"
   ]
  },
  {
   "cell_type": "markdown",
   "metadata": {
    "colab_type": "text",
    "id": "Zj5eFOYsvOb8"
   },
   "source": [
    "##### Métricas del modelo: MAE y R2"
   ]
  },
  {
   "cell_type": "code",
   "execution_count": 74,
   "metadata": {
    "colab": {
     "base_uri": "https://localhost:8080/",
     "height": 70
    },
    "colab_type": "code",
    "id": "XVkxdVJmvOb9",
    "outputId": "83dd788b-4225-4050-e4ed-dd0d9d1036b6"
   },
   "outputs": [
    {
     "name": "stdout",
     "output_type": "stream",
     "text": [
      "MAE:  30.148130291805423\n",
      "MAPE:  inf\n",
      "R^2:  0.5088388117989846\n"
     ]
    }
   ],
   "source": [
    "print('MAE: ', np.mean(np.abs(result_PDC['Residual_PDC'])))\n",
    "print('R^2: ', r2_score(result_PDC['Predict_PDC'],test_dataset['A_Optimal_PDC']))"
   ]
  },
  {
   "cell_type": "markdown",
   "metadata": {
    "colab_type": "text",
    "id": "ab6EGnYa8O5K"
   },
   "source": [
    "#### Graficamos el resultado"
   ]
  },
  {
   "cell_type": "code",
   "execution_count": 75,
   "metadata": {
    "colab": {
     "base_uri": "https://localhost:8080/",
     "height": 432
    },
    "colab_type": "code",
    "id": "6hgEZ9YX8RhJ",
    "outputId": "95f296c3-233f-49dc-ff85-8283df32b31c"
   },
   "outputs": [
    {
     "data": {
      "text/plain": [
       "([0, 1, 2, 3, 4, 5, 6, 7, 8, 9, 10, 11],\n",
       " <a list of 12 Text xticklabel objects>)"
      ]
     },
     "execution_count": 75,
     "metadata": {
      "tags": []
     },
     "output_type": "execute_result"
    },
    {
     "data": {
      "image/png": "[encoded data removed]",
      "text/plain": [
       "<Figure size 432x288 with 1 Axes>"
      ]
     },
     "metadata": {
      "tags": []
     },
     "output_type": "display_data"
    }
   ],
   "source": [
    "pd.to_datetime(result_PDC['Datetime'], format=\"%Y-%m-%d %H:%M:%S\")\n",
    "\n",
    "result_PDC = result_PDC.sort_values('Datetime')\n",
    "\n",
    "plt.plot(result_PDC['Datetime'].head(12), result_PDC['Predict_PDC'].head(12))\n",
    "plt.plot(result_PDC['Datetime'].head(12), result_PDC['Real_PDC'].head(12))\n",
    "\n",
    "plt.xticks(rotation='vertical')"
   ]
  },
  {
   "cell_type": "markdown",
   "metadata": {
    "colab_type": "text",
    "id": "VDXisrDFvOcA"
   },
   "source": [
    "### 2º- Datos normalizados"
   ]
  },
  {
   "cell_type": "markdown",
   "metadata": {
    "colab_type": "text",
    "id": "NoS4Ox-VvOcC"
   },
   "source": [
    "Debido a que las métricas nos dan valores muy malos, vamos a normalizar los datos de entrada para intentar mejorar los resultados."
   ]
  },
  {
   "cell_type": "code",
   "execution_count": 11,
   "metadata": {
    "colab": {},
    "colab_type": "code",
    "id": "sJNK0ptFvOcD"
   },
   "outputs": [],
   "source": [
    "from sklearn.preprocessing import MinMaxScaler"
   ]
  },
  {
   "cell_type": "markdown",
   "metadata": {
    "colab_type": "text",
    "id": "QiJ0cPXbvOcG"
   },
   "source": [
    "##### Normalizamos los valores de entrada de los dataset de train y test."
   ]
  },
  {
   "cell_type": "code",
   "execution_count": 0,
   "metadata": {
    "colab": {},
    "colab_type": "code",
    "id": "1J9YS3BGvOcH"
   },
   "outputs": [],
   "source": [
    "scaler_train = MinMaxScaler()\n",
    "train_sc = scaler_train.fit_transform(train_dataset[input_features])\n",
    "train_sc = pd.DataFrame(train_sc, columns=['Global_Radiation', 'Diffuse_Radiation','Ultraviolet'])\n",
    "\n",
    "scaler_test = MinMaxScaler()\n",
    "test_sc = scaler_test.fit_transform(test_dataset[input_features])\n",
    "test_sc = pd.DataFrame(test_sc, columns=['Global_Radiation', 'Diffuse_Radiation', 'Ultraviolet'])"
   ]
  },
  {
   "cell_type": "markdown",
   "metadata": {
    "colab_type": "text",
    "id": "1JGZv6c3vOcI"
   },
   "source": [
    "### Modelo para el parámetro de tensión en corriente continua (VDC)."
   ]
  },
  {
   "cell_type": "code",
   "execution_count": 78,
   "metadata": {
    "colab": {
     "base_uri": "https://localhost:8080/",
     "height": 638
    },
    "colab_type": "code",
    "id": "14RvAgyLvOcJ",
    "outputId": "2812fd18-71df-44bc-8b39-4af54b770002",
    "scrolled": true
   },
   "outputs": [
    {
     "name": "stderr",
     "output_type": "stream",
     "text": [
      "/usr/local/lib/python3.6/dist-packages/ipykernel_launcher.py:9: SettingWithCopyWarning: \n",
      "A value is trying to be set on a copy of a slice from a DataFrame.\n",
      "Try using .loc[row_indexer,col_indexer] = value instead\n",
      "\n",
      "See the caveats in the documentation: http://pandas.pydata.org/pandas-docs/stable/user_guide/indexing.html#returning-a-view-versus-a-copy\n",
      "  if __name__ == '__main__':\n",
      "/usr/local/lib/python3.6/dist-packages/ipykernel_launcher.py:12: SettingWithCopyWarning: \n",
      "A value is trying to be set on a copy of a slice from a DataFrame.\n",
      "Try using .loc[row_indexer,col_indexer] = value instead\n",
      "\n",
      "See the caveats in the documentation: http://pandas.pydata.org/pandas-docs/stable/user_guide/indexing.html#returning-a-view-versus-a-copy\n",
      "  if sys.path[0] == '':\n",
      "/usr/local/lib/python3.6/dist-packages/ipykernel_launcher.py:13: SettingWithCopyWarning: \n",
      "A value is trying to be set on a copy of a slice from a DataFrame.\n",
      "Try using .loc[row_indexer,col_indexer] = value instead\n",
      "\n",
      "See the caveats in the documentation: http://pandas.pydata.org/pandas-docs/stable/user_guide/indexing.html#returning-a-view-versus-a-copy\n",
      "  del sys.path[0]\n",
      "/usr/local/lib/python3.6/dist-packages/ipykernel_launcher.py:14: SettingWithCopyWarning: \n",
      "A value is trying to be set on a copy of a slice from a DataFrame.\n",
      "Try using .loc[row_indexer,col_indexer] = value instead\n",
      "\n",
      "See the caveats in the documentation: http://pandas.pydata.org/pandas-docs/stable/user_guide/indexing.html#returning-a-view-versus-a-copy\n",
      "  \n"
     ]
    },
    {
     "data": {
      "text/html": [
       "<div>\n",
       "<style scoped>\n",
       "    .dataframe tbody tr th:only-of-type {\n",
       "        vertical-align: middle;\n",
       "    }\n",
       "\n",
       "    .dataframe tbody tr th {\n",
       "        vertical-align: top;\n",
       "    }\n",
       "\n",
       "    .dataframe thead th {\n",
       "        text-align: right;\n",
       "    }\n",
       "</style>\n",
       "<table border=\"1\" class=\"dataframe\">\n",
       "  <thead>\n",
       "    <tr style=\"text-align: right;\">\n",
       "      <th></th>\n",
       "      <th>Datetime</th>\n",
       "      <th>Predict_VDC</th>\n",
       "      <th>Real_VDC</th>\n",
       "      <th>Residual_VDC</th>\n",
       "      <th>Resid_VDC_%</th>\n",
       "    </tr>\n",
       "  </thead>\n",
       "  <tbody>\n",
       "    <tr>\n",
       "      <th>0</th>\n",
       "      <td>2017-07-16 14:19:00+00:00</td>\n",
       "      <td>28.56</td>\n",
       "      <td>24.40</td>\n",
       "      <td>4.16</td>\n",
       "      <td>0.170492</td>\n",
       "    </tr>\n",
       "    <tr>\n",
       "      <th>1</th>\n",
       "      <td>2017-06-07 16:33:00+00:00</td>\n",
       "      <td>27.70</td>\n",
       "      <td>27.95</td>\n",
       "      <td>-0.25</td>\n",
       "      <td>0.008945</td>\n",
       "    </tr>\n",
       "    <tr>\n",
       "      <th>2</th>\n",
       "      <td>2017-03-29 12:40:00+00:00</td>\n",
       "      <td>28.65</td>\n",
       "      <td>27.75</td>\n",
       "      <td>0.90</td>\n",
       "      <td>0.032432</td>\n",
       "    </tr>\n",
       "    <tr>\n",
       "      <th>3</th>\n",
       "      <td>2014-08-16 15:02:00+00:00</td>\n",
       "      <td>28.00</td>\n",
       "      <td>26.55</td>\n",
       "      <td>1.45</td>\n",
       "      <td>0.054614</td>\n",
       "    </tr>\n",
       "    <tr>\n",
       "      <th>4</th>\n",
       "      <td>2016-01-16 10:42:00+00:00</td>\n",
       "      <td>27.93</td>\n",
       "      <td>29.95</td>\n",
       "      <td>-2.02</td>\n",
       "      <td>0.067446</td>\n",
       "    </tr>\n",
       "  </tbody>\n",
       "</table>\n",
       "</div>"
      ],
      "text/plain": [
       "                    Datetime  Predict_VDC  Real_VDC  Residual_VDC  Resid_VDC_%\n",
       "0  2017-07-16 14:19:00+00:00        28.56     24.40          4.16     0.170492\n",
       "1  2017-06-07 16:33:00+00:00        27.70     27.95         -0.25     0.008945\n",
       "2  2017-03-29 12:40:00+00:00        28.65     27.75          0.90     0.032432\n",
       "3  2014-08-16 15:02:00+00:00        28.00     26.55          1.45     0.054614\n",
       "4  2016-01-16 10:42:00+00:00        27.93     29.95         -2.02     0.067446"
      ]
     },
     "execution_count": 78,
     "metadata": {
      "tags": []
     },
     "output_type": "execute_result"
    }
   ],
   "source": [
    "# Creación de modelo\n",
    "reg_VDC = LinearRegression()\n",
    "\n",
    "# Creamos el dataframe de resultados\n",
    "\n",
    "result_VDC = test_dataset [['Datetime']]\n",
    "\n",
    "# Entrenamiento del modelo\n",
    "reg_VDC.fit(train_sc, train_dataset[['A_Optimal_VDC']])\n",
    "result_VDC['Predict_VDC'] = round(pd.DataFrame(reg_VDC.predict(test_sc[input_features])), 2)\n",
    "\n",
    "# Adición de resultado al dataframe de resultados\n",
    "result_VDC['Real_VDC'] = test_dataset['A_Optimal_VDC']\n",
    "result_VDC['Residual_VDC'] = round(result_VDC['Predict_VDC']-result_VDC['Real_VDC'], 2)\n",
    "result_VDC['Resid_VDC_%'] = np.abs(result_VDC['Residual_VDC']/result_VDC['Real_VDC'])\n",
    "\n",
    "result_VDC.head()"
   ]
  },
  {
   "cell_type": "markdown",
   "metadata": {
    "colab_type": "text",
    "id": "0C0Z-f5XvOcM"
   },
   "source": [
    "##### Métricas del modelo: MAE, MAPE y R2"
   ]
  },
  {
   "cell_type": "code",
   "execution_count": 79,
   "metadata": {
    "colab": {
     "base_uri": "https://localhost:8080/",
     "height": 70
    },
    "colab_type": "code",
    "id": "HG6rpMhxvOcN",
    "outputId": "52a51ad8-7478-419e-ecd1-8ca391bc412d"
   },
   "outputs": [
    {
     "name": "stdout",
     "output_type": "stream",
     "text": [
      "MAE:  1.2248388519302176\n",
      "MAPE:  0.046981864101217005\n",
      "R^2:  -10.345483835657383\n"
     ]
    }
   ],
   "source": [
    "print('MAE: ', np.mean(np.abs(result_VDC['Residual_VDC'])))\n",
    "print('R^2: ', r2_score(result_VDC['Predict_VDC'],test_dataset['A_Optimal_VDC']))"
   ]
  },
  {
   "cell_type": "markdown",
   "metadata": {
    "colab_type": "text",
    "id": "XK9qZKrX6yEx"
   },
   "source": [
    "#### Graficamos el resultado"
   ]
  },
  {
   "cell_type": "code",
   "execution_count": 80,
   "metadata": {
    "colab": {
     "base_uri": "https://localhost:8080/",
     "height": 432
    },
    "colab_type": "code",
    "id": "QnYlwgDH60xd",
    "outputId": "fda4a97d-0d0f-4ea8-bb85-6d6650090448"
   },
   "outputs": [
    {
     "data": {
      "text/plain": [
       "([0, 1, 2, 3, 4, 5, 6, 7, 8, 9, 10, 11, 12, 13, 14, 15, 16, 17, 18, 19],\n",
       " <a list of 20 Text xticklabel objects>)"
      ]
     },
     "execution_count": 80,
     "metadata": {
      "tags": []
     },
     "output_type": "execute_result"
    },
    {
     "data": {
      "image/png": "[encoded data removed]",
      "text/plain": [
       "<Figure size 432x288 with 1 Axes>"
      ]
     },
     "metadata": {
      "tags": []
     },
     "output_type": "display_data"
    }
   ],
   "source": [
    "pd.to_datetime(result_VDC['Datetime'], format=\"%Y-%m-%d %H:%M:%S\")\n",
    "\n",
    "result_VDC = result_VDC.sort_values('Datetime')\n",
    "\n",
    "plt.plot(result_VDC['Datetime'].head(20), result_VDC['Predict_VDC'].head(20))\n",
    "plt.plot(result_VDC['Datetime'].head(20), result_VDC['Real_VDC'].head(20))\n",
    "\n",
    "plt.xticks(rotation='vertical')"
   ]
  },
  {
   "cell_type": "markdown",
   "metadata": {
    "colab_type": "text",
    "id": "fAEqH1KyvOcQ"
   },
   "source": [
    "### Modelo para el parámetro de corriente en corriente continua (CDC)."
   ]
  },
  {
   "cell_type": "code",
   "execution_count": 81,
   "metadata": {
    "colab": {
     "base_uri": "https://localhost:8080/",
     "height": 638
    },
    "colab_type": "code",
    "id": "iZVgr3RMvOcQ",
    "outputId": "bbe299bd-8cb8-4570-eb77-1f3d52a52710",
    "scrolled": false
   },
   "outputs": [
    {
     "name": "stderr",
     "output_type": "stream",
     "text": [
      "/usr/local/lib/python3.6/dist-packages/ipykernel_launcher.py:9: SettingWithCopyWarning: \n",
      "A value is trying to be set on a copy of a slice from a DataFrame.\n",
      "Try using .loc[row_indexer,col_indexer] = value instead\n",
      "\n",
      "See the caveats in the documentation: http://pandas.pydata.org/pandas-docs/stable/user_guide/indexing.html#returning-a-view-versus-a-copy\n",
      "  if __name__ == '__main__':\n",
      "/usr/local/lib/python3.6/dist-packages/ipykernel_launcher.py:12: SettingWithCopyWarning: \n",
      "A value is trying to be set on a copy of a slice from a DataFrame.\n",
      "Try using .loc[row_indexer,col_indexer] = value instead\n",
      "\n",
      "See the caveats in the documentation: http://pandas.pydata.org/pandas-docs/stable/user_guide/indexing.html#returning-a-view-versus-a-copy\n",
      "  if sys.path[0] == '':\n",
      "/usr/local/lib/python3.6/dist-packages/ipykernel_launcher.py:13: SettingWithCopyWarning: \n",
      "A value is trying to be set on a copy of a slice from a DataFrame.\n",
      "Try using .loc[row_indexer,col_indexer] = value instead\n",
      "\n",
      "See the caveats in the documentation: http://pandas.pydata.org/pandas-docs/stable/user_guide/indexing.html#returning-a-view-versus-a-copy\n",
      "  del sys.path[0]\n",
      "/usr/local/lib/python3.6/dist-packages/ipykernel_launcher.py:14: SettingWithCopyWarning: \n",
      "A value is trying to be set on a copy of a slice from a DataFrame.\n",
      "Try using .loc[row_indexer,col_indexer] = value instead\n",
      "\n",
      "See the caveats in the documentation: http://pandas.pydata.org/pandas-docs/stable/user_guide/indexing.html#returning-a-view-versus-a-copy\n",
      "  \n"
     ]
    },
    {
     "data": {
      "text/html": [
       "<div>\n",
       "<style scoped>\n",
       "    .dataframe tbody tr th:only-of-type {\n",
       "        vertical-align: middle;\n",
       "    }\n",
       "\n",
       "    .dataframe tbody tr th {\n",
       "        vertical-align: top;\n",
       "    }\n",
       "\n",
       "    .dataframe thead th {\n",
       "        text-align: right;\n",
       "    }\n",
       "</style>\n",
       "<table border=\"1\" class=\"dataframe\">\n",
       "  <thead>\n",
       "    <tr style=\"text-align: right;\">\n",
       "      <th></th>\n",
       "      <th>Datetime</th>\n",
       "      <th>Predict_CDC</th>\n",
       "      <th>Real_CDC</th>\n",
       "      <th>Residual_CDC</th>\n",
       "      <th>Resid_CDC_%</th>\n",
       "    </tr>\n",
       "  </thead>\n",
       "  <tbody>\n",
       "    <tr>\n",
       "      <th>0</th>\n",
       "      <td>2017-07-16 14:19:00+00:00</td>\n",
       "      <td>6.20</td>\n",
       "      <td>6.3900</td>\n",
       "      <td>-0.19</td>\n",
       "      <td>0.029734</td>\n",
       "    </tr>\n",
       "    <tr>\n",
       "      <th>1</th>\n",
       "      <td>2017-06-07 16:33:00+00:00</td>\n",
       "      <td>3.37</td>\n",
       "      <td>3.2050</td>\n",
       "      <td>0.17</td>\n",
       "      <td>0.053042</td>\n",
       "    </tr>\n",
       "    <tr>\n",
       "      <th>2</th>\n",
       "      <td>2017-03-29 12:40:00+00:00</td>\n",
       "      <td>6.99</td>\n",
       "      <td>8.1500</td>\n",
       "      <td>-1.16</td>\n",
       "      <td>0.142331</td>\n",
       "    </tr>\n",
       "    <tr>\n",
       "      <th>3</th>\n",
       "      <td>2014-08-16 15:02:00+00:00</td>\n",
       "      <td>6.21</td>\n",
       "      <td>5.7925</td>\n",
       "      <td>0.42</td>\n",
       "      <td>0.072508</td>\n",
       "    </tr>\n",
       "    <tr>\n",
       "      <th>4</th>\n",
       "      <td>2016-01-16 10:42:00+00:00</td>\n",
       "      <td>4.29</td>\n",
       "      <td>6.4525</td>\n",
       "      <td>-2.16</td>\n",
       "      <td>0.334754</td>\n",
       "    </tr>\n",
       "  </tbody>\n",
       "</table>\n",
       "</div>"
      ],
      "text/plain": [
       "                    Datetime  Predict_CDC  Real_CDC  Residual_CDC  Resid_CDC_%\n",
       "0  2017-07-16 14:19:00+00:00         6.20    6.3900         -0.19     0.029734\n",
       "1  2017-06-07 16:33:00+00:00         3.37    3.2050          0.17     0.053042\n",
       "2  2017-03-29 12:40:00+00:00         6.99    8.1500         -1.16     0.142331\n",
       "3  2014-08-16 15:02:00+00:00         6.21    5.7925          0.42     0.072508\n",
       "4  2016-01-16 10:42:00+00:00         4.29    6.4525         -2.16     0.334754"
      ]
     },
     "execution_count": 81,
     "metadata": {
      "tags": []
     },
     "output_type": "execute_result"
    }
   ],
   "source": [
    "# Creación del modelo\n",
    "reg_CDC = LinearRegression()\n",
    "\n",
    "# Creamos el dataframe de resultados\n",
    "\n",
    "result_CDC = test_dataset [['Datetime']]\n",
    "\n",
    "# Entrenamiento del modelo\n",
    "reg_CDC.fit(train_sc, train_dataset[['A_Optimal_CDC']])\n",
    "result_CDC['Predict_CDC'] = round(pd.DataFrame(reg_CDC.predict(test_sc[input_features])), 2)\n",
    "\n",
    "# Adición del resultado al dataframe de resultados\n",
    "result_CDC['Real_CDC'] = test_dataset['A_Optimal_CDC']\n",
    "result_CDC['Residual_CDC'] = round(result_CDC['Predict_CDC']-result_CDC['Real_CDC'], 2)\n",
    "result_CDC['Resid_CDC_%'] = np.abs(result_CDC['Residual_CDC']/result_CDC['Real_CDC'])\n",
    "\n",
    "result_CDC.head()"
   ]
  },
  {
   "cell_type": "markdown",
   "metadata": {
    "colab_type": "text",
    "id": "TojKUxd1vOcS"
   },
   "source": [
    "##### Métricas del modelo: MAE, MAPE y R2"
   ]
  },
  {
   "cell_type": "code",
   "execution_count": 82,
   "metadata": {
    "colab": {
     "base_uri": "https://localhost:8080/",
     "height": 70
    },
    "colab_type": "code",
    "id": "_vHJvZKZvOcT",
    "outputId": "2d5f33ad-f779-4bd0-e0df-7dbf4df33956"
   },
   "outputs": [
    {
     "name": "stdout",
     "output_type": "stream",
     "text": [
      "MAE:  1.083544879548409\n",
      "MAPE:  inf\n",
      "R^2:  0.5704554994408606\n"
     ]
    }
   ],
   "source": [
    "print('MAE: ', np.mean(np.abs(result_CDC['Residual_CDC'])))\n",
    "print('R^2: ', r2_score(result_CDC['Predict_CDC'],test_dataset['A_Optimal_CDC']))"
   ]
  },
  {
   "cell_type": "markdown",
   "metadata": {
    "colab_type": "text",
    "id": "qMpelTi0-Rl5"
   },
   "source": [
    "#### Graficamos el resultado"
   ]
  },
  {
   "cell_type": "code",
   "execution_count": 83,
   "metadata": {
    "colab": {
     "base_uri": "https://localhost:8080/",
     "height": 432
    },
    "colab_type": "code",
    "id": "bFYhsDdx-Tyx",
    "outputId": "b262f76a-e280-444f-dcac-df25772133ce"
   },
   "outputs": [
    {
     "data": {
      "text/plain": [
       "([0, 1, 2, 3, 4, 5, 6, 7, 8, 9, 10, 11, 12, 13, 14, 15, 16, 17, 18, 19],\n",
       " <a list of 20 Text xticklabel objects>)"
      ]
     },
     "execution_count": 83,
     "metadata": {
      "tags": []
     },
     "output_type": "execute_result"
    },
    {
     "data": {
      "image/png": "[encoded data removed]",
      "text/plain": [
       "<Figure size 432x288 with 1 Axes>"
      ]
     },
     "metadata": {
      "tags": []
     },
     "output_type": "display_data"
    }
   ],
   "source": [
    "pd.to_datetime(result_CDC['Datetime'], format=\"%Y-%m-%d %H:%M:%S\")\n",
    "\n",
    "result_CDC = result_CDC.sort_values('Datetime')\n",
    "\n",
    "plt.plot(result_CDC['Datetime'].head(20), result_CDC['Predict_CDC'].head(20))\n",
    "plt.plot(result_CDC['Datetime'].head(20), result_CDC['Real_CDC'].head(20))\n",
    "\n",
    "plt.xticks(rotation='vertical')"
   ]
  },
  {
   "cell_type": "markdown",
   "metadata": {
    "colab_type": "text",
    "id": "0BLbNPngvOcU"
   },
   "source": [
    "### Modelo para el parámetro de potencia en corriente continua (PDC)."
   ]
  },
  {
   "cell_type": "code",
   "execution_count": 84,
   "metadata": {
    "colab": {
     "base_uri": "https://localhost:8080/",
     "height": 638
    },
    "colab_type": "code",
    "id": "hJYh4yJEvOcV",
    "outputId": "04680f98-51dc-45ff-9cd2-160bfd9afbf7"
   },
   "outputs": [
    {
     "name": "stderr",
     "output_type": "stream",
     "text": [
      "/usr/local/lib/python3.6/dist-packages/ipykernel_launcher.py:9: SettingWithCopyWarning: \n",
      "A value is trying to be set on a copy of a slice from a DataFrame.\n",
      "Try using .loc[row_indexer,col_indexer] = value instead\n",
      "\n",
      "See the caveats in the documentation: http://pandas.pydata.org/pandas-docs/stable/user_guide/indexing.html#returning-a-view-versus-a-copy\n",
      "  if __name__ == '__main__':\n",
      "/usr/local/lib/python3.6/dist-packages/ipykernel_launcher.py:12: SettingWithCopyWarning: \n",
      "A value is trying to be set on a copy of a slice from a DataFrame.\n",
      "Try using .loc[row_indexer,col_indexer] = value instead\n",
      "\n",
      "See the caveats in the documentation: http://pandas.pydata.org/pandas-docs/stable/user_guide/indexing.html#returning-a-view-versus-a-copy\n",
      "  if sys.path[0] == '':\n",
      "/usr/local/lib/python3.6/dist-packages/ipykernel_launcher.py:13: SettingWithCopyWarning: \n",
      "A value is trying to be set on a copy of a slice from a DataFrame.\n",
      "Try using .loc[row_indexer,col_indexer] = value instead\n",
      "\n",
      "See the caveats in the documentation: http://pandas.pydata.org/pandas-docs/stable/user_guide/indexing.html#returning-a-view-versus-a-copy\n",
      "  del sys.path[0]\n",
      "/usr/local/lib/python3.6/dist-packages/ipykernel_launcher.py:14: SettingWithCopyWarning: \n",
      "A value is trying to be set on a copy of a slice from a DataFrame.\n",
      "Try using .loc[row_indexer,col_indexer] = value instead\n",
      "\n",
      "See the caveats in the documentation: http://pandas.pydata.org/pandas-docs/stable/user_guide/indexing.html#returning-a-view-versus-a-copy\n",
      "  \n"
     ]
    },
    {
     "data": {
      "text/html": [
       "<div>\n",
       "<style scoped>\n",
       "    .dataframe tbody tr th:only-of-type {\n",
       "        vertical-align: middle;\n",
       "    }\n",
       "\n",
       "    .dataframe tbody tr th {\n",
       "        vertical-align: top;\n",
       "    }\n",
       "\n",
       "    .dataframe thead th {\n",
       "        text-align: right;\n",
       "    }\n",
       "</style>\n",
       "<table border=\"1\" class=\"dataframe\">\n",
       "  <thead>\n",
       "    <tr style=\"text-align: right;\">\n",
       "      <th></th>\n",
       "      <th>Datetime</th>\n",
       "      <th>Predict_PDC</th>\n",
       "      <th>Real_PDC</th>\n",
       "      <th>Residual_PDC</th>\n",
       "      <th>Resid_PDC_%</th>\n",
       "    </tr>\n",
       "  </thead>\n",
       "  <tbody>\n",
       "    <tr>\n",
       "      <th>0</th>\n",
       "      <td>2017-07-16 14:19:00+00:00</td>\n",
       "      <td>174.05</td>\n",
       "      <td>155.916000</td>\n",
       "      <td>18.13</td>\n",
       "      <td>0.116281</td>\n",
       "    </tr>\n",
       "    <tr>\n",
       "      <th>1</th>\n",
       "      <td>2017-06-07 16:33:00+00:00</td>\n",
       "      <td>95.15</td>\n",
       "      <td>89.579750</td>\n",
       "      <td>5.57</td>\n",
       "      <td>0.062179</td>\n",
       "    </tr>\n",
       "    <tr>\n",
       "      <th>2</th>\n",
       "      <td>2017-03-29 12:40:00+00:00</td>\n",
       "      <td>195.94</td>\n",
       "      <td>226.162500</td>\n",
       "      <td>-30.22</td>\n",
       "      <td>0.133621</td>\n",
       "    </tr>\n",
       "    <tr>\n",
       "      <th>3</th>\n",
       "      <td>2014-08-16 15:02:00+00:00</td>\n",
       "      <td>173.09</td>\n",
       "      <td>153.790875</td>\n",
       "      <td>19.30</td>\n",
       "      <td>0.125495</td>\n",
       "    </tr>\n",
       "    <tr>\n",
       "      <th>4</th>\n",
       "      <td>2016-01-16 10:42:00+00:00</td>\n",
       "      <td>121.18</td>\n",
       "      <td>193.252375</td>\n",
       "      <td>-72.07</td>\n",
       "      <td>0.372932</td>\n",
       "    </tr>\n",
       "  </tbody>\n",
       "</table>\n",
       "</div>"
      ],
      "text/plain": [
       "                    Datetime  Predict_PDC  ...  Residual_PDC  Resid_PDC_%\n",
       "0  2017-07-16 14:19:00+00:00       174.05  ...         18.13     0.116281\n",
       "1  2017-06-07 16:33:00+00:00        95.15  ...          5.57     0.062179\n",
       "2  2017-03-29 12:40:00+00:00       195.94  ...        -30.22     0.133621\n",
       "3  2014-08-16 15:02:00+00:00       173.09  ...         19.30     0.125495\n",
       "4  2016-01-16 10:42:00+00:00       121.18  ...        -72.07     0.372932\n",
       "\n",
       "[5 rows x 5 columns]"
      ]
     },
     "execution_count": 84,
     "metadata": {
      "tags": []
     },
     "output_type": "execute_result"
    }
   ],
   "source": [
    "# Creación del modelo\n",
    "reg_PDC = LinearRegression()\n",
    "\n",
    "# Creamos el dataframe de resultados\n",
    "\n",
    "result_PDC = test_dataset [['Datetime']]\n",
    "\n",
    "# Entrenamiento del modelo al dataframe de resultados\n",
    "reg_PDC.fit(train_sc, train_dataset[['A_Optimal_PDC']])\n",
    "result_PDC['Predict_PDC'] = round(pd.DataFrame(reg_PDC.predict(test_sc[input_features])), 2)\n",
    "\n",
    "# Adición de resultado\n",
    "result_PDC['Real_PDC'] = test_dataset['A_Optimal_PDC']\n",
    "result_PDC['Residual_PDC'] = round(result_PDC['Predict_PDC']-result_PDC['Real_PDC'], 2)\n",
    "result_PDC['Resid_PDC_%'] = np.abs(result_PDC['Residual_PDC']/result_PDC['Real_PDC'])\n",
    "\n",
    "result_PDC.head()"
   ]
  },
  {
   "cell_type": "markdown",
   "metadata": {
    "colab_type": "text",
    "id": "qFjoDYq6vOcX"
   },
   "source": [
    "##### Métricas del modelo: MAE, MAPE y R2"
   ]
  },
  {
   "cell_type": "code",
   "execution_count": 85,
   "metadata": {
    "colab": {
     "base_uri": "https://localhost:8080/",
     "height": 70
    },
    "colab_type": "code",
    "id": "ElHPepxbvOcX",
    "outputId": "2478416d-2314-4242-fb0a-4cc0c859d383"
   },
   "outputs": [
    {
     "name": "stdout",
     "output_type": "stream",
     "text": [
      "MAE:  30.976906624835145\n",
      "MAPE:  inf\n",
      "R^2:  0.5524523821358515\n"
     ]
    }
   ],
   "source": [
    "print('MAE: ', np.mean(np.abs(result_PDC['Residual_PDC'])))\n",
    "print('R^2: ', r2_score(result_PDC['Predict_PDC'],test_dataset['A_Optimal_PDC']))"
   ]
  },
  {
   "cell_type": "markdown",
   "metadata": {
    "colab_type": "text",
    "id": "90HuzW73_BN7"
   },
   "source": [
    "#### Graficamos el resultado"
   ]
  },
  {
   "cell_type": "code",
   "execution_count": 86,
   "metadata": {
    "colab": {
     "base_uri": "https://localhost:8080/",
     "height": 432
    },
    "colab_type": "code",
    "id": "-ZDPzaXt_Djv",
    "outputId": "4570ff4a-371c-4cc2-f704-68efa8f95570"
   },
   "outputs": [
    {
     "data": {
      "text/plain": [
       "([0, 1, 2, 3, 4, 5, 6, 7, 8, 9, 10, 11, 12, 13, 14, 15, 16, 17, 18, 19],\n",
       " <a list of 20 Text xticklabel objects>)"
      ]
     },
     "execution_count": 86,
     "metadata": {
      "tags": []
     },
     "output_type": "execute_result"
    },
    {
     "data": {
      "image/png": "[encoded data removed]",
      "text/plain": [
       "<Figure size 432x288 with 1 Axes>"
      ]
     },
     "metadata": {
      "tags": []
     },
     "output_type": "display_data"
    }
   ],
   "source": [
    "pd.to_datetime(result_PDC['Datetime'], format=\"%Y-%m-%d %H:%M:%S\")\n",
    "\n",
    "result_PDC = result_PDC.sort_values('Datetime')\n",
    "\n",
    "plt.plot(result_PDC['Datetime'].head(20), result_PDC['Predict_PDC'].head(20))\n",
    "plt.plot(result_PDC['Datetime'].head(20), result_PDC['Real_PDC'].head(20))\n",
    "\n",
    "plt.xticks(rotation='vertical')"
   ]
  },
  {
   "cell_type": "markdown",
   "metadata": {
    "colab_type": "text",
    "id": "zfXreJQwvOcZ"
   },
   "source": [
    "### Conclusiónes sobre el modelo de regresión lineal\n",
    "\n",
    "Como se puede observar, los datos mejoran considerablemente cuando se aplica normalización de los parámetros de entrada, sobretodo para las variables CDC y PDC.\n",
    "\n",
    "La variable VDC, no posee ninguna relación lineal con el resto de valores de entrada, algo que se puede ver en la matriz de coeficientes de correlación de Pearson. Por lo tanto, dicha variable no se puede predecir mediante un modelo de regresión lineal. Probaremos si somos capaces de predecirla mediante otro modelo."
   ]
  },
  {
   "cell_type": "markdown",
   "metadata": {
    "colab_type": "text",
    "id": "DwJ0jEV8vOcZ"
   },
   "source": [
    "## Creación de modelo Arbol de decisión."
   ]
  },
  {
   "cell_type": "markdown",
   "metadata": {
    "colab_type": "text",
    "id": "arWVxJs-vOca"
   },
   "source": [
    "### Importamos las librerías necesarias para la creación del modelo"
   ]
  },
  {
   "cell_type": "code",
   "execution_count": 12,
   "metadata": {
    "colab": {},
    "colab_type": "code",
    "id": "I9-PpDz2vOcb"
   },
   "outputs": [],
   "source": [
    "from sklearn.tree import DecisionTreeRegressor"
   ]
  },
  {
   "cell_type": "markdown",
   "metadata": {
    "colab_type": "text",
    "id": "Y_mwtp2bvOce"
   },
   "source": [
    "#### Recuperamos los datos para evitar que hayan sido modificados en el proceso"
   ]
  },
  {
   "cell_type": "code",
   "execution_count": 13,
   "metadata": {
    "colab": {
     "base_uri": "https://localhost:8080/",
     "height": 228
    },
    "colab_type": "code",
    "id": "bifKGqoBvOcf",
    "outputId": "9c5d8564-fb57-4c74-cd25-ee2da977a6a6"
   },
   "outputs": [
    {
     "data": {
      "text/plain": [
       "0        2017-07-16 14:19:00+00:00\n",
       "1        2017-06-07 16:33:00+00:00\n",
       "2        2017-03-29 12:40:00+00:00\n",
       "3        2014-08-16 15:02:00+00:00\n",
       "4        2016-01-16 10:42:00+00:00\n",
       "                    ...           \n",
       "158731   2015-02-04 10:25:00+00:00\n",
       "158732   2014-06-01 08:22:00+00:00\n",
       "158733   2014-09-02 15:09:00+00:00\n",
       "158734   2015-10-29 13:56:00+00:00\n",
       "158735   2016-08-16 09:05:00+00:00\n",
       "Name: Datetime, Length: 158736, dtype: datetime64[ns, UTC]"
      ]
     },
     "execution_count": 13,
     "metadata": {},
     "output_type": "execute_result"
    }
   ],
   "source": [
    "train_dataset = pd.read_csv('train_dataset.csv',sep=';')\n",
    "test_dataset = pd.read_csv('test_dataset.csv',sep=';')\n",
    "\n",
    "# Datos de entrenamiento\n",
    "train_dataset = train_dataset[['Datetime', 'Global_Radiation', 'Diffuse_Radiation', \n",
    "                              'Ultraviolet', 'A_Optimal_VDC', 'A_Optimal_CDC', \n",
    "                              'A_Optimal_PDC']]\n",
    "\n",
    "# Datos test\n",
    "test_dataset = test_dataset[['Datetime', 'Global_Radiation', 'Diffuse_Radiation', \n",
    "                              'Ultraviolet', 'A_Optimal_VDC', 'A_Optimal_CDC', \n",
    "                              'A_Optimal_PDC']]\n",
    "\n",
    "pd.to_datetime(train_dataset['Datetime'], format=\"%Y-%m-%d %H:%M:%S\")\n",
    "pd.to_datetime(test_dataset['Datetime'], format=\"%Y-%m-%d %H:%M:%S\")"
   ]
  },
  {
   "cell_type": "markdown",
   "metadata": {
    "colab_type": "text",
    "id": "Ol3vDlNwvOcg"
   },
   "source": [
    "### Normalización de los datos\n",
    "\n",
    "Debido a los resultados obtenidos en las pruebas anteriores, se procederá a trabajar directamente con los datos normalizados, ya que los resultados mejoran considerablemente."
   ]
  },
  {
   "cell_type": "code",
   "execution_count": 14,
   "metadata": {
    "colab": {},
    "colab_type": "code",
    "id": "-h1kS819vOch"
   },
   "outputs": [],
   "source": [
    "scaler_train = MinMaxScaler()\n",
    "train_sc = scaler_train.fit_transform(train_dataset[input_features])\n",
    "train_sc = pd.DataFrame(train_sc, columns=['Global_Radiation', 'Diffuse_Radiation','Ultraviolet'])\n",
    "\n",
    "scaler_test = MinMaxScaler()\n",
    "test_sc = scaler_test.fit_transform(test_dataset[input_features])\n",
    "test_sc = pd.DataFrame(test_sc, columns=['Global_Radiation', 'Diffuse_Radiation', 'Ultraviolet'])"
   ]
  },
  {
   "cell_type": "markdown",
   "metadata": {
    "colab_type": "text",
    "id": "DT_NVHpEvOci"
   },
   "source": [
    "### 1º- Creación de modelo de profundidad 3\n",
    "\n",
    "Inicialmente, probaremos con el modelo de 3 capas para ver si los resultados mejoran frente al modelo de regresión lineal. Luego, intentaremos regularizar el modelo, buscando cuales son los parámetros más óptimos para el mismo."
   ]
  },
  {
   "cell_type": "markdown",
   "metadata": {
    "colab_type": "text",
    "id": "agty5TUIvOcj"
   },
   "source": [
    "### Modelo para el parámetro de tensión en corriente continua (VDC)."
   ]
  },
  {
   "cell_type": "code",
   "execution_count": 92,
   "metadata": {
    "colab": {
     "base_uri": "https://localhost:8080/",
     "height": 638
    },
    "colab_type": "code",
    "id": "NnpxVGi9vOck",
    "outputId": "a4c48b99-c539-4fb2-b9ed-caf2e75387ea",
    "scrolled": true
   },
   "outputs": [
    {
     "name": "stderr",
     "output_type": "stream",
     "text": [
      "/usr/local/lib/python3.6/dist-packages/ipykernel_launcher.py:9: SettingWithCopyWarning: \n",
      "A value is trying to be set on a copy of a slice from a DataFrame.\n",
      "Try using .loc[row_indexer,col_indexer] = value instead\n",
      "\n",
      "See the caveats in the documentation: http://pandas.pydata.org/pandas-docs/stable/user_guide/indexing.html#returning-a-view-versus-a-copy\n",
      "  if __name__ == '__main__':\n",
      "/usr/local/lib/python3.6/dist-packages/ipykernel_launcher.py:12: SettingWithCopyWarning: \n",
      "A value is trying to be set on a copy of a slice from a DataFrame.\n",
      "Try using .loc[row_indexer,col_indexer] = value instead\n",
      "\n",
      "See the caveats in the documentation: http://pandas.pydata.org/pandas-docs/stable/user_guide/indexing.html#returning-a-view-versus-a-copy\n",
      "  if sys.path[0] == '':\n",
      "/usr/local/lib/python3.6/dist-packages/ipykernel_launcher.py:13: SettingWithCopyWarning: \n",
      "A value is trying to be set on a copy of a slice from a DataFrame.\n",
      "Try using .loc[row_indexer,col_indexer] = value instead\n",
      "\n",
      "See the caveats in the documentation: http://pandas.pydata.org/pandas-docs/stable/user_guide/indexing.html#returning-a-view-versus-a-copy\n",
      "  del sys.path[0]\n",
      "/usr/local/lib/python3.6/dist-packages/ipykernel_launcher.py:14: SettingWithCopyWarning: \n",
      "A value is trying to be set on a copy of a slice from a DataFrame.\n",
      "Try using .loc[row_indexer,col_indexer] = value instead\n",
      "\n",
      "See the caveats in the documentation: http://pandas.pydata.org/pandas-docs/stable/user_guide/indexing.html#returning-a-view-versus-a-copy\n",
      "  \n"
     ]
    },
    {
     "data": {
      "text/html": [
       "<div>\n",
       "<style scoped>\n",
       "    .dataframe tbody tr th:only-of-type {\n",
       "        vertical-align: middle;\n",
       "    }\n",
       "\n",
       "    .dataframe tbody tr th {\n",
       "        vertical-align: top;\n",
       "    }\n",
       "\n",
       "    .dataframe thead th {\n",
       "        text-align: right;\n",
       "    }\n",
       "</style>\n",
       "<table border=\"1\" class=\"dataframe\">\n",
       "  <thead>\n",
       "    <tr style=\"text-align: right;\">\n",
       "      <th></th>\n",
       "      <th>Datetime</th>\n",
       "      <th>Predict_VDC</th>\n",
       "      <th>Real_VDC</th>\n",
       "      <th>Residual_VDC</th>\n",
       "      <th>Resid_VDC_%</th>\n",
       "    </tr>\n",
       "  </thead>\n",
       "  <tbody>\n",
       "    <tr>\n",
       "      <th>0</th>\n",
       "      <td>2017-07-16 14:19:00+00:00</td>\n",
       "      <td>28.01</td>\n",
       "      <td>24.40</td>\n",
       "      <td>3.61</td>\n",
       "      <td>0.147951</td>\n",
       "    </tr>\n",
       "    <tr>\n",
       "      <th>1</th>\n",
       "      <td>2017-06-07 16:33:00+00:00</td>\n",
       "      <td>28.04</td>\n",
       "      <td>27.95</td>\n",
       "      <td>0.09</td>\n",
       "      <td>0.003220</td>\n",
       "    </tr>\n",
       "    <tr>\n",
       "      <th>2</th>\n",
       "      <td>2017-03-29 12:40:00+00:00</td>\n",
       "      <td>28.01</td>\n",
       "      <td>27.75</td>\n",
       "      <td>0.26</td>\n",
       "      <td>0.009369</td>\n",
       "    </tr>\n",
       "    <tr>\n",
       "      <th>3</th>\n",
       "      <td>2014-08-16 15:02:00+00:00</td>\n",
       "      <td>28.04</td>\n",
       "      <td>26.55</td>\n",
       "      <td>1.49</td>\n",
       "      <td>0.056121</td>\n",
       "    </tr>\n",
       "    <tr>\n",
       "      <th>4</th>\n",
       "      <td>2016-01-16 10:42:00+00:00</td>\n",
       "      <td>28.04</td>\n",
       "      <td>29.95</td>\n",
       "      <td>-1.91</td>\n",
       "      <td>0.063773</td>\n",
       "    </tr>\n",
       "  </tbody>\n",
       "</table>\n",
       "</div>"
      ],
      "text/plain": [
       "                    Datetime  Predict_VDC  Real_VDC  Residual_VDC  Resid_VDC_%\n",
       "0  2017-07-16 14:19:00+00:00        28.01     24.40          3.61     0.147951\n",
       "1  2017-06-07 16:33:00+00:00        28.04     27.95          0.09     0.003220\n",
       "2  2017-03-29 12:40:00+00:00        28.01     27.75          0.26     0.009369\n",
       "3  2014-08-16 15:02:00+00:00        28.04     26.55          1.49     0.056121\n",
       "4  2016-01-16 10:42:00+00:00        28.04     29.95         -1.91     0.063773"
      ]
     },
     "execution_count": 92,
     "metadata": {
      "tags": []
     },
     "output_type": "execute_result"
    }
   ],
   "source": [
    "# Creación del modelo\n",
    "regd_VDC = DecisionTreeRegressor(max_depth=3)\n",
    "\n",
    "# Creamos el dataframe de resultados\n",
    "\n",
    "resultD_VDC = test_dataset [['Datetime']]\n",
    "\n",
    "# Entrenamiento del modelo\n",
    "regd_VDC.fit(train_sc, train_dataset[['A_Optimal_VDC']])\n",
    "resultD_VDC['Predict_VDC'] = round(pd.DataFrame(regd_VDC.predict(test_sc[input_features])), 2)\n",
    "\n",
    "# Adición del resultado al dataframe de resultados\n",
    "resultD_VDC['Real_VDC'] = test_dataset['A_Optimal_VDC']\n",
    "resultD_VDC['Residual_VDC'] = round(resultD_VDC['Predict_VDC']-resultD_VDC['Real_VDC'], 2)\n",
    "resultD_VDC['Resid_VDC_%'] = np.abs(resultD_VDC['Residual_VDC']/resultD_VDC['Real_VDC'])\n",
    "\n",
    "resultD_VDC.head()"
   ]
  },
  {
   "cell_type": "markdown",
   "metadata": {
    "colab_type": "text",
    "id": "Ep28-HODvOcm"
   },
   "source": [
    "##### Métricas del modelo: MAE,  R2 y Correlación"
   ]
  },
  {
   "cell_type": "code",
   "execution_count": 93,
   "metadata": {
    "colab": {
     "base_uri": "https://localhost:8080/",
     "height": 87
    },
    "colab_type": "code",
    "id": "fF-s6Iy9vOcn",
    "outputId": "55d4d8fb-181b-4a45-96bf-c5385f222637"
   },
   "outputs": [
    {
     "name": "stdout",
     "output_type": "stream",
     "text": [
      "MAE:  1.1607814862412555\n",
      "MAPE:  0.04451657221716439\n",
      "R^2:  -4.361582781992827\n",
      "Correlation:  0.3962412719474636\n"
     ]
    }
   ],
   "source": [
    "print('MAE: ', np.mean(np.abs(resultD_VDC['Residual_VDC'])))\n",
    "print('R^2: ', r2_score(resultD_VDC['Predict_VDC'],test_dataset['A_Optimal_VDC']))\n",
    "print('Correlation: ', np.corrcoef(resultD_VDC['Predict_VDC'],test_dataset['A_Optimal_VDC'])[0][1])"
   ]
  },
  {
   "cell_type": "markdown",
   "metadata": {
    "colab_type": "text",
    "id": "Ec1tJgeKAz74"
   },
   "source": [
    "#### Graficamos el resultado"
   ]
  },
  {
   "cell_type": "code",
   "execution_count": 95,
   "metadata": {
    "colab": {
     "base_uri": "https://localhost:8080/",
     "height": 432
    },
    "colab_type": "code",
    "id": "nztSSoEVA2E9",
    "outputId": "4a2f00f5-a7c3-41de-8f56-88d5c88966b3"
   },
   "outputs": [
    {
     "data": {
      "text/plain": [
       "([0, 1, 2, 3, 4, 5, 6, 7, 8, 9, 10, 11, 12, 13, 14, 15, 16, 17, 18, 19],\n",
       " <a list of 20 Text xticklabel objects>)"
      ]
     },
     "execution_count": 95,
     "metadata": {
      "tags": []
     },
     "output_type": "execute_result"
    },
    {
     "data": {
      "image/png": "[encoded data removed]",
      "text/plain": [
       "<Figure size 432x288 with 1 Axes>"
      ]
     },
     "metadata": {
      "tags": []
     },
     "output_type": "display_data"
    }
   ],
   "source": [
    "pd.to_datetime(resultD_VDC['Datetime'], format=\"%Y-%m-%d %H:%M:%S\")\n",
    "\n",
    "resultD_VDC = resultD_VDC.sort_values('Datetime')\n",
    "\n",
    "plt.plot(resultD_VDC['Datetime'].head(20), resultD_VDC['Predict_VDC'].head(20))\n",
    "plt.plot(resultD_VDC['Datetime'].head(20), resultD_VDC['Real_VDC'].head(20))\n",
    "\n",
    "plt.xticks(rotation='vertical')"
   ]
  },
  {
   "cell_type": "markdown",
   "metadata": {
    "colab_type": "text",
    "id": "CXT8kBjqvOcr"
   },
   "source": [
    "### Modelo para el parámetro de corriente en corriente continua (CDC)."
   ]
  },
  {
   "cell_type": "code",
   "execution_count": 96,
   "metadata": {
    "colab": {
     "base_uri": "https://localhost:8080/",
     "height": 638
    },
    "colab_type": "code",
    "id": "S7DHeeQ-vOcs",
    "outputId": "938c9666-b2e2-4041-8f45-a4c9acc81d4e",
    "scrolled": true
   },
   "outputs": [
    {
     "name": "stderr",
     "output_type": "stream",
     "text": [
      "/usr/local/lib/python3.6/dist-packages/ipykernel_launcher.py:9: SettingWithCopyWarning: \n",
      "A value is trying to be set on a copy of a slice from a DataFrame.\n",
      "Try using .loc[row_indexer,col_indexer] = value instead\n",
      "\n",
      "See the caveats in the documentation: http://pandas.pydata.org/pandas-docs/stable/user_guide/indexing.html#returning-a-view-versus-a-copy\n",
      "  if __name__ == '__main__':\n",
      "/usr/local/lib/python3.6/dist-packages/ipykernel_launcher.py:12: SettingWithCopyWarning: \n",
      "A value is trying to be set on a copy of a slice from a DataFrame.\n",
      "Try using .loc[row_indexer,col_indexer] = value instead\n",
      "\n",
      "See the caveats in the documentation: http://pandas.pydata.org/pandas-docs/stable/user_guide/indexing.html#returning-a-view-versus-a-copy\n",
      "  if sys.path[0] == '':\n",
      "/usr/local/lib/python3.6/dist-packages/ipykernel_launcher.py:13: SettingWithCopyWarning: \n",
      "A value is trying to be set on a copy of a slice from a DataFrame.\n",
      "Try using .loc[row_indexer,col_indexer] = value instead\n",
      "\n",
      "See the caveats in the documentation: http://pandas.pydata.org/pandas-docs/stable/user_guide/indexing.html#returning-a-view-versus-a-copy\n",
      "  del sys.path[0]\n",
      "/usr/local/lib/python3.6/dist-packages/ipykernel_launcher.py:14: SettingWithCopyWarning: \n",
      "A value is trying to be set on a copy of a slice from a DataFrame.\n",
      "Try using .loc[row_indexer,col_indexer] = value instead\n",
      "\n",
      "See the caveats in the documentation: http://pandas.pydata.org/pandas-docs/stable/user_guide/indexing.html#returning-a-view-versus-a-copy\n",
      "  \n"
     ]
    },
    {
     "data": {
      "text/html": [
       "<div>\n",
       "<style scoped>\n",
       "    .dataframe tbody tr th:only-of-type {\n",
       "        vertical-align: middle;\n",
       "    }\n",
       "\n",
       "    .dataframe tbody tr th {\n",
       "        vertical-align: top;\n",
       "    }\n",
       "\n",
       "    .dataframe thead th {\n",
       "        text-align: right;\n",
       "    }\n",
       "</style>\n",
       "<table border=\"1\" class=\"dataframe\">\n",
       "  <thead>\n",
       "    <tr style=\"text-align: right;\">\n",
       "      <th></th>\n",
       "      <th>Datetime</th>\n",
       "      <th>Predict_CDC</th>\n",
       "      <th>Real_CDC</th>\n",
       "      <th>Residual_CDC</th>\n",
       "      <th>Resid_CDC_%</th>\n",
       "    </tr>\n",
       "  </thead>\n",
       "  <tbody>\n",
       "    <tr>\n",
       "      <th>0</th>\n",
       "      <td>2017-07-16 14:19:00+00:00</td>\n",
       "      <td>6.38</td>\n",
       "      <td>6.3900</td>\n",
       "      <td>-0.01</td>\n",
       "      <td>0.001565</td>\n",
       "    </tr>\n",
       "    <tr>\n",
       "      <th>1</th>\n",
       "      <td>2017-06-07 16:33:00+00:00</td>\n",
       "      <td>3.16</td>\n",
       "      <td>3.2050</td>\n",
       "      <td>-0.04</td>\n",
       "      <td>0.012480</td>\n",
       "    </tr>\n",
       "    <tr>\n",
       "      <th>2</th>\n",
       "      <td>2017-03-29 12:40:00+00:00</td>\n",
       "      <td>6.38</td>\n",
       "      <td>8.1500</td>\n",
       "      <td>-1.77</td>\n",
       "      <td>0.217178</td>\n",
       "    </tr>\n",
       "    <tr>\n",
       "      <th>3</th>\n",
       "      <td>2014-08-16 15:02:00+00:00</td>\n",
       "      <td>6.38</td>\n",
       "      <td>5.7925</td>\n",
       "      <td>0.59</td>\n",
       "      <td>0.101856</td>\n",
       "    </tr>\n",
       "    <tr>\n",
       "      <th>4</th>\n",
       "      <td>2016-01-16 10:42:00+00:00</td>\n",
       "      <td>4.98</td>\n",
       "      <td>6.4525</td>\n",
       "      <td>-1.47</td>\n",
       "      <td>0.227819</td>\n",
       "    </tr>\n",
       "  </tbody>\n",
       "</table>\n",
       "</div>"
      ],
      "text/plain": [
       "                    Datetime  Predict_CDC  Real_CDC  Residual_CDC  Resid_CDC_%\n",
       "0  2017-07-16 14:19:00+00:00         6.38    6.3900         -0.01     0.001565\n",
       "1  2017-06-07 16:33:00+00:00         3.16    3.2050         -0.04     0.012480\n",
       "2  2017-03-29 12:40:00+00:00         6.38    8.1500         -1.77     0.217178\n",
       "3  2014-08-16 15:02:00+00:00         6.38    5.7925          0.59     0.101856\n",
       "4  2016-01-16 10:42:00+00:00         4.98    6.4525         -1.47     0.227819"
      ]
     },
     "execution_count": 96,
     "metadata": {
      "tags": []
     },
     "output_type": "execute_result"
    }
   ],
   "source": [
    "# Creación del modelo\n",
    "regd_CDC = DecisionTreeRegressor(max_depth=3)\n",
    "\n",
    "# Creamos el dataframe de resultados\n",
    "\n",
    "resultD_CDC = test_dataset [['Datetime']]\n",
    "\n",
    "# Entrenamiento del modelo\n",
    "regd_CDC.fit(train_sc, train_dataset[['A_Optimal_CDC']])\n",
    "resultD_CDC['Predict_CDC'] = round(pd.DataFrame(regd_CDC.predict(test_sc[input_features])), 2)\n",
    "\n",
    "# Adición de resultado al dataframe de resultados y otras medidas que aporten información\n",
    "resultD_CDC['Real_CDC'] = test_dataset['A_Optimal_CDC']\n",
    "resultD_CDC['Residual_CDC'] = round(resultD_CDC['Predict_CDC']-resultD_CDC['Real_CDC'], 2)\n",
    "resultD_CDC['Resid_CDC_%'] = np.abs(resultD_CDC['Residual_CDC']/resultD_CDC['Real_CDC'])\n",
    "\n",
    "resultD_CDC.head()"
   ]
  },
  {
   "cell_type": "markdown",
   "metadata": {
    "colab_type": "text",
    "id": "fs5oHuUcvOcw"
   },
   "source": [
    "##### Métricas del modelo: MAE,  R2 y Correlación"
   ]
  },
  {
   "cell_type": "code",
   "execution_count": 97,
   "metadata": {
    "colab": {
     "base_uri": "https://localhost:8080/",
     "height": 87
    },
    "colab_type": "code",
    "id": "8KdGYiywvOcx",
    "outputId": "56b7785b-e36b-4afd-af90-c8ec15d3d3b2"
   },
   "outputs": [
    {
     "name": "stdout",
     "output_type": "stream",
     "text": [
      "MAE:  1.069874886604119\n",
      "MAPE:  inf\n",
      "R^2:  0.5507612062464335\n",
      "Correlation:  0.8285378871895372\n"
     ]
    }
   ],
   "source": [
    "print('MAE: ', np.mean(np.abs(resultD_CDC['Residual_CDC'])))\n",
    "print('R^2: ', r2_score(resultD_CDC['Predict_CDC'],test_dataset['A_Optimal_CDC']))\n",
    "print('Correlation: ', np.corrcoef(resultD_CDC['Predict_CDC'],test_dataset['A_Optimal_CDC'])[0][1])"
   ]
  },
  {
   "cell_type": "markdown",
   "metadata": {
    "colab_type": "text",
    "id": "k1SFxgcOBwv3"
   },
   "source": [
    "#### Graficamos el resultado"
   ]
  },
  {
   "cell_type": "code",
   "execution_count": 98,
   "metadata": {
    "colab": {
     "base_uri": "https://localhost:8080/",
     "height": 432
    },
    "colab_type": "code",
    "id": "K_srkcFxByt8",
    "outputId": "eb66ae89-517b-4f68-ea11-02a1219caa34"
   },
   "outputs": [
    {
     "data": {
      "text/plain": [
       "([0, 1, 2, 3, 4, 5, 6, 7, 8, 9, 10, 11, 12, 13, 14, 15, 16, 17, 18, 19],\n",
       " <a list of 20 Text xticklabel objects>)"
      ]
     },
     "execution_count": 98,
     "metadata": {
      "tags": []
     },
     "output_type": "execute_result"
    },
    {
     "data": {
      "image/png": "[encoded data removed]",
      "text/plain": [
       "<Figure size 432x288 with 1 Axes>"
      ]
     },
     "metadata": {
      "tags": []
     },
     "output_type": "display_data"
    }
   ],
   "source": [
    "pd.to_datetime(resultD_CDC['Datetime'], format=\"%Y-%m-%d %H:%M:%S\")\n",
    "\n",
    "resultD_CDC = resultD_CDC.sort_values('Datetime')\n",
    "\n",
    "plt.plot(resultD_CDC['Datetime'].head(20), resultD_CDC['Predict_CDC'].head(20))\n",
    "plt.plot(resultD_CDC['Datetime'].head(20), resultD_CDC['Real_CDC'].head(20))\n",
    "\n",
    "plt.xticks(rotation='vertical')"
   ]
  },
  {
   "cell_type": "markdown",
   "metadata": {
    "colab_type": "text",
    "id": "-HnXP3divOcy"
   },
   "source": [
    "### Modelo para el parámetro de potencia en corriente continua (PDC)."
   ]
  },
  {
   "cell_type": "code",
   "execution_count": 99,
   "metadata": {
    "colab": {
     "base_uri": "https://localhost:8080/",
     "height": 638
    },
    "colab_type": "code",
    "id": "MnIJmK5hvOcy",
    "outputId": "2e7da481-ea5c-4935-b7ca-05fee3426072",
    "scrolled": false
   },
   "outputs": [
    {
     "name": "stderr",
     "output_type": "stream",
     "text": [
      "/usr/local/lib/python3.6/dist-packages/ipykernel_launcher.py:9: SettingWithCopyWarning: \n",
      "A value is trying to be set on a copy of a slice from a DataFrame.\n",
      "Try using .loc[row_indexer,col_indexer] = value instead\n",
      "\n",
      "See the caveats in the documentation: http://pandas.pydata.org/pandas-docs/stable/user_guide/indexing.html#returning-a-view-versus-a-copy\n",
      "  if __name__ == '__main__':\n",
      "/usr/local/lib/python3.6/dist-packages/ipykernel_launcher.py:12: SettingWithCopyWarning: \n",
      "A value is trying to be set on a copy of a slice from a DataFrame.\n",
      "Try using .loc[row_indexer,col_indexer] = value instead\n",
      "\n",
      "See the caveats in the documentation: http://pandas.pydata.org/pandas-docs/stable/user_guide/indexing.html#returning-a-view-versus-a-copy\n",
      "  if sys.path[0] == '':\n",
      "/usr/local/lib/python3.6/dist-packages/ipykernel_launcher.py:13: SettingWithCopyWarning: \n",
      "A value is trying to be set on a copy of a slice from a DataFrame.\n",
      "Try using .loc[row_indexer,col_indexer] = value instead\n",
      "\n",
      "See the caveats in the documentation: http://pandas.pydata.org/pandas-docs/stable/user_guide/indexing.html#returning-a-view-versus-a-copy\n",
      "  del sys.path[0]\n",
      "/usr/local/lib/python3.6/dist-packages/ipykernel_launcher.py:14: SettingWithCopyWarning: \n",
      "A value is trying to be set on a copy of a slice from a DataFrame.\n",
      "Try using .loc[row_indexer,col_indexer] = value instead\n",
      "\n",
      "See the caveats in the documentation: http://pandas.pydata.org/pandas-docs/stable/user_guide/indexing.html#returning-a-view-versus-a-copy\n",
      "  \n"
     ]
    },
    {
     "data": {
      "text/html": [
       "<div>\n",
       "<style scoped>\n",
       "    .dataframe tbody tr th:only-of-type {\n",
       "        vertical-align: middle;\n",
       "    }\n",
       "\n",
       "    .dataframe tbody tr th {\n",
       "        vertical-align: top;\n",
       "    }\n",
       "\n",
       "    .dataframe thead th {\n",
       "        text-align: right;\n",
       "    }\n",
       "</style>\n",
       "<table border=\"1\" class=\"dataframe\">\n",
       "  <thead>\n",
       "    <tr style=\"text-align: right;\">\n",
       "      <th></th>\n",
       "      <th>Datetime</th>\n",
       "      <th>Predict_PDC</th>\n",
       "      <th>Real_PDC</th>\n",
       "      <th>Residual_PDC</th>\n",
       "      <th>Resid_PDC_%</th>\n",
       "    </tr>\n",
       "  </thead>\n",
       "  <tbody>\n",
       "    <tr>\n",
       "      <th>0</th>\n",
       "      <td>2017-07-16 14:19:00+00:00</td>\n",
       "      <td>176.76</td>\n",
       "      <td>155.916000</td>\n",
       "      <td>20.84</td>\n",
       "      <td>0.133662</td>\n",
       "    </tr>\n",
       "    <tr>\n",
       "      <th>1</th>\n",
       "      <td>2017-06-07 16:33:00+00:00</td>\n",
       "      <td>111.21</td>\n",
       "      <td>89.579750</td>\n",
       "      <td>21.63</td>\n",
       "      <td>0.241461</td>\n",
       "    </tr>\n",
       "    <tr>\n",
       "      <th>2</th>\n",
       "      <td>2017-03-29 12:40:00+00:00</td>\n",
       "      <td>176.76</td>\n",
       "      <td>226.162500</td>\n",
       "      <td>-49.40</td>\n",
       "      <td>0.218427</td>\n",
       "    </tr>\n",
       "    <tr>\n",
       "      <th>3</th>\n",
       "      <td>2014-08-16 15:02:00+00:00</td>\n",
       "      <td>176.76</td>\n",
       "      <td>153.790875</td>\n",
       "      <td>22.97</td>\n",
       "      <td>0.149359</td>\n",
       "    </tr>\n",
       "    <tr>\n",
       "      <th>4</th>\n",
       "      <td>2016-01-16 10:42:00+00:00</td>\n",
       "      <td>140.16</td>\n",
       "      <td>193.252375</td>\n",
       "      <td>-53.09</td>\n",
       "      <td>0.274718</td>\n",
       "    </tr>\n",
       "  </tbody>\n",
       "</table>\n",
       "</div>"
      ],
      "text/plain": [
       "                    Datetime  Predict_PDC  ...  Residual_PDC  Resid_PDC_%\n",
       "0  2017-07-16 14:19:00+00:00       176.76  ...         20.84     0.133662\n",
       "1  2017-06-07 16:33:00+00:00       111.21  ...         21.63     0.241461\n",
       "2  2017-03-29 12:40:00+00:00       176.76  ...        -49.40     0.218427\n",
       "3  2014-08-16 15:02:00+00:00       176.76  ...         22.97     0.149359\n",
       "4  2016-01-16 10:42:00+00:00       140.16  ...        -53.09     0.274718\n",
       "\n",
       "[5 rows x 5 columns]"
      ]
     },
     "execution_count": 99,
     "metadata": {
      "tags": []
     },
     "output_type": "execute_result"
    }
   ],
   "source": [
    "# Creeamos el modelo\n",
    "regd_PDC = DecisionTreeRegressor(max_depth=3)\n",
    "\n",
    "# Creamos el dataframe de resultados\n",
    "\n",
    "resultD_PDC = test_dataset [['Datetime']]\n",
    "\n",
    "# Entrenamos el modelo\n",
    "regd_PDC.fit(train_sc, train_dataset[['A_Optimal_PDC']])\n",
    "resultD_PDC['Predict_PDC'] = round(pd.DataFrame(regd_PDC.predict(test_sc[input_features])), 2)\n",
    "\n",
    "# Adición del resultado al dataframe de resultados\n",
    "resultD_PDC['Real_PDC'] = test_dataset['A_Optimal_PDC']\n",
    "resultD_PDC['Residual_PDC'] = round(resultD_PDC['Predict_PDC']-resultD_PDC['Real_PDC'], 2)\n",
    "resultD_PDC['Resid_PDC_%'] = np.abs(resultD_PDC['Residual_PDC']/resultD_PDC['Real_PDC'])\n",
    "\n",
    "resultD_PDC.head()"
   ]
  },
  {
   "cell_type": "markdown",
   "metadata": {
    "colab_type": "text",
    "id": "PaNTGiWgvOc1"
   },
   "source": [
    "##### Métricas del modelo: MAE, R2 y Correlación"
   ]
  },
  {
   "cell_type": "code",
   "execution_count": 100,
   "metadata": {
    "colab": {
     "base_uri": "https://localhost:8080/",
     "height": 87
    },
    "colab_type": "code",
    "id": "AuRCZG8OvOc1",
    "outputId": "de0f15a8-d9e2-49b9-8f86-afab2a128ce2",
    "scrolled": true
   },
   "outputs": [
    {
     "name": "stdout",
     "output_type": "stream",
     "text": [
      "MAE:  29.941477043645413\n",
      "MAPE:  inf\n",
      "R^2:  0.536844816623202\n",
      "Correlation:  0.8243693797607139\n"
     ]
    }
   ],
   "source": [
    "print('MAE: ', np.mean(np.abs(resultD_PDC['Residual_PDC'])))\n",
    "print('R^2: ', r2_score(resultD_PDC['Predict_PDC'],test_dataset['A_Optimal_PDC']))\n",
    "print('Correlation: ', np.corrcoef(resultD_PDC['Predict_PDC'],test_dataset['A_Optimal_PDC'])[0][1])"
   ]
  },
  {
   "cell_type": "markdown",
   "metadata": {
    "colab_type": "text",
    "id": "zN6WpVR7CkoN"
   },
   "source": [
    "#### Graficamos el resultado"
   ]
  },
  {
   "cell_type": "code",
   "execution_count": 103,
   "metadata": {
    "colab": {
     "base_uri": "https://localhost:8080/",
     "height": 432
    },
    "colab_type": "code",
    "id": "fhxbaAovCm3l",
    "outputId": "4a8ca5a1-a1d4-49cf-f518-5b7050a8234d"
   },
   "outputs": [
    {
     "data": {
      "text/plain": [
       "([0, 1, 2, 3, 4, 5, 6, 7, 8, 9, 10, 11, 12, 13, 14, 15, 16, 17, 18, 19],\n",
       " <a list of 20 Text xticklabel objects>)"
      ]
     },
     "execution_count": 103,
     "metadata": {
      "tags": []
     },
     "output_type": "execute_result"
    },
    {
     "data": {
      "image/png": "[encoded data removed]",
      "text/plain": [
       "<Figure size 432x288 with 1 Axes>"
      ]
     },
     "metadata": {
      "tags": []
     },
     "output_type": "display_data"
    }
   ],
   "source": [
    "pd.to_datetime(resultD_PDC['Datetime'], format=\"%Y-%m-%d %H:%M:%S\")\n",
    "\n",
    "resultD_PDC = resultD_PDC.sort_values('Datetime')\n",
    "\n",
    "plt.plot(resultD_PDC['Datetime'].head(20), resultD_PDC['Predict_PDC'].head(20))\n",
    "plt.plot(resultD_PDC['Datetime'].head(20), resultD_PDC['Real_PDC'].head(20))\n",
    "\n",
    "plt.xticks(rotation='vertical')"
   ]
  },
  {
   "cell_type": "markdown",
   "metadata": {
    "colab_type": "text",
    "id": "juruLoNTvOc6"
   },
   "source": [
    "### 2º- Optimización de hiperparámetros.\n",
    "\n",
    "Tras probar el modelo básico de 3 capas, buscamos mejorar el modelo optimizando los hiperparametros."
   ]
  },
  {
   "cell_type": "markdown",
   "metadata": {
    "colab_type": "text",
    "id": "iG9r9qKOvOc7"
   },
   "source": [
    "##### Importamos librerías"
   ]
  },
  {
   "cell_type": "code",
   "execution_count": 15,
   "metadata": {
    "colab": {},
    "colab_type": "code",
    "id": "9CGEM3cAvOc7"
   },
   "outputs": [],
   "source": [
    "from sklearn.model_selection import GridSearchCV"
   ]
  },
  {
   "cell_type": "markdown",
   "metadata": {
    "colab_type": "text",
    "id": "T0_3pZg-vOdA"
   },
   "source": [
    "### Modelo para el parámetro de tensión en corriente continua (VDC)."
   ]
  },
  {
   "cell_type": "code",
   "execution_count": 16,
   "metadata": {
    "colab": {
     "base_uri": "https://localhost:8080/",
     "height": 334
    },
    "colab_type": "code",
    "id": "mVMVwu_KvOdB",
    "outputId": "6aa478b9-8d51-418a-b909-349b1e3433ec"
   },
   "outputs": [
    {
     "data": {
      "text/plain": [
       "GridSearchCV(cv=5, error_score='raise-deprecating',\n",
       "       estimator=DecisionTreeRegressor(criterion='mse', max_depth=None, max_features=None,\n",
       "           max_leaf_nodes=None, min_impurity_decrease=0.0,\n",
       "           min_impurity_split=None, min_samples_leaf=1,\n",
       "           min_samples_split=2, min_weight_fraction_leaf=0.0,\n",
       "           presort=False, random_state=None, splitter='best'),\n",
       "       fit_params=None, iid='warn', n_jobs=None,\n",
       "       param_grid={'max_depth': [12], 'min_samples_split': [120], 'min_samples_leaf': [80]},\n",
       "       pre_dispatch='2*n_jobs', refit=True, return_train_score='warn',\n",
       "       scoring='neg_mean_absolute_error', verbose=0)"
      ]
     },
     "execution_count": 16,
     "metadata": {},
     "output_type": "execute_result"
    }
   ],
   "source": [
    "# Creación del modelo\n",
    "regDG_VDC = GridSearchCV(DecisionTreeRegressor(),\n",
    "                        param_grid = {\"max_depth\": np.arange(9, 13),\n",
    "                                      \"min_samples_split\": [100, 110, 120, 130],\n",
    "                                      \"min_samples_leaf\": [80, 90, 100, 110]\n",
    "                        },cv = 5,\n",
    "                        scoring = \"neg_mean_absolute_error\")\n",
    "\n",
    "# Entrenamiento del modelo\n",
    "regDG_VDC.fit(train_sc, train_dataset[['A_Optimal_VDC']])\n"
   ]
  },
  {
   "cell_type": "code",
   "execution_count": 17,
   "metadata": {
    "colab": {
     "base_uri": "https://localhost:8080/",
     "height": 34
    },
    "colab_type": "code",
    "id": "Csf88rpvvOdD",
    "outputId": "14941f90-1a07-413c-8ae7-557efcd82591"
   },
   "outputs": [
    {
     "data": {
      "text/plain": [
       "{'max_depth': 12, 'min_samples_leaf': 80, 'min_samples_split': 120}"
      ]
     },
     "execution_count": 17,
     "metadata": {},
     "output_type": "execute_result"
    }
   ],
   "source": [
    "regDG_VDC.best_params_"
   ]
  },
  {
   "cell_type": "code",
   "execution_count": 18,
   "metadata": {
    "colab": {
     "base_uri": "https://localhost:8080/",
     "height": 34
    },
    "colab_type": "code",
    "id": "rHcS3CVpvOdF",
    "outputId": "edbee693-6649-47ee-f27c-ddd3d5ff50a3"
   },
   "outputs": [
    {
     "data": {
      "text/plain": [
       "-1.0990617628295944"
      ]
     },
     "execution_count": 18,
     "metadata": {},
     "output_type": "execute_result"
    }
   ],
   "source": [
    "regDG_VDC.best_score_"
   ]
  },
  {
   "cell_type": "code",
   "execution_count": 19,
   "metadata": {
    "colab": {
     "base_uri": "https://localhost:8080/",
     "height": 638
    },
    "colab_type": "code",
    "id": "cwb6N7oLvOdH",
    "outputId": "97c7e753-6ac0-4d10-8b07-9f45e5627748"
   },
   "outputs": [
    {
     "name": "stderr",
     "output_type": "stream",
     "text": [
      "/home/dsc/anaconda3/lib/python3.7/site-packages/ipykernel_launcher.py:4: SettingWithCopyWarning: \n",
      "A value is trying to be set on a copy of a slice from a DataFrame.\n",
      "Try using .loc[row_indexer,col_indexer] = value instead\n",
      "\n",
      "See the caveats in the documentation: http://pandas.pydata.org/pandas-docs/stable/user_guide/indexing.html#returning-a-view-versus-a-copy\n",
      "  after removing the cwd from sys.path.\n",
      "/home/dsc/anaconda3/lib/python3.7/site-packages/ipykernel_launcher.py:6: SettingWithCopyWarning: \n",
      "A value is trying to be set on a copy of a slice from a DataFrame.\n",
      "Try using .loc[row_indexer,col_indexer] = value instead\n",
      "\n",
      "See the caveats in the documentation: http://pandas.pydata.org/pandas-docs/stable/user_guide/indexing.html#returning-a-view-versus-a-copy\n",
      "  \n",
      "/home/dsc/anaconda3/lib/python3.7/site-packages/ipykernel_launcher.py:7: SettingWithCopyWarning: \n",
      "A value is trying to be set on a copy of a slice from a DataFrame.\n",
      "Try using .loc[row_indexer,col_indexer] = value instead\n",
      "\n",
      "See the caveats in the documentation: http://pandas.pydata.org/pandas-docs/stable/user_guide/indexing.html#returning-a-view-versus-a-copy\n",
      "  import sys\n",
      "/home/dsc/anaconda3/lib/python3.7/site-packages/ipykernel_launcher.py:8: SettingWithCopyWarning: \n",
      "A value is trying to be set on a copy of a slice from a DataFrame.\n",
      "Try using .loc[row_indexer,col_indexer] = value instead\n",
      "\n",
      "See the caveats in the documentation: http://pandas.pydata.org/pandas-docs/stable/user_guide/indexing.html#returning-a-view-versus-a-copy\n",
      "  \n"
     ]
    },
    {
     "data": {
      "text/html": [
       "<div>\n",
       "<style scoped>\n",
       "    .dataframe tbody tr th:only-of-type {\n",
       "        vertical-align: middle;\n",
       "    }\n",
       "\n",
       "    .dataframe tbody tr th {\n",
       "        vertical-align: top;\n",
       "    }\n",
       "\n",
       "    .dataframe thead th {\n",
       "        text-align: right;\n",
       "    }\n",
       "</style>\n",
       "<table border=\"1\" class=\"dataframe\">\n",
       "  <thead>\n",
       "    <tr style=\"text-align: right;\">\n",
       "      <th></th>\n",
       "      <th>Datetime</th>\n",
       "      <th>Predict_VDC</th>\n",
       "      <th>Real_VDC</th>\n",
       "      <th>Residual_VDC</th>\n",
       "      <th>Resid_VDC_%</th>\n",
       "    </tr>\n",
       "  </thead>\n",
       "  <tbody>\n",
       "    <tr>\n",
       "      <th>0</th>\n",
       "      <td>2017-07-16 14:19:00+00:00</td>\n",
       "      <td>27.745463</td>\n",
       "      <td>24.40</td>\n",
       "      <td>3.35</td>\n",
       "      <td>0.137295</td>\n",
       "    </tr>\n",
       "    <tr>\n",
       "      <th>1</th>\n",
       "      <td>2017-06-07 16:33:00+00:00</td>\n",
       "      <td>28.764231</td>\n",
       "      <td>27.95</td>\n",
       "      <td>0.81</td>\n",
       "      <td>0.028980</td>\n",
       "    </tr>\n",
       "    <tr>\n",
       "      <th>2</th>\n",
       "      <td>2017-03-29 12:40:00+00:00</td>\n",
       "      <td>28.122978</td>\n",
       "      <td>27.75</td>\n",
       "      <td>0.37</td>\n",
       "      <td>0.013333</td>\n",
       "    </tr>\n",
       "    <tr>\n",
       "      <th>3</th>\n",
       "      <td>2014-08-16 15:02:00+00:00</td>\n",
       "      <td>27.360904</td>\n",
       "      <td>26.55</td>\n",
       "      <td>0.81</td>\n",
       "      <td>0.030508</td>\n",
       "    </tr>\n",
       "    <tr>\n",
       "      <th>4</th>\n",
       "      <td>2016-01-16 10:42:00+00:00</td>\n",
       "      <td>28.343684</td>\n",
       "      <td>29.95</td>\n",
       "      <td>-1.61</td>\n",
       "      <td>0.053756</td>\n",
       "    </tr>\n",
       "  </tbody>\n",
       "</table>\n",
       "</div>"
      ],
      "text/plain": [
       "                    Datetime  Predict_VDC  Real_VDC  Residual_VDC  Resid_VDC_%\n",
       "0  2017-07-16 14:19:00+00:00    27.745463     24.40          3.35     0.137295\n",
       "1  2017-06-07 16:33:00+00:00    28.764231     27.95          0.81     0.028980\n",
       "2  2017-03-29 12:40:00+00:00    28.122978     27.75          0.37     0.013333\n",
       "3  2014-08-16 15:02:00+00:00    27.360904     26.55          0.81     0.030508\n",
       "4  2016-01-16 10:42:00+00:00    28.343684     29.95         -1.61     0.053756"
      ]
     },
     "execution_count": 19,
     "metadata": {},
     "output_type": "execute_result"
    }
   ],
   "source": [
    "# Creamos el dataframe de resultados\n",
    "resultDG_VDC = test_dataset [['Datetime']]\n",
    "\n",
    "resultDG_VDC['Predict_VDC'] = pd.DataFrame(regDG_VDC.best_estimator_.predict(test_sc[input_features]))\n",
    "\n",
    "resultDG_VDC['Real_VDC'] = test_dataset['A_Optimal_VDC']\n",
    "resultDG_VDC['Residual_VDC'] = round(resultDG_VDC['Predict_VDC']-resultDG_VDC['Real_VDC'],2)\n",
    "resultDG_VDC['Resid_VDC_%'] = np.abs(resultDG_VDC['Residual_VDC']/resultDG_VDC['Real_VDC'])\n",
    "\n",
    "resultDG_VDC.head()"
   ]
  },
  {
   "cell_type": "markdown",
   "metadata": {
    "colab_type": "text",
    "id": "P1JqsDrnHjtr"
   },
   "source": [
    "##### Métricas del modelo: MAE, MAPE, R2 y Correlación"
   ]
  },
  {
   "cell_type": "code",
   "execution_count": 133,
   "metadata": {
    "colab": {
     "base_uri": "https://localhost:8080/",
     "height": 70
    },
    "colab_type": "code",
    "id": "pSVjsTo4Ho5K",
    "outputId": "c100ef4a-f48d-4b22-f720-0bcdcf67737d"
   },
   "outputs": [
    {
     "name": "stdout",
     "output_type": "stream",
     "text": [
      "error absoluto medio:  1.0990706831673953\n",
      "parametro R2:  -2.4363304313501697\n",
      "Correlation:  0.44787789453698584\n"
     ]
    }
   ],
   "source": [
    "print('error absoluto medio: ', mean_absolute_error(resultDG_VDC['Predict_VDC'],resultDG_VDC['Real_VDC']))\n",
    "print('parametro R2: ', r2_score(resultDG_VDC['Predict_VDC'],test_dataset['A_Optimal_VDC']))\n",
    "print('Correlation: ', np.corrcoef(resultDG_VDC['Predict_VDC'],test_dataset['A_Optimal_VDC'])[0][1])"
   ]
  },
  {
   "cell_type": "markdown",
   "metadata": {
    "colab_type": "text",
    "id": "PzptV57PHysN"
   },
   "source": [
    "#### Graficamos el modelo"
   ]
  },
  {
   "cell_type": "code",
   "execution_count": 134,
   "metadata": {
    "colab": {
     "base_uri": "https://localhost:8080/",
     "height": 432
    },
    "colab_type": "code",
    "id": "eqd5XWWcH05V",
    "outputId": "96f0044a-0174-4465-e055-5cb0133a754e"
   },
   "outputs": [
    {
     "data": {
      "text/plain": [
       "([0, 1, 2, 3, 4, 5, 6, 7, 8, 9, 10, 11, 12, 13, 14, 15, 16, 17, 18, 19],\n",
       " <a list of 20 Text xticklabel objects>)"
      ]
     },
     "execution_count": 134,
     "metadata": {
      "tags": []
     },
     "output_type": "execute_result"
    },
    {
     "data": {
      "image/png": "[encoded data removed]",
      "text/plain": [
       "<Figure size 432x288 with 1 Axes>"
      ]
     },
     "metadata": {
      "tags": []
     },
     "output_type": "display_data"
    }
   ],
   "source": [
    "pd.to_datetime(resultDG_VDC['Datetime'], format=\"%Y-%m-%d %H:%M:%S\")\n",
    "\n",
    "resultDG_VDC = resultDG_VDC.sort_values('Datetime')\n",
    "\n",
    "plt.plot(resultDG_VDC['Datetime'].head(20), resultDG_VDC['Predict_VDC'].head(20))\n",
    "plt.plot(resultDG_VDC['Datetime'].head(20), resultDG_VDC['Real_VDC'].head(20))\n",
    "\n",
    "plt.xticks(rotation='vertical')"
   ]
  },
  {
   "cell_type": "markdown",
   "metadata": {
    "colab_type": "text",
    "id": "rGxHk9OKvOdM"
   },
   "source": [
    "### Modelo para el parámetro de corriente en corriente continua (CDC)."
   ]
  },
  {
   "cell_type": "code",
   "execution_count": 20,
   "metadata": {
    "colab": {
     "base_uri": "https://localhost:8080/",
     "height": 334
    },
    "colab_type": "code",
    "id": "zYHGe6Z-vOdN",
    "outputId": "a35d8ea8-26f4-4b89-b264-b2342909010f"
   },
   "outputs": [
    {
     "data": {
      "text/plain": [
       "GridSearchCV(cv=5, error_score='raise-deprecating',\n",
       "       estimator=DecisionTreeRegressor(criterion='mse', max_depth=None, max_features=None,\n",
       "           max_leaf_nodes=None, min_impurity_decrease=0.0,\n",
       "           min_impurity_split=None, min_samples_leaf=1,\n",
       "           min_samples_split=2, min_weight_fraction_leaf=0.0,\n",
       "           presort=False, random_state=None, splitter='best'),\n",
       "       fit_params=None, iid='warn', n_jobs=None,\n",
       "       param_grid={'max_depth': [12], 'min_samples_split': [70], 'min_samples_leaf': [30]},\n",
       "       pre_dispatch='2*n_jobs', refit=True, return_train_score='warn',\n",
       "       scoring='neg_mean_absolute_error', verbose=0)"
      ]
     },
     "execution_count": 20,
     "metadata": {},
     "output_type": "execute_result"
    }
   ],
   "source": [
    "# Creación del modelo por GridSeachCV\n",
    "\n",
    "regDG_CDC = GridSearchCV(DecisionTreeRegressor(),\n",
    "                        param_grid = {\"max_depth\": np.arange(9, 13),\n",
    "                                      \"min_samples_split\": [60,70,80,90],\n",
    "                                      \"min_samples_leaf\": [30,40,50,60]\n",
    "                        },cv = 5,\n",
    "                        scoring = \"neg_mean_absolute_error\")\n",
    "\n",
    "# Entrenamiento del modelo\n",
    "regDG_CDC.fit(train_sc, train_dataset[['A_Optimal_CDC']])"
   ]
  },
  {
   "cell_type": "code",
   "execution_count": 21,
   "metadata": {
    "colab": {
     "base_uri": "https://localhost:8080/",
     "height": 34
    },
    "colab_type": "code",
    "id": "qzky6K1tvOdT",
    "outputId": "25d7bbb7-8ad2-4767-860c-983623c52830"
   },
   "outputs": [
    {
     "data": {
      "text/plain": [
       "{'max_depth': 12, 'min_samples_leaf': 30, 'min_samples_split': 70}"
      ]
     },
     "execution_count": 21,
     "metadata": {},
     "output_type": "execute_result"
    }
   ],
   "source": [
    "regDG_CDC.best_params_"
   ]
  },
  {
   "cell_type": "code",
   "execution_count": 137,
   "metadata": {
    "colab": {
     "base_uri": "https://localhost:8080/",
     "height": 34
    },
    "colab_type": "code",
    "id": "RwKhBrRvvOdU",
    "outputId": "f4bfe51c-be7c-4486-ef5f-366c38d5a36e"
   },
   "outputs": [
    {
     "data": {
      "text/plain": [
       "-0.9431940155022644"
      ]
     },
     "execution_count": 137,
     "metadata": {
      "tags": []
     },
     "output_type": "execute_result"
    }
   ],
   "source": [
    "regDG_CDC.best_score_"
   ]
  },
  {
   "cell_type": "code",
   "execution_count": 138,
   "metadata": {
    "colab": {
     "base_uri": "https://localhost:8080/",
     "height": 638
    },
    "colab_type": "code",
    "id": "t8ve5p5hvOdW",
    "outputId": "f4ffe92c-9a9d-4161-9efa-bda2e909cfa2"
   },
   "outputs": [
    {
     "name": "stderr",
     "output_type": "stream",
     "text": [
      "/usr/local/lib/python3.6/dist-packages/ipykernel_launcher.py:3: SettingWithCopyWarning: \n",
      "A value is trying to be set on a copy of a slice from a DataFrame.\n",
      "Try using .loc[row_indexer,col_indexer] = value instead\n",
      "\n",
      "See the caveats in the documentation: http://pandas.pydata.org/pandas-docs/stable/user_guide/indexing.html#returning-a-view-versus-a-copy\n",
      "  This is separate from the ipykernel package so we can avoid doing imports until\n",
      "/usr/local/lib/python3.6/dist-packages/ipykernel_launcher.py:5: SettingWithCopyWarning: \n",
      "A value is trying to be set on a copy of a slice from a DataFrame.\n",
      "Try using .loc[row_indexer,col_indexer] = value instead\n",
      "\n",
      "See the caveats in the documentation: http://pandas.pydata.org/pandas-docs/stable/user_guide/indexing.html#returning-a-view-versus-a-copy\n",
      "  \"\"\"\n",
      "/usr/local/lib/python3.6/dist-packages/ipykernel_launcher.py:6: SettingWithCopyWarning: \n",
      "A value is trying to be set on a copy of a slice from a DataFrame.\n",
      "Try using .loc[row_indexer,col_indexer] = value instead\n",
      "\n",
      "See the caveats in the documentation: http://pandas.pydata.org/pandas-docs/stable/user_guide/indexing.html#returning-a-view-versus-a-copy\n",
      "  \n",
      "/usr/local/lib/python3.6/dist-packages/ipykernel_launcher.py:7: SettingWithCopyWarning: \n",
      "A value is trying to be set on a copy of a slice from a DataFrame.\n",
      "Try using .loc[row_indexer,col_indexer] = value instead\n",
      "\n",
      "See the caveats in the documentation: http://pandas.pydata.org/pandas-docs/stable/user_guide/indexing.html#returning-a-view-versus-a-copy\n",
      "  import sys\n"
     ]
    },
    {
     "data": {
      "text/html": [
       "<div>\n",
       "<style scoped>\n",
       "    .dataframe tbody tr th:only-of-type {\n",
       "        vertical-align: middle;\n",
       "    }\n",
       "\n",
       "    .dataframe tbody tr th {\n",
       "        vertical-align: top;\n",
       "    }\n",
       "\n",
       "    .dataframe thead th {\n",
       "        text-align: right;\n",
       "    }\n",
       "</style>\n",
       "<table border=\"1\" class=\"dataframe\">\n",
       "  <thead>\n",
       "    <tr style=\"text-align: right;\">\n",
       "      <th></th>\n",
       "      <th>Datetime</th>\n",
       "      <th>Predict_CDC</th>\n",
       "      <th>Real_CDC</th>\n",
       "      <th>Residual_CDC</th>\n",
       "      <th>Resid_CDC_%</th>\n",
       "    </tr>\n",
       "  </thead>\n",
       "  <tbody>\n",
       "    <tr>\n",
       "      <th>0</th>\n",
       "      <td>2017-07-16 14:19:00+00:00</td>\n",
       "      <td>6.922785</td>\n",
       "      <td>6.3900</td>\n",
       "      <td>0.53</td>\n",
       "      <td>0.082942</td>\n",
       "    </tr>\n",
       "    <tr>\n",
       "      <th>1</th>\n",
       "      <td>2017-06-07 16:33:00+00:00</td>\n",
       "      <td>3.066190</td>\n",
       "      <td>3.2050</td>\n",
       "      <td>-0.14</td>\n",
       "      <td>0.043682</td>\n",
       "    </tr>\n",
       "    <tr>\n",
       "      <th>2</th>\n",
       "      <td>2017-03-29 12:40:00+00:00</td>\n",
       "      <td>6.488747</td>\n",
       "      <td>8.1500</td>\n",
       "      <td>-1.66</td>\n",
       "      <td>0.203681</td>\n",
       "    </tr>\n",
       "    <tr>\n",
       "      <th>3</th>\n",
       "      <td>2014-08-16 15:02:00+00:00</td>\n",
       "      <td>6.876816</td>\n",
       "      <td>5.7925</td>\n",
       "      <td>1.08</td>\n",
       "      <td>0.186448</td>\n",
       "    </tr>\n",
       "    <tr>\n",
       "      <th>4</th>\n",
       "      <td>2016-01-16 10:42:00+00:00</td>\n",
       "      <td>4.276429</td>\n",
       "      <td>6.4525</td>\n",
       "      <td>-2.18</td>\n",
       "      <td>0.337854</td>\n",
       "    </tr>\n",
       "  </tbody>\n",
       "</table>\n",
       "</div>"
      ],
      "text/plain": [
       "                    Datetime  Predict_CDC  Real_CDC  Residual_CDC  Resid_CDC_%\n",
       "0  2017-07-16 14:19:00+00:00     6.922785    6.3900          0.53     0.082942\n",
       "1  2017-06-07 16:33:00+00:00     3.066190    3.2050         -0.14     0.043682\n",
       "2  2017-03-29 12:40:00+00:00     6.488747    8.1500         -1.66     0.203681\n",
       "3  2014-08-16 15:02:00+00:00     6.876816    5.7925          1.08     0.186448\n",
       "4  2016-01-16 10:42:00+00:00     4.276429    6.4525         -2.18     0.337854"
      ]
     },
     "execution_count": 138,
     "metadata": {
      "tags": []
     },
     "output_type": "execute_result"
    }
   ],
   "source": [
    "# Creamos el dataframe de resultados\n",
    "resultDG_CDC = test_dataset [['Datetime']]\n",
    "\n",
    "resultDG_CDC['Predict_CDC'] = pd.DataFrame(regDG_CDC.best_estimator_.predict(test_sc[input_features]))\n",
    "\n",
    "resultDG_CDC['Real_CDC'] = test_dataset['A_Optimal_CDC']\n",
    "resultDG_CDC['Residual_CDC'] = round(resultDG_CDC['Predict_CDC']-resultDG_CDC['Real_CDC'],2)\n",
    "resultDG_CDC['Resid_CDC_%'] = np.abs(resultDG_CDC['Residual_CDC']/resultDG_CDC['Real_CDC'])\n",
    "\n",
    "resultDG_CDC.head()"
   ]
  },
  {
   "cell_type": "markdown",
   "metadata": {
    "colab_type": "text",
    "id": "jwwpmT4PIbX7"
   },
   "source": [
    "##### Métricas del modelo: MAE, MAPE, R2 y Correlación"
   ]
  },
  {
   "cell_type": "code",
   "execution_count": 139,
   "metadata": {
    "colab": {
     "base_uri": "https://localhost:8080/",
     "height": 70
    },
    "colab_type": "code",
    "id": "H0retAEKIfCS",
    "outputId": "d28512aa-74e0-4db9-83b8-7ac79a71fba3"
   },
   "outputs": [
    {
     "name": "stdout",
     "output_type": "stream",
     "text": [
      "error absoluto medio:  0.9818751068818212\n",
      "parametro R2:  0.6357101892787431\n",
      "Correlation:  0.844936226536859\n"
     ]
    }
   ],
   "source": [
    "print('error absoluto medio: ', mean_absolute_error(resultDG_CDC['Predict_CDC'],resultDG_CDC['Real_CDC']))\n",
    "print('parametro R2: ', r2_score(resultDG_CDC['Predict_CDC'],test_dataset['A_Optimal_CDC']))\n",
    "print('Correlation: ', np.corrcoef(resultDG_CDC['Predict_CDC'],test_dataset['A_Optimal_CDC'])[0][1])"
   ]
  },
  {
   "cell_type": "markdown",
   "metadata": {
    "colab_type": "text",
    "id": "oBDIMRCBI6rN"
   },
   "source": [
    "#### Graficamos el modelo"
   ]
  },
  {
   "cell_type": "code",
   "execution_count": 140,
   "metadata": {
    "colab": {
     "base_uri": "https://localhost:8080/",
     "height": 432
    },
    "colab_type": "code",
    "id": "7klUti0KI8zS",
    "outputId": "2c5d462c-3ffa-4af0-a942-c07c03f77c22"
   },
   "outputs": [
    {
     "data": {
      "text/plain": [
       "([0, 1, 2, 3, 4, 5, 6, 7, 8, 9, 10, 11, 12, 13, 14, 15, 16, 17, 18, 19],\n",
       " <a list of 20 Text xticklabel objects>)"
      ]
     },
     "execution_count": 140,
     "metadata": {
      "tags": []
     },
     "output_type": "execute_result"
    },
    {
     "data": {
      "image/png": "[encoded data removed]",
      "text/plain": [
       "<Figure size 432x288 with 1 Axes>"
      ]
     },
     "metadata": {
      "tags": []
     },
     "output_type": "display_data"
    }
   ],
   "source": [
    "pd.to_datetime(resultDG_CDC['Datetime'], format=\"%Y-%m-%d %H:%M:%S\")\n",
    "\n",
    "resultDG_CDC = resultDG_CDC.sort_values('Datetime')\n",
    "\n",
    "plt.plot(resultDG_CDC['Datetime'].head(20), resultDG_CDC['Predict_CDC'].head(20))\n",
    "plt.plot(resultDG_CDC['Datetime'].head(20), resultDG_CDC['Real_CDC'].head(20))\n",
    "\n",
    "plt.xticks(rotation='vertical')"
   ]
  },
  {
   "cell_type": "markdown",
   "metadata": {
    "colab_type": "text",
    "id": "-bDG8JSZvOdY"
   },
   "source": [
    "### Modelo para el parámetro de potencia en corriente continua (PDC)."
   ]
  },
  {
   "cell_type": "code",
   "execution_count": 22,
   "metadata": {
    "colab": {
     "base_uri": "https://localhost:8080/",
     "height": 334
    },
    "colab_type": "code",
    "id": "NF23CGzuvOdY",
    "outputId": "76cb2888-0da9-4a91-c86a-591382388c3a"
   },
   "outputs": [
    {
     "data": {
      "text/plain": [
       "GridSearchCV(cv=5, error_score='raise-deprecating',\n",
       "       estimator=DecisionTreeRegressor(criterion='mse', max_depth=None, max_features=None,\n",
       "           max_leaf_nodes=None, min_impurity_decrease=0.0,\n",
       "           min_impurity_split=None, min_samples_leaf=1,\n",
       "           min_samples_split=2, min_weight_fraction_leaf=0.0,\n",
       "           presort=False, random_state=None, splitter='best'),\n",
       "       fit_params=None, iid='warn', n_jobs=None,\n",
       "       param_grid={'max_depth': [12], 'min_samples_split': [60], 'min_samples_leaf': [30]},\n",
       "       pre_dispatch='2*n_jobs', refit=True, return_train_score='warn',\n",
       "       scoring='neg_mean_absolute_error', verbose=0)"
      ]
     },
     "execution_count": 22,
     "metadata": {},
     "output_type": "execute_result"
    }
   ],
   "source": [
    "# Creación del modelo por GridSeachCV\n",
    "\n",
    "regDG_PDC = GridSearchCV(DecisionTreeRegressor(),\n",
    "                        param_grid = {\"max_depth\": np.arange(9, 13),\n",
    "                                      \"min_samples_split\": [60,70,80,90],\n",
    "                                      \"min_samples_leaf\": [30,40,50,60]\n",
    "                        },cv = 5,\n",
    "                        scoring = \"neg_mean_absolute_error\")\n",
    "\n",
    "# Entrenamiento del modelo\n",
    "regDG_PDC.fit(train_sc, train_dataset[['A_Optimal_PDC']])"
   ]
  },
  {
   "cell_type": "code",
   "execution_count": 142,
   "metadata": {
    "colab": {
     "base_uri": "https://localhost:8080/",
     "height": 34
    },
    "colab_type": "code",
    "id": "U8lyR1EWvOda",
    "outputId": "309189fb-7ef5-4c61-8378-d6551c7afb25"
   },
   "outputs": [
    {
     "data": {
      "text/plain": [
       "{'max_depth': 12, 'min_samples_leaf': 30, 'min_samples_split': 60}"
      ]
     },
     "execution_count": 142,
     "metadata": {
      "tags": []
     },
     "output_type": "execute_result"
    }
   ],
   "source": [
    "regDG_PDC.best_params_"
   ]
  },
  {
   "cell_type": "code",
   "execution_count": 143,
   "metadata": {
    "colab": {
     "base_uri": "https://localhost:8080/",
     "height": 34
    },
    "colab_type": "code",
    "id": "shqYTpl9vOdb",
    "outputId": "3073e752-6d03-4a7a-fdb3-cdb7f38f6c64"
   },
   "outputs": [
    {
     "data": {
      "text/plain": [
       "-26.225930596802698"
      ]
     },
     "execution_count": 143,
     "metadata": {
      "tags": []
     },
     "output_type": "execute_result"
    }
   ],
   "source": [
    "regDG_PDC.best_score_"
   ]
  },
  {
   "cell_type": "code",
   "execution_count": 144,
   "metadata": {
    "colab": {
     "base_uri": "https://localhost:8080/",
     "height": 638
    },
    "colab_type": "code",
    "id": "e0jH4O56vOdc",
    "outputId": "b2550193-b2a0-4357-f0a9-58100039866b"
   },
   "outputs": [
    {
     "name": "stderr",
     "output_type": "stream",
     "text": [
      "/usr/local/lib/python3.6/dist-packages/ipykernel_launcher.py:3: SettingWithCopyWarning: \n",
      "A value is trying to be set on a copy of a slice from a DataFrame.\n",
      "Try using .loc[row_indexer,col_indexer] = value instead\n",
      "\n",
      "See the caveats in the documentation: http://pandas.pydata.org/pandas-docs/stable/user_guide/indexing.html#returning-a-view-versus-a-copy\n",
      "  This is separate from the ipykernel package so we can avoid doing imports until\n",
      "/usr/local/lib/python3.6/dist-packages/ipykernel_launcher.py:5: SettingWithCopyWarning: \n",
      "A value is trying to be set on a copy of a slice from a DataFrame.\n",
      "Try using .loc[row_indexer,col_indexer] = value instead\n",
      "\n",
      "See the caveats in the documentation: http://pandas.pydata.org/pandas-docs/stable/user_guide/indexing.html#returning-a-view-versus-a-copy\n",
      "  \"\"\"\n",
      "/usr/local/lib/python3.6/dist-packages/ipykernel_launcher.py:6: SettingWithCopyWarning: \n",
      "A value is trying to be set on a copy of a slice from a DataFrame.\n",
      "Try using .loc[row_indexer,col_indexer] = value instead\n",
      "\n",
      "See the caveats in the documentation: http://pandas.pydata.org/pandas-docs/stable/user_guide/indexing.html#returning-a-view-versus-a-copy\n",
      "  \n",
      "/usr/local/lib/python3.6/dist-packages/ipykernel_launcher.py:7: SettingWithCopyWarning: \n",
      "A value is trying to be set on a copy of a slice from a DataFrame.\n",
      "Try using .loc[row_indexer,col_indexer] = value instead\n",
      "\n",
      "See the caveats in the documentation: http://pandas.pydata.org/pandas-docs/stable/user_guide/indexing.html#returning-a-view-versus-a-copy\n",
      "  import sys\n"
     ]
    },
    {
     "data": {
      "text/html": [
       "<div>\n",
       "<style scoped>\n",
       "    .dataframe tbody tr th:only-of-type {\n",
       "        vertical-align: middle;\n",
       "    }\n",
       "\n",
       "    .dataframe tbody tr th {\n",
       "        vertical-align: top;\n",
       "    }\n",
       "\n",
       "    .dataframe thead th {\n",
       "        text-align: right;\n",
       "    }\n",
       "</style>\n",
       "<table border=\"1\" class=\"dataframe\">\n",
       "  <thead>\n",
       "    <tr style=\"text-align: right;\">\n",
       "      <th></th>\n",
       "      <th>Datetime</th>\n",
       "      <th>Predict_PDC</th>\n",
       "      <th>Real_PDC</th>\n",
       "      <th>Residual_PDC</th>\n",
       "      <th>Resid_PDC_%</th>\n",
       "    </tr>\n",
       "  </thead>\n",
       "  <tbody>\n",
       "    <tr>\n",
       "      <th>0</th>\n",
       "      <td>2017-07-16 14:19:00+00:00</td>\n",
       "      <td>180.091523</td>\n",
       "      <td>155.916000</td>\n",
       "      <td>24.18</td>\n",
       "      <td>0.155084</td>\n",
       "    </tr>\n",
       "    <tr>\n",
       "      <th>1</th>\n",
       "      <td>2017-06-07 16:33:00+00:00</td>\n",
       "      <td>67.827219</td>\n",
       "      <td>89.579750</td>\n",
       "      <td>-21.75</td>\n",
       "      <td>0.242800</td>\n",
       "    </tr>\n",
       "    <tr>\n",
       "      <th>2</th>\n",
       "      <td>2017-03-29 12:40:00+00:00</td>\n",
       "      <td>176.787372</td>\n",
       "      <td>226.162500</td>\n",
       "      <td>-49.38</td>\n",
       "      <td>0.218339</td>\n",
       "    </tr>\n",
       "    <tr>\n",
       "      <th>3</th>\n",
       "      <td>2014-08-16 15:02:00+00:00</td>\n",
       "      <td>198.656665</td>\n",
       "      <td>153.790875</td>\n",
       "      <td>44.87</td>\n",
       "      <td>0.291760</td>\n",
       "    </tr>\n",
       "    <tr>\n",
       "      <th>4</th>\n",
       "      <td>2016-01-16 10:42:00+00:00</td>\n",
       "      <td>122.362061</td>\n",
       "      <td>193.252375</td>\n",
       "      <td>-70.89</td>\n",
       "      <td>0.366826</td>\n",
       "    </tr>\n",
       "  </tbody>\n",
       "</table>\n",
       "</div>"
      ],
      "text/plain": [
       "                    Datetime  Predict_PDC  ...  Residual_PDC  Resid_PDC_%\n",
       "0  2017-07-16 14:19:00+00:00   180.091523  ...         24.18     0.155084\n",
       "1  2017-06-07 16:33:00+00:00    67.827219  ...        -21.75     0.242800\n",
       "2  2017-03-29 12:40:00+00:00   176.787372  ...        -49.38     0.218339\n",
       "3  2014-08-16 15:02:00+00:00   198.656665  ...         44.87     0.291760\n",
       "4  2016-01-16 10:42:00+00:00   122.362061  ...        -70.89     0.366826\n",
       "\n",
       "[5 rows x 5 columns]"
      ]
     },
     "execution_count": 144,
     "metadata": {
      "tags": []
     },
     "output_type": "execute_result"
    }
   ],
   "source": [
    "# Creamos el dataframe de resultados\n",
    "resultDG_PDC = test_dataset [['Datetime']]\n",
    "\n",
    "resultDG_PDC['Predict_PDC'] = pd.DataFrame(regDG_PDC.best_estimator_.predict(test_sc[input_features]))\n",
    "\n",
    "resultDG_PDC['Real_PDC'] = test_dataset['A_Optimal_PDC']\n",
    "resultDG_PDC['Residual_PDC'] = round(resultDG_PDC['Predict_PDC']-resultDG_PDC['Real_PDC'],2)\n",
    "resultDG_PDC['Resid_PDC_%'] = np.abs(resultDG_PDC['Residual_PDC']/resultDG_PDC['Real_PDC'])\n",
    "\n",
    "resultDG_PDC.head()"
   ]
  },
  {
   "cell_type": "markdown",
   "metadata": {
    "colab_type": "text",
    "id": "C1tSLg5FNmxg"
   },
   "source": [
    "##### Métricas del modelo: MAE, MAPE, R2 y Correlación"
   ]
  },
  {
   "cell_type": "code",
   "execution_count": 145,
   "metadata": {
    "colab": {
     "base_uri": "https://localhost:8080/",
     "height": 70
    },
    "colab_type": "code",
    "id": "0QeSbaOLNn6t",
    "outputId": "1f586a8e-9fb4-48f1-f4d3-df9cb991b28b"
   },
   "outputs": [
    {
     "name": "stdout",
     "output_type": "stream",
     "text": [
      "error absoluto medio:  27.35871747801742\n",
      "parametro R2:  0.6280648340252444\n",
      "Correlation:  0.8427917450338038\n"
     ]
    }
   ],
   "source": [
    "print('error absoluto medio: ', mean_absolute_error(resultDG_PDC['Predict_PDC'],resultDG_PDC['Real_PDC']))\n",
    "print('parametro R2: ', r2_score(resultDG_PDC['Predict_PDC'],test_dataset['A_Optimal_PDC']))\n",
    "print('Correlation: ', np.corrcoef(resultDG_PDC['Predict_PDC'],test_dataset['A_Optimal_PDC'])[0][1])"
   ]
  },
  {
   "cell_type": "markdown",
   "metadata": {
    "colab_type": "text",
    "id": "eBMcRH4lN8B_"
   },
   "source": [
    "#### Graficamos el modelo"
   ]
  },
  {
   "cell_type": "code",
   "execution_count": 146,
   "metadata": {
    "colab": {
     "base_uri": "https://localhost:8080/",
     "height": 432
    },
    "colab_type": "code",
    "id": "hZoLLNjRN-F2",
    "outputId": "6aa679e5-485b-4a51-c50a-35c91db4001c"
   },
   "outputs": [
    {
     "data": {
      "text/plain": [
       "([0, 1, 2, 3, 4, 5, 6, 7, 8, 9, 10, 11, 12, 13, 14, 15, 16, 17, 18, 19],\n",
       " <a list of 20 Text xticklabel objects>)"
      ]
     },
     "execution_count": 146,
     "metadata": {
      "tags": []
     },
     "output_type": "execute_result"
    },
    {
     "data": {
      "image/png": "[encoded data removed]",
      "text/plain": [
       "<Figure size 432x288 with 1 Axes>"
      ]
     },
     "metadata": {
      "tags": []
     },
     "output_type": "display_data"
    }
   ],
   "source": [
    "pd.to_datetime(resultDG_CDC['Datetime'], format=\"%Y-%m-%d %H:%M:%S\")\n",
    "\n",
    "resultDG_CDC = resultDG_CDC.sort_values('Datetime')\n",
    "\n",
    "plt.plot(resultDG_CDC['Datetime'].head(20), resultDG_CDC['Predict_CDC'].head(20))\n",
    "plt.plot(resultDG_CDC['Datetime'].head(20), resultDG_CDC['Real_CDC'].head(20))\n",
    "\n",
    "plt.xticks(rotation='vertical')"
   ]
  },
  {
   "cell_type": "markdown",
   "metadata": {
    "colab_type": "text",
    "id": "rs8YnuBmvOdd"
   },
   "source": [
    "### Guardando los modelos"
   ]
  },
  {
   "cell_type": "markdown",
   "metadata": {
    "colab_type": "text",
    "id": "YfjDwpT9vOde"
   },
   "source": [
    "Atendiendo a las métricas de la verificación, hemos escogido para cada parámetro a predecir el modelo que menor error mostraba."
   ]
  },
  {
   "cell_type": "code",
   "execution_count": 23,
   "metadata": {
    "colab": {},
    "colab_type": "code",
    "id": "0sgF6uHjvOdf"
   },
   "outputs": [],
   "source": [
    "import pickle\n",
    "\n",
    "pickle.dump(regDG_VDC.best_estimator_,open(\"regDG_VDC.pickle\",\"wb\"))\n",
    "pickle.dump(regDG_CDC.best_estimator_,open(\"regDG_CDC.pickle\",\"wb\"))\n",
    "pickle.dump(regDG_PDC.best_estimator_,open(\"regDG_PDC.pickle\",\"wb\"))"
   ]
  }
 ],
 "metadata": {
  "accelerator": "GPU",
  "colab": {
   "name": "02_Creating_Model.ipynb",
   "provenance": [],
   "toc_visible": true
  },
  "kernelspec": {
   "display_name": "Python 3",
   "language": "python",
   "name": "python3"
  },
  "language_info": {
   "codemirror_mode": {
    "name": "ipython",
    "version": 3
   },
   "file_extension": ".py",
   "mimetype": "text/x-python",
   "name": "python",
   "nbconvert_exporter": "python",
   "pygments_lexer": "ipython3",
   "version": "3.7.3"
  }
 },
 "nbformat": 4,
 "nbformat_minor": 1
}
