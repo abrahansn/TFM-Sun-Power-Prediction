{
 "cells": [
  {
   "cell_type": "markdown",
   "metadata": {},
   "source": [
    "# Preparando el entorno de trabajo"
   ]
  },
  {
   "cell_type": "markdown",
   "metadata": {},
   "source": [
    "Este notebook descargará los dataset originales desde Google Drive, además de instalar todas las librerías necesarias para el correcto funcionamiento del código."
   ]
  },
  {
   "cell_type": "markdown",
   "metadata": {},
   "source": [
    "### Descargando e instalando librerías"
   ]
  },
  {
   "cell_type": "code",
   "execution_count": 1,
   "metadata": {},
   "outputs": [
    {
     "name": "stdout",
     "output_type": "stream",
     "text": [
      "Requirement already satisfied: pandas in /home/dsc/anaconda3/lib/python3.7/site-packages (0.25.3)\n",
      "Requirement already satisfied: numpy>=1.13.3 in /home/dsc/anaconda3/lib/python3.7/site-packages (from pandas) (1.16.2)\n",
      "Requirement already satisfied: python-dateutil>=2.6.1 in /home/dsc/anaconda3/lib/python3.7/site-packages (from pandas) (2.8.1)\n",
      "Requirement already satisfied: pytz>=2017.2 in /home/dsc/anaconda3/lib/python3.7/site-packages (from pandas) (2019.3)\n",
      "Requirement already satisfied: six>=1.5 in /home/dsc/anaconda3/lib/python3.7/site-packages (from python-dateutil>=2.6.1->pandas) (1.13.0)\n",
      "Requirement already satisfied: numpy in /home/dsc/anaconda3/lib/python3.7/site-packages (1.16.2)\n",
      "Requirement already satisfied: wget in /home/dsc/anaconda3/lib/python3.7/site-packages (3.2)\n",
      "Requirement already satisfied: dropbox in /home/dsc/anaconda3/lib/python3.7/site-packages (9.4.0)\n",
      "Requirement already satisfied: requests>=2.16.2 in /home/dsc/anaconda3/lib/python3.7/site-packages (from dropbox) (2.21.0)\n",
      "Requirement already satisfied: six>=1.3.0 in /home/dsc/anaconda3/lib/python3.7/site-packages (from dropbox) (1.13.0)\n",
      "Requirement already satisfied: chardet<3.1.0,>=3.0.2 in /home/dsc/anaconda3/lib/python3.7/site-packages (from requests>=2.16.2->dropbox) (3.0.4)\n",
      "Requirement already satisfied: urllib3<1.25,>=1.21.1 in /home/dsc/anaconda3/lib/python3.7/site-packages (from requests>=2.16.2->dropbox) (1.24.1)\n",
      "Requirement already satisfied: certifi>=2017.4.17 in /home/dsc/anaconda3/lib/python3.7/site-packages (from requests>=2.16.2->dropbox) (2019.9.11)\n",
      "Requirement already satisfied: idna<2.9,>=2.5 in /home/dsc/anaconda3/lib/python3.7/site-packages (from requests>=2.16.2->dropbox) (2.8)\n",
      "Requirement already satisfied: sklearn in /home/dsc/anaconda3/lib/python3.7/site-packages (0.0)\n",
      "Requirement already satisfied: scikit-learn in /home/dsc/anaconda3/lib/python3.7/site-packages (from sklearn) (0.20.1)\n",
      "Requirement already satisfied: numpy>=1.8.2 in /home/dsc/anaconda3/lib/python3.7/site-packages (from scikit-learn->sklearn) (1.16.2)\n",
      "Requirement already satisfied: scipy>=0.13.3 in /home/dsc/anaconda3/lib/python3.7/site-packages (from scikit-learn->sklearn) (1.1.0)\n"
     ]
    }
   ],
   "source": [
    "!pip install pandas\n",
    "!pip install numpy\n",
    "!pip install wget\n",
    "!pip install -U -q PyDrive\n",
    "!pip install -U -q module_name\n",
    "!pip install dropbox\n",
    "!pip install sklearn"
   ]
  },
  {
   "cell_type": "markdown",
   "metadata": {},
   "source": [
    "### Descargando dataset originales para el entrenamiento del modelo"
   ]
  },
  {
   "cell_type": "code",
   "execution_count": 6,
   "metadata": {},
   "outputs": [],
   "source": [
    "import wget, os"
   ]
  },
  {
   "cell_type": "code",
   "execution_count": 7,
   "metadata": {},
   "outputs": [],
   "source": [
    "url_files = [\"https://drive.google.com/uc?id=1YFuqF6yx3nYFYmHwOtlCscNrmK9NmC-f&export=download\",\n",
    "             \"https://drive.google.com/uc?id=1HJVl6NRlq8FQR7lDiSUCEbmgMItUUePl&export=download\",\n",
    "             \"https://drive.google.com/uc?id=1T5Jfs81XomTzc7DAQOJGRK8dikrz1ZH_&export=download\",\n",
    "             \"https://drive.google.com/uc?id=16uugaqf2a8UgjzaU6wQBKy4V1_9G6OGx&export=download\",\n",
    "             \"https://drive.google.com/uc?id=1nhChCR-Zfdt4r3FYbp066Hx-WkQw1KjP&export=download\",\n",
    "             \"https://drive.google.com/uc?id=1CT1q9x-U5xy8qNlTZn19ifUJZz0lByx7&export=download\",\n",
    "             \"https://drive.google.com/uc?id=143Z4a6utP1SZF5QpnVUH37qROF1iQ7a5&export=download\",\n",
    "             \"https://drive.google.com/uc?id=1U0p1X269h6qgZZqBqMMfeobrJwNkTyDD&export=download\"]"
   ]
  },
  {
   "cell_type": "code",
   "execution_count": 11,
   "metadata": {
    "scrolled": true
   },
   "outputs": [],
   "source": [
    "try:\n",
    "    os.mkdir(\"./dataset\")\n",
    "except:\n",
    "    pass\n",
    "\n",
    "for url in url_files: wget.download(url, \"./dataset\")"
   ]
  }
 ],
 "metadata": {
  "kernelspec": {
   "display_name": "Python 3",
   "language": "python",
   "name": "python3"
  },
  "language_info": {
   "codemirror_mode": {
    "name": "ipython",
    "version": 3
   },
   "file_extension": ".py",
   "mimetype": "text/x-python",
   "name": "python",
   "nbconvert_exporter": "python",
   "pygments_lexer": "ipython3",
   "version": "3.7.3"
  }
 },
 "nbformat": 4,
 "nbformat_minor": 2
}
