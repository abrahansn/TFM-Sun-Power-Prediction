{
 "cells": [
  {
   "cell_type": "markdown",
   "metadata": {},
   "source": [
    "# Preparando el entorno de trabajo"
   ]
  },
  {
   "cell_type": "markdown",
   "metadata": {},
   "source": [
    "Este notebook descargará los dataset originales desde Google Drive, además de instalar todas las librerías necesarias para el correcto funcionamiento del código."
   ]
  },
  {
   "cell_type": "markdown",
   "metadata": {},
   "source": [
    "### Descargando e instalando librerías"
   ]
  },
  {
   "cell_type": "code",
   "execution_count": 1,
   "metadata": {},
   "outputs": [
    {
     "name": "stdout",
     "output_type": "stream",
     "text": [
      "Requirement already satisfied: wget in /home/dsc/anaconda3/lib/python3.7/site-packages (3.2)\n",
      "Note: you may need to restart the kernel to use updated packages.\n"
     ]
    }
   ],
   "source": [
    "pip install wget\n",
    "pip install -U -q PyDrive\n",
    "pip install -U -q module_name\n",
    "pip install dropbox"
   ]
  },
  {
   "cell_type": "markdown",
   "metadata": {},
   "source": [
    "### Descargando dataset originales para el entrenamiento del modelo"
   ]
  },
  {
   "cell_type": "code",
   "execution_count": 6,
   "metadata": {},
   "outputs": [],
   "source": [
    "import wget, os"
   ]
  },
  {
   "cell_type": "code",
   "execution_count": 7,
   "metadata": {},
   "outputs": [],
   "source": [
    "url_files = [\"https://drive.google.com/uc?id=1YFuqF6yx3nYFYmHwOtlCscNrmK9NmC-f&export=download\",\n",
    "             \"https://drive.google.com/uc?id=1HJVl6NRlq8FQR7lDiSUCEbmgMItUUePl&export=download\",\n",
    "             \"https://drive.google.com/uc?id=1T5Jfs81XomTzc7DAQOJGRK8dikrz1ZH_&export=download\",\n",
    "             \"https://drive.google.com/uc?id=16uugaqf2a8UgjzaU6wQBKy4V1_9G6OGx&export=download\",\n",
    "             \"https://drive.google.com/uc?id=1nhChCR-Zfdt4r3FYbp066Hx-WkQw1KjP&export=download\",\n",
    "             \"https://drive.google.com/uc?id=1CT1q9x-U5xy8qNlTZn19ifUJZz0lByx7&export=download\",\n",
    "             \"https://drive.google.com/uc?id=143Z4a6utP1SZF5QpnVUH37qROF1iQ7a5&export=download\",\n",
    "             \"https://drive.google.com/uc?id=1U0p1X269h6qgZZqBqMMfeobrJwNkTyDD&export=download\"]"
   ]
  },
  {
   "cell_type": "code",
   "execution_count": 11,
   "metadata": {
    "scrolled": true
   },
   "outputs": [],
   "source": [
    "try:\n",
    "    os.mkdir(\"./dataset\")\n",
    "except:\n",
    "    pass\n",
    "\n",
    "for url in url_files: wget.download(url, \"./dataset\")"
   ]
  }
 ],
 "metadata": {
  "kernelspec": {
   "display_name": "Python 3",
   "language": "python",
   "name": "python3"
  },
  "language_info": {
   "codemirror_mode": {
    "name": "ipython",
    "version": 3
   },
   "file_extension": ".py",
   "mimetype": "text/x-python",
   "name": "python",
   "nbconvert_exporter": "python",
   "pygments_lexer": "ipython3",
   "version": "3.7.3"
  }
 },
 "nbformat": 4,
 "nbformat_minor": 2
}
